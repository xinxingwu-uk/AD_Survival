{
 "cells": [
  {
   "cell_type": "code",
   "execution_count": 1,
   "id": "00049547-c2e4-4996-84af-e1d46d9928c0",
   "metadata": {},
   "outputs": [],
   "source": [
    "# Main library: https://square.github.io/pysurvival/index.html\n",
    "#----------------------------Reproducible------------------------------------------\n",
    "import numpy as np\n",
    "import random as rn\n",
    "import pandas as pd\n",
    "import os\n",
    "import gc\n",
    "\n",
    "seed=0\n",
    "os.environ['PYTHONHASHSEED'] = str(seed)\n",
    "np.random.seed(seed)\n",
    "rn.seed(seed)\n",
    "\n",
    "#----------------------------Reproducible------------------------------------------\n",
    "\n",
    "os.environ['TF_CPP_MIN_LOG_LEVEL'] = '3'\n",
    "\n",
    "from sklearn.model_selection import train_test_split\n",
    "from pysurvival.models.semi_parametric import NonLinearCoxPHModel\n",
    "from pysurvival.utils.metrics import concordance_index\n",
    "from pysurvival.utils.display import integrated_brier_score\n",
    "from pysurvival.utils.display import display_loss_values\n",
    "from pysurvival.utils.display import compare_to_actual\n",
    "\n",
    "from lifelines import KaplanMeierFitter\n",
    "from matplotlib import pyplot as plt\n",
    "\n",
    "import heapq\n",
    "import seaborn as sns"
   ]
  },
  {
   "cell_type": "code",
   "execution_count": 2,
   "id": "9a4da05a-f1e7-4f2b-b989-fd83be120ab8",
   "metadata": {},
   "outputs": [],
   "source": [
    "def csv_read(p_path):\n",
    "    pd_data=pd.read_csv(p_path, sep=',')\n",
    "    column_names=pd_data.columns.values.tolist()\n",
    "    print(column_names)\n",
    "    return pd_data,column_names\n",
    "\n",
    "def csv_read_arr(p_path):\n",
    "    pd_data=pd.read_csv(p_path, sep=',')\n",
    "    column_names=pd_data.columns.values.tolist()\n",
    "    print(column_names)\n",
    "    return pd_data,np.array(pd_data),column_names\n",
    "\n",
    "def write_to_csv(p_data,p_path):\n",
    "    dataframe = pd.DataFrame(p_data)\n",
    "    dataframe.to_csv(p_path, mode='a',header=False,index=False,sep=',')\n",
    "    del dataframe\n",
    "    gc.collect()"
   ]
  },
  {
   "cell_type": "markdown",
   "id": "3a64eb61-2945-421b-aa7b-5be5af08feb1",
   "metadata": {},
   "source": [
    "# Step 1: Preprocess - Filtering"
   ]
  },
  {
   "cell_type": "code",
   "execution_count": 3,
   "id": "69ed4d08-5421-4a7b-aa70-f0247d690d01",
   "metadata": {
    "scrolled": true,
    "tags": []
   },
   "outputs": [
    {
     "name": "stdout",
     "output_type": "stream",
     "text": [
      "['NACCID', 'NACCAVST', 'NACCFDYS', 'NACCREAS', 'NACCREFR', 'BIRTHMO', 'BIRTHYR', 'SEX', 'HISPANIC', 'HISPOR', 'HISPORX', 'RACE', 'RACEX', 'RACESEC', 'RACESECX', 'RACETER', 'RACETERX', 'PRIMLANG', 'PRIMLANX', 'EDUC', 'MARISTAT', 'NACCLIVS', 'INDEPEND', 'RESIDENC', 'HANDED', 'INBIRMO', 'INBIRYR', 'INSEX', 'NEWINF', 'INHISP', 'INHISPOR', 'INHISPOX', 'NACCNINR', 'INRACE', 'INRACEX', 'INRASEC', 'INRASECX', 'INRATER', 'INRATERX', 'INEDUC', 'INRELTO', 'INRELTOX', 'INKNOWN', 'INLIVWTH', 'INVISITS', 'INCALLS', 'INRELY', 'NACCFAM', 'NACCMOM', 'NACCDAD', 'NACCAM', 'NACCAMX', 'NACCAMS', 'NACCAMSX', 'NACCFM', 'NACCFMX', 'NACCFMS', 'NACCFMSX', 'NACCOM', 'NACCOMX', 'NACCOMS', 'NACCOMSX', 'NACCFADM', 'NACCFFTD', 'ANYMEDS', 'DRUG1', 'DRUG2', 'DRUG3', 'DRUG4', 'DRUG5', 'DRUG6', 'DRUG7', 'DRUG8', 'DRUG9', 'DRUG10', 'DRUG11', 'DRUG12', 'DRUG13', 'DRUG14', 'DRUG15', 'DRUG16', 'DRUG17', 'DRUG18', 'DRUG19', 'DRUG20', 'DRUG21', 'DRUG22', 'DRUG23', 'DRUG24', 'DRUG25', 'DRUG26', 'DRUG27', 'DRUG28', 'DRUG29', 'DRUG30', 'DRUG31', 'DRUG32', 'DRUG33', 'DRUG34', 'DRUG35', 'DRUG36', 'DRUG37', 'DRUG38', 'DRUG39', 'DRUG40', 'TOBAC30', 'TOBAC100', 'SMOKYRS', 'PACKSPER', 'QUITSMOK', 'ALCOCCAS', 'ALCFREQ', 'CVHATT', 'HATTMULT', 'HATTYEAR', 'CVAFIB', 'CVANGIO', 'CVBYPASS', 'CVPACDEF', 'CVPACE', 'CVCHF', 'CVANGINA', 'CVHVALVE', 'CVOTHR', 'CVOTHRX', 'CBSTROKE', 'STROKMUL', 'NACCSTYR', 'CBTIA', 'TIAMULT', 'NACCTIYR', 'PD', 'PDYR', 'PDOTHR', 'PDOTHRYR', 'SEIZURES', 'NACCTBI', 'TBI', 'TBIBRIEF', 'TRAUMBRF', 'TBIEXTEN', 'TRAUMEXT', 'TBIWOLOS', 'TRAUMCHR', 'TBIYEAR', 'NCOTHR', 'NCOTHRX', 'DIABETES', 'DIABTYPE', 'HYPERTEN', 'HYPERCHO', 'B12DEF', 'THYROID', 'ARTHRIT', 'ARTHTYPE', 'ARTHTYPX', 'ARTHUPEX', 'ARTHLOEX', 'ARTHSPIN', 'ARTHUNK', 'INCONTU', 'INCONTF', 'APNEA', 'RBD', 'INSOMN', 'OTHSLEEP', 'OTHSLEEX', 'ALCOHOL', 'ABUSOTHR', 'ABUSX', 'PTSD', 'BIPOLAR', 'SCHIZ', 'DEP2YRS', 'DEPOTHR', 'ANXIETY', 'OCD', 'NPSYDEV', 'PSYCDIS', 'PSYCDISX', 'HEIGHT', 'WEIGHT', 'BPSYS', 'BPDIAS', 'HRATE', 'VISION', 'VISCORR', 'VISWCORR', 'HEARING', 'HEARAID', 'HEARWAID', 'ABRUPT', 'STEPWISE', 'SOMATIC', 'EMOT', 'HXHYPER', 'HXSTROKE', 'FOCLSYM', 'FOCLSIGN', 'HACHIN', 'CVDCOG', 'STROKCOG', 'CVDIMAG', 'CVDIMAG1', 'CVDIMAG2', 'CVDIMAG3', 'CVDIMAG4', 'CVDIMAGX', 'PDNORMAL', 'SPEECH', 'SPEECHX', 'FACEXP', 'FACEXPX', 'TRESTFAC', 'TRESTFAX', 'TRESTRHD', 'TRESTRHX', 'TRESTLHD', 'TRESTLHX', 'TRESTRFT', 'TRESTRFX', 'TRESTLFT', 'TRESTLFX', 'TRACTRHD', 'TRACTRHX', 'TRACTLHD', 'TRACTLHX', 'RIGDNECK', 'RIGDNEX', 'RIGDUPRT', 'RIGDUPRX', 'RIGDUPLF', 'RIGDUPLX', 'RIGDLORT', 'RIGDLORX', 'RIGDLOLF', 'RIGDLOLX', 'TAPSRT', 'TAPSRTX', 'TAPSLF', 'TAPSLFX', 'HANDMOVR', 'HANDMVRX', 'HANDMOVL', 'HANDMVLX', 'HANDALTR', 'HANDATRX', 'HANDALTL', 'HANDATLX', 'LEGRT', 'LEGRTX', 'LEGLF', 'LEGLFX', 'ARISING', 'ARISINGX', 'POSTURE', 'POSTUREX', 'GAIT', 'GAITX', 'POSSTAB', 'POSSTABX', 'BRADYKIN', 'BRADYKIX', 'MEMORY', 'ORIENT', 'JUDGMENT', 'COMMUN', 'HOMEHOBB', 'PERSCARE', 'CDRSUM', 'CDRGLOB', 'COMPORT', 'CDRLANG', 'NPIQINF', 'NPIQINFX', 'DEL', 'DELSEV', 'HALL', 'HALLSEV', 'AGIT', 'AGITSEV', 'DEPD', 'DEPDSEV', 'ANX', 'ANXSEV', 'ELAT', 'ELATSEV', 'APA', 'APASEV', 'DISN', 'DISNSEV', 'IRR', 'IRRSEV', 'MOT', 'MOTSEV', 'NITE', 'NITESEV', 'APP', 'APPSEV', 'NOGDS', 'SATIS', 'DROPACT', 'EMPTY', 'BORED', 'SPIRITS', 'AFRAID', 'HAPPY', 'HELPLESS', 'STAYHOME', 'MEMPROB', 'WONDRFUL', 'WRTHLESS', 'ENERGY', 'HOPELESS', 'BETTER', 'NACCGDS', 'BILLS', 'TAXES', 'SHOPPING', 'GAMES', 'STOVE', 'MEALPREP', 'EVENTS', 'PAYATTN', 'REMDATES', 'TRAVEL', 'NACCNREX', 'NORMEXAM', 'FOCLDEF', 'GAITDIS', 'EYEMOVE', 'PARKSIGN', 'RESTTRL', 'RESTTRR', 'SLOWINGL', 'SLOWINGR', 'RIGIDL', 'RIGIDR', 'BRADY', 'PARKGAIT', 'POSTINST', 'CVDSIGNS', 'CORTDEF', 'SIVDFIND', 'CVDMOTL', 'CVDMOTR', 'CORTVISL', 'CORTVISR', 'SOMATL', 'SOMATR', 'POSTCORT', 'PSPCBS', 'EYEPSP', 'DYSPSP', 'AXIALPSP', 'GAITPSP', 'APRAXSP', 'APRAXL', 'APRAXR', 'CORTSENL', 'CORTSENR', 'ATAXL', 'ATAXR', 'ALIENLML', 'ALIENLMR', 'DYSTONL', 'DYSTONR', 'MYOCLLT', 'MYOCLRT', 'ALSFIND', 'GAITNPH', 'OTHNEUR', 'OTHNEURX', 'B9CHG', 'DECSUB', 'DECIN', 'DECCLIN', 'DECCLCOG', 'COGMEM', 'COGORI', 'COGJUDG', 'COGLANG', 'COGVIS', 'COGATTN', 'COGFLUC', 'COGFLAGO', 'COGOTHR', 'COGOTHRX', 'NACCCOGF', 'NACCCGFX', 'COGMODE', 'COGMODEX', 'DECAGE', 'DECCLBE', 'BEAPATHY', 'BEDEP', 'BEVHALL', 'BEVWELL', 'BEVHAGO', 'BEAHALL', 'BEDEL', 'BEDISIN', 'BEIRRIT', 'BEAGIT', 'BEPERCH', 'BEREM', 'BEREMAGO', 'BEANX', 'BEOTHR', 'BEOTHRX', 'NACCBEHF', 'NACCBEFX', 'BEMODE', 'BEMODEX', 'BEAGE', 'DECCLMOT', 'MOGAIT', 'MOFALLS', 'MOTREM', 'MOSLOW', 'NACCMOTF', 'MOMODE', 'MOMODEX', 'MOMOPARK', 'PARKAGE', 'MOMOALS', 'ALSAGE', 'MOAGE', 'COURSE', 'FRSTCHG', 'LBDEVAL', 'FTLDEVAL', 'MMSECOMP', 'MMSELOC', 'MMSELAN', 'MMSELANX', 'MMSEVIS', 'MMSEHEAR', 'MMSEORDA', 'MMSEORLO', 'PENTAGON', 'NACCMMSE', 'NPSYCLOC', 'NPSYLAN', 'NPSYLANX', 'LOGIMO', 'LOGIDAY', 'LOGIYR', 'LOGIPREV', 'LOGIMEM', 'MEMUNITS', 'MEMTIME', 'UDSBENTC', 'UDSBENTD', 'UDSBENRS', 'DIGIF', 'DIGIFLEN', 'DIGIB', 'DIGIBLEN', 'ANIMALS', 'VEG', 'TRAILA', 'TRAILARR', 'TRAILALI', 'TRAILB', 'TRAILBRR', 'TRAILBLI', 'WAIS', 'BOSTON', 'UDSVERFC', 'UDSVERFN', 'UDSVERNF', 'UDSVERLC', 'UDSVERLR', 'UDSVERLN', 'UDSVERTN', 'UDSVERTE', 'UDSVERTI', 'COGSTAT', 'NACCC1', 'MOCACOMP', 'MOCAREAS', 'MOCALOC', 'MOCALAN', 'MOCALANX', 'MOCAVIS', 'MOCAHEAR', 'MOCATOTS', 'MOCATRAI', 'MOCACUBE', 'MOCACLOC', 'MOCACLON', 'MOCACLOH', 'MOCANAMI', 'MOCAREGI', 'MOCADIGI', 'MOCALETT', 'MOCASER7', 'MOCAREPE', 'MOCAFLUE', 'MOCAABST', 'MOCARECN', 'MOCARECC', 'MOCARECR', 'MOCAORDT', 'MOCAORMO', 'MOCAORYR', 'MOCAORDY', 'MOCAORPL', 'MOCAORCT', 'CRAFTVRS', 'CRAFTURS', 'DIGFORCT', 'DIGFORSL', 'DIGBACCT', 'DIGBACLS', 'CRAFTDVR', 'CRAFTDRE', 'CRAFTDTI', 'CRAFTCUE', 'MINTTOTS', 'MINTTOTW', 'MINTSCNG', 'MINTSCNC', 'MINTPCNG', 'MINTPCNC', 'NACCC2', 'WHODIDDX', 'DXMETHOD', 'NORMCOG', 'DEMENTED', 'AMNDEM', 'PCA', 'NACCPPA', 'NACCPPAG', 'NACCPPME', 'NACCBVFT', 'NACCLBDS', 'NAMNDEM', 'NACCTMCI', 'NACCMCIL', 'NACCMCIA', 'NACCMCIE', 'NACCMCIV', 'NACCMCII', 'IMPNOMCI', 'AMYLPET', 'AMYLCSF', 'FDGAD', 'HIPPATR', 'TAUPETAD', 'CSFTAU', 'FDGFTLD', 'TPETFTLD', 'MRFTLD', 'DATSCAN', 'OTHBIOM', 'OTHBIOMX', 'IMAGLINF', 'IMAGLAC', 'IMAGMACH', 'IMAGMICH', 'IMAGMWMH', 'IMAGEWMH', 'OTHMUT', 'OTHMUTX', 'NACCALZD', 'NACCALZP', 'PROBAD', 'PROBADIF', 'POSSAD', 'POSSADIF', 'NACCLBDE', 'NACCLBDP', 'PARK', 'MSA', 'MSAIF', 'PSP', 'PSPIF', 'CORT', 'CORTIF', 'FTLDMO', 'FTLDMOIF', 'FTLDNOS', 'FTLDNOIF', 'FTD', 'FTDIF', 'PPAPH', 'PPAPHIF', 'FTLDSUBT', 'FTLDSUBX', 'CVD', 'CVDIF', 'PREVSTK', 'STROKDEC', 'STKIMAG', 'INFNETW', 'INFWMH', 'VASC', 'VASCIF', 'VASCPS', 'VASCPSIF', 'STROKE', 'STROKIF', 'ESSTREM', 'ESSTREIF', 'DOWNS', 'DOWNSIF', 'HUNT', 'HUNTIF', 'PRION', 'PRIONIF', 'BRNINJ', 'BRNINJIF', 'BRNINCTE', 'HYCEPH', 'HYCEPHIF', 'EPILEP', 'EPILEPIF', 'NEOP', 'NEOPIF', 'NEOPSTAT', 'HIV', 'HIVIF', 'OTHCOG', 'OTHCOGIF', 'OTHCOGX', 'DEP', 'DEPIF', 'DEPTREAT', 'BIPOLDX', 'BIPOLDIF', 'SCHIZOP', 'SCHIZOIF', 'ANXIET', 'ANXIETIF', 'DELIR', 'DELIRIF', 'PTSDDX', 'PTSDDXIF', 'OTHPSY', 'OTHPSYIF', 'OTHPSYX', 'ALCDEM', 'ALCDEMIF', 'ALCABUSE', 'IMPSUB', 'IMPSUBIF', 'DYSILL', 'DYSILLIF', 'MEDS', 'MEDSIF', 'DEMUN', 'DEMUNIF', 'COGOTH', 'COGOTHIF', 'COGOTHX', 'COGOTH2', 'COGOTH2F', 'COGOTH2X', 'COGOTH3', 'COGOTH3F', 'COGOTH3X', 'NACCETPR', 'NACCADMU', 'NACCFTDM', 'CANCER', 'CANCSITE', 'DIABET', 'MYOINF', 'CONGHRT', 'AFIBRILL', 'HYPERT', 'ANGINA', 'HYPCHOL', 'VB12DEF', 'THYDIS', 'ARTH', 'ARTYPE', 'ARTYPEX', 'ARTUPEX', 'ARTLOEX', 'ARTSPIN', 'ARTUNKN', 'URINEINC', 'BOWLINC', 'SLEEPAP', 'REMDIS', 'HYPOSOM', 'SLEEPOTH', 'SLEEPOTX', 'ANGIOCP', 'ANGIOPCI', 'PACEMAKE', 'HVALVE', 'ANTIENC', 'ANTIENCX', 'OTHCOND', 'OTHCONDX', 'NACCAGEB', 'NACCNIHR', 'NACCNORM', 'NACCIDEM', 'NACCAGE', 'NACCAAAS', 'NACCAANX', 'NACCAC', 'NACCACEI', 'NACCADEP', 'NACCADMD', 'NACCAHTN', 'NACCAMD', 'NACCANGI', 'NACCAPSY', 'NACCBETA', 'NACCCCBS', 'NACCDBMD', 'NACCDIUR', 'NACCEMD', 'NACCEPMD', 'NACCHTNC', 'NACCLIPL', 'NACCNSD', 'NACCPDMD', 'NACCVASD', 'NACCBMI', 'NACCUDSD', 'TELCOV', 'TELMOD', 'MODCOMM', 'MOCBTOTS', 'REY1REC', 'REY1INT', 'REY2REC', 'REY2INT', 'REY3REC', 'REY3INT', 'REY4REC', 'REY4INT', 'REY5REC', 'REY5INT', 'REY6REC', 'REY6INT', 'OTRAILA', 'OTRLARR', 'OTRLALI', 'OTRAILB', 'OTRLBRR', 'OTRLBLI', 'REYDREC', 'REYDINT', 'REYTCOR', 'REYFPOS', 'VNTTOTW', 'VNTPCNC', 'RESPVAL', 'RESPHEAR', 'RESPDIST', 'RESPINTR', 'RESPDISN', 'RESPFATG', 'RESPEMOT', 'RESPASST', 'RESPOTH', 'RESPOTHX', 'NACCMOCB', 'FTDLTFAS', 'FTDLIMB', 'FTDBULB', 'FTDGSEV', 'FTDGSEVX', 'FTDGTYP', 'FTDGTYPG', 'FTDGTYPX', 'FTDPPASL', 'FTDPPAPO', 'FTDPPAIW', 'FTDPPASW', 'FTDPPAPK', 'FTDPPAGS', 'FTDPPAEH', 'FTDPPACS', 'FTDPPASS', 'FTDPPASR', 'FTDPPASD', 'FTDCPPA', 'FTDCPPAS', 'FTDBVCLN', 'FTDBVDIS', 'FTDBVAPA', 'FTDBVLOS', 'FTDBVRIT', 'FTDBVHYP', 'FTDBVNEU', 'FTDBVIDL', 'FTDBVFT', 'FTDEMGPV', 'FTDEMGPY', 'FTDEMGMN', 'FTDPABVF', 'FTDWORRC', 'FTDWORRS', 'FTDWORRR', 'FTDWORIC', 'FTDWORIS', 'FTDWORIR', 'FTDWORIP', 'FTDSEMMT', 'FTDSEMAA', 'FTDSEMTA', 'FTDSEMSU', 'FTDANASW', 'FTDANAOW', 'FTDANATS', 'FTDSENAS', 'FTDSENOS', 'FTDSENSR', 'FTDSENPR', 'FTDNOUNC', 'FTDVERBC', 'FTDRATIO', 'FTDREAAS', 'FTDREAOS', 'FTDREASR', 'FTDREAPR', 'FTDCPC2F', 'FTDHAIRD', 'FTDSPIT', 'FTDNOSE', 'FTDCOAGE', 'FTDCRY', 'FTDCUT', 'FTDYTRIP', 'FTDEATP', 'FTDTELLA', 'FTDOPIN', 'FTDLAUGH', 'FTDSHIRT', 'FTDKEEPM', 'FTDPICKN', 'FTDOVER', 'FTDEATR', 'FTDHAIRL', 'FTDSHIRW', 'FTDMOVE', 'FTDHUGS', 'FTDLOUD', 'FTDLOST', 'FTDSNTOT', 'FTDSNTBS', 'FTDSNTOS', 'FTDSNRAT', 'FTDSELF', 'FTDBADLY', 'FTDDEPR', 'FTDEMOTD', 'FTDLSELF', 'FTDDISR', 'FTDBELCH', 'FTDGIGG', 'FTDPRIV', 'FTDNEGAT', 'FTDECOMM', 'FTDINAPJ', 'FTDFAILA', 'FTDRESIS', 'FTDINTER', 'FTDVERBA', 'FTDPHYSI', 'FTDTOPIC', 'FTDPROTO', 'FTDPREO', 'FTDFINI', 'FTDACTED', 'FTDABS', 'FTDFEEDB', 'FTDFRUST', 'FTDANXI', 'FTDNERVO', 'FTDNDIAG', 'FTDSTIMB', 'FTDSTIME', 'FTDOBJEC', 'FTDCIRCU', 'FTDPERSE', 'FTDREPEA', 'FTDANECD', 'FTDDINIT', 'FTDDELAY', 'FTDADDVE', 'FTDFLUCT', 'FTDLOSTT', 'FTDREPRU', 'FTDTRAIN', 'FTDDISCL', 'FTDSPONT', 'FTDSPONR', 'FTDSTOOD', 'FTDTOUCH', 'FTDDSOCI', 'FTDEXAGG', 'FTDSBTOT', 'FTDSBCTO', 'FTDLENGT', 'FTDCPC4F', 'FTDWORKU', 'FTDMIST', 'FTDCRIT', 'FTDWORR', 'FTDBAD', 'FTDPOOR', 'FTDFFEAR', 'FTDBIST', 'FTDCPC5F', 'FTDINSEX', 'FTDINFYR', 'FTDINFMO', 'FTDINFRE', 'FTDFEEL', 'FTDDIFF', 'FTDSORR', 'FTDSIDE', 'FTDADVAN', 'FTDIMAG', 'FTDMISF', 'FTDWASTE', 'FTDPITY', 'FTDQTOUC', 'FTDSIDES', 'FTDSOFTH', 'FTDUPSET', 'FTDCRITI', 'FTDIRIEC', 'FTDIRIPT', 'FTDCPC6F', 'FTDALTER', 'FTDEMOT', 'FTDACROS', 'FTDCONV', 'FTDINTUI', 'FTDJOKE', 'FTDIMAGP', 'FTDINAPP', 'FTDCHBEH', 'FTDADBEH', 'FTDLYING', 'FTDGOODF', 'FTDREGUL', 'FTDSMSCR', 'FTDSPSCR', 'FTDRSMST', 'FTDSMRI', 'FTDSMDY', 'FTDSMYR', 'FTDSMMO', 'FTDSMDIC', 'FTDSMDIS', 'FTDSMADN', 'FTDSMADV', 'FTDSMMAN', 'FTDSMMAO', 'FTDSMMAM', 'FTDSMFS', 'FTDSMFSO', 'FTDSMQU', 'FTDFDGPT', 'FTDFPYR', 'FTDFPMO', 'FTDFPDY', 'FTDFDDIC', 'FTDFDDID', 'FTDFDADN', 'FTDFDADV', 'FTDFDMAN', 'FTDFDMAO', 'FTDFDMAM', 'FTDFDQU', 'FTDAMYPT', 'FTDAMDY', 'FTDAMYR', 'FTDAMMO', 'FTDAMDIC', 'FTDAMDID', 'FTDAMLIG', 'FTDAMLIO', 'FTDAMADN', 'FTDAMADV', 'FTDAMMAN', 'FTDAMMAO', 'FTDAMMAM', 'FTDAMQU', 'FTDOTHER', 'FTDOTDOP', 'FTDOTSER', 'FTDOTCHO', 'FTDOTANO', 'FTDOTANS', 'FTDIDIAG', 'FTDSMRIO', 'FTDMRIFA', 'FTDMRIRF', 'FTDMRILF', 'FTDMRIRT', 'FTDMRILT', 'FTDMRIRM', 'FTDMRILM', 'FTDMRIRP', 'FTDMRILP', 'FTDMRIRB', 'FTDMRILB', 'FTDMRIOB', 'FTDMRIOS', 'FTDFDGPE', 'FTDFDGFH', 'FTDFDGRF', 'FTDFDGLF', 'FTDFDGRT', 'FTDFDGLT', 'FTDFDGRM', 'FTDFDGLM', 'FTDFDGRP', 'FTDFDGLP', 'FTDFDGRB', 'FTDFDGLB', 'FTDFDGOA', 'FTDFDGOS', 'FTDAMYP', 'FTDAMYVI', 'FTDAMYRF', 'FTDAMYLF', 'FTDAMYRT', 'FTDAMYLT', 'FTDAMYRM', 'FTDAMYLM', 'FTDAMYRP', 'FTDAMYLP', 'FTDAMYRB', 'FTDAMYLB', 'FTDAMYOA', 'FTDAMYOS', 'FTDCBFSP', 'FTDCBFVI', 'FTDCBFRF', 'FTDCBFLF', 'FTDCBFRT', 'FTDCBFLT', 'FTDCBFRM', 'FTDCBFLM', 'FTDCBFRP', 'FTDCBFLP', 'FTDCBFRB', 'FTDCBFLB', 'FTDCBFOA', 'FTDCBFOS', 'FTDOTHI', 'FTDOTHIS', 'NACCMOCA', 'NGDSWGAC', 'NGDSWEAC', 'NGDSGWAC', 'NGDSEXAC', 'NGDSEXOM', 'NACCAPOE', 'ADGCGWAS', 'NACCNE4S', 'NGDSGWAS', 'ADGCEXR', 'ADGCRND', 'NGDSWGS', 'NGDSWES', 'ADGCEXOM', 'NPSEX', 'NPPMIH', 'NPFIX', 'NPFIXX', 'NPWBRWT', 'NPWBRF', 'NACCBRNN', 'NPGRCCA', 'NPGRLA', 'NPGRHA', 'NPGRSNH', 'NPGRLCH', 'NACCAVAS', 'NPTAN', 'NPTANX', 'NPABAN', 'NPABANX', 'NPASAN', 'NPASANX', 'NPTDPAN', 'NPTDPANX', 'NPHISMB', 'NPHISG', 'NPHISSS', 'NPHIST', 'NPHISO', 'NPHISOX', 'NPTHAL', 'NACCBRAA', 'NACCNEUR', 'NPADNC', 'NACCDIFF', 'NACCVASC', 'NACCAMY', 'NPLINF', 'NPLAC', 'NPINF', 'NPINF1A', 'NPINF1B', 'NPINF1D', 'NPINF1F', 'NPINF2A', 'NPINF2B', 'NPINF2D', 'NPINF2F', 'NPINF3A', 'NPINF3B', 'NPINF3D', 'NPINF3F', 'NPINF4A', 'NPINF4B', 'NPINF4D', 'NPINF4F', 'NACCINF', 'NPHEM', 'NPHEMO', 'NPHEMO1', 'NPHEMO2', 'NPHEMO3', 'NPMICRO', 'NPOLD', 'NPOLD1', 'NPOLD2', 'NPOLD3', 'NPOLD4', 'NACCMICR', 'NPOLDD', 'NPOLDD1', 'NPOLDD2', 'NPOLDD3', 'NPOLDD4', 'NACCHEM', 'NACCARTE', 'NPWMR', 'NPPATH', 'NACCNEC', 'NPPATH2', 'NPPATH3', 'NPPATH4', 'NPPATH5', 'NPPATH6', 'NPPATH7', 'NPPATH8', 'NPPATH9', 'NPPATH10', 'NPPATH11', 'NPPATHO', 'NPPATHOX', 'NPART', 'NPOANG', 'NACCLEWY', 'NPLBOD', 'NPNLOSS', 'NPHIPSCL', 'NPSCL', 'NPFTDTAU', 'NACCPICK', 'NPFTDT2', 'NACCCBD', 'NACCPROG', 'NPFTDT5', 'NPFTDT6', 'NPFTDT7', 'NPFTDT8', 'NPFTDT9', 'NPFTDT10', 'NPFRONT', 'NPTAU', 'NPFTD', 'NPFTDTDP', 'NPALSMND', 'NPOFTD', 'NPOFTD1', 'NPOFTD2', 'NPOFTD3', 'NPOFTD4', 'NPOFTD5', 'NPFTDNO', 'NPFTDSPC', 'NPTDPA', 'NPTDPB', 'NPTDPC', 'NPTDPD', 'NPTDPE', 'NPPDXA', 'NPPDXB', 'NACCPRIO', 'NPPDXD', 'NPPDXE', 'NPPDXF', 'NPPDXG', 'NPPDXH', 'NPPDXI', 'NPPDXJ', 'NPPDXK', 'NPPDXL', 'NPPDXM', 'NPPDXN', 'NACCDOWN', 'NPPDXP', 'NPPDXQ', 'NACCOTHP', 'NACCWRI1', 'NACCWRI2', 'NACCWRI3', 'NACCBNKF', 'NPBNKB', 'NACCFORM', 'NACCPARA', 'NACCCSFP', 'NPBNKF', 'NPFAUT', 'NPFAUT1', 'NPFAUT2', 'NPFAUT3', 'NPFAUT4', 'NACCDAGE', 'NACCINT', 'NPNIT', 'NPCERAD', 'NPADRDA', 'NPOCRIT', 'NPVOTH', 'NPLEWYCS', 'NPGENE', 'NPFHSPEC', 'NPTAUHAP', 'NPPRNP', 'NPCHROM', 'NPPNORM', 'NPCNORM', 'NPPADP', 'NPCADP', 'NPPAD', 'NPCAD', 'NPPLEWY', 'NPCLEWY', 'NPPVASC', 'NPCVASC', 'NPPFTLD', 'NPCFTLD', 'NPPHIPP', 'NPCHIPP', 'NPPPRION', 'NPCPRION', 'NPPOTH1', 'NPCOTH1', 'NPOTH1X', 'NPPOTH2', 'NPCOTH2', 'NPOTH2X', 'NPPOTH3', 'NPCOTH3', 'NPOTH3X', 'LBSSALIV', 'LBSSWALL', 'LBSINSEX', 'LBSPRSEX', 'LBSWEIGH', 'LBSSMELL', 'LBSSWEAT', 'LBSTOLCD', 'LBSTOLHT', 'LBSDBVIS', 'LBSCONST', 'LBSHDSTL', 'LBSLSSTL', 'LBSUBLAD', 'LBSUSTRM', 'LBSUPASS', 'LBSDZSTU', 'LBSDZSTN', 'LBSFAINT', 'LBSPSYM', 'LBPSYAGE', 'LBSSUPSY', 'LBSSUPDI', 'LBSSUPHT', 'LBSSTNSY', 'LBSSTNDI', 'LBSSTNHT', 'LBSAGERM', 'LBSAGESM', 'LBSAGEGT', 'LBSAGEFL', 'LBSAGETR', 'LBSAGEBR', 'LBSSCLAU', 'LBSSCLVR', 'LBSSCLOT', 'LBSSCOR', 'LBUDSPCH', 'LBUDSALV', 'LBUDSWAL', 'LBUWRITE', 'LBUDFOOD', 'LBUDRESS', 'LBUDHYGN', 'LBUDTURN', 'LBUDFALL', 'LBUDFRZ', 'LBUDWALK', 'LBUDTREM', 'LBUDSENS', 'LBUMSPCH', 'LBUMSPCX', 'LBUMFACE', 'LBUMFACX', 'LBUMTRFA', 'LBUTRFAX', 'LBUMTRRH', 'LBUTRRHX', 'LBUMTRLH', 'LBUTRLHX', 'LBUMTRRF', 'LBUTRRFX', 'LBUMTRLF', 'LBUTRLFX', 'LBUMATRH', 'LBUATRHX', 'LBUMATLH', 'LBUATLHX', 'LBUMRGNK', 'LBURGNKX', 'LBUMRGRU', 'LBURGRUX', 'LBUMRGLU', 'LBURGLUX', 'LBUMRGRL', 'LBURGRLX', 'LBUMRGLL', 'LBURGLLX', 'LBUMFTRH', 'LBUFTRHX', 'LBUMFTLH', 'LBUFTLHX', 'LBUMHMRH', 'LBUHMRHX', 'LBUMHMLH', 'LBUHMLHX', 'LBUMPSRH', 'LBUPSRHX', 'LBUMPSLH', 'LBUPSLHX', 'LBUMLGRL', 'LBULGRLX', 'LBUMLGLL', 'LBULGLLX', 'LBUMRISE', 'LBUMRISX', 'LBUMPOST', 'LBUMPOSX', 'LBUMGAIT', 'LBUMGAIX', 'LBUPSTBL', 'LBUPSTBX', 'LBUMBRAD', 'LBUMBRAX', 'LBUMHNYR', 'LBUMHNYX', 'LBDELUS', 'LBDHURT', 'LBDSTEAL', 'LBDAFFR', 'LBDGUEST', 'LBDIMPOS', 'LBDHOME', 'LBDABAND', 'LBDPRES', 'LBDOTHER', 'LBDELFRQ', 'LBDELSEV', 'LBDELDST', 'LBHALL', 'LBHVOICE', 'LBHPEOPL', 'LBHNOTPR', 'LBHODOR', 'LBHFEEL', 'LBHTASTE', 'LBHOTSEN', 'LBHALFRQ', 'LBHALSEV', 'LBHALDST', 'LBANXIET', 'LBANEVNT', 'LBANRELX', 'LBANBRTH', 'LBANBUTT', 'LBANPLAC', 'LBANSEPR', 'LBANOTHR', 'LBANXFRQ', 'LBANXSEV', 'LBANXDST', 'LBAPATHY', 'LBAPSPNT', 'LBAPCONV', 'LBAPAFF', 'LBAPCHOR', 'LBAPINT', 'LBAPFAML', 'LBAPINTR', 'LBAPOTH', 'LBAPAFRQ', 'LBAPASEV', 'LBAPADST', 'LBDOPAM', 'LBDAGE', 'LBDDRUG1', 'LBDDOSE1', 'LBDAGE2', 'LBDDRUG2', 'LBDDOSE2', 'LBDELAGE', 'LBDELMED', 'LBDELMD1', 'LBDELMD2', 'LBHALAGE', 'LBHALMED', 'LBHALMD1', 'LBHALMD2', 'LBANXAGE', 'LBANXMED', 'LBANXMD1', 'LBANXMD2', 'LBAPAAGE', 'LBAPAMED', 'LBAPAMD1', 'LBAPAMD2', 'LBMLTHRG', 'LBMSLEEP', 'LBMDISRG', 'LBMSTARE', 'LBSPCGIM', 'LBSPDRM', 'LBSPYRS', 'LBSPMOS', 'LBSPINJS', 'LBSPINJP', 'LBSPCHAS', 'LBSPMOVE', 'LBSPLEGS', 'LBSPNERV', 'LBSPURGL', 'LBSPSENS', 'LBSPWORS', 'LBSPWALK', 'LBSPAWAK', 'LBSPBRTH', 'LBSPTRT', 'LBSPCRMP', 'LBSPALRT', 'LBSCLIV', 'LBSCSLP', 'LBSCBEHV', 'LBSCDRM', 'LBSCYRS', 'LBSCMOS', 'LBSCINJS', 'LBSCINJP', 'LBSCCHAS', 'LBSCMOVE', 'LBSCLEGS', 'LBSCNERV', 'LBSCSENS', 'LBSCWORS', 'LBSCWALK', 'LBSCAWAK', 'LBSCBRTH', 'LBSCTRT', 'LBSCCRMP', 'LBSCALRT', 'PACOGIMP', 'PANSFALL', 'PANSWKOF', 'PANSLYAW', 'PANSWKER', 'PANSLTTL', 'SCPARATE', 'PADSUNEX', 'PADSSITP', 'PADSWATV', 'PADSTALK', 'PADSAWDY', 'PADSFLDY', 'CONSFALL', 'CONSWKOF', 'CONSLYAW', 'CONSWKER', 'CONSLTTL', 'SCCORATE', 'CODSUNEX', 'CODSSITP', 'CODSWATV', 'CODSTALK', 'CODSAWDY', 'CODSFLDY', 'SCCOFRST', 'SCCOAGEN', 'SCCOAGED', 'SCCOCOMP', 'SCCOSCVR', 'SCCOOTH', 'SCCOSCOR', 'LBNSWORD', 'LBNSCOLR', 'LBNSCLWD', 'LBNPFACE', 'LBNPNOIS', 'LBNPTCOR', 'LBNPPARD', 'LBCDSCOG', 'LBCCMEM', 'LBCCLANG', 'LBCCATT', 'LBCCEXDE', 'LBCCVIS', 'LBCDSMOV', 'LBCMBRAD', 'LBCMRIGD', 'LBCMRTRM', 'LBCMPTRM', 'LBCMATRM', 'LBCMMYOC', 'LBCMGAIT', 'LBCMPINS', 'LBCDSBEV', 'LBCBDEP', 'LBCBAPA', 'LBCBANX', 'LBCBHALL', 'LBCBDEL', 'LBCDSAUT', 'LBCAREM', 'LBCAAPN', 'LBCALGSL', 'LBCARSLE', 'LBCADTSL', 'LBCACGFL', 'LBCAHYPT', 'LBCACONS', 'LBCAHYPS', 'LBCAFALL', 'LBCASYNC', 'LBCASNAP', 'LBCOGST', 'LBCOGDX', 'LBGLRRK2', 'LBGLRKIS', 'LBGPARK2', 'LBGPK2IS', 'LBGPARK7', 'LBGPK7IS', 'LBGPINK1', 'LBGPNKIS', 'LBGSNCA', 'LBGSNCIS', 'LBGGBA', 'LBGGBAIS', 'LBGOTHR', 'LBGOTHIS', 'LBGOTHX', 'LBISMRI', 'LBISMMO', 'LBISMDY', 'LBISMYR', 'LBISMQAV', 'LBISMHIP', 'LBISMAVL', 'LBISMDCM', 'LBISMFMT', 'LBISMADN', 'LBISMVER', 'LBISMMAN', 'LBISMOM', 'LBISMSTR', 'LBISMOS', 'LBIFPET', 'LBIFPYR', 'LBIFPMO', 'LBIFPDY', 'LBIFPQAV', 'LBIFPOCC', 'LBIFPTPP', 'LBIFPISL', 'LBIFPAVL', 'LBIFPDCM', 'LBIFPFMT', 'LBIFPADN', 'LBIFPVER', 'LBIFPMAN', 'LBIFPOM', 'LBIAPET', 'LBIAPYR', 'LBIAPMO', 'LBIAPDY', 'LBIAPQAV', 'LBIAPAVL', 'LBIAPDCM', 'LBIAPFMT', 'LBIAPLIG', 'LBIAPOL', 'LBIAPADN', 'LBIAPVER', 'LBIAPMAN', 'LBIAPOM', 'LBITPET', 'LBITPDY', 'LBITPYR', 'LBITPMO', 'LBITPQAV', 'LBITPAVL', 'LBITPDCM', 'LBITPFMT', 'LBITPLIG', 'LBITPOL', 'LBITPADN', 'LBITPVER', 'LBITPMAN', 'LBITPOM', 'LBIDATS', 'LBIDSYR', 'LBIDSMO', 'LBIDSDY', 'LBIDSQAV', 'LBIDSABN', 'LBOPOLYS', 'LBOPOSYR', 'LBOPOSMO', 'LBOPOSDY', 'LBOPOPOS', 'LBOPOAVL', 'LBOCMIBG', 'LBOCMYR', 'LBOCMMO', 'LBOCMDY', 'LBOCMPOS', 'LBOCMAVL', 'LBOANOS', 'LBOANYR', 'LBOANMO', 'LBOANDY', 'LBOANPOS', 'LBOANAVL', 'LBOANVER', 'LBOANOTH', 'LBOEEG', 'LBOEGYR', 'LBOEGMO', 'LBOEGDY', 'LBOEGPOS', 'LBOEGAVL', 'LBOMSLT', 'LBOMSYR', 'LBOMSMO', 'LBOMSDY', 'LBOMSPOS', 'LBOMSAVL', 'LBOTILT', 'LBOTLYR', 'LBOTLMO', 'LBOTLDY', 'LBOTLPOS', 'LBOTLAVL', 'LBOQSART', 'LBOQSYR', 'LBOQSMO', 'LBOQSDY', 'LBOQSPOS', 'LBOSGAVL', 'LBOTHERM', 'LBOTHDY', 'LBOTHYR', 'LBOTHMO', 'LBOTHPOS', 'LBOTHAVL', 'LBOCGAIT', 'LBOCGYR', 'LBOCGMO', 'LBOCGDY', 'LBOCGPOS', 'LBOCGAVL', 'SurvivalTime', 'Event']\n"
     ]
    },
    {
     "name": "stderr",
     "output_type": "stream",
     "text": [
      "/usr/local/lib/python3.7/site-packages/ipykernel_launcher.py:1: DtypeWarning: Columns (31,34,41,81,82,83,84,85,86,87,88,89,90,91,92,93,94,95,96,97,98,99,100,101,102,169,210,216,224,228,230,232,234,236,256,258,262,413,422,444,565,626,642,679,690,696,1091,1300,1316,1318,1320,1322,1324,1326,1328,1330,1332,1334,1336,1338,1340,1342,1344,1346,1348,1350,1352,1354,1356,1358,1360,1362,1364,1366,1368,1370,1420,1421,1423,1424,1427,1428,1431,1432,1435,1436,1439,1440,1514,1573,1582,1584,1586,1588,1599,1601,1603,1611,1613,1615,1617,1625,1627,1629,1631,1657) have mixed types.Specify dtype option on import or set low_memory=False.\n",
      "  \"\"\"Entry point for launching an IPython kernel.\n"
     ]
    }
   ],
   "source": [
    "data,column_names=csv_read('./data/survival_data.csv')"
   ]
  },
  {
   "cell_type": "code",
   "execution_count": 4,
   "id": "61bd4f43-6466-4286-88d1-2a91f67827d9",
   "metadata": {},
   "outputs": [],
   "source": [
    "Del_indexes=['NACCID','HISPORX','RACEX','RACESECX','RACETERX','PRIMLANX','INHISPOX','INRACEX','INRASECX','INRATERX','INRELTOX','NACCAMX','NACCAMSX','NACCFMX','NACCFMSX','NACCOMX','NACCOMSX','CVOTHRX','NCOTHRX','ARTHTYPX','OTHSLEEX','ABUSX','PSYCDISX','CVDIMAGX','SPEECHX','FACEXPX', 'TRESTFAX', 'TRESTRHX', 'TRESTLHX', 'TRESTRFX', 'TRESTLFX', 'TRACTRHX', 'TRACTLHX', 'RIGDNEX',  'RIGDUPRX', 'RIGDUPLX', 'RIGDLORX', 'RIGDLOLX', 'TAPSRTX', 'TAPSLFX', 'HANDMVRX', 'HANDMVLX', 'HANDATRX', 'HANDATLX', 'LEGRTX','LEGLFX',  'ARISINGX', 'POSTUREX','GAITX', 'POSSTABX','BRADYKIX','NPIQINFX','OTHNEURX','COGOTHRX','NACCCGFX', 'COGMODEX', 'BEOTHRX', 'NACCBEFX', 'BEMODEX','MOMODEX','MMSELANX','NPSYLANX', 'MOCALANX','OTHBIOMX','OTHMUTX','FTLDSUBX','OTHPSYX','COGOTHX','COGOTH2X', 'COGOTH3X','ARTYPEX', 'SLEEPOTX', 'ANTIENCX', 'OTHCONDX','RESPOTHX','FTDLTFAS', 'FTDLIMB', 'FTDBULB', 'FTDGSEV', 'FTDGSEVX', 'FTDGTYP', 'FTDGTYPG', 'FTDGTYPX', 'FTDPPASL', 'FTDPPAPO', 'FTDPPAIW', 'FTDPPASW', 'FTDPPAPK', 'FTDPPAGS', 'FTDPPAEH', 'FTDPPACS', 'FTDPPASS', 'FTDPPASR', 'FTDPPASD', 'FTDCPPA', 'FTDCPPAS', 'FTDBVCLN', 'FTDBVDIS', 'FTDBVAPA', 'FTDBVLOS', 'FTDBVRIT', 'FTDBVHYP', 'FTDBVNEU', 'FTDBVIDL', 'FTDBVFT', 'FTDEMGPV', 'FTDEMGPY', 'FTDEMGMN', 'FTDPABVF', 'FTDWORRC', 'FTDWORRS', 'FTDWORRR', 'FTDWORIC', 'FTDWORIS', 'FTDWORIR', 'FTDWORIP', 'FTDSEMMT', 'FTDSEMAA', 'FTDSEMTA', 'FTDSEMSU', 'FTDANASW', 'FTDANAOW', 'FTDANATS', 'FTDSENAS', 'FTDSENOS', 'FTDSENSR', 'FTDSENPR', 'FTDNOUNC', 'FTDVERBC', 'FTDRATIO', 'FTDREAAS', 'FTDREAOS', 'FTDREASR', 'FTDREAPR', 'FTDCPC2F', 'FTDHAIRD', 'FTDSPIT', 'FTDNOSE', 'FTDCOAGE', 'FTDCRY', 'FTDCUT', 'FTDYTRIP', 'FTDEATP', 'FTDTELLA', 'FTDOPIN', 'FTDLAUGH', 'FTDSHIRT', 'FTDKEEPM', 'FTDPICKN', 'FTDOVER', 'FTDEATR', 'FTDHAIRL', 'FTDSHIRW', 'FTDMOVE', 'FTDHUGS', 'FTDLOUD', 'FTDLOST', 'FTDSNTOT', 'FTDSNTBS', 'FTDSNTOS', 'FTDSNRAT', 'FTDSELF', 'FTDBADLY', 'FTDDEPR', 'FTDEMOTD', 'FTDLSELF', 'FTDDISR', 'FTDBELCH', 'FTDGIGG', 'FTDPRIV', 'FTDNEGAT', 'FTDECOMM', 'FTDINAPJ', 'FTDFAILA', 'FTDRESIS', 'FTDINTER', 'FTDVERBA', 'FTDPHYSI', 'FTDTOPIC', 'FTDPROTO', 'FTDPREO', 'FTDFINI', 'FTDACTED', 'FTDABS', 'FTDFEEDB', 'FTDFRUST', 'FTDANXI', 'FTDNERVO', 'FTDNDIAG', 'FTDSTIMB', 'FTDSTIME', 'FTDOBJEC', 'FTDCIRCU', 'FTDPERSE', 'FTDREPEA', 'FTDANECD', 'FTDDINIT', 'FTDDELAY', 'FTDADDVE', 'FTDFLUCT', 'FTDLOSTT', 'FTDREPRU', 'FTDTRAIN', 'FTDDISCL', 'FTDSPONT', 'FTDSPONR', 'FTDSTOOD', 'FTDTOUCH', 'FTDDSOCI', 'FTDEXAGG', 'FTDSBTOT', 'FTDSBCTO', 'FTDLENGT', 'FTDCPC4F', 'FTDWORKU', 'FTDMIST', 'FTDCRIT', 'FTDWORR', 'FTDBAD', 'FTDPOOR', 'FTDFFEAR', 'FTDBIST', 'FTDCPC5F', 'FTDINSEX', 'FTDINFYR', 'FTDINFMO', 'FTDINFRE', 'FTDFEEL', 'FTDDIFF', 'FTDSORR', 'FTDSIDE', 'FTDADVAN', 'FTDIMAG', 'FTDMISF', 'FTDWASTE', 'FTDPITY', 'FTDQTOUC', 'FTDSIDES', 'FTDSOFTH', 'FTDUPSET', 'FTDCRITI', 'FTDIRIEC', 'FTDIRIPT', 'FTDCPC6F', 'FTDALTER', 'FTDEMOT', 'FTDACROS', 'FTDCONV', 'FTDINTUI', 'FTDJOKE', 'FTDIMAGP', 'FTDINAPP', 'FTDCHBEH', 'FTDADBEH', 'FTDLYING', 'FTDGOODF', 'FTDREGUL', 'FTDSMSCR', 'FTDSPSCR', 'FTDRSMST', 'FTDSMRI', 'FTDSMDY', 'FTDSMYR', 'FTDSMMO', 'FTDSMDIC', 'FTDSMDIS', 'FTDSMADN', 'FTDSMADV', 'FTDSMMAN', 'FTDSMMAO', 'FTDSMMAM', 'FTDSMFS', 'FTDSMFSO', 'FTDSMQU', 'FTDFDGPT', 'FTDFPYR', 'FTDFPMO', 'FTDFPDY', 'FTDFDDIC', 'FTDFDDID', 'FTDFDADN', 'FTDFDADV', 'FTDFDMAN', 'FTDFDMAO', 'FTDFDMAM', 'FTDFDQU', 'FTDAMYPT', 'FTDAMDY', 'FTDAMYR', 'FTDAMMO', 'FTDAMDIC', 'FTDAMDID', 'FTDAMLIG', 'FTDAMLIO', 'FTDAMADN', 'FTDAMADV', 'FTDAMMAN', 'FTDAMMAO', 'FTDAMMAM', 'FTDAMQU', 'FTDOTHER', 'FTDOTDOP', 'FTDOTSER', 'FTDOTCHO', 'FTDOTANO', 'FTDOTANS', 'FTDIDIAG', 'FTDSMRIO', 'FTDMRIFA', 'FTDMRIRF', 'FTDMRILF', 'FTDMRIRT', 'FTDMRILT', 'FTDMRIRM', 'FTDMRILM', 'FTDMRIRP', 'FTDMRILP', 'FTDMRIRB', 'FTDMRILB', 'FTDMRIOB', 'FTDMRIOS', 'FTDFDGPE', 'FTDFDGFH', 'FTDFDGRF', 'FTDFDGLF', 'FTDFDGRT', 'FTDFDGLT', 'FTDFDGRM', 'FTDFDGLM', 'FTDFDGRP', 'FTDFDGLP', 'FTDFDGRB', 'FTDFDGLB', 'FTDFDGOA', 'FTDFDGOS', 'FTDAMYP', 'FTDAMYVI', 'FTDAMYRF', 'FTDAMYLF', 'FTDAMYRT', 'FTDAMYLT', 'FTDAMYRM', 'FTDAMYLM', 'FTDAMYRP', 'FTDAMYLP', 'FTDAMYRB', 'FTDAMYLB', 'FTDAMYOA', 'FTDAMYOS', 'FTDCBFSP', 'FTDCBFVI', 'FTDCBFRF', 'FTDCBFLF', 'FTDCBFRT', 'FTDCBFLT', 'FTDCBFRM', 'FTDCBFLM', 'FTDCBFRP', 'FTDCBFLP', 'FTDCBFRB', 'FTDCBFLB', 'FTDCBFOA', 'FTDCBFOS', 'FTDOTHI', 'FTDOTHIS','NGDSWGAC', 'NGDSWEAC', 'NGDSGWAC', 'NGDSEXAC', 'NGDSEXOM','ADGCGWAS','NGDSGWAS','ADGCEXR','ADGCRND','NGDSWGS','NGDSWES','ADGCEXOM','NPSEX','NPFIXX','NPTANX', 'NPABANX', 'NPASANX', 'NPTDPANX','NPHISOX', 'NPPATHOX', 'NPFAUT1', 'NPFAUT2', 'NPFAUT3', 'NPFAUT4','NPNIT', 'NPCERAD', 'NPADRDA', 'NPOCRIT','NPOTH1X',  'NPOTH2X', 'NPOTH3X','LBSSALIV', 'LBSSWALL', 'LBSINSEX', 'LBSPRSEX', 'LBSWEIGH', 'LBSSMELL', 'LBSSWEAT', 'LBSTOLCD', 'LBSTOLHT', 'LBSDBVIS', 'LBSCONST', 'LBSHDSTL', 'LBSLSSTL', 'LBSUBLAD', 'LBSUSTRM', 'LBSUPASS', 'LBSDZSTU', 'LBSDZSTN', 'LBSFAINT', 'LBSPSYM', 'LBPSYAGE', 'LBSSUPSY', 'LBSSUPDI', 'LBSSUPHT', 'LBSSTNSY', 'LBSSTNDI', 'LBSSTNHT', 'LBSAGERM', 'LBSAGESM', 'LBSAGEGT', 'LBSAGEFL', 'LBSAGETR', 'LBSAGEBR', 'LBSSCLAU', 'LBSSCLVR', 'LBSSCLOT', 'LBSSCOR', 'LBUDSPCH', 'LBUDSALV', 'LBUDSWAL', 'LBUWRITE', 'LBUDFOOD', 'LBUDRESS', 'LBUDHYGN', 'LBUDTURN', 'LBUDFALL', 'LBUDFRZ', 'LBUDWALK', 'LBUDTREM', 'LBUDSENS', 'LBUMSPCH', 'LBUMSPCX', 'LBUMFACE', 'LBUMFACX', 'LBUMTRFA', 'LBUTRFAX', 'LBUMTRRH', 'LBUTRRHX', 'LBUMTRLH', 'LBUTRLHX', 'LBUMTRRF', 'LBUTRRFX', 'LBUMTRLF', 'LBUTRLFX', 'LBUMATRH', 'LBUATRHX', 'LBUMATLH', 'LBUATLHX', 'LBUMRGNK', 'LBURGNKX', 'LBUMRGRU', 'LBURGRUX', 'LBUMRGLU', 'LBURGLUX', 'LBUMRGRL', 'LBURGRLX', 'LBUMRGLL', 'LBURGLLX', 'LBUMFTRH', 'LBUFTRHX', 'LBUMFTLH', 'LBUFTLHX', 'LBUMHMRH', 'LBUHMRHX', 'LBUMHMLH', 'LBUHMLHX', 'LBUMPSRH', 'LBUPSRHX', 'LBUMPSLH', 'LBUPSLHX', 'LBUMLGRL', 'LBULGRLX', 'LBUMLGLL', 'LBULGLLX', 'LBUMRISE', 'LBUMRISX', 'LBUMPOST', 'LBUMPOSX', 'LBUMGAIT', 'LBUMGAIX', 'LBUPSTBL', 'LBUPSTBX', 'LBUMBRAD', 'LBUMBRAX', 'LBUMHNYR', 'LBUMHNYX', 'LBDELUS', 'LBDHURT', 'LBDSTEAL', 'LBDAFFR', 'LBDGUEST', 'LBDIMPOS', 'LBDHOME', 'LBDABAND', 'LBDPRES', 'LBDOTHER', 'LBDELFRQ', 'LBDELSEV', 'LBDELDST', 'LBHALL', 'LBHVOICE', 'LBHPEOPL', 'LBHNOTPR', 'LBHODOR', 'LBHFEEL', 'LBHTASTE', 'LBHOTSEN', 'LBHALFRQ', 'LBHALSEV', 'LBHALDST', 'LBANXIET', 'LBANEVNT', 'LBANRELX', 'LBANBRTH', 'LBANBUTT', 'LBANPLAC', 'LBANSEPR', 'LBANOTHR', 'LBANXFRQ', 'LBANXSEV', 'LBANXDST', 'LBAPATHY', 'LBAPSPNT', 'LBAPCONV', 'LBAPAFF', 'LBAPCHOR', 'LBAPINT', 'LBAPFAML', 'LBAPINTR', 'LBAPOTH', 'LBAPAFRQ', 'LBAPASEV', 'LBAPADST', 'LBDOPAM', 'LBDAGE', 'LBDDRUG1', 'LBDDOSE1', 'LBDAGE2', 'LBDDRUG2', 'LBDDOSE2', 'LBDELAGE', 'LBDELMED', 'LBDELMD1', 'LBDELMD2', 'LBHALAGE', 'LBHALMED', 'LBHALMD1', 'LBHALMD2', 'LBANXAGE', 'LBANXMED', 'LBANXMD1', 'LBANXMD2', 'LBAPAAGE', 'LBAPAMED', 'LBAPAMD1', 'LBAPAMD2', 'LBMLTHRG', 'LBMSLEEP', 'LBMDISRG', 'LBMSTARE', 'LBSPCGIM', 'LBSPDRM', 'LBSPYRS', 'LBSPMOS', 'LBSPINJS', 'LBSPINJP', 'LBSPCHAS', 'LBSPMOVE', 'LBSPLEGS', 'LBSPNERV', 'LBSPURGL', 'LBSPSENS', 'LBSPWORS', 'LBSPWALK', 'LBSPAWAK', 'LBSPBRTH', 'LBSPTRT', 'LBSPCRMP', 'LBSPALRT', 'LBSCLIV', 'LBSCSLP', 'LBSCBEHV', 'LBSCDRM', 'LBSCYRS', 'LBSCMOS', 'LBSCINJS', 'LBSCINJP', 'LBSCCHAS', 'LBSCMOVE', 'LBSCLEGS', 'LBSCNERV', 'LBSCSENS', 'LBSCWORS', 'LBSCWALK', 'LBSCAWAK', 'LBSCBRTH', 'LBSCTRT', 'LBSCCRMP', 'LBSCALRT','PACOGIMP', 'PANSFALL', 'PANSWKOF', 'PANSLYAW', 'PANSWKER', 'PANSLTTL', 'SCPARATE', 'PADSUNEX', 'PADSSITP', 'PADSWATV', 'PADSTALK', 'PADSAWDY', 'PADSFLDY', 'CONSFALL', 'CONSWKOF', 'CONSLYAW', 'CONSWKER', 'CONSLTTL', 'SCCORATE', 'CODSUNEX', 'CODSSITP', 'CODSWATV', 'CODSTALK', 'CODSAWDY', 'CODSFLDY', 'SCCOFRST', 'SCCOAGEN', 'SCCOAGED', 'SCCOCOMP', 'SCCOSCVR', 'SCCOOTH', 'SCCOSCOR', 'LBNSWORD', 'LBNSCOLR', 'LBNSCLWD', 'LBNPFACE', 'LBNPNOIS', 'LBNPTCOR', 'LBNPPARD', 'LBCDSCOG', 'LBCCMEM', 'LBCCLANG', 'LBCCATT', 'LBCCEXDE', 'LBCCVIS', 'LBCDSMOV', 'LBCMBRAD', 'LBCMRIGD', 'LBCMRTRM', 'LBCMPTRM', 'LBCMATRM', 'LBCMMYOC', 'LBCMGAIT', 'LBCMPINS', 'LBCDSBEV', 'LBCBDEP', 'LBCBAPA', 'LBCBANX', 'LBCBHALL', 'LBCBDEL', 'LBCDSAUT', 'LBCAREM', 'LBCAAPN', 'LBCALGSL', 'LBCARSLE', 'LBCADTSL', 'LBCACGFL', 'LBCAHYPT', 'LBCACONS', 'LBCAHYPS', 'LBCAFALL', 'LBCASYNC', 'LBCASNAP', 'LBCOGST', 'LBCOGDX', 'LBGLRRK2', 'LBGLRKIS', 'LBGPARK2', 'LBGPK2IS', 'LBGPARK7', 'LBGPK7IS', 'LBGPINK1', 'LBGPNKIS', 'LBGSNCA', 'LBGSNCIS', 'LBGGBA', 'LBGGBAIS', 'LBGOTHR', 'LBGOTHIS', 'LBGOTHX', 'LBISMRI', 'LBISMMO', 'LBISMDY', 'LBISMYR', 'LBISMQAV', 'LBISMHIP', 'LBISMAVL', 'LBISMDCM', 'LBISMFMT', 'LBISMADN', 'LBISMVER', 'LBISMMAN', 'LBISMOM', 'LBISMSTR', 'LBISMOS', 'LBIFPET', 'LBIFPYR', 'LBIFPMO', 'LBIFPDY', 'LBIFPQAV', 'LBIFPOCC', 'LBIFPTPP', 'LBIFPISL', 'LBIFPAVL', 'LBIFPDCM', 'LBIFPFMT', 'LBIFPADN', 'LBIFPVER', 'LBIFPMAN', 'LBIFPOM', 'LBIAPET', 'LBIAPYR', 'LBIAPMO', 'LBIAPDY', 'LBIAPQAV', 'LBIAPAVL', 'LBIAPDCM', 'LBIAPFMT', 'LBIAPLIG', 'LBIAPOL', 'LBIAPADN', 'LBIAPVER', 'LBIAPMAN', 'LBIAPOM', 'LBITPET', 'LBITPDY', 'LBITPYR', 'LBITPMO', 'LBITPQAV', 'LBITPAVL', 'LBITPDCM', 'LBITPFMT', 'LBITPLIG', 'LBITPOL', 'LBITPADN', 'LBITPVER', 'LBITPMAN', 'LBITPOM', 'LBIDATS', 'LBIDSYR', 'LBIDSMO', 'LBIDSDY', 'LBIDSQAV', 'LBIDSABN', 'LBOPOLYS', 'LBOPOSYR', 'LBOPOSMO', 'LBOPOSDY', 'LBOPOPOS', 'LBOPOAVL', 'LBOCMIBG', 'LBOCMYR', 'LBOCMMO', 'LBOCMDY', 'LBOCMPOS', 'LBOCMAVL', 'LBOANOS', 'LBOANYR', 'LBOANMO', 'LBOANDY', 'LBOANPOS', 'LBOANAVL', 'LBOANVER', 'LBOANOTH', 'LBOEEG', 'LBOEGYR', 'LBOEGMO', 'LBOEGDY', 'LBOEGPOS', 'LBOEGAVL', 'LBOMSLT', 'LBOMSYR', 'LBOMSMO', 'LBOMSDY', 'LBOMSPOS', 'LBOMSAVL', 'LBOTILT', 'LBOTLYR', 'LBOTLMO', 'LBOTLDY', 'LBOTLPOS', 'LBOTLAVL', 'LBOQSART', 'LBOQSYR', 'LBOQSMO', 'LBOQSDY', 'LBOQSPOS', 'LBOSGAVL', 'LBOTHERM', 'LBOTHDY', 'LBOTHYR', 'LBOTHMO', 'LBOTHPOS', 'LBOTHAVL', 'LBOCGAIT', 'LBOCGYR', 'LBOCGMO', 'LBOCGDY', 'LBOCGPOS', 'LBOCGAVL','NPVOTH', 'NPLEWYCS', 'NPGENE', 'NPFHSPEC', 'NPTAUHAP', 'NPPRNP', 'NPCHROM', 'NPPNORM', 'NPCNORM', 'NPPADP', 'NPCADP', 'NPPAD', 'NPCAD', 'NPPLEWY', 'NPCLEWY', 'NPPVASC', 'NPCVASC', 'NPPFTLD', 'NPCFTLD', 'NPPHIPP', 'NPCHIPP', 'NPPPRION', 'NPCPRION', 'NPPOTH1', 'NPCOTH1', 'NPPOTH2', 'NPCOTH2', 'NPPOTH3', 'NPCOTH3','OTHCOGX','CANCSITE','NACCFDYS', 'NACCAVST']#CDRGLOB"
   ]
  },
  {
   "cell_type": "code",
   "execution_count": 5,
   "id": "1164691d-bdea-4863-b8fa-6f64c35ad1b5",
   "metadata": {},
   "outputs": [
    {
     "data": {
      "text/html": [
       "<div>\n",
       "<style scoped>\n",
       "    .dataframe tbody tr th:only-of-type {\n",
       "        vertical-align: middle;\n",
       "    }\n",
       "\n",
       "    .dataframe tbody tr th {\n",
       "        vertical-align: top;\n",
       "    }\n",
       "\n",
       "    .dataframe thead th {\n",
       "        text-align: right;\n",
       "    }\n",
       "</style>\n",
       "<table border=\"1\" class=\"dataframe\">\n",
       "  <thead>\n",
       "    <tr style=\"text-align: right;\">\n",
       "      <th></th>\n",
       "      <th>NACCREAS</th>\n",
       "      <th>NACCREFR</th>\n",
       "      <th>BIRTHMO</th>\n",
       "      <th>BIRTHYR</th>\n",
       "      <th>SEX</th>\n",
       "      <th>HISPANIC</th>\n",
       "      <th>HISPOR</th>\n",
       "      <th>RACE</th>\n",
       "      <th>RACESEC</th>\n",
       "      <th>RACETER</th>\n",
       "      <th>...</th>\n",
       "      <th>NPBNKB</th>\n",
       "      <th>NACCFORM</th>\n",
       "      <th>NACCPARA</th>\n",
       "      <th>NACCCSFP</th>\n",
       "      <th>NPBNKF</th>\n",
       "      <th>NPFAUT</th>\n",
       "      <th>NACCDAGE</th>\n",
       "      <th>NACCINT</th>\n",
       "      <th>SurvivalTime</th>\n",
       "      <th>Event</th>\n",
       "    </tr>\n",
       "  </thead>\n",
       "  <tbody>\n",
       "    <tr>\n",
       "      <th>0</th>\n",
       "      <td>1</td>\n",
       "      <td>2</td>\n",
       "      <td>4</td>\n",
       "      <td>1926</td>\n",
       "      <td>2</td>\n",
       "      <td>0</td>\n",
       "      <td>88</td>\n",
       "      <td>1</td>\n",
       "      <td>88</td>\n",
       "      <td>88</td>\n",
       "      <td>...</td>\n",
       "      <td>0</td>\n",
       "      <td>1</td>\n",
       "      <td>1</td>\n",
       "      <td>1</td>\n",
       "      <td>0</td>\n",
       "      <td>0</td>\n",
       "      <td>89</td>\n",
       "      <td>43</td>\n",
       "      <td>1787</td>\n",
       "      <td>True</td>\n",
       "    </tr>\n",
       "    <tr>\n",
       "      <th>1</th>\n",
       "      <td>1</td>\n",
       "      <td>8</td>\n",
       "      <td>3</td>\n",
       "      <td>1925</td>\n",
       "      <td>2</td>\n",
       "      <td>0</td>\n",
       "      <td>88</td>\n",
       "      <td>1</td>\n",
       "      <td>3</td>\n",
       "      <td>88</td>\n",
       "      <td>...</td>\n",
       "      <td>1</td>\n",
       "      <td>0</td>\n",
       "      <td>1</td>\n",
       "      <td>0</td>\n",
       "      <td>0</td>\n",
       "      <td>0</td>\n",
       "      <td>93</td>\n",
       "      <td>10</td>\n",
       "      <td>3659</td>\n",
       "      <td>False</td>\n",
       "    </tr>\n",
       "    <tr>\n",
       "      <th>2</th>\n",
       "      <td>2</td>\n",
       "      <td>2</td>\n",
       "      <td>12</td>\n",
       "      <td>1939</td>\n",
       "      <td>2</td>\n",
       "      <td>0</td>\n",
       "      <td>88</td>\n",
       "      <td>1</td>\n",
       "      <td>88</td>\n",
       "      <td>88</td>\n",
       "      <td>...</td>\n",
       "      <td>1</td>\n",
       "      <td>1</td>\n",
       "      <td>1</td>\n",
       "      <td>0</td>\n",
       "      <td>0</td>\n",
       "      <td>0</td>\n",
       "      <td>75</td>\n",
       "      <td>37</td>\n",
       "      <td>2151</td>\n",
       "      <td>False</td>\n",
       "    </tr>\n",
       "    <tr>\n",
       "      <th>3</th>\n",
       "      <td>2</td>\n",
       "      <td>2</td>\n",
       "      <td>4</td>\n",
       "      <td>1954</td>\n",
       "      <td>1</td>\n",
       "      <td>0</td>\n",
       "      <td>88</td>\n",
       "      <td>1</td>\n",
       "      <td>88</td>\n",
       "      <td>88</td>\n",
       "      <td>...</td>\n",
       "      <td>1</td>\n",
       "      <td>1</td>\n",
       "      <td>1</td>\n",
       "      <td>0</td>\n",
       "      <td>0</td>\n",
       "      <td>0</td>\n",
       "      <td>63</td>\n",
       "      <td>32</td>\n",
       "      <td>0</td>\n",
       "      <td>False</td>\n",
       "    </tr>\n",
       "    <tr>\n",
       "      <th>4</th>\n",
       "      <td>1</td>\n",
       "      <td>2</td>\n",
       "      <td>3</td>\n",
       "      <td>1963</td>\n",
       "      <td>1</td>\n",
       "      <td>0</td>\n",
       "      <td>88</td>\n",
       "      <td>1</td>\n",
       "      <td>88</td>\n",
       "      <td>88</td>\n",
       "      <td>...</td>\n",
       "      <td>1</td>\n",
       "      <td>1</td>\n",
       "      <td>1</td>\n",
       "      <td>0</td>\n",
       "      <td>0</td>\n",
       "      <td>0</td>\n",
       "      <td>53</td>\n",
       "      <td>10</td>\n",
       "      <td>490</td>\n",
       "      <td>False</td>\n",
       "    </tr>\n",
       "    <tr>\n",
       "      <th>...</th>\n",
       "      <td>...</td>\n",
       "      <td>...</td>\n",
       "      <td>...</td>\n",
       "      <td>...</td>\n",
       "      <td>...</td>\n",
       "      <td>...</td>\n",
       "      <td>...</td>\n",
       "      <td>...</td>\n",
       "      <td>...</td>\n",
       "      <td>...</td>\n",
       "      <td>...</td>\n",
       "      <td>...</td>\n",
       "      <td>...</td>\n",
       "      <td>...</td>\n",
       "      <td>...</td>\n",
       "      <td>...</td>\n",
       "      <td>...</td>\n",
       "      <td>...</td>\n",
       "      <td>...</td>\n",
       "      <td>...</td>\n",
       "      <td>...</td>\n",
       "    </tr>\n",
       "    <tr>\n",
       "      <th>624</th>\n",
       "      <td>2</td>\n",
       "      <td>2</td>\n",
       "      <td>4</td>\n",
       "      <td>1927</td>\n",
       "      <td>2</td>\n",
       "      <td>0</td>\n",
       "      <td>88</td>\n",
       "      <td>1</td>\n",
       "      <td>88</td>\n",
       "      <td>88</td>\n",
       "      <td>...</td>\n",
       "      <td>0</td>\n",
       "      <td>1</td>\n",
       "      <td>1</td>\n",
       "      <td>0</td>\n",
       "      <td>0</td>\n",
       "      <td>0</td>\n",
       "      <td>88</td>\n",
       "      <td>60</td>\n",
       "      <td>644</td>\n",
       "      <td>True</td>\n",
       "    </tr>\n",
       "    <tr>\n",
       "      <th>625</th>\n",
       "      <td>1</td>\n",
       "      <td>2</td>\n",
       "      <td>12</td>\n",
       "      <td>1948</td>\n",
       "      <td>2</td>\n",
       "      <td>0</td>\n",
       "      <td>88</td>\n",
       "      <td>1</td>\n",
       "      <td>88</td>\n",
       "      <td>88</td>\n",
       "      <td>...</td>\n",
       "      <td>1</td>\n",
       "      <td>0</td>\n",
       "      <td>1</td>\n",
       "      <td>0</td>\n",
       "      <td>0</td>\n",
       "      <td>0</td>\n",
       "      <td>67</td>\n",
       "      <td>4</td>\n",
       "      <td>0</td>\n",
       "      <td>False</td>\n",
       "    </tr>\n",
       "    <tr>\n",
       "      <th>626</th>\n",
       "      <td>1</td>\n",
       "      <td>1</td>\n",
       "      <td>3</td>\n",
       "      <td>1945</td>\n",
       "      <td>1</td>\n",
       "      <td>0</td>\n",
       "      <td>88</td>\n",
       "      <td>1</td>\n",
       "      <td>88</td>\n",
       "      <td>88</td>\n",
       "      <td>...</td>\n",
       "      <td>1</td>\n",
       "      <td>1</td>\n",
       "      <td>1</td>\n",
       "      <td>1</td>\n",
       "      <td>0</td>\n",
       "      <td>9</td>\n",
       "      <td>72</td>\n",
       "      <td>23</td>\n",
       "      <td>1238</td>\n",
       "      <td>False</td>\n",
       "    </tr>\n",
       "    <tr>\n",
       "      <th>627</th>\n",
       "      <td>2</td>\n",
       "      <td>2</td>\n",
       "      <td>7</td>\n",
       "      <td>1940</td>\n",
       "      <td>1</td>\n",
       "      <td>0</td>\n",
       "      <td>88</td>\n",
       "      <td>1</td>\n",
       "      <td>88</td>\n",
       "      <td>88</td>\n",
       "      <td>...</td>\n",
       "      <td>0</td>\n",
       "      <td>1</td>\n",
       "      <td>1</td>\n",
       "      <td>0</td>\n",
       "      <td>0</td>\n",
       "      <td>0</td>\n",
       "      <td>76</td>\n",
       "      <td>9</td>\n",
       "      <td>939</td>\n",
       "      <td>True</td>\n",
       "    </tr>\n",
       "    <tr>\n",
       "      <th>628</th>\n",
       "      <td>1</td>\n",
       "      <td>1</td>\n",
       "      <td>5</td>\n",
       "      <td>1957</td>\n",
       "      <td>1</td>\n",
       "      <td>0</td>\n",
       "      <td>88</td>\n",
       "      <td>1</td>\n",
       "      <td>88</td>\n",
       "      <td>88</td>\n",
       "      <td>...</td>\n",
       "      <td>1</td>\n",
       "      <td>1</td>\n",
       "      <td>1</td>\n",
       "      <td>0</td>\n",
       "      <td>0</td>\n",
       "      <td>0</td>\n",
       "      <td>56</td>\n",
       "      <td>9</td>\n",
       "      <td>776</td>\n",
       "      <td>True</td>\n",
       "    </tr>\n",
       "  </tbody>\n",
       "</table>\n",
       "<p>629 rows × 838 columns</p>\n",
       "</div>"
      ],
      "text/plain": [
       "     NACCREAS  NACCREFR  BIRTHMO  BIRTHYR  SEX  HISPANIC  HISPOR  RACE  \\\n",
       "0           1         2        4     1926    2         0      88     1   \n",
       "1           1         8        3     1925    2         0      88     1   \n",
       "2           2         2       12     1939    2         0      88     1   \n",
       "3           2         2        4     1954    1         0      88     1   \n",
       "4           1         2        3     1963    1         0      88     1   \n",
       "..        ...       ...      ...      ...  ...       ...     ...   ...   \n",
       "624         2         2        4     1927    2         0      88     1   \n",
       "625         1         2       12     1948    2         0      88     1   \n",
       "626         1         1        3     1945    1         0      88     1   \n",
       "627         2         2        7     1940    1         0      88     1   \n",
       "628         1         1        5     1957    1         0      88     1   \n",
       "\n",
       "     RACESEC  RACETER  ...  NPBNKB  NACCFORM  NACCPARA  NACCCSFP  NPBNKF  \\\n",
       "0         88       88  ...       0         1         1         1       0   \n",
       "1          3       88  ...       1         0         1         0       0   \n",
       "2         88       88  ...       1         1         1         0       0   \n",
       "3         88       88  ...       1         1         1         0       0   \n",
       "4         88       88  ...       1         1         1         0       0   \n",
       "..       ...      ...  ...     ...       ...       ...       ...     ...   \n",
       "624       88       88  ...       0         1         1         0       0   \n",
       "625       88       88  ...       1         0         1         0       0   \n",
       "626       88       88  ...       1         1         1         1       0   \n",
       "627       88       88  ...       0         1         1         0       0   \n",
       "628       88       88  ...       1         1         1         0       0   \n",
       "\n",
       "     NPFAUT  NACCDAGE  NACCINT  SurvivalTime  Event  \n",
       "0         0        89       43          1787   True  \n",
       "1         0        93       10          3659  False  \n",
       "2         0        75       37          2151  False  \n",
       "3         0        63       32             0  False  \n",
       "4         0        53       10           490  False  \n",
       "..      ...       ...      ...           ...    ...  \n",
       "624       0        88       60           644   True  \n",
       "625       0        67        4             0  False  \n",
       "626       9        72       23          1238  False  \n",
       "627       0        76        9           939   True  \n",
       "628       0        56        9           776   True  \n",
       "\n",
       "[629 rows x 838 columns]"
      ]
     },
     "execution_count": 5,
     "metadata": {},
     "output_type": "execute_result"
    }
   ],
   "source": [
    "data_store=data.copy()\n",
    "data_store_=data_store.drop(Del_indexes, axis=1)\n",
    "data_store_.shape\n",
    "\n",
    "data_store_title=data_store_.columns.values.tolist()\n",
    "data_store_"
   ]
  },
  {
   "cell_type": "code",
   "execution_count": 6,
   "id": "a6f9de05-c916-43ac-8c43-6136a7357f19",
   "metadata": {},
   "outputs": [],
   "source": [
    "output_path=\"./data/survival_data_filtered_1.csv\"\n",
    "title=np.array(data_store_title)\n",
    "write_to_csv(title.reshape(1,title.shape[0]),output_path)\n",
    "\n",
    "write_to_csv(data_store_,output_path)"
   ]
  },
  {
   "cell_type": "code",
   "execution_count": 7,
   "id": "ad10452d-6304-4145-837e-4097bff494e2",
   "metadata": {},
   "outputs": [],
   "source": [
    "NPPATHO_index=np.where(title=='NPPATHO')[0][0]"
   ]
  },
  {
   "cell_type": "markdown",
   "id": "ca68d8d5-e214-42a6-8d0f-2af9adf1b639",
   "metadata": {},
   "source": [
    "## Drug"
   ]
  },
  {
   "cell_type": "code",
   "execution_count": 8,
   "id": "360da774-8692-4776-83fa-03de0ff70764",
   "metadata": {},
   "outputs": [],
   "source": [
    "str_DRUG='DRUG'\n",
    "list_DRUG=[]\n",
    "for i in np.arange(1,41,1):\n",
    "    list_DRUG.append(str_DRUG+str(i))\n",
    "\n",
    "#----------------------------------------------------------------\n",
    "DRUG_index_list=[]\n",
    "for list_DRUG_i in list_DRUG:\n",
    "    DRUG_index_list.append(np.where(title==list_DRUG_i)[0][0])\n",
    "    \n",
    "#----------------------------------------------------------------\n",
    "data_store_arr=np.array(data_store_)\n",
    "\n",
    "DRUG_data=data_store_arr[:,np.array(DRUG_index_list)]\n",
    "DRUG_data_fill=np.array(pd.DataFrame(DRUG_data).fillna(\"-1\"))\n",
    "\n",
    "#----------------------------------------------------------------\n",
    "Dict_DRUG_data_fill={}\n",
    "DRUG_data_fill_unique=np.unique(DRUG_data_fill)\n",
    "\n",
    "DRUG_data_fill_unique_drop_neg1_index=np.where(DRUG_data_fill_unique!='-1')[0]\n",
    "Dict_DRUG_data_fill[\"-1\"]=-1\n",
    "\n",
    "DRUG_data_fill_unique_drop_neg1=DRUG_data_fill_unique[DRUG_data_fill_unique_drop_neg1_index]\n",
    "\n",
    "for DRUG_data_fill_index_i in np.arange(len(DRUG_data_fill_unique_drop_neg1)):\n",
    "    DRUG_data_fill_i=DRUG_data_fill_unique_drop_neg1[DRUG_data_fill_index_i]\n",
    "    Dict_DRUG_data_fill[DRUG_data_fill_i]=DRUG_data_fill_index_i\n",
    "    \n",
    "for i in np.arange(DRUG_data_fill.shape[0]):\n",
    "    for j in np.arange(DRUG_data_fill.shape[1]):\n",
    "        DRUG_data_fill_i_j=DRUG_data_fill[i,j]\n",
    "        data_store_arr[i,DRUG_index_list[0]+j]=Dict_DRUG_data_fill[DRUG_data_fill_i_j]"
   ]
  },
  {
   "cell_type": "markdown",
   "id": "8c25ba25-099a-4dd9-b18b-4c179f0a2067",
   "metadata": {},
   "source": [
    "## NACCWRI"
   ]
  },
  {
   "cell_type": "code",
   "execution_count": 9,
   "id": "0135a983-4839-4da3-af6f-baddf959aa79",
   "metadata": {},
   "outputs": [],
   "source": [
    "list_NACCWRI=['NACCWRI1','NACCWRI2','NACCWRI3']\n",
    "\n",
    "#----------------------------------------------------------------\n",
    "NACCWRI_index_list=[]\n",
    "for list_NACCWRI_i in list_NACCWRI:\n",
    "    NACCWRI_index_list.append(np.where(title==list_NACCWRI_i)[0][0])\n",
    "    \n",
    "#----------------------------------------------------------------\n",
    "NACCWRI_data=data_store_arr[:,np.array(NACCWRI_index_list)]\n",
    "NACCWRI_data_fill=np.array(pd.DataFrame(NACCWRI_data).fillna(\"-1\"))\n",
    "\n",
    "#----------------------------------------------------------------\n",
    "Dict_NACCWRI_data_fill={}\n",
    "NACCWRI_data_fill_unique=np.unique(NACCWRI_data_fill)\n",
    "\n",
    "NACCWRI_data_fill_unique_drop_neg1_index=np.where(NACCWRI_data_fill_unique!='-1')[0]\n",
    "Dict_NACCWRI_data_fill[\"-1\"]=-1\n",
    "\n",
    "NACCWRI_data_fill_unique_drop_neg1=NACCWRI_data_fill_unique[NACCWRI_data_fill_unique_drop_neg1_index]\n",
    "\n",
    "for NACCWRI_data_fill_index_i in np.arange(len(NACCWRI_data_fill_unique_drop_neg1)):\n",
    "    NACCWRI_data_fill_i=NACCWRI_data_fill_unique_drop_neg1[NACCWRI_data_fill_index_i]\n",
    "    Dict_NACCWRI_data_fill[NACCWRI_data_fill_i]=NACCWRI_data_fill_index_i\n",
    "    \n",
    "for i in np.arange(NACCWRI_data_fill.shape[0]):\n",
    "    for j in np.arange(NACCWRI_data_fill.shape[1]):\n",
    "        NACCWRI_data_fill_i_j=NACCWRI_data_fill[i,j]\n",
    "        data_store_arr[i,NACCWRI_index_list[0]+j]=Dict_NACCWRI_data_fill[NACCWRI_data_fill_i_j]\n",
    "        \n",
    "data_store_arr[:,NPPATHO_index]=np.array(pd.DataFrame(data_store_arr[:,NPPATHO_index]).fillna(-1))[:,0]"
   ]
  },
  {
   "cell_type": "code",
   "execution_count": 10,
   "id": "5e571643-eb61-40cb-a5b0-20033783bf29",
   "metadata": {},
   "outputs": [],
   "source": [
    "output_path=\"./data/survival_data_filtered_2.csv\"\n",
    "title=np.array(data_store_title)\n",
    "write_to_csv(title.reshape(1,title.shape[0]),output_path)\n",
    "\n",
    "write_to_csv(data_store_arr,output_path)"
   ]
  },
  {
   "cell_type": "markdown",
   "id": "39104911-0c5e-4bd7-875c-2fdc8d191abf",
   "metadata": {},
   "source": [
    "# Step 2: Preprocess - drop \"Not available\" and \"missed\""
   ]
  },
  {
   "cell_type": "code",
   "execution_count": 11,
   "id": "c1776d00-d24e-47d9-b0c5-794fec49c4e9",
   "metadata": {},
   "outputs": [
    {
     "name": "stdout",
     "output_type": "stream",
     "text": [
      "['NACCREAS', 'NACCREFR', 'BIRTHMO', 'BIRTHYR', 'SEX', 'HISPANIC', 'HISPOR', 'RACE', 'RACESEC', 'RACETER', 'PRIMLANG', 'EDUC', 'MARISTAT', 'NACCLIVS', 'INDEPEND', 'RESIDENC', 'HANDED', 'INBIRMO', 'INBIRYR', 'INSEX', 'NEWINF', 'INHISP', 'INHISPOR', 'NACCNINR', 'INRACE', 'INRASEC', 'INRATER', 'INEDUC', 'INRELTO', 'INKNOWN', 'INLIVWTH', 'INVISITS', 'INCALLS', 'INRELY', 'NACCFAM', 'NACCMOM', 'NACCDAD', 'NACCAM', 'NACCAMS', 'NACCFM', 'NACCFMS', 'NACCOM', 'NACCOMS', 'NACCFADM', 'NACCFFTD', 'ANYMEDS', 'DRUG1', 'DRUG2', 'DRUG3', 'DRUG4', 'DRUG5', 'DRUG6', 'DRUG7', 'DRUG8', 'DRUG9', 'DRUG10', 'DRUG11', 'DRUG12', 'DRUG13', 'DRUG14', 'DRUG15', 'DRUG16', 'DRUG17', 'DRUG18', 'DRUG19', 'DRUG20', 'DRUG21', 'DRUG22', 'DRUG23', 'DRUG24', 'DRUG25', 'DRUG26', 'DRUG27', 'DRUG28', 'DRUG29', 'DRUG30', 'DRUG31', 'DRUG32', 'DRUG33', 'DRUG34', 'DRUG35', 'DRUG36', 'DRUG37', 'DRUG38', 'DRUG39', 'DRUG40', 'TOBAC30', 'TOBAC100', 'SMOKYRS', 'PACKSPER', 'QUITSMOK', 'ALCOCCAS', 'ALCFREQ', 'CVHATT', 'HATTMULT', 'HATTYEAR', 'CVAFIB', 'CVANGIO', 'CVBYPASS', 'CVPACDEF', 'CVPACE', 'CVCHF', 'CVANGINA', 'CVHVALVE', 'CVOTHR', 'CBSTROKE', 'STROKMUL', 'NACCSTYR', 'CBTIA', 'TIAMULT', 'NACCTIYR', 'PD', 'PDYR', 'PDOTHR', 'PDOTHRYR', 'SEIZURES', 'NACCTBI', 'TBI', 'TBIBRIEF', 'TRAUMBRF', 'TBIEXTEN', 'TRAUMEXT', 'TBIWOLOS', 'TRAUMCHR', 'TBIYEAR', 'NCOTHR', 'DIABETES', 'DIABTYPE', 'HYPERTEN', 'HYPERCHO', 'B12DEF', 'THYROID', 'ARTHRIT', 'ARTHTYPE', 'ARTHUPEX', 'ARTHLOEX', 'ARTHSPIN', 'ARTHUNK', 'INCONTU', 'INCONTF', 'APNEA', 'RBD', 'INSOMN', 'OTHSLEEP', 'ALCOHOL', 'ABUSOTHR', 'PTSD', 'BIPOLAR', 'SCHIZ', 'DEP2YRS', 'DEPOTHR', 'ANXIETY', 'OCD', 'NPSYDEV', 'PSYCDIS', 'HEIGHT', 'WEIGHT', 'BPSYS', 'BPDIAS', 'HRATE', 'VISION', 'VISCORR', 'VISWCORR', 'HEARING', 'HEARAID', 'HEARWAID', 'ABRUPT', 'STEPWISE', 'SOMATIC', 'EMOT', 'HXHYPER', 'HXSTROKE', 'FOCLSYM', 'FOCLSIGN', 'HACHIN', 'CVDCOG', 'STROKCOG', 'CVDIMAG', 'CVDIMAG1', 'CVDIMAG2', 'CVDIMAG3', 'CVDIMAG4', 'PDNORMAL', 'SPEECH', 'FACEXP', 'TRESTFAC', 'TRESTRHD', 'TRESTLHD', 'TRESTRFT', 'TRESTLFT', 'TRACTRHD', 'TRACTLHD', 'RIGDNECK', 'RIGDUPRT', 'RIGDUPLF', 'RIGDLORT', 'RIGDLOLF', 'TAPSRT', 'TAPSLF', 'HANDMOVR', 'HANDMOVL', 'HANDALTR', 'HANDALTL', 'LEGRT', 'LEGLF', 'ARISING', 'POSTURE', 'GAIT', 'POSSTAB', 'BRADYKIN', 'MEMORY', 'ORIENT', 'JUDGMENT', 'COMMUN', 'HOMEHOBB', 'PERSCARE', 'CDRSUM', 'CDRGLOB', 'COMPORT', 'CDRLANG', 'NPIQINF', 'DEL', 'DELSEV', 'HALL', 'HALLSEV', 'AGIT', 'AGITSEV', 'DEPD', 'DEPDSEV', 'ANX', 'ANXSEV', 'ELAT', 'ELATSEV', 'APA', 'APASEV', 'DISN', 'DISNSEV', 'IRR', 'IRRSEV', 'MOT', 'MOTSEV', 'NITE', 'NITESEV', 'APP', 'APPSEV', 'NOGDS', 'SATIS', 'DROPACT', 'EMPTY', 'BORED', 'SPIRITS', 'AFRAID', 'HAPPY', 'HELPLESS', 'STAYHOME', 'MEMPROB', 'WONDRFUL', 'WRTHLESS', 'ENERGY', 'HOPELESS', 'BETTER', 'NACCGDS', 'BILLS', 'TAXES', 'SHOPPING', 'GAMES', 'STOVE', 'MEALPREP', 'EVENTS', 'PAYATTN', 'REMDATES', 'TRAVEL', 'NACCNREX', 'NORMEXAM', 'FOCLDEF', 'GAITDIS', 'EYEMOVE', 'PARKSIGN', 'RESTTRL', 'RESTTRR', 'SLOWINGL', 'SLOWINGR', 'RIGIDL', 'RIGIDR', 'BRADY', 'PARKGAIT', 'POSTINST', 'CVDSIGNS', 'CORTDEF', 'SIVDFIND', 'CVDMOTL', 'CVDMOTR', 'CORTVISL', 'CORTVISR', 'SOMATL', 'SOMATR', 'POSTCORT', 'PSPCBS', 'EYEPSP', 'DYSPSP', 'AXIALPSP', 'GAITPSP', 'APRAXSP', 'APRAXL', 'APRAXR', 'CORTSENL', 'CORTSENR', 'ATAXL', 'ATAXR', 'ALIENLML', 'ALIENLMR', 'DYSTONL', 'DYSTONR', 'MYOCLLT', 'MYOCLRT', 'ALSFIND', 'GAITNPH', 'OTHNEUR', 'B9CHG', 'DECSUB', 'DECIN', 'DECCLIN', 'DECCLCOG', 'COGMEM', 'COGORI', 'COGJUDG', 'COGLANG', 'COGVIS', 'COGATTN', 'COGFLUC', 'COGFLAGO', 'COGOTHR', 'NACCCOGF', 'COGMODE', 'DECAGE', 'DECCLBE', 'BEAPATHY', 'BEDEP', 'BEVHALL', 'BEVWELL', 'BEVHAGO', 'BEAHALL', 'BEDEL', 'BEDISIN', 'BEIRRIT', 'BEAGIT', 'BEPERCH', 'BEREM', 'BEREMAGO', 'BEANX', 'BEOTHR', 'NACCBEHF', 'BEMODE', 'BEAGE', 'DECCLMOT', 'MOGAIT', 'MOFALLS', 'MOTREM', 'MOSLOW', 'NACCMOTF', 'MOMODE', 'MOMOPARK', 'PARKAGE', 'MOMOALS', 'ALSAGE', 'MOAGE', 'COURSE', 'FRSTCHG', 'LBDEVAL', 'FTLDEVAL', 'MMSECOMP', 'MMSELOC', 'MMSELAN', 'MMSEVIS', 'MMSEHEAR', 'MMSEORDA', 'MMSEORLO', 'PENTAGON', 'NACCMMSE', 'NPSYCLOC', 'NPSYLAN', 'LOGIMO', 'LOGIDAY', 'LOGIYR', 'LOGIPREV', 'LOGIMEM', 'MEMUNITS', 'MEMTIME', 'UDSBENTC', 'UDSBENTD', 'UDSBENRS', 'DIGIF', 'DIGIFLEN', 'DIGIB', 'DIGIBLEN', 'ANIMALS', 'VEG', 'TRAILA', 'TRAILARR', 'TRAILALI', 'TRAILB', 'TRAILBRR', 'TRAILBLI', 'WAIS', 'BOSTON', 'UDSVERFC', 'UDSVERFN', 'UDSVERNF', 'UDSVERLC', 'UDSVERLR', 'UDSVERLN', 'UDSVERTN', 'UDSVERTE', 'UDSVERTI', 'COGSTAT', 'NACCC1', 'MOCACOMP', 'MOCAREAS', 'MOCALOC', 'MOCALAN', 'MOCAVIS', 'MOCAHEAR', 'MOCATOTS', 'MOCATRAI', 'MOCACUBE', 'MOCACLOC', 'MOCACLON', 'MOCACLOH', 'MOCANAMI', 'MOCAREGI', 'MOCADIGI', 'MOCALETT', 'MOCASER7', 'MOCAREPE', 'MOCAFLUE', 'MOCAABST', 'MOCARECN', 'MOCARECC', 'MOCARECR', 'MOCAORDT', 'MOCAORMO', 'MOCAORYR', 'MOCAORDY', 'MOCAORPL', 'MOCAORCT', 'CRAFTVRS', 'CRAFTURS', 'DIGFORCT', 'DIGFORSL', 'DIGBACCT', 'DIGBACLS', 'CRAFTDVR', 'CRAFTDRE', 'CRAFTDTI', 'CRAFTCUE', 'MINTTOTS', 'MINTTOTW', 'MINTSCNG', 'MINTSCNC', 'MINTPCNG', 'MINTPCNC', 'NACCC2', 'WHODIDDX', 'DXMETHOD', 'NORMCOG', 'DEMENTED', 'AMNDEM', 'PCA', 'NACCPPA', 'NACCPPAG', 'NACCPPME', 'NACCBVFT', 'NACCLBDS', 'NAMNDEM', 'NACCTMCI', 'NACCMCIL', 'NACCMCIA', 'NACCMCIE', 'NACCMCIV', 'NACCMCII', 'IMPNOMCI', 'AMYLPET', 'AMYLCSF', 'FDGAD', 'HIPPATR', 'TAUPETAD', 'CSFTAU', 'FDGFTLD', 'TPETFTLD', 'MRFTLD', 'DATSCAN', 'OTHBIOM', 'IMAGLINF', 'IMAGLAC', 'IMAGMACH', 'IMAGMICH', 'IMAGMWMH', 'IMAGEWMH', 'OTHMUT', 'NACCALZD', 'NACCALZP', 'PROBAD', 'PROBADIF', 'POSSAD', 'POSSADIF', 'NACCLBDE', 'NACCLBDP', 'PARK', 'MSA', 'MSAIF', 'PSP', 'PSPIF', 'CORT', 'CORTIF', 'FTLDMO', 'FTLDMOIF', 'FTLDNOS', 'FTLDNOIF', 'FTD', 'FTDIF', 'PPAPH', 'PPAPHIF', 'FTLDSUBT', 'CVD', 'CVDIF', 'PREVSTK', 'STROKDEC', 'STKIMAG', 'INFNETW', 'INFWMH', 'VASC', 'VASCIF', 'VASCPS', 'VASCPSIF', 'STROKE', 'STROKIF', 'ESSTREM', 'ESSTREIF', 'DOWNS', 'DOWNSIF', 'HUNT', 'HUNTIF', 'PRION', 'PRIONIF', 'BRNINJ', 'BRNINJIF', 'BRNINCTE', 'HYCEPH', 'HYCEPHIF', 'EPILEP', 'EPILEPIF', 'NEOP', 'NEOPIF', 'NEOPSTAT', 'HIV', 'HIVIF', 'OTHCOG', 'OTHCOGIF', 'DEP', 'DEPIF', 'DEPTREAT', 'BIPOLDX', 'BIPOLDIF', 'SCHIZOP', 'SCHIZOIF', 'ANXIET', 'ANXIETIF', 'DELIR', 'DELIRIF', 'PTSDDX', 'PTSDDXIF', 'OTHPSY', 'OTHPSYIF', 'ALCDEM', 'ALCDEMIF', 'ALCABUSE', 'IMPSUB', 'IMPSUBIF', 'DYSILL', 'DYSILLIF', 'MEDS', 'MEDSIF', 'DEMUN', 'DEMUNIF', 'COGOTH', 'COGOTHIF', 'COGOTH2', 'COGOTH2F', 'COGOTH3', 'COGOTH3F', 'NACCETPR', 'NACCADMU', 'NACCFTDM', 'CANCER', 'DIABET', 'MYOINF', 'CONGHRT', 'AFIBRILL', 'HYPERT', 'ANGINA', 'HYPCHOL', 'VB12DEF', 'THYDIS', 'ARTH', 'ARTYPE', 'ARTUPEX', 'ARTLOEX', 'ARTSPIN', 'ARTUNKN', 'URINEINC', 'BOWLINC', 'SLEEPAP', 'REMDIS', 'HYPOSOM', 'SLEEPOTH', 'ANGIOCP', 'ANGIOPCI', 'PACEMAKE', 'HVALVE', 'ANTIENC', 'OTHCOND', 'NACCAGEB', 'NACCNIHR', 'NACCNORM', 'NACCIDEM', 'NACCAGE', 'NACCAAAS', 'NACCAANX', 'NACCAC', 'NACCACEI', 'NACCADEP', 'NACCADMD', 'NACCAHTN', 'NACCAMD', 'NACCANGI', 'NACCAPSY', 'NACCBETA', 'NACCCCBS', 'NACCDBMD', 'NACCDIUR', 'NACCEMD', 'NACCEPMD', 'NACCHTNC', 'NACCLIPL', 'NACCNSD', 'NACCPDMD', 'NACCVASD', 'NACCBMI', 'NACCUDSD', 'TELCOV', 'TELMOD', 'MODCOMM', 'MOCBTOTS', 'REY1REC', 'REY1INT', 'REY2REC', 'REY2INT', 'REY3REC', 'REY3INT', 'REY4REC', 'REY4INT', 'REY5REC', 'REY5INT', 'REY6REC', 'REY6INT', 'OTRAILA', 'OTRLARR', 'OTRLALI', 'OTRAILB', 'OTRLBRR', 'OTRLBLI', 'REYDREC', 'REYDINT', 'REYTCOR', 'REYFPOS', 'VNTTOTW', 'VNTPCNC', 'RESPVAL', 'RESPHEAR', 'RESPDIST', 'RESPINTR', 'RESPDISN', 'RESPFATG', 'RESPEMOT', 'RESPASST', 'RESPOTH', 'NACCMOCB', 'NACCMOCA', 'NACCAPOE', 'NACCNE4S', 'NPPMIH', 'NPFIX', 'NPWBRWT', 'NPWBRF', 'NACCBRNN', 'NPGRCCA', 'NPGRLA', 'NPGRHA', 'NPGRSNH', 'NPGRLCH', 'NACCAVAS', 'NPTAN', 'NPABAN', 'NPASAN', 'NPTDPAN', 'NPHISMB', 'NPHISG', 'NPHISSS', 'NPHIST', 'NPHISO', 'NPTHAL', 'NACCBRAA', 'NACCNEUR', 'NPADNC', 'NACCDIFF', 'NACCVASC', 'NACCAMY', 'NPLINF', 'NPLAC', 'NPINF', 'NPINF1A', 'NPINF1B', 'NPINF1D', 'NPINF1F', 'NPINF2A', 'NPINF2B', 'NPINF2D', 'NPINF2F', 'NPINF3A', 'NPINF3B', 'NPINF3D', 'NPINF3F', 'NPINF4A', 'NPINF4B', 'NPINF4D', 'NPINF4F', 'NACCINF', 'NPHEM', 'NPHEMO', 'NPHEMO1', 'NPHEMO2', 'NPHEMO3', 'NPMICRO', 'NPOLD', 'NPOLD1', 'NPOLD2', 'NPOLD3', 'NPOLD4', 'NACCMICR', 'NPOLDD', 'NPOLDD1', 'NPOLDD2', 'NPOLDD3', 'NPOLDD4', 'NACCHEM', 'NACCARTE', 'NPWMR', 'NPPATH', 'NACCNEC', 'NPPATH2', 'NPPATH3', 'NPPATH4', 'NPPATH5', 'NPPATH6', 'NPPATH7', 'NPPATH8', 'NPPATH9', 'NPPATH10', 'NPPATH11', 'NPPATHO', 'NPART', 'NPOANG', 'NACCLEWY', 'NPLBOD', 'NPNLOSS', 'NPHIPSCL', 'NPSCL', 'NPFTDTAU', 'NACCPICK', 'NPFTDT2', 'NACCCBD', 'NACCPROG', 'NPFTDT5', 'NPFTDT6', 'NPFTDT7', 'NPFTDT8', 'NPFTDT9', 'NPFTDT10', 'NPFRONT', 'NPTAU', 'NPFTD', 'NPFTDTDP', 'NPALSMND', 'NPOFTD', 'NPOFTD1', 'NPOFTD2', 'NPOFTD3', 'NPOFTD4', 'NPOFTD5', 'NPFTDNO', 'NPFTDSPC', 'NPTDPA', 'NPTDPB', 'NPTDPC', 'NPTDPD', 'NPTDPE', 'NPPDXA', 'NPPDXB', 'NACCPRIO', 'NPPDXD', 'NPPDXE', 'NPPDXF', 'NPPDXG', 'NPPDXH', 'NPPDXI', 'NPPDXJ', 'NPPDXK', 'NPPDXL', 'NPPDXM', 'NPPDXN', 'NACCDOWN', 'NPPDXP', 'NPPDXQ', 'NACCOTHP', 'NACCWRI1', 'NACCWRI2', 'NACCWRI3', 'NACCBNKF', 'NPBNKB', 'NACCFORM', 'NACCPARA', 'NACCCSFP', 'NPBNKF', 'NPFAUT', 'NACCDAGE', 'NACCINT', 'SurvivalTime', 'Event']\n"
     ]
    }
   ],
   "source": [
    "data,data_arr,column_names=csv_read_arr('./data/survival_data_filtered_2.csv')"
   ]
  },
  {
   "cell_type": "code",
   "execution_count": 12,
   "id": "47e2bc68-6151-4041-97cb-86c7e623908d",
   "metadata": {},
   "outputs": [],
   "source": [
    "column_names_del=[]\n",
    "for col in np.arange(data_arr.shape[1]):\n",
    "    if np.sum(data_arr[:,col]<0)>0: # drop \"Not available\" and \"missed\"    \n",
    "        column_names_del.append(column_names[col])\n",
    "        \n",
    "data_preprocess=data.drop(columns=column_names_del)\n",
    "\n",
    "data_preprocess_arr=np.array(data_preprocess)\n",
    "data_store_title=data_preprocess.columns.values.tolist()\n",
    "\n",
    "CDRGLOB_index=np.where(np.array(data_store_title)=='CDRGLOB')[0][0]\n",
    "Event_index=np.where(np.array(data_store_title)=='Event')[0][0]\n",
    "\n",
    "del_non_change_status=np.where((data_preprocess_arr[:,CDRGLOB_index]!=2) | (data_preprocess_arr[:,Event_index]!=False))[0]\n",
    "\n",
    "data_preprocess_drop=data_preprocess.drop('CDRGLOB', axis=1)\n",
    "data_store_title_drop=data_preprocess_drop.columns.values.tolist()\n",
    "\n",
    "data_preprocess_drop_arr=np.array(data_preprocess_drop)[del_non_change_status]"
   ]
  },
  {
   "cell_type": "code",
   "execution_count": 13,
   "id": "9e1a6c56-093b-4a0b-a985-377ad5fc45d5",
   "metadata": {},
   "outputs": [],
   "source": [
    "output_path=\"./data/survival_data_filtered_3.csv\"\n",
    "title=np.array(data_store_title_drop)\n",
    "write_to_csv(title.reshape(1,title.shape[0]),output_path)\n",
    "\n",
    "write_to_csv(data_preprocess_drop_arr,output_path)"
   ]
  },
  {
   "cell_type": "code",
   "execution_count": 14,
   "id": "09473fa1-1e8b-4cef-8b38-bfa0720624cb",
   "metadata": {},
   "outputs": [
    {
     "data": {
      "text/plain": [
       "(245,)"
      ]
     },
     "execution_count": 14,
     "metadata": {},
     "output_type": "execute_result"
    }
   ],
   "source": [
    "title.shape"
   ]
  },
  {
   "cell_type": "code",
   "execution_count": 15,
   "id": "05dff9e1-30e5-4b65-b711-59523b82ad5a",
   "metadata": {},
   "outputs": [
    {
     "data": {
      "text/plain": [
       "(508, 245)"
      ]
     },
     "execution_count": 15,
     "metadata": {},
     "output_type": "execute_result"
    }
   ],
   "source": [
    "data_preprocess_drop_arr.shape"
   ]
  },
  {
   "cell_type": "markdown",
   "id": "b60f397a-ea28-47fb-897c-e44189e21b4a",
   "metadata": {},
   "source": [
    "# Step 3: Calculation"
   ]
  },
  {
   "cell_type": "code",
   "execution_count": 16,
   "id": "ee046a8a-1080-4a33-a91c-73829cfcb74d",
   "metadata": {
    "scrolled": true,
    "tags": []
   },
   "outputs": [
    {
     "name": "stdout",
     "output_type": "stream",
     "text": [
      "['NACCREAS', 'NACCREFR', 'BIRTHMO', 'BIRTHYR', 'SEX', 'HISPANIC', 'HISPOR', 'RACE', 'RACESEC', 'RACETER', 'PRIMLANG', 'EDUC', 'MARISTAT', 'NACCLIVS', 'INDEPEND', 'RESIDENC', 'HANDED', 'NACCFADM', 'NACCFFTD', 'MEMORY', 'ORIENT', 'JUDGMENT', 'COMMUN', 'HOMEHOBB', 'PERSCARE', 'CDRSUM', 'DECSUB', 'DECIN', 'COGMEM', 'COGJUDG', 'COGLANG', 'COGVIS', 'COGATTN', 'COGOTHR', 'NACCCOGF', 'COGMODE', 'DECAGE', 'BEAPATHY', 'BEDEP', 'BEVHALL', 'BEAHALL', 'BEDEL', 'BEDISIN', 'BEIRRIT', 'BEAGIT', 'BEPERCH', 'BEOTHR', 'NACCBEHF', 'BEMODE', 'MOGAIT', 'MOFALLS', 'MOTREM', 'MOSLOW', 'NACCMOTF', 'MOMODE', 'COURSE', 'FRSTCHG', 'NORMCOG', 'DEMENTED', 'NACCPPA', 'NACCBVFT', 'NACCLBDS', 'NACCTMCI', 'NACCMCIL', 'NACCMCIA', 'NACCMCIE', 'NACCMCIV', 'NACCMCII', 'IMPNOMCI', 'NACCALZD', 'NACCALZP', 'NACCLBDE', 'NACCLBDP', 'PARK', 'PSP', 'PSPIF', 'CORT', 'CORTIF', 'DOWNS', 'DOWNSIF', 'HUNT', 'HUNTIF', 'PRION', 'PRIONIF', 'BRNINJ', 'BRNINJIF', 'HYCEPH', 'HYCEPHIF', 'NEOP', 'NEOPIF', 'DEP', 'DEPIF', 'OTHPSY', 'OTHPSYIF', 'ALCDEM', 'ALCDEMIF', 'DYSILL', 'DYSILLIF', 'MEDS', 'MEDSIF', 'COGOTH', 'COGOTHIF', 'NACCETPR', 'NACCADMU', 'NACCFTDM', 'NACCAGEB', 'NACCNIHR', 'NACCNORM', 'NACCIDEM', 'NACCAGE', 'NACCUDSD', 'NACCAPOE', 'NACCNE4S', 'NPPMIH', 'NPFIX', 'NPWBRWT', 'NPWBRF', 'NACCBRNN', 'NPGRCCA', 'NPGRLA', 'NPGRHA', 'NPGRSNH', 'NPGRLCH', 'NACCAVAS', 'NPTAN', 'NPABAN', 'NPASAN', 'NPTDPAN', 'NPHISMB', 'NPHISG', 'NPHISSS', 'NPHIST', 'NPHISO', 'NPTHAL', 'NACCBRAA', 'NACCNEUR', 'NPADNC', 'NACCDIFF', 'NACCVASC', 'NACCAMY', 'NPINF', 'NPINF1A', 'NPINF1B', 'NPINF1D', 'NPINF1F', 'NPINF2A', 'NPINF2B', 'NPINF2D', 'NPINF2F', 'NPINF3A', 'NPINF3B', 'NPINF3D', 'NPINF3F', 'NPINF4A', 'NPINF4B', 'NPINF4D', 'NPINF4F', 'NACCINF', 'NPHEMO', 'NPHEMO1', 'NPHEMO2', 'NPHEMO3', 'NPOLD', 'NPOLD1', 'NPOLD2', 'NPOLD3', 'NPOLD4', 'NACCMICR', 'NPOLDD', 'NPOLDD1', 'NPOLDD2', 'NPOLDD3', 'NPOLDD4', 'NACCHEM', 'NACCARTE', 'NPWMR', 'NPPATH', 'NACCNEC', 'NPPATH2', 'NPPATH3', 'NPPATH4', 'NPPATH5', 'NPPATH6', 'NPPATH7', 'NPPATH8', 'NPPATH9', 'NPPATH10', 'NPPATH11', 'NACCLEWY', 'NPLBOD', 'NPNLOSS', 'NPHIPSCL', 'NPFTDTAU', 'NACCPICK', 'NPFTDT2', 'NACCCBD', 'NACCPROG', 'NPFTDT5', 'NPFTDT6', 'NPFTDT7', 'NPFTDT8', 'NPFTDT9', 'NPFTDT10', 'NPFTDTDP', 'NPALSMND', 'NPOFTD', 'NPOFTD1', 'NPOFTD2', 'NPOFTD3', 'NPOFTD4', 'NPOFTD5', 'NPTDPA', 'NPTDPB', 'NPTDPC', 'NPTDPD', 'NPTDPE', 'NPPDXA', 'NPPDXB', 'NACCPRIO', 'NPPDXD', 'NPPDXE', 'NPPDXF', 'NPPDXG', 'NPPDXH', 'NPPDXI', 'NPPDXJ', 'NPPDXK', 'NPPDXL', 'NPPDXM', 'NPPDXN', 'NACCDOWN', 'NPPDXP', 'NPPDXQ', 'NACCOTHP', 'NACCBNKF', 'NPBNKB', 'NACCFORM', 'NACCPARA', 'NACCCSFP', 'NPBNKF', 'NPFAUT', 'NACCDAGE', 'NACCINT', 'SurvivalTime', 'Event']\n",
      "50.39% samples are right censored in whole data.\n"
     ]
    }
   ],
   "source": [
    "data,column_names=csv_read('./data/survival_data_filtered_3.csv')\n",
    "\n",
    "Events=np.array(data.loc[:,'Event'])\n",
    "print(\"%.2f%% samples are right censored in whole data.\" % (np.sum(~Events) * 100. / len(Events)))"
   ]
  },
  {
   "cell_type": "code",
   "execution_count": 17,
   "id": "95322667-4a4e-4409-a570-cc8a50a25e81",
   "metadata": {},
   "outputs": [
    {
     "name": "stderr",
     "output_type": "stream",
     "text": [
      "% Completion:   6%|**                                             |Loss: 727.65\r"
     ]
    },
    {
     "ename": "KeyboardInterrupt",
     "evalue": "",
     "output_type": "error",
     "traceback": [
      "\u001b[0;31m---------------------------------------------------------------------------\u001b[0m",
      "\u001b[0;31mKeyboardInterrupt\u001b[0m                         Traceback (most recent call last)",
      "\u001b[0;32m/tmp/ipykernel_2032/2780941352.py\u001b[0m in \u001b[0;36m<module>\u001b[0;34m\u001b[0m\n\u001b[1;32m     13\u001b[0m \u001b[0mstructure\u001b[0m \u001b[0;34m=\u001b[0m \u001b[0;34m[\u001b[0m \u001b[0;34m{\u001b[0m\u001b[0;34m'activation'\u001b[0m\u001b[0;34m:\u001b[0m \u001b[0;34m'BentIdentity'\u001b[0m\u001b[0;34m,\u001b[0m \u001b[0;34m'num_units'\u001b[0m\u001b[0;34m:\u001b[0m \u001b[0;36m150\u001b[0m\u001b[0;34m}\u001b[0m\u001b[0;34m,\u001b[0m  \u001b[0;34m]\u001b[0m\u001b[0;34m\u001b[0m\u001b[0;34m\u001b[0m\u001b[0m\n\u001b[1;32m     14\u001b[0m \u001b[0mnonlinear_coxph\u001b[0m \u001b[0;34m=\u001b[0m \u001b[0mNonLinearCoxPHModel\u001b[0m\u001b[0;34m(\u001b[0m\u001b[0mstructure\u001b[0m\u001b[0;34m=\u001b[0m\u001b[0mstructure\u001b[0m\u001b[0;34m)\u001b[0m\u001b[0;34m\u001b[0m\u001b[0;34m\u001b[0m\u001b[0m\n\u001b[0;32m---> 15\u001b[0;31m \u001b[0mnonlinear_coxph\u001b[0m\u001b[0;34m.\u001b[0m\u001b[0mfit\u001b[0m\u001b[0;34m(\u001b[0m\u001b[0mX_train\u001b[0m\u001b[0;34m,\u001b[0m \u001b[0mtime_train\u001b[0m\u001b[0;34m,\u001b[0m \u001b[0mevent_train\u001b[0m\u001b[0;34m,\u001b[0m \u001b[0mnum_epochs\u001b[0m \u001b[0;34m=\u001b[0m \u001b[0;36m2000\u001b[0m\u001b[0;34m,\u001b[0m\u001b[0mlr\u001b[0m\u001b[0;34m=\u001b[0m\u001b[0;36m1e-3\u001b[0m\u001b[0;34m,\u001b[0m \u001b[0minit_method\u001b[0m\u001b[0;34m=\u001b[0m\u001b[0;34m'glorot_uniform'\u001b[0m\u001b[0;34m)\u001b[0m\u001b[0;34m\u001b[0m\u001b[0;34m\u001b[0m\u001b[0m\n\u001b[0m\u001b[1;32m     16\u001b[0m \u001b[0;34m\u001b[0m\u001b[0m\n\u001b[1;32m     17\u001b[0m \u001b[0;31m# Model Performances\u001b[0m\u001b[0;34m\u001b[0m\u001b[0;34m\u001b[0m\u001b[0;34m\u001b[0m\u001b[0m\n",
      "\u001b[0;32m/usr/local/lib/python3.7/site-packages/pysurvival/models/semi_parametric.py\u001b[0m in \u001b[0;36mfit\u001b[0;34m(self, X, T, E, init_method, optimizer, lr, num_epochs, dropout, batch_normalization, bn_and_dropout, l2_reg, verbose)\u001b[0m\n\u001b[1;32m    636\u001b[0m             \u001b[0mlr\u001b[0m\u001b[0;34m,\u001b[0m \u001b[0mnum_epochs\u001b[0m\u001b[0;34m,\u001b[0m \u001b[0mverbose\u001b[0m\u001b[0;34m,\u001b[0m \u001b[0mX\u001b[0m\u001b[0;34m=\u001b[0m\u001b[0mX\u001b[0m\u001b[0;34m,\u001b[0m \u001b[0mRisk\u001b[0m\u001b[0;34m=\u001b[0m\u001b[0mRisk\u001b[0m\u001b[0;34m,\u001b[0m \u001b[0mFail\u001b[0m\u001b[0;34m=\u001b[0m\u001b[0mFail\u001b[0m\u001b[0;34m,\u001b[0m\u001b[0;34m\u001b[0m\u001b[0;34m\u001b[0m\u001b[0m\n\u001b[1;32m    637\u001b[0m             \u001b[0mEfron_coef\u001b[0m\u001b[0;34m=\u001b[0m\u001b[0mEfron_coef\u001b[0m\u001b[0;34m,\u001b[0m \u001b[0mEfron_one\u001b[0m\u001b[0;34m=\u001b[0m\u001b[0mEfron_one\u001b[0m\u001b[0;34m,\u001b[0m\u001b[0;34m\u001b[0m\u001b[0;34m\u001b[0m\u001b[0m\n\u001b[0;32m--> 638\u001b[0;31m             Efron_anti_one=Efron_anti_one, l2_reg=l2_reg)\n\u001b[0m\u001b[1;32m    639\u001b[0m \u001b[0;34m\u001b[0m\u001b[0m\n\u001b[1;32m    640\u001b[0m         \u001b[0;31m# Saving attributes\u001b[0m\u001b[0;34m\u001b[0m\u001b[0;34m\u001b[0m\u001b[0;34m\u001b[0m\u001b[0m\n",
      "\u001b[0;32m/usr/local/lib/python3.7/site-packages/pysurvival/utils/optimization.py\u001b[0m in \u001b[0;36moptimize\u001b[0;34m(loss_function, model, optimizer_str, lr, nb_epochs, verbose, num_workers, **kargs)\u001b[0m\n\u001b[1;32m    187\u001b[0m             \u001b[0moptimizer\u001b[0m\u001b[0;34m.\u001b[0m\u001b[0mstep\u001b[0m\u001b[0;34m(\u001b[0m\u001b[0mclosure\u001b[0m\u001b[0;34m)\u001b[0m\u001b[0;34m\u001b[0m\u001b[0;34m\u001b[0m\u001b[0m\n\u001b[1;32m    188\u001b[0m         \u001b[0;32melse\u001b[0m\u001b[0;34m:\u001b[0m\u001b[0;34m\u001b[0m\u001b[0;34m\u001b[0m\u001b[0m\n\u001b[0;32m--> 189\u001b[0;31m             \u001b[0moptimizer\u001b[0m\u001b[0;34m.\u001b[0m\u001b[0mstep\u001b[0m\u001b[0;34m(\u001b[0m\u001b[0;34m)\u001b[0m\u001b[0;34m\u001b[0m\u001b[0;34m\u001b[0m\u001b[0m\n\u001b[0m\u001b[1;32m    190\u001b[0m         \u001b[0mloss\u001b[0m \u001b[0;34m=\u001b[0m \u001b[0mclosure\u001b[0m\u001b[0;34m(\u001b[0m\u001b[0;34m)\u001b[0m\u001b[0;34m\u001b[0m\u001b[0;34m\u001b[0m\u001b[0m\n\u001b[1;32m    191\u001b[0m         \u001b[0mloss_value\u001b[0m \u001b[0;34m=\u001b[0m \u001b[0mloss\u001b[0m\u001b[0;34m.\u001b[0m\u001b[0mitem\u001b[0m\u001b[0;34m(\u001b[0m\u001b[0;34m)\u001b[0m\u001b[0;34m\u001b[0m\u001b[0;34m\u001b[0m\u001b[0m\n",
      "\u001b[0;32m/usr/local/lib/python3.7/site-packages/torch/optim/optimizer.py\u001b[0m in \u001b[0;36mwrapper\u001b[0;34m(*args, **kwargs)\u001b[0m\n\u001b[1;32m     86\u001b[0m                 \u001b[0mprofile_name\u001b[0m \u001b[0;34m=\u001b[0m \u001b[0;34m\"Optimizer.step#{}.step\"\u001b[0m\u001b[0;34m.\u001b[0m\u001b[0mformat\u001b[0m\u001b[0;34m(\u001b[0m\u001b[0mobj\u001b[0m\u001b[0;34m.\u001b[0m\u001b[0m__class__\u001b[0m\u001b[0;34m.\u001b[0m\u001b[0m__name__\u001b[0m\u001b[0;34m)\u001b[0m\u001b[0;34m\u001b[0m\u001b[0;34m\u001b[0m\u001b[0m\n\u001b[1;32m     87\u001b[0m                 \u001b[0;32mwith\u001b[0m \u001b[0mtorch\u001b[0m\u001b[0;34m.\u001b[0m\u001b[0mautograd\u001b[0m\u001b[0;34m.\u001b[0m\u001b[0mprofiler\u001b[0m\u001b[0;34m.\u001b[0m\u001b[0mrecord_function\u001b[0m\u001b[0;34m(\u001b[0m\u001b[0mprofile_name\u001b[0m\u001b[0;34m)\u001b[0m\u001b[0;34m:\u001b[0m\u001b[0;34m\u001b[0m\u001b[0;34m\u001b[0m\u001b[0m\n\u001b[0;32m---> 88\u001b[0;31m                     \u001b[0;32mreturn\u001b[0m \u001b[0mfunc\u001b[0m\u001b[0;34m(\u001b[0m\u001b[0;34m*\u001b[0m\u001b[0margs\u001b[0m\u001b[0;34m,\u001b[0m \u001b[0;34m**\u001b[0m\u001b[0mkwargs\u001b[0m\u001b[0;34m)\u001b[0m\u001b[0;34m\u001b[0m\u001b[0;34m\u001b[0m\u001b[0m\n\u001b[0m\u001b[1;32m     89\u001b[0m             \u001b[0;32mreturn\u001b[0m \u001b[0mwrapper\u001b[0m\u001b[0;34m\u001b[0m\u001b[0;34m\u001b[0m\u001b[0m\n\u001b[1;32m     90\u001b[0m \u001b[0;34m\u001b[0m\u001b[0m\n",
      "\u001b[0;32m/usr/local/lib/python3.7/site-packages/torch/autograd/grad_mode.py\u001b[0m in \u001b[0;36mdecorate_context\u001b[0;34m(*args, **kwargs)\u001b[0m\n\u001b[1;32m     26\u001b[0m         \u001b[0;32mdef\u001b[0m \u001b[0mdecorate_context\u001b[0m\u001b[0;34m(\u001b[0m\u001b[0;34m*\u001b[0m\u001b[0margs\u001b[0m\u001b[0;34m,\u001b[0m \u001b[0;34m**\u001b[0m\u001b[0mkwargs\u001b[0m\u001b[0;34m)\u001b[0m\u001b[0;34m:\u001b[0m\u001b[0;34m\u001b[0m\u001b[0;34m\u001b[0m\u001b[0m\n\u001b[1;32m     27\u001b[0m             \u001b[0;32mwith\u001b[0m \u001b[0mself\u001b[0m\u001b[0;34m.\u001b[0m\u001b[0m__class__\u001b[0m\u001b[0;34m(\u001b[0m\u001b[0;34m)\u001b[0m\u001b[0;34m:\u001b[0m\u001b[0;34m\u001b[0m\u001b[0;34m\u001b[0m\u001b[0m\n\u001b[0;32m---> 28\u001b[0;31m                 \u001b[0;32mreturn\u001b[0m \u001b[0mfunc\u001b[0m\u001b[0;34m(\u001b[0m\u001b[0;34m*\u001b[0m\u001b[0margs\u001b[0m\u001b[0;34m,\u001b[0m \u001b[0;34m**\u001b[0m\u001b[0mkwargs\u001b[0m\u001b[0;34m)\u001b[0m\u001b[0;34m\u001b[0m\u001b[0;34m\u001b[0m\u001b[0m\n\u001b[0m\u001b[1;32m     29\u001b[0m         \u001b[0;32mreturn\u001b[0m \u001b[0mcast\u001b[0m\u001b[0;34m(\u001b[0m\u001b[0mF\u001b[0m\u001b[0;34m,\u001b[0m \u001b[0mdecorate_context\u001b[0m\u001b[0;34m)\u001b[0m\u001b[0;34m\u001b[0m\u001b[0;34m\u001b[0m\u001b[0m\n\u001b[1;32m     30\u001b[0m \u001b[0;34m\u001b[0m\u001b[0m\n",
      "\u001b[0;32m/usr/local/lib/python3.7/site-packages/torch/optim/adam.py\u001b[0m in \u001b[0;36mstep\u001b[0;34m(self, closure)\u001b[0m\n\u001b[1;32m    142\u001b[0m                    \u001b[0mlr\u001b[0m\u001b[0;34m=\u001b[0m\u001b[0mgroup\u001b[0m\u001b[0;34m[\u001b[0m\u001b[0;34m'lr'\u001b[0m\u001b[0;34m]\u001b[0m\u001b[0;34m,\u001b[0m\u001b[0;34m\u001b[0m\u001b[0;34m\u001b[0m\u001b[0m\n\u001b[1;32m    143\u001b[0m                    \u001b[0mweight_decay\u001b[0m\u001b[0;34m=\u001b[0m\u001b[0mgroup\u001b[0m\u001b[0;34m[\u001b[0m\u001b[0;34m'weight_decay'\u001b[0m\u001b[0;34m]\u001b[0m\u001b[0;34m,\u001b[0m\u001b[0;34m\u001b[0m\u001b[0;34m\u001b[0m\u001b[0m\n\u001b[0;32m--> 144\u001b[0;31m                    eps=group['eps'])\n\u001b[0m\u001b[1;32m    145\u001b[0m         \u001b[0;32mreturn\u001b[0m \u001b[0mloss\u001b[0m\u001b[0;34m\u001b[0m\u001b[0;34m\u001b[0m\u001b[0m\n",
      "\u001b[0;32m/usr/local/lib/python3.7/site-packages/torch/optim/_functional.py\u001b[0m in \u001b[0;36madam\u001b[0;34m(params, grads, exp_avgs, exp_avg_sqs, max_exp_avg_sqs, state_steps, amsgrad, beta1, beta2, lr, weight_decay, eps)\u001b[0m\n\u001b[1;32m     84\u001b[0m \u001b[0;34m\u001b[0m\u001b[0m\n\u001b[1;32m     85\u001b[0m         \u001b[0;31m# Decay the first and second moment running average coefficient\u001b[0m\u001b[0;34m\u001b[0m\u001b[0;34m\u001b[0m\u001b[0;34m\u001b[0m\u001b[0m\n\u001b[0;32m---> 86\u001b[0;31m         \u001b[0mexp_avg\u001b[0m\u001b[0;34m.\u001b[0m\u001b[0mmul_\u001b[0m\u001b[0;34m(\u001b[0m\u001b[0mbeta1\u001b[0m\u001b[0;34m)\u001b[0m\u001b[0;34m.\u001b[0m\u001b[0madd_\u001b[0m\u001b[0;34m(\u001b[0m\u001b[0mgrad\u001b[0m\u001b[0;34m,\u001b[0m \u001b[0malpha\u001b[0m\u001b[0;34m=\u001b[0m\u001b[0;36m1\u001b[0m \u001b[0;34m-\u001b[0m \u001b[0mbeta1\u001b[0m\u001b[0;34m)\u001b[0m\u001b[0;34m\u001b[0m\u001b[0;34m\u001b[0m\u001b[0m\n\u001b[0m\u001b[1;32m     87\u001b[0m         \u001b[0mexp_avg_sq\u001b[0m\u001b[0;34m.\u001b[0m\u001b[0mmul_\u001b[0m\u001b[0;34m(\u001b[0m\u001b[0mbeta2\u001b[0m\u001b[0;34m)\u001b[0m\u001b[0;34m.\u001b[0m\u001b[0maddcmul_\u001b[0m\u001b[0;34m(\u001b[0m\u001b[0mgrad\u001b[0m\u001b[0;34m,\u001b[0m \u001b[0mgrad\u001b[0m\u001b[0;34m.\u001b[0m\u001b[0mconj\u001b[0m\u001b[0;34m(\u001b[0m\u001b[0;34m)\u001b[0m\u001b[0;34m,\u001b[0m \u001b[0mvalue\u001b[0m\u001b[0;34m=\u001b[0m\u001b[0;36m1\u001b[0m \u001b[0;34m-\u001b[0m \u001b[0mbeta2\u001b[0m\u001b[0;34m)\u001b[0m\u001b[0;34m\u001b[0m\u001b[0;34m\u001b[0m\u001b[0m\n\u001b[1;32m     88\u001b[0m         \u001b[0;32mif\u001b[0m \u001b[0mamsgrad\u001b[0m\u001b[0;34m:\u001b[0m\u001b[0;34m\u001b[0m\u001b[0;34m\u001b[0m\u001b[0m\n",
      "\u001b[0;31mKeyboardInterrupt\u001b[0m: "
     ]
    }
   ],
   "source": [
    "X=data.loc[:,'NACCREAS':'NACCINT']\n",
    "y_=data.loc[:,'SurvivalTime':'Event']\n",
    "y=np.array([(y__[1],y__[0]) for y__ in np.array(y_)], dtype=[('Event', 'bool'), ('SurvivalTime', '<f8')])\n",
    "\n",
    "X_train,X_test,y_train,y_test=train_test_split(X,y,test_size=0.2, random_state=0)\n",
    "\n",
    "time_train=y_train['SurvivalTime']\n",
    "event_train=y_train['Event']\n",
    "time_test=y_test['SurvivalTime']\n",
    "event_test=y_test['Event']\n",
    "\n",
    "# Building the model\n",
    "structure = [ {'activation': 'BentIdentity', 'num_units': 150},  ]\n",
    "nonlinear_coxph = NonLinearCoxPHModel(structure=structure)\n",
    "nonlinear_coxph.fit(X_train, time_train, event_train, num_epochs = 2000,lr=1e-3, init_method='glorot_uniform')\n",
    "\n",
    "# Model Performances\n",
    "c_index = concordance_index(nonlinear_coxph, X_test, time_test, event_test) #0.81\n",
    "print('C-index: {:.2f}'.format(c_index))\n",
    "\n",
    "ibs = integrated_brier_score(nonlinear_coxph, X_test, time_test, event_test, t_max=None, figure_size=(20, 6.5) )\n",
    "print('IBS: {:.2f}'.format(ibs))"
   ]
  },
  {
   "cell_type": "code",
   "execution_count": null,
   "id": "6a5a23d0-f40f-491f-a9b9-54a36512f4af",
   "metadata": {},
   "outputs": [],
   "source": [
    "display_loss_values(nonlinear_coxph)"
   ]
  },
  {
   "cell_type": "code",
   "execution_count": null,
   "id": "b883c5ce-7b20-442c-aa08-c9b7589ee41b",
   "metadata": {
    "tags": []
   },
   "outputs": [],
   "source": [
    "max_loss=int(np.max(nonlinear_coxph.loss_values))+1\n",
    "step=int(max_loss/5)\n",
    "\n",
    "plt.figure(figsize=(12,6))\n",
    "plt.plot(nonlinear_coxph.loss_values)\n",
    "plt.xlabel('Epoch',fontsize=18)\n",
    "plt.ylabel('Loss',fontsize=18)\n",
    "plt.xticks(fontsize=18)\n",
    "plt.yticks(np.arange(0,max_loss,step),fontsize=18)\n",
    "plt.show()"
   ]
  },
  {
   "cell_type": "code",
   "execution_count": null,
   "id": "fcc9daa8-1334-49d4-a3ba-2dfdd0d59fa6",
   "metadata": {},
   "outputs": [],
   "source": [
    "results = compare_to_actual(nonlinear_coxph, X_test, time_test, event_test,\n",
    "                            is_at_risk = False,  figure_size=(16, 6),\n",
    "                            metrics = ['rmse', 'mean', 'median'])"
   ]
  },
  {
   "cell_type": "code",
   "execution_count": null,
   "id": "afc711e4-d620-4ad3-aa51-b4a636068be5",
   "metadata": {},
   "outputs": [],
   "source": [
    "kmf = KaplanMeierFitter()\n",
    "fig, ax = plt.subplots(figsize=(12, 6))\n",
    "\n",
    "# Randomly extracting a data-point that experienced an event \n",
    "choices = np.argwhere((event_test==1.)&(time_test>=1)).flatten()\n",
    "k = np.random.choice( choices, 1)[0]\n",
    "\n",
    "# Saving the time of event\n",
    "t = time_test[k]\n",
    "\n",
    "# Computing the Survival function for all times t\n",
    "predicted = nonlinear_coxph.predict_survival(X_test.values[k, :]).flatten()\n",
    "\n",
    "# Displaying the functions\n",
    "plt.plot(nonlinear_coxph.times, predicted, color='blue', label='Predicted', lw=2)\n",
    "\n",
    "# Actual time\n",
    "plt.axvline(x=t, color='black', ls ='--')\n",
    "ax.annotate('T={:.1f}'.format(t), xy=(t, 0.5), xytext=(t, 0.5), fontsize=18)\n",
    "\n",
    "kmf.fit(time_test, event_observed=event_test)\n",
    "ax = kmf.plot_survival_function(ax=ax)\n",
    "\n",
    "# Show everything\n",
    "title = \"Comparing Survival functions between KM_estimate and Predicted\"\n",
    "plt.legend(fontsize=18)\n",
    "plt.title(title, fontsize=18)\n",
    "plt.ylim(0, 1.05)\n",
    "plt.xticks(fontsize=18)\n",
    "plt.yticks(fontsize=18)\n",
    "plt.show()"
   ]
  },
  {
   "cell_type": "code",
   "execution_count": null,
   "id": "58f38045-554a-4015-8338-0cec31e04151",
   "metadata": {},
   "outputs": [],
   "source": [
    "cs=['blue','darkseagreen','red','green','olive','cyan','tan','silver','purple','fuchsia','chocolate','darkcyan','aqua','pink','orange','bisque','lightsteelblue']\n",
    "\n",
    "fig, ax = plt.subplots(figsize=(12, 6))\n",
    "\n",
    "# Randomly extracting a data-point that experienced an event \n",
    "choices = np.argwhere((event_test==1.)&(time_test>=1)).flatten()\n",
    "k_list = np.random.choice( choices, 5,replace=False)\n",
    "\n",
    "# Saving the time of event\n",
    "for i in np.arange(len(k_list)):\n",
    "    k=k_list[i]\n",
    "    t = time_test[k]\n",
    "\n",
    "    # Computing the Survival function for all times t\n",
    "    predicted = nonlinear_coxph.predict_survival(X_test.values[k, :]).flatten()\n",
    "\n",
    "    # Displaying the functions\n",
    "    plt.plot(nonlinear_coxph.times, predicted, color=cs[i], label='Patient '+str(k), lw=2)\n",
    "    \n",
    "    # Actual time\n",
    "    plt.axvline(x=t, color=cs[i], ls ='--')\n",
    "    ax.annotate('T={:.1f}'.format(t), xy=(t, 0.5), xytext=(t, (0.1+i/10)), fontsize=18,color=cs[i])\n",
    "\n",
    "plt.legend(loc=[1.02,0.58],fontsize=18, ncol=1)\n",
    "plt.ylim(0, 1.05)\n",
    "plt.xticks(fontsize=18)\n",
    "plt.yticks(fontsize=18)\n",
    "plt.show()"
   ]
  },
  {
   "cell_type": "code",
   "execution_count": null,
   "id": "cbe65a4b-e6fe-41b5-b9eb-5546111a372f",
   "metadata": {},
   "outputs": [],
   "source": [
    "fig, ax = plt.subplots(figsize=(12, 6))\n",
    "\n",
    "# Randomly extracting a data-point that experienced an event \n",
    "choices = np.argwhere((event_test==1.)&(time_test>=1)).flatten()\n",
    "k_list_ = k_list[0:3]\n",
    "\n",
    "# Saving the time of event\n",
    "for i in np.arange(len(k_list_)):\n",
    "    k=k_list_[i]\n",
    "    t = time_test[k]\n",
    "\n",
    "    # Computing the Survival function for all times t\n",
    "    predicted = nonlinear_coxph.predict_survival(X_test.values[k, :]).flatten()\n",
    "\n",
    "    # Displaying the functions\n",
    "    plt.plot(nonlinear_coxph.times, predicted, color=cs[i], label='Patient '+str(k), lw=2)\n",
    "    \n",
    "    # Actual time\n",
    "    plt.axvline(x=t, color=cs[i], ls ='--')\n",
    "    ax.annotate('T={:.1f}'.format(t), xy=(t, 0.5), xytext=(t, (0.1+i/10)), fontsize=18,color=cs[i])\n",
    "\n",
    "plt.legend(loc=[0.1,1.05],fontsize=18, ncol=3)\n",
    "plt.ylim(0, 1.05)\n",
    "plt.xticks(fontsize=18)\n",
    "plt.yticks(fontsize=18)\n",
    "plt.show()"
   ]
  },
  {
   "cell_type": "code",
   "execution_count": null,
   "id": "7e468fbd-f34c-4333-9444-d8852b61db5a",
   "metadata": {},
   "outputs": [],
   "source": [
    "nonlinear_coxph.model"
   ]
  },
  {
   "cell_type": "code",
   "execution_count": null,
   "id": "dc0c5956-83b5-4346-b3ac-c205128848b0",
   "metadata": {},
   "outputs": [],
   "source": [
    "first_layer_weight=np.array(np.transpose(nonlinear_coxph.model.state_dict()['model.0.weight']))\n",
    "feature_importace=np.linalg.norm(first_layer_weight,1, axis=1)\n",
    "feature_importace"
   ]
  },
  {
   "cell_type": "code",
   "execution_count": null,
   "id": "db6830be-4202-4e11-acd7-3148ce890bb3",
   "metadata": {
    "scrolled": true,
    "tags": []
   },
   "outputs": [],
   "source": [
    "column_names"
   ]
  },
  {
   "cell_type": "code",
   "execution_count": null,
   "id": "f244ca89-59a2-4cc2-b42c-5c9036ef5840",
   "metadata": {},
   "outputs": [],
   "source": [
    "k=20\n",
    "\n",
    "top_k=heapq.nlargest(k, range(len(feature_importace)), feature_importace.take)\n",
    "top_k"
   ]
  },
  {
   "cell_type": "code",
   "execution_count": null,
   "id": "1e3b0c5f-a3b7-4f98-be84-e5125dde1922",
   "metadata": {},
   "outputs": [],
   "source": [
    "feature_importace[top_k]"
   ]
  },
  {
   "cell_type": "code",
   "execution_count": null,
   "id": "6699a752-47ed-47d7-9947-c3d78562f352",
   "metadata": {},
   "outputs": [],
   "source": [
    "np.array(column_names[:-2])[top_k]"
   ]
  },
  {
   "cell_type": "code",
   "execution_count": null,
   "id": "ca1a9f46-b73b-4b03-bf20-f49237580fcc",
   "metadata": {},
   "outputs": [],
   "source": [
    "mn, mx = first_layer_weight.min(), first_layer_weight.max()\n",
    "\n",
    "fig, ax = plt.subplots(figsize = (8,6))\n",
    "heatmp=sns.heatmap(first_layer_weight, cmap='PiYG', vmin=-1, vmax=1)\n",
    "cbar = heatmp.collections[0].colorbar\n",
    "# here set the labelsize by 18\n",
    "cbar.ax.tick_params(labelsize=18)\n",
    "plt.xlabel('')\n",
    "plt.xticks([])\n",
    "plt.yticks(np.arange(0,np.array(column_names[:-2]).shape[0],20),np.arange(0,np.array(column_names[:-2]).shape[0],20),fontsize=18)\n",
    "plt.ylabel('Feature index',fontsize=18)\n",
    "plt.show()"
   ]
  },
  {
   "cell_type": "code",
   "execution_count": null,
   "id": "d65bbb28-5f19-4c37-b839-ee4142a865ef",
   "metadata": {},
   "outputs": [],
   "source": [
    "mn, mx = first_layer_weight.min(), first_layer_weight.max()\n",
    "first_layer_weight_scaled = (first_layer_weight - mn) / (mx - mn)\n",
    "\n",
    "fig, ax = plt.subplots(figsize = (8,6))\n",
    "heatmp=sns.heatmap(first_layer_weight_scaled, cmap='PiYG', vmin=0, vmax=1)\n",
    "cbar = heatmp.collections[0].colorbar\n",
    "# here set the labelsize by 18\n",
    "cbar.ax.tick_params(labelsize=18)\n",
    "plt.xlabel('')\n",
    "plt.xticks([])\n",
    "plt.yticks(np.arange(0,np.array(column_names[:-2]).shape[0],20),np.arange(0,np.array(column_names[:-2]).shape[0],20),fontsize=18)\n",
    "plt.ylabel('Feature index',fontsize=18)\n",
    "plt.show()"
   ]
  },
  {
   "cell_type": "code",
   "execution_count": null,
   "id": "da9d609a-276d-4850-be9d-20f086d1329d",
   "metadata": {},
   "outputs": [],
   "source": []
  }
 ],
 "metadata": {
  "kernelspec": {
   "display_name": "Python 3 (ipykernel)",
   "language": "python",
   "name": "python3"
  },
  "language_info": {
   "codemirror_mode": {
    "name": "ipython",
    "version": 3
   },
   "file_extension": ".py",
   "mimetype": "text/x-python",
   "name": "python",
   "nbconvert_exporter": "python",
   "pygments_lexer": "ipython3",
   "version": "3.7.8"
  },
  "widgets": {
   "application/vnd.jupyter.widget-state+json": {
    "state": {},
    "version_major": 2,
    "version_minor": 0
   }
  }
 },
 "nbformat": 4,
 "nbformat_minor": 5
}
