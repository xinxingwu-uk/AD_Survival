{
 "cells": [
  {
   "cell_type": "code",
   "execution_count": 1,
   "id": "00049547-c2e4-4996-84af-e1d46d9928c0",
   "metadata": {},
   "outputs": [],
   "source": [
    "import pandas as pd\n",
    "import numpy as np\n",
    "import gc\n",
    "\n",
    "from scipy import stats\n",
    "from matplotlib import pyplot as plt"
   ]
  },
  {
   "cell_type": "code",
   "execution_count": 2,
   "id": "c1776d00-d24e-47d9-b0c5-794fec49c4e9",
   "metadata": {},
   "outputs": [],
   "source": [
    "def csv_read(p_path,header_is=0):\n",
    "    pd_data=pd.read_csv(p_path, sep=',',header=header_is)\n",
    "    column_names=pd_data.columns.values.tolist()\n",
    "    print(column_names)\n",
    "    return pd_data,np.array(pd_data),column_names\n",
    "\n",
    "#-------------------------------------------------------------------------------------\n",
    "def write_to_csv(p_data,p_path):\n",
    "    dataframe = pd.DataFrame(p_data)\n",
    "    dataframe.to_csv(p_path, mode='a',header=False,index=False,sep=',')\n",
    "    del dataframe\n",
    "    gc.collect()\n",
    "    \n",
    "#-------------------------------------------------------------------------------------\n",
    "def bar_figure(group1,group2,y_label):\n",
    "    figure,axes=plt.subplots()\n",
    "    \n",
    "    axes.boxplot([group1,group2],patch_artist=True)\n",
    "    plt.xticks(range(1,3),['Group 1','Group 2'])\n",
    "    #plt.yticks(fontsize = 20)\n",
    "    \n",
    "    min_end=min(np.min(group1),np.min(group2))\n",
    "    max_end=max(np.max(group1),np.max(group2))\n",
    "    end=(max_end-min_end)/10\n",
    "    plt.ylim(min_end-end,max_end+end)\n",
    "    plt.ylabel(y_label)\n",
    "    plt.show()\n",
    "\n",
    "#-------------------------------------------------------------------------------------\n",
    "def statistic_analysis(group1, group2):\n",
    "    var_same=stats.levene(group1, group2)\n",
    "    \n",
    "    print(\"\\n\")\n",
    "    print(\"-\"*80)\n",
    "    \n",
    "    print(\"var_same\",var_same)\n",
    "\n",
    "    if var_same[1]>0.05:\n",
    "        f_t, p_value_t = stats.ttest_ind(group1, group2, equal_var=True)\n",
    "        print(\"Test: f_t, p_value_t\", format(f_t,'.3E'), format(p_value_t,'.3E'))\n",
    "    else:\n",
    "        f_t, p_value_t = stats.ttest_ind(group1, group2, equal_var=False)\n",
    "        print(\"Test: f_t, p_value_t\",format(f_t,'.3E'), format(p_value_t,'.3E'))\n",
    "    \n",
    "    f, p_value = stats.f_oneway(group1, group2)\n",
    "    print(\"ANOVA: f, p_value:\",format(f,'.3E'), format(p_value_t,'.3E'))\n",
    "    print(\"-\"*80)\n",
    "    print(\"\\n\")"
   ]
  },
  {
   "cell_type": "code",
   "execution_count": 3,
   "id": "ee046a8a-1080-4a33-a91c-73829cfcb74d",
   "metadata": {
    "scrolled": true,
    "tags": []
   },
   "outputs": [
    {
     "name": "stdout",
     "output_type": "stream",
     "text": [
      "['NACCREAS', 'NACCREFR', 'BIRTHMO', 'BIRTHYR', 'SEX', 'HISPANIC', 'HISPOR', 'RACE', 'RACESEC', 'RACETER', 'PRIMLANG', 'EDUC', 'MARISTAT', 'NACCLIVS', 'INDEPEND', 'RESIDENC', 'HANDED', 'NACCFADM', 'NACCFFTD', 'MEMORY', 'ORIENT', 'JUDGMENT', 'COMMUN', 'HOMEHOBB', 'PERSCARE', 'CDRSUM', 'DECSUB', 'DECIN', 'COGMEM', 'COGJUDG', 'COGLANG', 'COGVIS', 'COGATTN', 'COGOTHR', 'NACCCOGF', 'COGMODE', 'DECAGE', 'BEAPATHY', 'BEDEP', 'BEVHALL', 'BEAHALL', 'BEDEL', 'BEDISIN', 'BEIRRIT', 'BEAGIT', 'BEPERCH', 'BEOTHR', 'NACCBEHF', 'BEMODE', 'MOGAIT', 'MOFALLS', 'MOTREM', 'MOSLOW', 'NACCMOTF', 'MOMODE', 'COURSE', 'FRSTCHG', 'NORMCOG', 'DEMENTED', 'NACCPPA', 'NACCBVFT', 'NACCLBDS', 'NACCTMCI', 'NACCMCIL', 'NACCMCIA', 'NACCMCIE', 'NACCMCIV', 'NACCMCII', 'IMPNOMCI', 'NACCALZD', 'NACCALZP', 'NACCLBDE', 'NACCLBDP', 'PARK', 'PSP', 'PSPIF', 'CORT', 'CORTIF', 'DOWNS', 'DOWNSIF', 'HUNT', 'HUNTIF', 'PRION', 'PRIONIF', 'BRNINJ', 'BRNINJIF', 'HYCEPH', 'HYCEPHIF', 'NEOP', 'NEOPIF', 'DEP', 'DEPIF', 'OTHPSY', 'OTHPSYIF', 'ALCDEM', 'ALCDEMIF', 'DYSILL', 'DYSILLIF', 'MEDS', 'MEDSIF', 'COGOTH', 'COGOTHIF', 'NACCETPR', 'NACCADMU', 'NACCFTDM', 'NACCAGEB', 'NACCNIHR', 'NACCNORM', 'NACCIDEM', 'NACCAGE', 'NACCUDSD', 'NACCAPOE', 'NACCNE4S', 'NPPMIH', 'NPFIX', 'NPWBRWT', 'NPWBRF', 'NACCBRNN', 'NPGRCCA', 'NPGRLA', 'NPGRHA', 'NPGRSNH', 'NPGRLCH', 'NACCAVAS', 'NPTAN', 'NPABAN', 'NPASAN', 'NPTDPAN', 'NPHISMB', 'NPHISG', 'NPHISSS', 'NPHIST', 'NPHISO', 'NPTHAL', 'NACCBRAA', 'NACCNEUR', 'NPADNC', 'NACCDIFF', 'NACCVASC', 'NACCAMY', 'NPINF', 'NPINF1A', 'NPINF1B', 'NPINF1D', 'NPINF1F', 'NPINF2A', 'NPINF2B', 'NPINF2D', 'NPINF2F', 'NPINF3A', 'NPINF3B', 'NPINF3D', 'NPINF3F', 'NPINF4A', 'NPINF4B', 'NPINF4D', 'NPINF4F', 'NACCINF', 'NPHEMO', 'NPHEMO1', 'NPHEMO2', 'NPHEMO3', 'NPOLD', 'NPOLD1', 'NPOLD2', 'NPOLD3', 'NPOLD4', 'NACCMICR', 'NPOLDD', 'NPOLDD1', 'NPOLDD2', 'NPOLDD3', 'NPOLDD4', 'NACCHEM', 'NACCARTE', 'NPWMR', 'NPPATH', 'NACCNEC', 'NPPATH2', 'NPPATH3', 'NPPATH4', 'NPPATH5', 'NPPATH6', 'NPPATH7', 'NPPATH8', 'NPPATH9', 'NPPATH10', 'NPPATH11', 'NACCLEWY', 'NPLBOD', 'NPNLOSS', 'NPHIPSCL', 'NPFTDTAU', 'NACCPICK', 'NPFTDT2', 'NACCCBD', 'NACCPROG', 'NPFTDT5', 'NPFTDT6', 'NPFTDT7', 'NPFTDT8', 'NPFTDT9', 'NPFTDT10', 'NPFTDTDP', 'NPALSMND', 'NPOFTD', 'NPOFTD1', 'NPOFTD2', 'NPOFTD3', 'NPOFTD4', 'NPOFTD5', 'NPTDPA', 'NPTDPB', 'NPTDPC', 'NPTDPD', 'NPTDPE', 'NPPDXA', 'NPPDXB', 'NACCPRIO', 'NPPDXD', 'NPPDXE', 'NPPDXF', 'NPPDXG', 'NPPDXH', 'NPPDXI', 'NPPDXJ', 'NPPDXK', 'NPPDXL', 'NPPDXM', 'NPPDXN', 'NACCDOWN', 'NPPDXP', 'NPPDXQ', 'NACCOTHP', 'NACCBNKF', 'NPBNKB', 'NACCFORM', 'NACCPARA', 'NACCCSFP', 'NPBNKF', 'NPFAUT', 'NACCDAGE', 'NACCINT', 'SurvivalTime', 'Event']\n",
      "[0, 1, 2, 3, 4, 5, 6, 7, 8, 9, 10, 11, 12, 13, 14, 15, 16, 17, 18, 19, 20, 21, 22, 23, 24, 25, 26, 27, 28, 29, 30, 31, 32, 33, 34, 35, 36, 37, 38, 39, 40, 41, 42, 43, 44, 45, 46, 47, 48, 49, 50, 51, 52, 53, 54, 55, 56, 57, 58, 59, 60, 61, 62, 63, 64, 65, 66, 67, 68, 69, 70, 71, 72, 73, 74, 75, 76, 77, 78, 79, 80, 81, 82, 83, 84, 85, 86, 87, 88, 89, 90, 91, 92, 93, 94, 95, 96, 97, 98, 99]\n"
     ]
    }
   ],
   "source": [
    "data,data_arr,column_names=csv_read('./data/survival_data_filtered_3.csv')\n",
    "column_names_arr=np.array(column_names)\n",
    "\n",
    "FS_data,FS_data_arr,_=csv_read('./feature_selection.csv',header_is=None)"
   ]
  },
  {
   "cell_type": "code",
   "execution_count": 4,
   "id": "8e9fc7fe-e17e-42e1-abba-2a16112e6948",
   "metadata": {},
   "outputs": [],
   "source": [
    "used_number_features=10\n",
    "FS_data_used=FS_data_arr[-1,0:used_number_features]"
   ]
  },
  {
   "cell_type": "code",
   "execution_count": 5,
   "id": "0a6cd145-dad5-4996-85d8-27af00038f5d",
   "metadata": {},
   "outputs": [
    {
     "name": "stdout",
     "output_type": "stream",
     "text": [
      "Feature:  NACCAGEB\n",
      "\n",
      "\n",
      "--------------------------------------------------------------------------------\n",
      "var_same LeveneResult(statistic=5.966684695280776, pvalue=0.015043221823329731)\n",
      "Test: f_t, p_value_t -1.985E+00 4.794E-02\n",
      "ANOVA: f, p_value: 3.756E+00 4.794E-02\n",
      "--------------------------------------------------------------------------------\n",
      "\n",
      "\n",
      "Group1:  [67 73 60 75 76 71 64 29 72 72 60 89 51 75 70 66 59 85 63 91 72 71 66 66\n",
      " 70 59 71 71 47 73 67 64 72 69 85 73 59 63 63 73 54 72 58 56 77 68 54 80\n",
      " 57 65 66 72 66 75 76 78 71 66 77 63 60 62 81 63 75 65 67 68 64 68 66 78\n",
      " 62 56 77 58 70 92 60 75 58 64 76 59 82 68 58 68 63 78 56 45 57 63 68 62\n",
      " 65 55 80 85 54 75 49 56 53 69 58 69 70 64 83 64 80 66 68 63 76 57 68 68\n",
      " 62 68 71 79 65 55 78 54 63 84 62 77 80 64 54 90 79 76 61 77 62 85 61 70\n",
      " 74 76 81 62 76 80 68 72 70 85 54 65 73 52 60 80 57 79 67]\n",
      "\n",
      "\n",
      "Group2:  [79 82 60 58 76 59 49 77 71 86 67 74 62 61 69 50 80 61 37 83 61 74 68 83\n",
      " 61 65 101 84 53 76 57 78 67 65 75 57 61 88 65 75 86 58 57 82 70 59 70 74\n",
      " 56 71 106 82 76 54 70 59 88 69 86 95 59 71 67 47 73 74 60 74 93 67 76 75\n",
      " 79 53 52 80 59 79 79 77 57 69 53 80 65 48 71 28 73 77 66 61 79 67 76 64\n",
      " 72 63 69 73 65 87 61 86 68 73 60 70 86 67 78 28 87 56 66 55 79 69 90 75\n",
      " 83 79 55 68 58 75 66 78 59 74 76 60 68 80 70 57 64 82 60 67 66 55 65 74\n",
      " 78 58 76 76 79 73 73 76 52 78 84 54 66 68 77 62 71 65 74 65 63 61 68 69\n",
      " 79 85 81 57 77 95 84 75 77 73 85 56 61 61 53 60 85 67 83 80 78 60 82 60\n",
      " 69 76 80 84 82 86 76 75 75 73 78 91 52 74 74 49 85 73 53]\n",
      "\n",
      "\n",
      "Mean:  67.90184049079754 70.13270142180095\n"
     ]
    },
    {
     "data": {
      "image/png": "[encoded data removed]",
      "text/plain": [
       "<Figure size 432x288 with 1 Axes>"
      ]
     },
     "metadata": {
      "needs_background": "light"
     },
     "output_type": "display_data"
    },
    {
     "name": "stdout",
     "output_type": "stream",
     "text": [
      "************************************************************************************************************************\n",
      "\n",
      "\n",
      "\n",
      "\n",
      "Feature:  NACCPPA\n",
      "\n",
      "\n",
      "--------------------------------------------------------------------------------\n",
      "var_same LeveneResult(statistic=1.1076540318777732, pvalue=0.2932756243569891)\n",
      "Test: f_t, p_value_t -1.052E+00 2.933E-01\n",
      "ANOVA: f, p_value: 1.108E+00 2.933E-01\n",
      "--------------------------------------------------------------------------------\n",
      "\n",
      "\n",
      "Group1:  [0 0 0 0 0 0 0 0 0 0 0 0 0 0 0 0 0 0 0 0 0 0 0 1 0 0 0 0 0 0 0 0 0 0 0 0 0\n",
      " 0 0 0 0 0 0 0 0 0 0 0 1 0 0 0 0 0 1 1 0 0 0 1 0 0 0 0 0 0 0 0 0 0 0 0 0 0\n",
      " 0 1 0 0 1 0 0 1 0 0 0 0 0 1 1 0 0 0 0 0 0 0 0 0 0 0 0 0 0 1 0 0 0 0 0 0 0\n",
      " 0 0 0 0 1 0 0 1 0 0 1 0 0 0 0 1 0 0 0 0 0 0 0 0 0 0 0 0 0 0 0 0 0 0 1 0 0\n",
      " 0 0 0 0 0 0 0 0 0 0 0 0 0 0 0]\n",
      "\n",
      "\n",
      "Group2:  [0 0 0 0 0 0 0 0 0 0 0 0 0 0 0 0 0 0 0 0 0 0 0 0 0 0 0 0 1 0 0 0 0 0 0 0 0\n",
      " 0 0 0 0 0 0 0 0 0 0 0 0 0 0 0 0 0 0 1 0 0 0 0 0 0 0 0 7 0 0 0 0 0 0 0 0 0\n",
      " 1 0 0 0 0 1 0 0 0 0 0 1 1 0 0 0 0 0 0 0 0 0 0 1 0 0 0 0 0 0 0 0 0 1 0 1 1\n",
      " 0 0 0 0 0 0 0 0 0 0 0 0 0 0 1 0 0 0 0 0 0 1 0 0 0 0 0 1 0 0 0 0 0 0 0 0 0\n",
      " 0 0 1 0 0 0 0 0 0 0 0 0 0 1 0 0 0 0 0 0 0 0 0 1 0 0 0 8 0 0 0 0 0 1 0 0 0\n",
      " 0 0 0 0 0 0 0 0 0 0 0 0 0 0 0 0 1 0 0 1 0 1 0 0 0 0]\n",
      "\n",
      "\n",
      "Mean:  0.09815950920245399 0.16587677725118483\n"
     ]
    },
    {
     "data": {
      "image/png": "[encoded data removed]",
      "text/plain": [
       "<Figure size 432x288 with 1 Axes>"
      ]
     },
     "metadata": {
      "needs_background": "light"
     },
     "output_type": "display_data"
    },
    {
     "name": "stdout",
     "output_type": "stream",
     "text": [
      "************************************************************************************************************************\n",
      "\n",
      "\n",
      "\n",
      "\n",
      "Feature:  NACCIDEM\n",
      "\n",
      "\n",
      "--------------------------------------------------------------------------------\n",
      "var_same LeveneResult(statistic=5.851836614640254, pvalue=0.016039870256227766)\n",
      "Test: f_t, p_value_t 2.482E+00 1.350E-02\n",
      "ANOVA: f, p_value: 5.852E+00 1.350E-02\n",
      "--------------------------------------------------------------------------------\n",
      "\n",
      "\n",
      "Group1:  [8 8 8 8 1 8 8 1 8 8 8 8 8 8 8 8 8 8 8 1 1 1 8 8 8 8 8 8 8 8 8 8 8 8 8 1 8\n",
      " 8 8 8 8 1 8 8 8 1 8 8 8 8 1 8 8 8 8 1 8 8 8 8 8 8 8 8 8 8 8 1 8 8 8 1 8 8\n",
      " 8 8 8 8 8 8 8 8 8 8 8 1 8 8 8 8 8 8 8 1 8 8 8 8 8 8 8 8 8 8 8 1 8 8 1 8 8\n",
      " 8 8 8 1 8 1 8 8 8 8 8 8 8 8 8 8 8 8 8 8 8 8 8 8 0 8 1 8 8 8 8 8 8 8 8 8 8\n",
      " 1 1 8 8 8 8 8 8 8 8 8 1 8 8 8]\n",
      "\n",
      "\n",
      "Group2:  [8 1 8 8 8 8 8 8 8 1 8 1 8 8 8 8 8 1 8 8 1 8 8 1 8 8 8 8 8 8 8 8 8 1 8 8 8\n",
      " 1 8 1 1 8 8 8 1 8 8 1 8 8 8 8 8 8 1 8 8 8 8 8 8 8 8 8 0 8 8 8 8 8 8 8 8 8\n",
      " 8 1 1 8 8 8 8 8 8 1 8 8 8 8 8 1 8 8 8 8 8 8 1 8 1 8 8 8 8 8 1 1 8 1 8 1 8\n",
      " 1 8 8 1 8 8 8 1 8 8 8 8 1 8 1 8 8 8 8 8 8 8 1 1 1 8 8 8 8 1 8 8 1 1 8 1 8\n",
      " 8 1 8 1 1 1 8 8 8 8 8 8 8 8 8 8 8 8 8 1 1 8 8 8 8 8 8 1 8 8 8 8 8 8 8 8 8\n",
      " 8 1 8 8 8 8 8 8 1 1 1 1 8 8 8 8 8 8 1 8 8 8 8 1 8 1]\n",
      "\n",
      "\n",
      "Mean:  7.006134969325154 6.303317535545023\n"
     ]
    },
    {
     "data": {
      "image/png": "[encoded data removed]",
      "text/plain": [
       "<Figure size 432x288 with 1 Axes>"
      ]
     },
     "metadata": {
      "needs_background": "light"
     },
     "output_type": "display_data"
    },
    {
     "name": "stdout",
     "output_type": "stream",
     "text": [
      "************************************************************************************************************************\n",
      "\n",
      "\n",
      "\n",
      "\n",
      "Feature:  NACCAGE\n",
      "\n",
      "\n",
      "--------------------------------------------------------------------------------\n",
      "var_same LeveneResult(statistic=7.313593509160766, pvalue=0.007157883390518168)\n",
      "Test: f_t, p_value_t -1.325E+00 1.860E-01\n",
      "ANOVA: f, p_value: 1.679E+00 1.860E-01\n",
      "--------------------------------------------------------------------------------\n",
      "\n",
      "\n",
      "Group1:  [72 79 62 76 81 75 71 37 74 78 62 94 53 77 71 69 60 89 67 98 86 82 68 67\n",
      " 76 64 80 77 52 74 70 71 73 73 90 83 63 64 72 75 56 77 64 58 82 71 56 87\n",
      " 61 69 72 74 78 82 78 86 78 68 81 65 62 68 86 66 84 67 70 73 67 71 72 90\n",
      " 70 62 83 59 77 97 69 77 60 75 79 64 86 72 60 73 67 87 61 47 62 70 73 62\n",
      " 68 58 84 93 59 77 54 60 58 75 60 73 76 72 92 68 83 67 80 68 87 60 70 70\n",
      " 69 72 72 84 67 56 84 61 67 87 64 78 84 65 56 97 82 80 62 82 64 94 66 73\n",
      " 75 77 84 64 79 90 74 75 73 87 57 69 75 56 64 84 66 83 70]\n",
      "\n",
      "\n",
      "Group2:  [86 92 60 59 81 60 50 82 71 93 67 81 63 61 69 51 83 65 37 89 73 76 70 88\n",
      " 63 70 102 84 53 81 59 81 69 67 83 59 67 93 72 83 90 67 59 86 80 62 77 80\n",
      " 60 71 106 86 78 57 78 61 93 75 88 96 66 76 70 51 86 77 62 78 95 69 83 80\n",
      " 80 53 57 88 64 83 80 79 60 71 54 84 69 49 71 35 79 87 68 61 79 68 84 64\n",
      " 78 68 79 76 65 91 65 89 75 85 65 74 87 69 81 38 89 57 74 56 82 70 100 86\n",
      " 86 84 61 80 60 80 67 81 61 75 77 61 69 90 80 62 64 89 62 71 75 56 69 77\n",
      " 89 58 82 80 81 83 75 85 56 86 84 54 70 69 81 62 76 68 74 66 65 64 68 78\n",
      " 88 86 84 59 78 98 85 81 77 74 89 59 68 65 55 62 89 68 89 81 79 64 88 64\n",
      " 73 87 89 90 92 89 76 77 75 78 79 100 55 75 76 51 92 74 56]\n",
      "\n",
      "\n",
      "Mean:  72.3680981595092 73.96682464454976\n"
     ]
    },
    {
     "data": {
      "image/png": "[encoded data removed]",
      "text/plain": [
       "<Figure size 432x288 with 1 Axes>"
      ]
     },
     "metadata": {
      "needs_background": "light"
     },
     "output_type": "display_data"
    },
    {
     "name": "stdout",
     "output_type": "stream",
     "text": [
      "************************************************************************************************************************\n",
      "\n",
      "\n",
      "\n",
      "\n",
      "Feature:  HANDED\n",
      "\n",
      "\n",
      "--------------------------------------------------------------------------------\n",
      "var_same LeveneResult(statistic=0.20988137307377494, pvalue=0.6471278943737323)\n",
      "Test: f_t, p_value_t -1.393E+00 1.644E-01\n",
      "ANOVA: f, p_value: 1.941E+00 1.644E-01\n",
      "--------------------------------------------------------------------------------\n",
      "\n",
      "\n",
      "Group1:  [2 2 2 2 2 2 2 2 2 2 2 2 2 2 2 2 2 2 1 1 3 2 2 2 2 2 2 2 2 2 2 2 2 2 2 2 2\n",
      " 2 2 2 2 2 2 2 1 2 2 2 2 2 2 1 2 2 2 2 2 2 2 2 2 1 2 2 2 2 2 2 2 2 2 2 2 2\n",
      " 2 1 2 2 2 2 2 2 2 2 2 2 1 2 2 2 2 2 2 2 2 2 2 2 2 2 2 2 2 2 2 2 2 2 2 2 2\n",
      " 2 2 2 2 1 2 2 1 2 1 2 2 2 2 2 2 2 1 2 2 2 2 2 2 2 2 2 2 3 1 2 2 2 1 2 2 2\n",
      " 2 2 2 2 2 2 2 2 2 2 2 2 2 2 2]\n",
      "\n",
      "\n",
      "Group2:  [1 3 1 2 2 2 2 2 2 2 2 2 2 2 2 2 2 2 2 2 2 2 1 2 2 2 2 2 2 2 1 2 2 2 3 2 2\n",
      " 2 2 2 1 2 3 2 2 2 2 2 1 2 2 2 2 2 2 2 2 2 2 2 2 2 2 2 2 2 2 2 2 2 2 2 2 2\n",
      " 2 2 2 2 2 2 2 2 2 2 2 2 2 2 2 2 2 2 2 2 2 2 2 2 2 2 2 2 2 2 2 2 2 2 2 3 2\n",
      " 2 2 2 2 2 2 1 2 2 2 2 2 2 2 2 2 2 2 2 1 2 2 2 2 2 2 2 2 2 2 2 2 2 1 2 2 2\n",
      " 2 2 2 2 1 2 2 2 2 1 2 2 2 2 2 2 2 2 2 2 2 2 2 2 2 3 2 2 2 9 2 2 2 2 2 2 2\n",
      " 2 2 2 2 2 2 2 2 2 2 2 2 2 2 2 2 2 2 2 2 2 2 2 2 1 2]\n",
      "\n",
      "\n",
      "Mean:  1.9325153374233128 2.0\n"
     ]
    },
    {
     "data": {
      "image/png": "[encoded data removed]",
      "text/plain": [
       "<Figure size 432x288 with 1 Axes>"
      ]
     },
     "metadata": {
      "needs_background": "light"
     },
     "output_type": "display_data"
    },
    {
     "name": "stdout",
     "output_type": "stream",
     "text": [
      "************************************************************************************************************************\n",
      "\n",
      "\n",
      "\n",
      "\n",
      "Feature:  JUDGMENT\n",
      "\n",
      "\n",
      "--------------------------------------------------------------------------------\n",
      "var_same LeveneResult(statistic=52.81072599821235, pvalue=2.177278697679409e-12)\n",
      "Test: f_t, p_value_t 2.007E+01 3.610E-59\n",
      "ANOVA: f, p_value: 3.475E+02 3.610E-59\n",
      "--------------------------------------------------------------------------------\n",
      "\n",
      "\n",
      "Group1:  [3.0 3.0 3.0 2.0 3.0 3.0 3.0 3.0 2.0 3.0 3.0 3.0 3.0 3.0 3.0 3.0 3.0 1.0\n",
      " 3.0 3.0 3.0 3.0 3.0 3.0 3.0 3.0 3.0 3.0 3.0 3.0 3.0 3.0 3.0 2.0 3.0 3.0\n",
      " 3.0 3.0 3.0 2.0 3.0 3.0 2.0 3.0 3.0 3.0 3.0 3.0 3.0 3.0 3.0 3.0 3.0 3.0\n",
      " 3.0 3.0 2.0 3.0 3.0 3.0 3.0 3.0 3.0 3.0 3.0 3.0 3.0 3.0 3.0 3.0 2.0 3.0\n",
      " 3.0 3.0 3.0 3.0 3.0 3.0 3.0 3.0 3.0 3.0 3.0 3.0 3.0 3.0 3.0 3.0 3.0 3.0\n",
      " 3.0 3.0 3.0 2.0 3.0 3.0 3.0 3.0 3.0 3.0 3.0 3.0 3.0 3.0 3.0 3.0 2.0 3.0\n",
      " 3.0 3.0 3.0 3.0 3.0 3.0 3.0 3.0 3.0 3.0 3.0 3.0 3.0 3.0 3.0 3.0 3.0 3.0\n",
      " 3.0 3.0 3.0 3.0 3.0 3.0 3.0 3.0 3.0 3.0 3.0 3.0 3.0 3.0 3.0 3.0 3.0 2.0\n",
      " 3.0 3.0 3.0 3.0 2.0 3.0 3.0 3.0 3.0 3.0 3.0 3.0 3.0 3.0 3.0 2.0 1.0 3.0\n",
      " 3.0]\n",
      "\n",
      "\n",
      "Group2:  [3.0 3.0 2.0 2.0 1.0 2.0 1.0 1.0 2.0 2.0 3.0 2.0 1.0 1.0 2.0 2.0 1.0 2.0\n",
      " 3.0 2.0 3.0 2.0 2.0 1.0 2.0 1.0 3.0 2.0 2.0 2.0 2.0 1.0 3.0 2.0 2.0 3.0\n",
      " 3.0 2.0 3.0 2.0 2.0 1.0 2.0 1.0 1.0 2.0 2.0 2.0 2.0 2.0 2.0 1.0 2.0 1.0\n",
      " 2.0 2.0 1.0 1.0 1.0 2.0 2.0 2.0 1.0 2.0 2.0 2.0 1.0 2.0 2.0 2.0 2.0 1.0\n",
      " 1.0 2.0 2.0 1.0 1.0 1.0 2.0 2.0 2.0 2.0 1.0 2.0 2.0 2.0 2.0 2.0 2.0 1.0\n",
      " 2.0 1.0 2.0 2.0 1.0 2.0 2.0 3.0 2.0 3.0 2.0 2.0 1.0 2.0 2.0 1.0 1.0 2.0\n",
      " 2.0 2.0 2.0 2.0 2.0 1.0 1.0 3.0 2.0 1.0 1.0 1.0 2.0 2.0 3.0 1.0 2.0 2.0\n",
      " 2.0 3.0 2.0 2.0 1.0 3.0 3.0 1.0 2.0 3.0 1.0 1.0 2.0 2.0 3.0 1.0 2.0 2.0\n",
      " 2.0 3.0 3.0 2.0 3.0 3.0 2.0 2.0 2.0 2.0 2.0 1.0 2.0 1.0 2.0 2.0 1.0 3.0\n",
      " 2.0 1.0 2.0 2.0 1.0 3.0 1.0 3.0 3.0 2.0 2.0 2.0 1.0 2.0 1.0 2.0 1.0 2.0\n",
      " 2.0 3.0 3.0 2.0 1.0 2.0 0.5 2.0 2.0 2.0 2.0 1.0 2.0 2.0 1.0 2.0 2.0 1.0\n",
      " 2.0 1.0 2.0 2.0 3.0 2.0 2.0 1.0 3.0 2.0 1.0 2.0 2.0]\n",
      "\n",
      "\n",
      "Mean:  2.901840490797546 1.8649289099526067\n"
     ]
    },
    {
     "data": {
      "image/png": "[encoded data removed]",
      "text/plain": [
       "<Figure size 432x288 with 1 Axes>"
      ]
     },
     "metadata": {
      "needs_background": "light"
     },
     "output_type": "display_data"
    },
    {
     "name": "stdout",
     "output_type": "stream",
     "text": [
      "************************************************************************************************************************\n",
      "\n",
      "\n",
      "\n",
      "\n",
      "Feature:  NACCMCII\n",
      "\n",
      "\n",
      "--------------------------------------------------------------------------------\n",
      "var_same LeveneResult(statistic=3.839183103390661, pvalue=0.050814361288327885)\n",
      "Test: f_t, p_value_t -1.959E+00 5.081E-02\n",
      "ANOVA: f, p_value: 3.839E+00 5.081E-02\n",
      "--------------------------------------------------------------------------------\n",
      "\n",
      "\n",
      "Group1:  [0 0 0 0 1 0 1 1 0 0 0 0 0 0 0 0 0 0 0 1 1 8 0 0 0 0 0 0 0 0 0 0 0 0 0 1 0\n",
      " 0 0 0 0 1 0 0 0 0 0 0 0 0 0 0 0 0 0 1 0 0 0 0 0 0 0 0 0 0 0 1 0 0 0 1 0 0\n",
      " 0 0 0 0 0 0 0 0 0 0 0 0 0 0 0 0 0 0 0 1 0 0 0 0 0 0 0 0 0 0 0 1 0 0 0 0 0\n",
      " 0 0 0 1 0 8 0 0 0 0 0 0 0 0 0 0 0 0 0 0 0 0 0 0 0 0 0 0 0 0 0 0 0 0 0 0 0\n",
      " 1 1 0 0 0 0 0 0 0 0 0 0 0 0 0]\n",
      "\n",
      "\n",
      "Group2:  [0 8 0 0 0 0 0 0 0 0 0 8 0 0 0 0 0 1 0 0 1 0 0 0 0 0 0 0 0 0 0 0 0 0 0 0 0\n",
      " 1 0 1 8 0 0 0 1 0 0 1 0 0 0 0 0 0 0 0 0 0 0 0 0 0 0 0 0 0 0 0 0 0 0 0 0 0\n",
      " 0 1 0 0 0 0 0 0 0 0 0 0 0 1 0 8 0 0 0 0 0 0 0 0 1 0 0 0 0 0 8 1 0 1 0 1 0\n",
      " 1 0 0 8 0 0 0 1 0 0 0 0 1 0 1 0 0 0 0 0 0 0 1 1 0 0 0 0 0 0 0 0 0 1 0 0 0\n",
      " 0 0 0 1 0 1 0 0 0 0 0 0 0 0 0 0 0 0 0 0 1 0 0 0 0 0 0 1 0 0 0 0 0 0 0 0 0\n",
      " 0 8 0 0 0 0 0 0 1 1 8 8 0 0 0 0 0 0 1 0 0 0 0 1 0 0]\n",
      "\n",
      "\n",
      "Mean:  0.1901840490797546 0.46919431279620855\n"
     ]
    },
    {
     "data": {
      "image/png": "[encoded data removed]",
      "text/plain": [
       "<Figure size 432x288 with 1 Axes>"
      ]
     },
     "metadata": {
      "needs_background": "light"
     },
     "output_type": "display_data"
    },
    {
     "name": "stdout",
     "output_type": "stream",
     "text": [
      "************************************************************************************************************************\n",
      "\n",
      "\n",
      "\n",
      "\n",
      "Feature:  NACCOTHP\n",
      "\n",
      "\n",
      "--------------------------------------------------------------------------------\n",
      "var_same LeveneResult(statistic=7.843370336555438, pvalue=0.005367029464365173)\n",
      "Test: f_t, p_value_t -2.908E+00 3.851E-03\n",
      "ANOVA: f, p_value: 7.843E+00 3.851E-03\n",
      "--------------------------------------------------------------------------------\n",
      "\n",
      "\n",
      "Group1:  [0 0 0 0 0 0 0 1 0 0 0 0 0 0 0 0 0 0 0 0 0 0 0 0 0 1 0 0 0 0 0 0 0 0 0 0 1\n",
      " 0 0 1 0 0 0 1 0 1 0 0 0 0 0 0 1 0 0 0 1 0 0 1 0 0 0 0 0 0 0 0 0 0 0 1 0 0\n",
      " 0 0 0 0 0 0 0 0 0 0 0 0 0 0 0 0 0 0 1 0 0 0 0 0 0 0 0 0 0 0 0 0 0 0 0 0 0\n",
      " 0 0 0 0 0 0 1 0 0 0 0 0 0 0 0 0 0 0 0 0 0 0 1 0 0 0 0 0 0 0 0 1 0 0 0 0 0\n",
      " 0 0 0 1 0 0 0 0 0 0 0 0 1 0 0]\n",
      "\n",
      "\n",
      "Group2:  [0 1 0 0 0 0 0 0 1 1 0 0 0 0 0 0 0 0 0 0 0 0 0 0 0 0 0 0 0 0 1 0 0 0 0 0 0\n",
      " 0 0 1 0 0 0 1 0 0 0 0 0 0 0 1 1 1 0 1 0 1 0 0 1 0 0 0 0 0 0 0 0 0 0 0 0 0\n",
      " 1 0 0 0 0 0 0 1 1 0 0 0 0 1 0 1 0 0 0 0 0 0 1 0 0 0 0 0 1 1 0 1 0 0 0 0 0\n",
      " 1 0 0 1 0 0 0 0 0 1 0 0 0 0 0 1 0 0 0 1 1 0 0 0 0 0 0 1 0 1 0 0 0 1 0 0 0\n",
      " 0 0 0 0 0 1 0 0 0 1 0 0 0 0 1 0 0 0 0 0 1 0 0 0 0 1 1 0 0 0 0 0 0 0 0 0 0\n",
      " 1 1 0 0 0 1 1 0 1 0 0 0 0 0 1 0 0 0 0 1 0 0 0 0 0 0]\n",
      "\n",
      "\n",
      "Mean:  0.09815950920245399 0.2037914691943128\n"
     ]
    },
    {
     "data": {
      "image/png": "[encoded data removed]",
      "text/plain": [
       "<Figure size 432x288 with 1 Axes>"
      ]
     },
     "metadata": {
      "needs_background": "light"
     },
     "output_type": "display_data"
    },
    {
     "name": "stdout",
     "output_type": "stream",
     "text": [
      "************************************************************************************************************************\n",
      "\n",
      "\n",
      "\n",
      "\n",
      "Feature:  BEAPATHY\n",
      "\n",
      "\n",
      "--------------------------------------------------------------------------------\n",
      "var_same LeveneResult(statistic=2.0198331996828913, pvalue=0.15609392404400094)\n",
      "Test: f_t, p_value_t 2.852E+00 4.582E-03\n",
      "ANOVA: f, p_value: 8.136E+00 4.582E-03\n",
      "--------------------------------------------------------------------------------\n",
      "\n",
      "\n",
      "Group1:  [0 1 1 1 1 1 1 1 0 1 0 1 1 1 1 1 1 1 1 1 0 1 0 1 1 1 1 1 1 1 0 1 1 1 0 0 1\n",
      " 1 1 1 0 0 1 1 1 1 1 1 1 0 1 1 0 0 1 0 1 1 0 0 1 1 0 0 1 1 0 0 1 1 1 1 1 0\n",
      " 0 1 0 1 1 1 1 1 1 0 0 1 1 1 0 1 0 1 1 1 0 1 1 1 1 1 0 1 1 0 0 1 1 1 0 1 0\n",
      " 1 0 1 1 0 0 1 1 1 0 1 1 0 1 0 1 1 1 0 1 1 0 1 1 0 1 1 1 1 1 0 1 1 1 1 1 1\n",
      " 1 9 1 1 0 1 1 1 1 1 0 1 1 1 1]\n",
      "\n",
      "\n",
      "Group2:  [0 1 0 1 1 1 1 1 1 0 1 1 0 0 1 1 1 0 0 0 0 1 1 1 1 1 1 0 0 1 0 1 0 1 0 0 0\n",
      " 0 1 0 0 0 1 0 1 1 1 0 0 1 0 1 1 0 0 1 1 1 1 1 1 0 1 1 0 1 1 1 0 0 1 1 1 0\n",
      " 1 0 0 0 1 1 1 1 0 0 0 0 0 1 1 0 0 0 1 1 0 1 0 0 0 1 0 1 0 0 1 0 0 0 1 0 0\n",
      " 1 1 1 0 0 0 1 0 0 0 1 1 1 0 1 1 1 0 0 1 1 1 1 0 1 1 1 0 1 1 0 1 1 1 0 0 1\n",
      " 0 1 1 0 0 0 0 1 1 1 1 1 1 0 1 1 0 0 0 0 1 1 1 1 1 0 1 1 1 1 1 1 1 1 1 0 0\n",
      " 1 1 1 1 1 1 1 0 0 0 1 0 1 1 1 1 1 0 0 1 1 1 0 1 1 1]\n",
      "\n",
      "\n",
      "Mean:  0.7730061349693251 0.5829383886255924\n"
     ]
    },
    {
     "data": {
      "image/png": "[encoded data removed]",
      "text/plain": [
       "<Figure size 432x288 with 1 Axes>"
      ]
     },
     "metadata": {
      "needs_background": "light"
     },
     "output_type": "display_data"
    },
    {
     "name": "stdout",
     "output_type": "stream",
     "text": [
      "************************************************************************************************************************\n",
      "\n",
      "\n",
      "\n",
      "\n",
      "Feature:  ORIENT\n",
      "\n",
      "\n",
      "--------------------------------------------------------------------------------\n",
      "var_same LeveneResult(statistic=14.163803203457817, pvalue=0.0001946327726104688)\n",
      "Test: f_t, p_value_t 1.867E+01 2.278E-55\n",
      "ANOVA: f, p_value: 3.271E+02 2.278E-55\n",
      "--------------------------------------------------------------------------------\n",
      "\n",
      "\n",
      "Group1:  [3.0 2.0 3.0 3.0 3.0 2.0 3.0 2.0 2.0 3.0 1.0 3.0 3.0 3.0 3.0 3.0 3.0 2.0\n",
      " 3.0 3.0 3.0 3.0 3.0 3.0 3.0 3.0 3.0 3.0 3.0 3.0 3.0 3.0 3.0 2.0 3.0 3.0\n",
      " 3.0 3.0 3.0 2.0 3.0 3.0 2.0 3.0 3.0 1.0 3.0 3.0 3.0 3.0 3.0 3.0 3.0 3.0\n",
      " 3.0 3.0 3.0 3.0 3.0 3.0 3.0 2.0 3.0 3.0 3.0 3.0 3.0 3.0 2.0 2.0 2.0 2.0\n",
      " 3.0 3.0 2.0 3.0 3.0 3.0 3.0 3.0 2.0 3.0 1.0 3.0 2.0 3.0 3.0 3.0 3.0 3.0\n",
      " 3.0 3.0 3.0 3.0 3.0 3.0 3.0 3.0 3.0 2.0 3.0 3.0 3.0 3.0 1.0 3.0 3.0 3.0\n",
      " 3.0 2.0 3.0 3.0 3.0 3.0 3.0 3.0 3.0 2.0 3.0 3.0 3.0 3.0 3.0 3.0 3.0 3.0\n",
      " 3.0 2.0 3.0 3.0 3.0 3.0 2.0 2.0 3.0 2.0 3.0 3.0 3.0 2.0 3.0 3.0 3.0 2.0\n",
      " 3.0 3.0 3.0 3.0 1.0 3.0 3.0 3.0 3.0 3.0 3.0 3.0 3.0 3.0 3.0 3.0 2.0 3.0\n",
      " 3.0]\n",
      "\n",
      "\n",
      "Group2:  [2.0 2.0 1.0 2.0 1.0 1.0 2.0 1.0 3.0 1.0 2.0 1.0 1.0 1.0 2.0 2.0 2.0 1.0\n",
      " 1.0 2.0 3.0 2.0 1.0 2.0 2.0 2.0 2.0 2.0 2.0 1.0 1.0 2.0 2.0 2.0 2.0 2.0\n",
      " 1.0 1.0 1.0 2.0 2.0 1.0 2.0 2.0 2.0 2.0 2.0 2.0 2.0 1.0 2.0 2.0 0.5 2.0\n",
      " 2.0 2.0 2.0 2.0 2.0 2.0 1.0 2.0 2.0 0.0 1.0 2.0 0.5 1.0 2.0 2.0 1.0 2.0\n",
      " 2.0 2.0 1.0 1.0 2.0 2.0 2.0 2.0 2.0 0.5 2.0 2.0 3.0 2.0 1.0 1.0 2.0 0.5\n",
      " 2.0 1.0 2.0 1.0 1.0 2.0 2.0 1.0 0.5 2.0 2.0 2.0 2.0 1.0 1.0 2.0 2.0 1.0\n",
      " 2.0 1.0 1.0 2.0 2.0 1.0 2.0 2.0 3.0 2.0 1.0 2.0 2.0 3.0 2.0 2.0 2.0 2.0\n",
      " 2.0 3.0 1.0 2.0 1.0 3.0 2.0 0.5 1.0 2.0 2.0 2.0 2.0 2.0 2.0 2.0 1.0 2.0\n",
      " 1.0 2.0 2.0 2.0 3.0 3.0 0.5 2.0 2.0 2.0 2.0 1.0 2.0 0.5 2.0 2.0 1.0 2.0\n",
      " 0.5 3.0 2.0 1.0 1.0 3.0 2.0 2.0 2.0 2.0 3.0 2.0 2.0 1.0 2.0 2.0 2.0 2.0\n",
      " 2.0 1.0 3.0 1.0 2.0 1.0 1.0 2.0 2.0 1.0 2.0 2.0 2.0 2.0 0.5 1.0 0.5 1.0\n",
      " 2.0 2.0 2.0 2.0 3.0 2.0 2.0 2.0 1.0 2.0 2.0 1.0 1.0]\n",
      "\n",
      "\n",
      "Mean:  2.7791411042944785 1.7085308056872037\n"
     ]
    },
    {
     "data": {
      "image/png": "[encoded data removed]",
      "text/plain": [
       "<Figure size 432x288 with 1 Axes>"
      ]
     },
     "metadata": {
      "needs_background": "light"
     },
     "output_type": "display_data"
    },
    {
     "name": "stdout",
     "output_type": "stream",
     "text": [
      "************************************************************************************************************************\n",
      "\n",
      "\n",
      "\n",
      "\n"
     ]
    }
   ],
   "source": [
    "group1_index=np.where(data_arr[:,-1]==True)[0]\n",
    "group2_index=np.where(data_arr[:,-1]==False)[0]\n",
    "\n",
    "for i in np.arange(used_number_features):\n",
    "    feature_name=FS_data_used[i]\n",
    "    \n",
    "    print(\"Feature: \",feature_name)\n",
    "    \n",
    "    \n",
    "    index_i=np.where(column_names_arr==feature_name)[0][0]\n",
    "    get_data_i=data_arr[:,index_i]\n",
    "    \n",
    "    group1_data=get_data_i[group1_index]\n",
    "    group2_data=get_data_i[group2_index]\n",
    "    \n",
    "    statistic_analysis(group1_data, group2_data)\n",
    "    \n",
    "    print(\"Group1: \",group1_data)\n",
    "    print(\"\\n\")\n",
    "    print(\"Group2: \",group2_data)\n",
    "    print(\"\\n\")\n",
    "    print(\"Mean: \",np.mean(group1_data),np.mean(group2_data))\n",
    "    \n",
    "    bar_figure(group1_data,group2_data,feature_name)\n",
    "    \n",
    "    print(\"*\"*120)\n",
    "    print(\"\\n\\n\\n\")"
   ]
  },
  {
   "cell_type": "code",
   "execution_count": null,
   "id": "70ef15bc-0121-45dc-bbf3-704ff10db8c6",
   "metadata": {},
   "outputs": [],
   "source": []
  }
 ],
 "metadata": {
  "kernelspec": {
   "display_name": "Python 3 (ipykernel)",
   "language": "python",
   "name": "python3"
  },
  "language_info": {
   "codemirror_mode": {
    "name": "ipython",
    "version": 3
   },
   "file_extension": ".py",
   "mimetype": "text/x-python",
   "name": "python",
   "nbconvert_exporter": "python",
   "pygments_lexer": "ipython3",
   "version": "3.7.8"
  },
  "widgets": {
   "application/vnd.jupyter.widget-state+json": {
    "state": {},
    "version_major": 2,
    "version_minor": 0
   }
  }
 },
 "nbformat": 4,
 "nbformat_minor": 5
}
