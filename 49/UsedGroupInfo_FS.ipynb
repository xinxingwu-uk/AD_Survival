{
 "cells": [
  {
   "cell_type": "code",
   "execution_count": 1,
   "id": "00049547-c2e4-4996-84af-e1d46d9928c0",
   "metadata": {},
   "outputs": [],
   "source": [
    "import pandas as pd\n",
    "import numpy as np\n",
    "import gc\n",
    "\n",
    "from scipy import stats\n",
    "from matplotlib import pyplot as plt"
   ]
  },
  {
   "cell_type": "code",
   "execution_count": 2,
   "id": "c1776d00-d24e-47d9-b0c5-794fec49c4e9",
   "metadata": {},
   "outputs": [],
   "source": [
    "def csv_read(p_path,header_is=0):\n",
    "    pd_data=pd.read_csv(p_path, sep=',',header=header_is)\n",
    "    column_names=pd_data.columns.values.tolist()\n",
    "    print(column_names)\n",
    "    return pd_data,np.array(pd_data),column_names\n",
    "\n",
    "#-------------------------------------------------------------------------------------\n",
    "def write_to_csv(p_data,p_path):\n",
    "    dataframe = pd.DataFrame(p_data)\n",
    "    dataframe.to_csv(p_path, mode='a',header=False,index=False,sep=',')\n",
    "    del dataframe\n",
    "    gc.collect()\n",
    "    \n",
    "#-------------------------------------------------------------------------------------\n",
    "def bar_figure(group1,group2,y_label):\n",
    "    figure,axes=plt.subplots()\n",
    "    \n",
    "    axes.boxplot([group1,group2],patch_artist=True)\n",
    "    plt.xticks(range(1,3),['Group 1','Group 2'])\n",
    "    #plt.yticks(fontsize = 20)\n",
    "    \n",
    "    min_end=min(np.min(group1),np.min(group2))\n",
    "    max_end=max(np.max(group1),np.max(group2))\n",
    "    end=(max_end-min_end)/10\n",
    "    plt.ylim(min_end-end,max_end+end)\n",
    "    plt.ylabel(y_label)\n",
    "    plt.show()\n",
    "\n",
    "#-------------------------------------------------------------------------------------\n",
    "def statistic_analysis(group1, group2):\n",
    "    var_same=stats.levene(group1, group2)\n",
    "    \n",
    "    print(\"\\n\")\n",
    "    print(\"-\"*80)\n",
    "    \n",
    "    print(\"var_same\",var_same)\n",
    "\n",
    "    if var_same[1]>0.05:\n",
    "        f_t, p_value_t = stats.ttest_ind(group1, group2, equal_var=True)\n",
    "        print(\"Test: f_t, p_value_t\", format(f_t,'.3E'), format(p_value_t,'.3E'))\n",
    "    else:\n",
    "        f_t, p_value_t = stats.ttest_ind(group1, group2, equal_var=False)\n",
    "        print(\"Test: f_t, p_value_t\",format(f_t,'.3E'), format(p_value_t,'.3E'))\n",
    "    \n",
    "    f, p_value = stats.f_oneway(group1, group2)\n",
    "    print(\"ANOVA: f, p_value:\",format(f,'.3E'), format(p_value_t,'.3E'))\n",
    "    print(\"-\"*80)\n",
    "    print(\"\\n\")"
   ]
  },
  {
   "cell_type": "code",
   "execution_count": 3,
   "id": "ee046a8a-1080-4a33-a91c-73829cfcb74d",
   "metadata": {
    "scrolled": true,
    "tags": []
   },
   "outputs": [
    {
     "name": "stdout",
     "output_type": "stream",
     "text": [
      "['NACCREAS', 'NACCREFR', 'BIRTHMO', 'BIRTHYR', 'SEX', 'HISPANIC', 'HISPOR', 'RACE', 'RACESEC', 'RACETER', 'PRIMLANG', 'EDUC', 'MARISTAT', 'NACCLIVS', 'INDEPEND', 'RESIDENC', 'HANDED', 'NACCFADM', 'NACCFFTD', 'MEMORY', 'ORIENT', 'JUDGMENT', 'COMMUN', 'HOMEHOBB', 'PERSCARE', 'CDRSUM', 'DECSUB', 'DECIN', 'COGMEM', 'COGJUDG', 'COGLANG', 'COGVIS', 'COGATTN', 'COGOTHR', 'NACCCOGF', 'COGMODE', 'DECAGE', 'BEAPATHY', 'BEDEP', 'BEVHALL', 'BEAHALL', 'BEDEL', 'BEDISIN', 'BEIRRIT', 'BEAGIT', 'BEPERCH', 'BEOTHR', 'NACCBEHF', 'BEMODE', 'MOGAIT', 'MOFALLS', 'MOTREM', 'MOSLOW', 'NACCMOTF', 'MOMODE', 'COURSE', 'FRSTCHG', 'NORMCOG', 'DEMENTED', 'NACCPPA', 'NACCBVFT', 'NACCLBDS', 'NACCTMCI', 'NACCMCIL', 'NACCMCIA', 'NACCMCIE', 'NACCMCIV', 'NACCMCII', 'IMPNOMCI', 'NACCALZD', 'NACCALZP', 'NACCLBDE', 'NACCLBDP', 'PARK', 'PSP', 'PSPIF', 'CORT', 'CORTIF', 'DOWNS', 'DOWNSIF', 'HUNT', 'HUNTIF', 'PRION', 'PRIONIF', 'BRNINJ', 'BRNINJIF', 'HYCEPH', 'HYCEPHIF', 'NEOP', 'NEOPIF', 'DEP', 'DEPIF', 'OTHPSY', 'OTHPSYIF', 'ALCDEM', 'ALCDEMIF', 'DYSILL', 'DYSILLIF', 'MEDS', 'MEDSIF', 'COGOTH', 'COGOTHIF', 'NACCETPR', 'NACCADMU', 'NACCFTDM', 'NACCAGEB', 'NACCNIHR', 'NACCNORM', 'NACCIDEM', 'NACCAGE', 'NACCUDSD', 'NACCAPOE', 'NACCNE4S', 'NPPMIH', 'NPFIX', 'NPWBRWT', 'NPWBRF', 'NACCBRNN', 'NPGRCCA', 'NPGRLA', 'NPGRHA', 'NPGRSNH', 'NPGRLCH', 'NACCAVAS', 'NPTAN', 'NPABAN', 'NPASAN', 'NPTDPAN', 'NPHISMB', 'NPHISG', 'NPHISSS', 'NPHIST', 'NPHISO', 'NPTHAL', 'NACCBRAA', 'NACCNEUR', 'NPADNC', 'NACCDIFF', 'NACCVASC', 'NACCAMY', 'NPINF', 'NPINF1A', 'NPINF1B', 'NPINF1D', 'NPINF1F', 'NPINF2A', 'NPINF2B', 'NPINF2D', 'NPINF2F', 'NPINF3A', 'NPINF3B', 'NPINF3D', 'NPINF3F', 'NPINF4A', 'NPINF4B', 'NPINF4D', 'NPINF4F', 'NACCINF', 'NPHEMO', 'NPHEMO1', 'NPHEMO2', 'NPHEMO3', 'NPOLD', 'NPOLD1', 'NPOLD2', 'NPOLD3', 'NPOLD4', 'NACCMICR', 'NPOLDD', 'NPOLDD1', 'NPOLDD2', 'NPOLDD3', 'NPOLDD4', 'NACCHEM', 'NACCARTE', 'NPWMR', 'NPPATH', 'NACCNEC', 'NPPATH2', 'NPPATH3', 'NPPATH4', 'NPPATH5', 'NPPATH6', 'NPPATH7', 'NPPATH8', 'NPPATH9', 'NPPATH10', 'NPPATH11', 'NACCLEWY', 'NPLBOD', 'NPNLOSS', 'NPHIPSCL', 'NPFTDTAU', 'NACCPICK', 'NPFTDT2', 'NACCCBD', 'NACCPROG', 'NPFTDT5', 'NPFTDT6', 'NPFTDT7', 'NPFTDT8', 'NPFTDT9', 'NPFTDT10', 'NPFTDTDP', 'NPALSMND', 'NPOFTD', 'NPOFTD1', 'NPOFTD2', 'NPOFTD3', 'NPOFTD4', 'NPOFTD5', 'NPTDPA', 'NPTDPB', 'NPTDPC', 'NPTDPD', 'NPTDPE', 'NPPDXA', 'NPPDXB', 'NACCPRIO', 'NPPDXD', 'NPPDXE', 'NPPDXF', 'NPPDXG', 'NPPDXH', 'NPPDXI', 'NPPDXJ', 'NPPDXK', 'NPPDXL', 'NPPDXM', 'NPPDXN', 'NACCDOWN', 'NPPDXP', 'NPPDXQ', 'NACCOTHP', 'NACCBNKF', 'NPBNKB', 'NACCFORM', 'NACCPARA', 'NACCCSFP', 'NPBNKF', 'NPFAUT', 'NACCDAGE', 'NACCINT', 'SurvivalTime', 'Event']\n",
      "[0, 1, 2, 3, 4, 5, 6, 7, 8, 9, 10, 11, 12, 13, 14, 15, 16, 17, 18, 19, 20, 21, 22, 23, 24, 25, 26, 27, 28, 29, 30, 31, 32, 33, 34, 35, 36, 37, 38, 39, 40, 41, 42, 43, 44, 45, 46, 47, 48, 49, 50, 51, 52, 53, 54, 55, 56, 57, 58, 59, 60, 61, 62, 63, 64, 65, 66, 67, 68, 69, 70, 71, 72, 73, 74, 75, 76, 77, 78, 79, 80, 81, 82, 83, 84, 85, 86, 87, 88, 89, 90, 91, 92, 93, 94, 95, 96, 97, 98, 99]\n"
     ]
    }
   ],
   "source": [
    "data,data_arr,column_names=csv_read('./data/survival_data_filtered_3.csv')\n",
    "column_names_arr=np.array(column_names)\n",
    "\n",
    "FS_data,FS_data_arr,_=csv_read('./feature_selection.csv',header_is=None)"
   ]
  },
  {
   "cell_type": "code",
   "execution_count": 4,
   "id": "8e9fc7fe-e17e-42e1-abba-2a16112e6948",
   "metadata": {},
   "outputs": [],
   "source": [
    "used_number_features=10\n",
    "FS_data_used=FS_data_arr[-1,0:used_number_features]"
   ]
  },
  {
   "cell_type": "code",
   "execution_count": 5,
   "id": "0a6cd145-dad5-4996-85d8-27af00038f5d",
   "metadata": {},
   "outputs": [
    {
     "name": "stdout",
     "output_type": "stream",
     "text": [
      "Feature:  NACCAGEB\n",
      "\n",
      "\n",
      "--------------------------------------------------------------------------------\n",
      "var_same LeveneResult(statistic=0.6911978542342931, pvalue=0.406233041637733)\n",
      "Test: f_t, p_value_t -3.010E+00 2.768E-03\n",
      "ANOVA: f, p_value: 9.062E+00 2.768E-03\n",
      "--------------------------------------------------------------------------------\n",
      "\n",
      "\n",
      "Group1:  [60 76 71 72 64 29 72 61 72 60 89 68 72 70 83 75 66 85 50 63 91 51 93 73\n",
      " 72 71 72 70 59 71 71 47 64 69 85 35 73 60 59 63 55 73 72 58 56 77 68 73\n",
      " 58 75 80 75 47 57 71 66 66 75 78 75 71 67 90 63 60 62 57 61 59 71 75 63\n",
      " 75 65 67 64 68 66 78 62 56 67 77 70 92 64 57 62 59 82 68 62 68 63 78 67\n",
      " 56 57 46 75 82 78 68 83 61 60 65 80 70 67 54 77 56 75 49 56 75 53 69 69\n",
      " 70 64 83 64 80 71 68 75 70 76 57 68 68 62 62 77 57 68 79 78 54 63 87 76\n",
      " 70 77 62 64 85 63 61 70 78 76 81 80 72 70 54 74 61 58 49 52 80 75 57 79\n",
      " 67]\n",
      "\n",
      "\n",
      "Group2:  [82 66 60 51 80 68 49 67 78 71 71 64 82 75 67 84 62 47 61 69 67 83 88 65\n",
      " 37 72 82 83 74 65 40 72 63 59 73 85 58 65 73 36 56 79 73 72 59 76 101 74\n",
      " 84 78 74 53 74 65 70 61 71 73 86 76 71 81 51 71 106 63 76 63 74 70 81 95\n",
      " 67 84 57 68 81 77 73 66 90 68 78 76 69 58 78 86 61 72 68 72 75 53 52 61\n",
      " 91 81 78 79 69 66 73 71 66 71 77 73 75 76 61 75 70 62 79 84 83 74 64 69\n",
      " 76 86 83 63 78 54 50 65 75 75 86 71 73 74 59 60 86 67 70 87 72 71 85 69\n",
      " 39 83 60 64 78 83 59 72 85 56 74 77 77 83 52 75 80 89 70 57 63 61 83 64\n",
      " 84 67 67 77 66 79 73 87 76 63 78 55 78 73 58 84 65 77 78 85 78 62 79 70\n",
      " 78 84 54 69 62 74 92 78 62 73 63 61 68 85 67 65 71 85 70 81 88 85 65 78\n",
      " 64 88 67 59 83 80 51 60 45 80 76 46 93 76 74 58 66 75 73 85 48 52 52 73\n",
      " 72 67 79 71 74 79 72 72 66 66]\n",
      "\n",
      "\n",
      "Mean:  67.87573964497041 71.144\n"
     ]
    },
    {
     "data": {
      "image/png": "[encoded data removed]",
      "text/plain": [
       "<Figure size 432x288 with 1 Axes>"
      ]
     },
     "metadata": {
      "needs_background": "light"
     },
     "output_type": "display_data"
    },
    {
     "name": "stdout",
     "output_type": "stream",
     "text": [
      "************************************************************************************************************************\n",
      "\n",
      "\n",
      "\n",
      "\n",
      "Feature:  NPWBRWT\n",
      "\n",
      "\n",
      "--------------------------------------------------------------------------------\n",
      "var_same LeveneResult(statistic=0.6890127314081783, pvalue=0.4069753398743461)\n",
      "Test: f_t, p_value_t -1.823E+00 6.895E-02\n",
      "ANOVA: f, p_value: 3.325E+00 6.895E-02\n",
      "--------------------------------------------------------------------------------\n",
      "\n",
      "\n",
      "Group1:  [890 1160 980 994 1150 1040 1200 1015 1194 661 1120 1417 1370 940 1210\n",
      " 1200 999 1080 866 885 1246 1050 1066 1185 1250 1140 1330 1361 1030 941\n",
      " 1094 1160 1040 1360 1180 1280 988 1475 831 1200 1387 1204 1340 1134 950\n",
      " 1210 1310 1200 1200 1350 1090 1072 1088 990 1110 1046 1210 1404 1150 1330\n",
      " 1450 1440 1042 1100 1099 1010 1420 1110 1088 1200 1030 980 1053 1175 100\n",
      " 1082 1130 1290 1265 1374 908 1190 1069 1170 890 1392 1338 1000 1230 1240\n",
      " 1060 1157 965 1035 1286 1171 1021 1150 1196 1106 1260 1020 1193 1290 1182\n",
      " 997 1400 1217 1120 1252 1203 890 950 1100 1108 883 1300 1067 1160 1230\n",
      " 1047 1008 1129 990 1150 1130 1090 1044 1176 1180 1005 1000 1294 1057 1105\n",
      " 1040 1055 1125 1045 1161 1147 1100 1166 1260 1063 860 838 880 1090 1467\n",
      " 868 822 1180 1180 1020 1190 1085 1160 1120 984 1232 837 1280 930 1226\n",
      " 1310 1420 1030 950]\n",
      "\n",
      "\n",
      "Group2:  [1210 900 1030 1452 1310 1130 1140 1430 1288 9999 1130 1130 1002 1255 1100\n",
      " 1075 880 1303 800 1420 1160 1060 1460 1150 1060 1280 1190 1410 1010 1394\n",
      " 1190 1258 1492 1253 1210 970 1200 1360 1424 1350 1027 1220 1090 1349 1450\n",
      " 990 954 1100 980 1150 1130 1117 1000 1091 1090 1112 1276 1340 1022 1129\n",
      " 1280 1120 1070 1220 1060 1093 1285 1290 1230 1300 1360 1072 880 1200 1370\n",
      " 1511 1000 1050 1210 1120 1270 1262 1280 1170 1150 1222 1207 1250 1060\n",
      " 1450 930 1336 1068 1100 1260 1013 1000 806 1150 1460 1270 858 1133 1250\n",
      " 1410 1370 1490 1250 1145 1337 890 1310 1220 100 1158 1211 1056 1058 1069\n",
      " 1116 1207 1130 1067 1010 1340 1135 1360 970 1200 1165 1310 1251 1345 983\n",
      " 1010 1143 1120 1250 978 1340 1384 1160 1280 1275 1128 1030 1100 1002 1202\n",
      " 1230 989 999 1086 1139 1210 1030 1380 1310 940 1150 1080 1090 1170 1056\n",
      " 1001 1210 1020 1250 1300 1136 1114 1056 1030 1250 1105 1044 1360 1070\n",
      " 1240 1117 1031 1230 1009 980 1280 1014 1402 1470 1160 1371 1200 1260 1231\n",
      " 1170 1050 1331 696 1004 1106 1269 1383 1229 1039 990 1305 1060 1140 1134\n",
      " 1260 1090 1174 1500 1101 1190 1379 984 1300 1275 1160 1562 1290 1056 1160\n",
      " 1131 1336 1153 1250 1140 1280 1180 1271 1130 1320 1300 1100 1218 822 904\n",
      " 1202 976 1404 1150 1230 1210 1290 1062 990 1590 1181 1428]\n",
      "\n",
      "\n",
      "Mean:  1122.5621301775147 1206.632\n"
     ]
    },
    {
     "data": {
      "image/png": "[encoded data removed]",
      "text/plain": [
       "<Figure size 432x288 with 1 Axes>"
      ]
     },
     "metadata": {
      "needs_background": "light"
     },
     "output_type": "display_data"
    },
    {
     "name": "stdout",
     "output_type": "stream",
     "text": [
      "************************************************************************************************************************\n",
      "\n",
      "\n",
      "\n",
      "\n",
      "Feature:  NACCAGE\n",
      "\n",
      "\n",
      "--------------------------------------------------------------------------------\n",
      "var_same LeveneResult(statistic=1.2206349023251153, pvalue=0.26987314962215214)\n",
      "Test: f_t, p_value_t -1.583E+00 1.142E-01\n",
      "ANOVA: f, p_value: 2.506E+00 1.142E-01\n",
      "--------------------------------------------------------------------------------\n",
      "\n",
      "\n",
      "Group1:  [62 81 75 83 71 37 74 63 78 62 94 68 77 74 92 77 69 89 51 67 98 54 100 83\n",
      " 86 82 82 76 64 80 77 52 71 73 90 42 83 63 63 72 59 75 77 64 58 82 71 83\n",
      " 63 81 87 85 50 61 72 72 78 82 86 78 78 71 96 65 62 68 59 65 61 73 80 66\n",
      " 84 67 70 67 71 72 90 70 62 68 83 77 97 67 62 66 64 86 72 63 73 67 87 70\n",
      " 61 62 49 84 88 84 73 86 64 63 68 84 73 73 59 79 63 77 54 60 77 58 75 73\n",
      " 76 72 92 68 83 75 80 81 71 87 60 70 70 69 66 88 61 72 84 84 61 67 96 80\n",
      " 73 82 64 65 94 65 66 73 82 78 84 90 75 73 57 77 67 59 50 56 84 77 66 83\n",
      " 70]\n",
      "\n",
      "\n",
      "Group2:  [92 72 60 52 90 70 50 71 78 75 71 67 92 75 67 91 63 54 61 69 73 87 88 67\n",
      " 37 76 84 89 76 65 42 72 64 62 79 95 63 74 73 36 58 83 74 72 62 79 102 80\n",
      " 84 82 75 53 79 72 76 63 76 84 90 78 77 85 52 71 106 65 78 65 77 74 88 96\n",
      " 69 89 57 68 83 78 86 70 99 73 85 83 73 58 90 92 61 81 69 72 75 53 57 64\n",
      " 96 81 81 80 71 67 76 71 73 74 87 73 79 81 61 80 76 64 79 96 83 80 64 75\n",
      " 78 89 88 68 81 55 51 65 80 78 94 72 76 79 61 60 93 69 72 88 74 76 90 81\n",
      " 43 86 60 64 90 86 64 78 97 56 74 77 80 91 52 77 90 98 80 62 65 62 84 64\n",
      " 89 73 73 89 70 86 76 95 83 70 84 56 89 73 58 87 69 77 83 87 85 74 80 70\n",
      " 79 84 54 71 62 84 99 87 65 84 65 65 68 85 70 65 76 86 71 83 93 89 72 82\n",
      " 71 93 68 59 89 81 51 64 45 89 82 53 94 76 75 62 70 75 78 88 53 55 52 73\n",
      " 72 71 86 74 76 87 83 77 66 70]\n",
      "\n",
      "\n",
      "Mean:  72.82840236686391 74.728\n"
     ]
    },
    {
     "data": {
      "image/png": "[encoded data removed]",
      "text/plain": [
       "<Figure size 432x288 with 1 Axes>"
      ]
     },
     "metadata": {
      "needs_background": "light"
     },
     "output_type": "display_data"
    },
    {
     "name": "stdout",
     "output_type": "stream",
     "text": [
      "************************************************************************************************************************\n",
      "\n",
      "\n",
      "\n",
      "\n",
      "Feature:  HOMEHOBB\n",
      "\n",
      "\n",
      "--------------------------------------------------------------------------------\n",
      "var_same LeveneResult(statistic=81.86444623559485, pvalue=5.596693216490977e-18)\n",
      "Test: f_t, p_value_t 3.322E+01 2.328E-104\n",
      "ANOVA: f, p_value: 7.961E+02 2.328E-104\n",
      "--------------------------------------------------------------------------------\n",
      "\n",
      "\n",
      "Group1:  [3.0 3.0 3.0 2.0 3.0 3.0 3.0 3.0 3.0 3.0 3.0 3.0 3.0 3.0 3.0 3.0 2.0 3.0\n",
      " 3.0 3.0 3.0 3.0 3.0 3.0 3.0 3.0 3.0 3.0 3.0 2.0 3.0 3.0 3.0 3.0 3.0 3.0\n",
      " 3.0 3.0 3.0 3.0 3.0 3.0 3.0 3.0 3.0 3.0 3.0 3.0 3.0 3.0 2.0 3.0 3.0 3.0\n",
      " 3.0 3.0 3.0 3.0 3.0 3.0 3.0 2.0 3.0 3.0 3.0 3.0 3.0 3.0 3.0 3.0 3.0 3.0\n",
      " 3.0 3.0 3.0 3.0 3.0 3.0 3.0 3.0 3.0 3.0 3.0 3.0 3.0 3.0 3.0 3.0 3.0 3.0\n",
      " 3.0 3.0 3.0 3.0 3.0 3.0 3.0 3.0 3.0 3.0 3.0 3.0 3.0 3.0 3.0 3.0 3.0 3.0\n",
      " 3.0 3.0 3.0 3.0 3.0 3.0 3.0 3.0 3.0 3.0 3.0 3.0 3.0 3.0 3.0 3.0 2.0 3.0\n",
      " 3.0 3.0 3.0 3.0 3.0 2.0 3.0 3.0 3.0 3.0 3.0 3.0 3.0 3.0 3.0 3.0 3.0 3.0\n",
      " 3.0 3.0 3.0 3.0 3.0 3.0 3.0 3.0 3.0 3.0 3.0 3.0 3.0 3.0 3.0 3.0 3.0 3.0\n",
      " 3.0 3.0 3.0 3.0 3.0 3.0 3.0]\n",
      "\n",
      "\n",
      "Group2:  [2.0 2.0 2.0 3.0 1.0 2.0 2.0 1.0 2.0 0.5 3.0 1.0 1.0 1.0 2.0 1.0 3.0 1.0\n",
      " 2.0 1.0 1.0 1.0 1.0 1.0 2.0 1.0 2.0 2.0 2.0 1.0 2.0 1.0 2.0 1.0 2.0 1.0\n",
      " 1.0 1.0 1.0 1.0 1.0 1.0 1.0 1.0 1.0 1.0 2.0 1.0 1.0 1.0 2.0 2.0 2.0 2.0\n",
      " 2.0 2.0 1.0 1.0 2.0 1.0 2.0 1.0 1.0 2.0 2.0 1.0 2.0 1.0 1.0 1.0 1.0 2.0\n",
      " 1.0 1.0 1.0 1.0 1.0 1.0 3.0 1.0 1.0 2.0 1.0 3.0 1.0 1.0 1.0 1.0 1.0 1.0\n",
      " 1.0 1.0 1.0 3.0 3.0 1.0 1.0 1.0 1.0 2.0 2.0 1.0 1.0 2.0 1.0 1.0 2.0 1.0\n",
      " 1.0 1.0 2.0 1.0 1.0 0.5 2.0 1.0 1.0 2.0 3.0 1.0 2.0 1.0 1.0 2.0 1.0 1.0\n",
      " 1.0 2.0 1.0 1.0 3.0 1.0 1.0 1.0 3.0 1.0 1.0 2.0 1.0 1.0 2.0 1.0 1.0 2.0\n",
      " 2.0 1.0 1.0 0.5 1.0 3.0 3.0 2.0 1.0 1.0 1.0 1.0 1.0 1.0 1.0 2.0 2.0 1.0\n",
      " 2.0 3.0 1.0 1.0 2.0 2.0 1.0 2.0 1.0 1.0 3.0 1.0 1.0 1.0 0.5 1.0 2.0 1.0\n",
      " 2.0 1.0 2.0 3.0 0.5 1.0 1.0 1.0 2.0 1.0 1.0 2.0 1.0 3.0 2.0 2.0 2.0 2.0\n",
      " 1.0 3.0 1.0 2.0 2.0 2.0 2.0 1.0 1.0 1.0 0.5 3.0 2.0 1.0 1.0 2.0 1.0 1.0\n",
      " 1.0 1.0 2.0 1.0 2.0 2.0 1.0 3.0 1.0 3.0 2.0 2.0 1.0 2.0 3.0 1.0 1.0 2.0\n",
      " 2.0 1.0 0.5 2.0 1.0 1.0 2.0 0.5 0.5 2.0 2.0 1.0 2.0 1.0 2.0 1.0]\n",
      "\n",
      "\n",
      "Mean:  2.9585798816568047 1.466\n"
     ]
    },
    {
     "data": {
      "image/png": "[encoded data removed]",
      "text/plain": [
       "<Figure size 432x288 with 1 Axes>"
      ]
     },
     "metadata": {
      "needs_background": "light"
     },
     "output_type": "display_data"
    },
    {
     "name": "stdout",
     "output_type": "stream",
     "text": [
      "************************************************************************************************************************\n",
      "\n",
      "\n",
      "\n",
      "\n",
      "Feature:  COMMUN\n",
      "\n",
      "\n",
      "--------------------------------------------------------------------------------\n",
      "var_same LeveneResult(statistic=8.36158089028515, pvalue=0.004032885680001616)\n",
      "Test: f_t, p_value_t 2.817E+01 2.861E-97\n",
      "ANOVA: f, p_value: 7.330E+02 2.861E-97\n",
      "--------------------------------------------------------------------------------\n",
      "\n",
      "\n",
      "Group1:  [2.0 3.0 3.0 2.0 2.0 3.0 3.0 3.0 2.0 3.0 3.0 3.0 2.0 3.0 3.0 2.0 3.0 3.0\n",
      " 3.0 3.0 3.0 3.0 3.0 2.0 3.0 3.0 3.0 3.0 2.0 3.0 3.0 3.0 2.0 3.0 3.0 2.0\n",
      " 3.0 3.0 3.0 3.0 3.0 3.0 3.0 3.0 2.0 3.0 3.0 3.0 2.0 3.0 2.0 3.0 3.0 3.0\n",
      " 2.0 2.0 3.0 3.0 3.0 3.0 2.0 3.0 3.0 3.0 2.0 2.0 3.0 3.0 3.0 2.0 3.0 3.0\n",
      " 3.0 2.0 2.0 2.0 2.0 3.0 3.0 2.0 3.0 3.0 3.0 3.0 3.0 3.0 3.0 3.0 3.0 2.0\n",
      " 3.0 3.0 3.0 3.0 3.0 3.0 3.0 2.0 3.0 3.0 2.0 3.0 3.0 3.0 3.0 3.0 2.0 3.0\n",
      " 3.0 2.0 3.0 2.0 3.0 3.0 3.0 3.0 2.0 1.0 3.0 3.0 3.0 3.0 2.0 3.0 3.0 2.0\n",
      " 3.0 3.0 2.0 2.0 3.0 3.0 3.0 3.0 3.0 3.0 3.0 3.0 2.0 3.0 2.0 2.0 3.0 3.0\n",
      " 3.0 3.0 3.0 3.0 2.0 3.0 3.0 3.0 3.0 3.0 3.0 3.0 3.0 3.0 3.0 3.0 3.0 3.0\n",
      " 3.0 3.0 2.0 3.0 3.0 2.0 2.0]\n",
      "\n",
      "\n",
      "Group2:  [2.0 2.0 2.0 1.0 1.0 1.0 2.0 1.0 2.0 1.0 2.0 2.0 0.5 1.0 2.0 1.0 2.0 2.0\n",
      " 2.0 2.0 1.0 1.0 0.5 1.0 2.0 1.0 1.0 1.0 2.0 1.0 1.0 1.0 2.0 1.0 2.0 1.0\n",
      " 1.0 2.0 1.0 1.0 1.0 1.0 1.0 1.0 1.0 1.0 3.0 1.0 1.0 1.0 2.0 1.0 1.0 1.0\n",
      " 1.0 1.0 1.0 0.5 2.0 1.0 1.0 1.0 1.0 2.0 2.0 1.0 2.0 2.0 1.0 2.0 1.0 2.0\n",
      " 1.0 1.0 1.0 1.0 2.0 1.0 2.0 1.0 1.0 3.0 1.0 2.0 1.0 2.0 1.0 1.0 1.0 1.0\n",
      " 1.0 1.0 1.0 2.0 2.0 1.0 2.0 1.0 0.5 2.0 2.0 1.0 1.0 2.0 0.5 1.0 2.0 1.0\n",
      " 1.0 1.0 2.0 2.0 0.5 1.0 2.0 1.0 1.0 2.0 2.0 1.0 1.0 1.0 1.0 3.0 1.0 1.0\n",
      " 1.0 1.0 1.0 0.5 2.0 1.0 1.0 1.0 2.0 1.0 1.0 2.0 1.0 0.5 1.0 1.0 2.0 0.5\n",
      " 1.0 1.0 1.0 1.0 0.5 2.0 1.0 1.0 2.0 1.0 1.0 1.0 1.0 1.0 1.0 1.0 2.0 2.0\n",
      " 2.0 2.0 2.0 1.0 1.0 1.0 0.5 1.0 1.0 1.0 3.0 1.0 2.0 1.0 1.0 1.0 1.0 2.0\n",
      " 2.0 0.5 2.0 1.0 1.0 1.0 1.0 1.0 2.0 2.0 1.0 1.0 0.5 2.0 2.0 2.0 2.0 2.0\n",
      " 1.0 3.0 1.0 1.0 2.0 1.0 2.0 1.0 1.0 1.0 2.0 2.0 2.0 1.0 1.0 2.0 1.0 1.0\n",
      " 1.0 0.5 2.0 1.0 2.0 2.0 1.0 2.0 1.0 2.0 2.0 1.0 1.0 2.0 2.0 1.0 1.0 2.0\n",
      " 2.0 1.0 1.0 2.0 2.0 1.0 1.0 1.0 1.0 2.0 1.0 1.0 1.0 0.5 2.0 1.0]\n",
      "\n",
      "\n",
      "Mean:  2.739644970414201 1.342\n"
     ]
    },
    {
     "data": {
      "image/png": "[encoded data removed]",
      "text/plain": [
       "<Figure size 432x288 with 1 Axes>"
      ]
     },
     "metadata": {
      "needs_background": "light"
     },
     "output_type": "display_data"
    },
    {
     "name": "stdout",
     "output_type": "stream",
     "text": [
      "************************************************************************************************************************\n",
      "\n",
      "\n",
      "\n",
      "\n",
      "Feature:  DECSUB\n",
      "\n",
      "\n",
      "--------------------------------------------------------------------------------\n",
      "var_same LeveneResult(statistic=35.603412209794755, pvalue=5.170502362525717e-09)\n",
      "Test: f_t, p_value_t 5.000E+00 1.100E-06\n",
      "ANOVA: f, p_value: 3.041E+01 1.100E-06\n",
      "--------------------------------------------------------------------------------\n",
      "\n",
      "\n",
      "Group1:  [0 1 1 1 1 1 1 1 1 0 8 1 1 1 8 0 1 1 0 1 1 8 0 0 8 8 1 1 8 1 1 1 1 1 1 1 8\n",
      " 0 0 8 0 1 8 1 1 8 1 1 8 1 0 1 1 0 0 0 8 0 8 1 8 8 8 1 1 8 1 8 1 1 0 8 1 1\n",
      " 0 1 0 0 8 0 8 1 0 1 1 8 0 0 1 1 1 1 8 8 8 8 8 1 1 1 8 1 1 0 8 0 1 0 1 0 0\n",
      " 0 1 1 8 1 0 8 8 8 1 8 1 1 1 1 1 0 0 8 1 1 8 0 0 8 1 8 8 8 1 1 1 0 1 1 1 1\n",
      " 1 0 8 0 1 1 8 8 1 0 0 8 8 1 1 1 1 0 1 0 1]\n",
      "\n",
      "\n",
      "Group2:  [8 0 1 1 1 1 0 0 1 1 1 0 0 0 1 1 0 0 1 0 1 1 1 1 0 1 1 1 0 1 1 1 1 0 0 1 0\n",
      " 1 1 1 0 1 0 1 1 1 8 1 1 1 0 1 1 8 0 0 1 1 8 0 1 1 1 1 1 1 1 8 1 0 1 8 1 1\n",
      " 0 0 1 1 0 1 1 8 1 1 1 0 1 1 0 1 1 1 1 1 0 1 1 1 1 0 1 1 1 1 1 1 0 1 1 0 1\n",
      " 1 0 1 1 1 1 1 1 1 1 1 0 8 0 0 0 1 1 1 0 0 1 1 1 0 1 1 0 1 1 1 0 1 1 1 1 1\n",
      " 8 1 1 0 0 1 1 1 1 1 1 1 8 0 1 1 1 1 0 1 1 0 1 1 0 1 1 0 1 8 1 1 8 1 8 1 1\n",
      " 1 1 1 1 8 0 1 1 8 0 0 0 1 1 1 1 1 1 0 1 1 1 1 1 1 1 0 1 1 1 1 1 1 1 0 1 1\n",
      " 0 1 1 0 0 1 0 1 8 1 0 1 8 1 1 1 1 1 1 1 1 1 1 0 1 1 1 1]\n",
      "\n",
      "\n",
      "Mean:  2.6272189349112427 1.236\n"
     ]
    },
    {
     "data": {
      "image/png": "[encoded data removed]",
      "text/plain": [
       "<Figure size 432x288 with 1 Axes>"
      ]
     },
     "metadata": {
      "needs_background": "light"
     },
     "output_type": "display_data"
    },
    {
     "name": "stdout",
     "output_type": "stream",
     "text": [
      "************************************************************************************************************************\n",
      "\n",
      "\n",
      "\n",
      "\n",
      "Feature:  NPPATH5\n",
      "\n",
      "\n",
      "--------------------------------------------------------------------------------\n",
      "var_same LeveneResult(statistic=1.033805981483427, pvalue=0.30985597665010084)\n",
      "Test: f_t, p_value_t -1.017E+00 3.099E-01\n",
      "ANOVA: f, p_value: 1.034E+00 3.099E-01\n",
      "--------------------------------------------------------------------------------\n",
      "\n",
      "\n",
      "Group1:  [0 0 0 0 0 0 0 0 0 0 0 0 0 0 0 0 0 0 0 0 0 0 0 0 0 0 0 0 0 0 0 0 0 0 0 0 0\n",
      " 0 0 0 0 0 0 0 0 0 0 0 0 0 0 0 0 0 0 0 0 0 0 0 0 0 0 0 0 0 0 0 0 0 0 0 1 0\n",
      " 0 0 0 0 0 0 0 0 0 1 0 0 0 0 0 0 0 0 0 0 0 0 0 0 0 0 0 0 0 0 0 0 0 0 0 0 0\n",
      " 0 0 0 0 0 0 0 0 0 0 0 0 0 0 0 8 0 0 0 0 0 0 0 0 0 0 0 0 0 0 0 0 0 0 0 0 0\n",
      " 0 0 0 0 0 0 0 0 0 0 0 0 0 0 0 0 0 0 0 0 0]\n",
      "\n",
      "\n",
      "Group2:  [0 0 0 0 0 0 0 0 0 0 0 0 0 0 0 0 0 0 0 0 0 0 0 0 0 0 0 0 1 0 0 0 0 0 0 0 0\n",
      " 0 0 0 0 0 0 0 0 0 0 0 0 0 0 0 0 0 0 0 0 0 0 0 0 0 0 0 0 0 0 0 0 0 0 0 0 0\n",
      " 0 0 0 0 0 0 0 0 0 0 0 0 0 0 0 0 0 0 0 0 0 0 0 0 0 0 0 0 0 0 0 0 0 0 0 0 0\n",
      " 0 0 0 0 0 0 0 0 1 0 0 0 0 0 0 0 0 0 0 0 0 0 0 0 0 0 0 0 0 0 0 0 0 0 0 0 0\n",
      " 0 0 0 0 0 0 0 0 0 0 0 0 0 0 0 1 0 0 0 0 0 0 8 0 0 0 0 0 0 0 0 0 0 0 0 1 0\n",
      " 0 0 0 0 0 0 0 0 0 0 0 0 0 0 0 0 0 0 0 0 0 0 0 0 0 0 1 0 0 0 0 0 0 0 0 0 0\n",
      " 0 0 0 0 0 0 0 8 0 0 0 8 0 0 0 0 0 8 0 0 0 0 0 0 0 0 0 0]\n",
      "\n",
      "\n",
      "Mean:  0.05917159763313609 0.148\n"
     ]
    },
    {
     "data": {
      "image/png": "[encoded data removed]",
      "text/plain": [
       "<Figure size 432x288 with 1 Axes>"
      ]
     },
     "metadata": {
      "needs_background": "light"
     },
     "output_type": "display_data"
    },
    {
     "name": "stdout",
     "output_type": "stream",
     "text": [
      "************************************************************************************************************************\n",
      "\n",
      "\n",
      "\n",
      "\n",
      "Feature:  ORIENT\n",
      "\n",
      "\n",
      "--------------------------------------------------------------------------------\n",
      "var_same LeveneResult(statistic=2.0630329103298317, pvalue=0.15165931790694484)\n",
      "Test: f_t, p_value_t 2.975E+01 3.694E-105\n",
      "ANOVA: f, p_value: 8.851E+02 3.694E-105\n",
      "--------------------------------------------------------------------------------\n",
      "\n",
      "\n",
      "Group1:  [3.0 3.0 2.0 3.0 3.0 2.0 2.0 3.0 3.0 1.0 3.0 3.0 3.0 3.0 3.0 3.0 3.0 2.0\n",
      " 3.0 3.0 3.0 3.0 2.0 2.0 3.0 3.0 3.0 3.0 3.0 3.0 3.0 3.0 3.0 2.0 3.0 3.0\n",
      " 3.0 2.0 3.0 3.0 2.0 2.0 3.0 2.0 3.0 3.0 1.0 2.0 3.0 2.0 3.0 3.0 2.0 3.0\n",
      " 3.0 3.0 3.0 3.0 3.0 3.0 3.0 3.0 3.0 3.0 3.0 2.0 2.0 3.0 3.0 3.0 1.0 3.0\n",
      " 3.0 3.0 3.0 2.0 2.0 2.0 2.0 3.0 3.0 3.0 2.0 3.0 3.0 3.0 2.0 2.0 3.0 2.0\n",
      " 3.0 2.0 3.0 3.0 3.0 3.0 3.0 3.0 3.0 2.0 3.0 3.0 3.0 2.0 3.0 3.0 3.0 3.0\n",
      " 1.0 3.0 3.0 2.0 3.0 3.0 3.0 3.0 3.0 1.0 3.0 3.0 3.0 2.0 3.0 3.0 3.0 3.0\n",
      " 3.0 3.0 3.0 3.0 2.0 3.0 3.0 3.0 3.0 2.0 3.0 3.0 3.0 3.0 2.0 3.0 3.0 3.0\n",
      " 1.0 2.0 3.0 3.0 3.0 3.0 3.0 2.0 3.0 1.0 3.0 3.0 3.0 3.0 3.0 1.0 3.0 3.0\n",
      " 3.0 3.0 3.0 3.0 2.0 3.0 3.0]\n",
      "\n",
      "\n",
      "Group2:  [2.0 1.0 1.0 0.5 0.5 1.0 2.0 1.0 0.0 0.0 3.0 1.0 0.5 0.5 2.0 1.0 1.0 1.0\n",
      " 1.0 2.0 0.5 0.5 1.0 1.0 1.0 0.0 1.0 2.0 2.0 1.0 1.0 1.0 0.0 0.5 1.0 0.5\n",
      " 1.0 1.0 1.0 0.5 0.0 1.0 0.5 0.5 1.0 1.0 2.0 1.0 2.0 0.5 1.0 2.0 1.0 1.0\n",
      " 1.0 0.5 1.0 1.0 2.0 1.0 1.0 1.0 1.0 1.0 2.0 0.5 0.5 0.5 0.5 0.5 1.0 2.0\n",
      " 1.0 2.0 1.0 0.5 1.0 2.0 1.0 1.0 0.5 1.0 1.0 1.0 1.0 1.0 1.0 2.0 0.0 0.5\n",
      " 0.5 1.0 0.5 2.0 1.0 1.0 1.0 0.5 1.0 2.0 0.5 1.0 0.0 1.0 0.0 1.0 0.5 0.5\n",
      " 2.0 0.5 1.0 3.0 1.0 0.0 2.0 0.5 2.0 1.0 2.0 1.0 1.0 1.0 2.0 1.0 1.0 1.0\n",
      " 0.5 2.0 2.0 2.0 1.0 0.5 1.0 1.0 1.0 0.5 0.5 1.0 0.5 0.0 1.0 0.5 1.0 1.0\n",
      " 0.0 0.0 1.0 1.0 0.5 2.0 0.5 1.0 1.0 1.0 0.5 0.0 1.0 1.0 1.0 1.0 0.5 2.0\n",
      " 1.0 2.0 2.0 1.0 1.0 2.0 1.0 1.0 1.0 1.0 1.0 1.0 1.0 1.0 1.0 0.5 1.0 2.0\n",
      " 1.0 1.0 2.0 1.0 0.5 1.0 0.5 1.0 1.0 1.0 0.0 1.0 1.0 2.0 1.0 0.5 2.0 0.5\n",
      " 1.0 0.0 1.0 1.0 2.0 1.0 1.0 1.0 0.5 0.5 1.0 2.0 0.5 1.0 1.0 2.0 0.0 0.0\n",
      " 1.0 1.0 1.0 1.0 1.0 2.0 2.0 2.0 0.5 0.5 1.0 1.0 0.5 2.0 1.0 1.0 0.5 2.0\n",
      " 2.0 1.0 0.0 2.0 1.0 1.0 1.0 1.0 1.0 1.0 1.0 0.5 1.0 0.5 0.5 1.0]\n",
      "\n",
      "\n",
      "Mean:  2.698224852071006 1.012\n"
     ]
    },
    {
     "data": {
      "image/png": "[encoded data removed]",
      "text/plain": [
       "<Figure size 432x288 with 1 Axes>"
      ]
     },
     "metadata": {
      "needs_background": "light"
     },
     "output_type": "display_data"
    },
    {
     "name": "stdout",
     "output_type": "stream",
     "text": [
      "************************************************************************************************************************\n",
      "\n",
      "\n",
      "\n",
      "\n",
      "Feature:  NACCLBDS\n",
      "\n",
      "\n",
      "--------------------------------------------------------------------------------\n",
      "var_same LeveneResult(statistic=4.392266952164944, pvalue=0.03670462156897535)\n",
      "Test: f_t, p_value_t -2.500E+00 1.297E-02\n",
      "ANOVA: f, p_value: 4.392E+00 1.297E-02\n",
      "--------------------------------------------------------------------------------\n",
      "\n",
      "\n",
      "Group1:  [0 0 0 0 0 0 0 0 0 0 0 1 1 0 1 0 0 0 0 0 0 0 0 0 1 0 0 1 0 0 0 0 0 1 0 0 0\n",
      " 0 0 0 1 0 0 0 0 0 0 0 0 1 0 0 0 0 0 0 0 0 0 0 0 0 0 0 0 0 0 0 0 1 0 0 0 0\n",
      " 0 0 0 1 0 0 0 0 0 0 0 0 0 0 0 1 0 0 0 0 0 0 0 0 0 0 0 0 1 1 0 0 1 0 0 0 0\n",
      " 0 0 0 0 0 0 0 0 0 0 0 0 0 0 0 1 0 0 0 0 0 0 0 0 0 0 0 0 0 0 0 0 1 1 0 0 0\n",
      " 0 0 0 0 0 0 0 0 0 0 1 0 0 0 0 0 1 1 0 0 0]\n",
      "\n",
      "\n",
      "Group2:  [0 0 0 0 0 0 0 1 0 1 0 0 0 0 0 0 0 0 0 0 0 1 0 0 0 0 0 0 0 0 0 0 0 0 0 0 0\n",
      " 0 1 0 0 0 0 0 1 0 0 8 0 0 0 0 0 0 0 0 0 8 0 0 0 0 0 0 0 0 0 0 0 0 0 0 0 0\n",
      " 0 0 0 0 8 1 0 0 0 0 1 0 0 0 0 0 0 1 0 0 0 0 0 0 0 1 0 0 0 0 0 1 0 0 0 0 0\n",
      " 0 0 0 0 0 0 0 0 0 0 0 0 0 0 0 0 0 0 0 0 0 0 0 0 0 0 0 0 8 0 0 0 8 0 0 0 0\n",
      " 0 0 0 0 0 0 1 0 0 0 0 0 0 0 0 0 0 8 0 0 0 0 0 0 0 0 0 0 8 0 0 1 0 0 0 0 0\n",
      " 0 1 0 0 1 0 0 0 0 0 0 0 0 0 0 0 1 0 1 1 8 0 0 0 1 0 1 0 0 0 0 0 0 0 0 1 0\n",
      " 0 0 0 0 0 0 0 1 0 0 1 1 0 0 0 0 0 0 1 0 0 0 0 0 0 0 0 0]\n",
      "\n",
      "\n",
      "Mean:  0.11834319526627218 0.352\n"
     ]
    },
    {
     "data": {
      "image/png": "[encoded data removed]",
      "text/plain": [
       "<Figure size 432x288 with 1 Axes>"
      ]
     },
     "metadata": {
      "needs_background": "light"
     },
     "output_type": "display_data"
    },
    {
     "name": "stdout",
     "output_type": "stream",
     "text": [
      "************************************************************************************************************************\n",
      "\n",
      "\n",
      "\n",
      "\n",
      "Feature:  NACCIDEM\n",
      "\n",
      "\n",
      "--------------------------------------------------------------------------------\n",
      "var_same LeveneResult(statistic=9.47963869873702, pvalue=0.0022149610012863813)\n",
      "Test: f_t, p_value_t 3.163E+00 1.684E-03\n",
      "ANOVA: f, p_value: 9.480E+00 1.684E-03\n",
      "--------------------------------------------------------------------------------\n",
      "\n",
      "\n",
      "Group1:  [8 1 8 1 8 1 8 8 8 8 8 8 1 8 1 8 8 8 8 8 1 8 1 8 1 1 1 8 8 8 8 8 8 8 8 1 1\n",
      " 1 8 8 1 8 1 8 8 8 1 1 8 1 8 8 8 8 8 1 8 8 1 8 8 8 1 8 8 8 8 1 1 8 1 8 8 8\n",
      " 8 8 8 8 1 8 8 8 8 8 8 8 8 8 8 8 1 8 8 8 8 8 8 8 8 8 1 1 8 8 8 8 8 8 1 1 8\n",
      " 8 8 8 8 8 8 8 1 8 1 8 8 8 8 1 1 8 8 1 8 8 8 8 8 1 8 8 8 8 8 8 1 1 8 8 8 8\n",
      " 8 8 8 8 8 8 8 1 8 8 8 8 8 8 8 8 1 8 8 8 8]\n",
      "\n",
      "\n",
      "Group2:  [1 1 8 8 1 8 8 8 8 8 8 8 1 8 8 1 8 1 8 8 8 1 8 8 8 8 1 8 8 8 8 8 8 8 8 1 8\n",
      " 1 8 8 1 8 8 8 8 8 8 0 8 1 8 8 8 8 8 8 8 0 1 8 1 1 8 8 8 8 8 8 1 8 8 8 1 1\n",
      " 8 8 8 8 0 8 1 8 1 8 8 8 1 1 8 8 1 8 8 8 8 1 1 8 8 8 8 8 8 8 1 1 1 8 8 1 8\n",
      " 1 8 1 8 1 8 1 8 1 1 1 1 8 8 8 8 8 8 8 1 8 1 1 8 8 1 1 1 0 8 1 8 0 8 1 8 8\n",
      " 1 8 1 1 1 8 8 8 1 1 8 8 1 1 1 1 8 0 8 8 8 8 1 1 1 8 1 1 8 1 8 8 1 8 8 1 8\n",
      " 8 1 1 1 1 1 8 8 8 8 8 8 1 1 1 8 1 8 8 8 1 1 8 1 8 1 8 8 8 8 8 1 8 8 8 1 8\n",
      " 8 8 8 1 8 1 8 8 8 1 8 8 8 1 1 8 8 8 8 1 1 8 8 1 1 1 8 8]\n",
      "\n",
      "\n",
      "Mean:  6.34319526627219 5.344\n"
     ]
    },
    {
     "data": {
      "image/png": "[encoded data removed]",
      "text/plain": [
       "<Figure size 432x288 with 1 Axes>"
      ]
     },
     "metadata": {
      "needs_background": "light"
     },
     "output_type": "display_data"
    },
    {
     "name": "stdout",
     "output_type": "stream",
     "text": [
      "************************************************************************************************************************\n",
      "\n",
      "\n",
      "\n",
      "\n"
     ]
    }
   ],
   "source": [
    "group1_index=np.where(data_arr[:,-1]==True)[0]\n",
    "group2_index=np.where(data_arr[:,-1]==False)[0]\n",
    "\n",
    "for i in np.arange(used_number_features):\n",
    "    feature_name=FS_data_used[i]\n",
    "    \n",
    "    print(\"Feature: \",feature_name)\n",
    "    \n",
    "    \n",
    "    index_i=np.where(column_names_arr==feature_name)[0][0]\n",
    "    get_data_i=data_arr[:,index_i]\n",
    "    \n",
    "    group1_data=get_data_i[group1_index]\n",
    "    group2_data=get_data_i[group2_index]\n",
    "    \n",
    "    statistic_analysis(group1_data, group2_data)\n",
    "    \n",
    "    print(\"Group1: \",group1_data)\n",
    "    print(\"\\n\")\n",
    "    print(\"Group2: \",group2_data)\n",
    "    print(\"\\n\")\n",
    "    print(\"Mean: \",np.mean(group1_data),np.mean(group2_data))\n",
    "    \n",
    "    bar_figure(group1_data,group2_data,feature_name)\n",
    "    \n",
    "    print(\"*\"*120)\n",
    "    print(\"\\n\\n\\n\")"
   ]
  },
  {
   "cell_type": "code",
   "execution_count": null,
   "id": "70ef15bc-0121-45dc-bbf3-704ff10db8c6",
   "metadata": {},
   "outputs": [],
   "source": []
  }
 ],
 "metadata": {
  "kernelspec": {
   "display_name": "Python 3 (ipykernel)",
   "language": "python",
   "name": "python3"
  },
  "language_info": {
   "codemirror_mode": {
    "name": "ipython",
    "version": 3
   },
   "file_extension": ".py",
   "mimetype": "text/x-python",
   "name": "python",
   "nbconvert_exporter": "python",
   "pygments_lexer": "ipython3",
   "version": "3.7.8"
  },
  "widgets": {
   "application/vnd.jupyter.widget-state+json": {
    "state": {},
    "version_major": 2,
    "version_minor": 0
   }
  }
 },
 "nbformat": 4,
 "nbformat_minor": 5
}
