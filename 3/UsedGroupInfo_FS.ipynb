{
 "cells": [
  {
   "cell_type": "code",
   "execution_count": 1,
   "id": "00049547-c2e4-4996-84af-e1d46d9928c0",
   "metadata": {},
   "outputs": [],
   "source": [
    "import pandas as pd\n",
    "import numpy as np\n",
    "import gc\n",
    "\n",
    "from scipy import stats\n",
    "from matplotlib import pyplot as plt"
   ]
  },
  {
   "cell_type": "code",
   "execution_count": 2,
   "id": "c1776d00-d24e-47d9-b0c5-794fec49c4e9",
   "metadata": {},
   "outputs": [],
   "source": [
    "def csv_read(p_path,header_is=0):\n",
    "    pd_data=pd.read_csv(p_path, sep=',',header=header_is)\n",
    "    column_names=pd_data.columns.values.tolist()\n",
    "    print(column_names)\n",
    "    return pd_data,np.array(pd_data),column_names\n",
    "\n",
    "#-------------------------------------------------------------------------------------\n",
    "def write_to_csv(p_data,p_path):\n",
    "    dataframe = pd.DataFrame(p_data)\n",
    "    dataframe.to_csv(p_path, mode='a',header=False,index=False,sep=',')\n",
    "    del dataframe\n",
    "    gc.collect()\n",
    "    \n",
    "#-------------------------------------------------------------------------------------\n",
    "def bar_figure(group1,group2,y_label):\n",
    "    figure,axes=plt.subplots()\n",
    "    \n",
    "    axes.boxplot([group1,group2],patch_artist=True)\n",
    "    plt.xticks(range(1,3),['Group 1','Group 2'])\n",
    "    #plt.yticks(fontsize = 20)\n",
    "    \n",
    "    min_end=min(np.min(group1),np.min(group2))\n",
    "    max_end=max(np.max(group1),np.max(group2))\n",
    "    end=(max_end-min_end)/10\n",
    "    plt.ylim(min_end-end,max_end+end)\n",
    "    plt.ylabel(y_label)\n",
    "    plt.show()\n",
    "\n",
    "#-------------------------------------------------------------------------------------\n",
    "def statistic_analysis(group1, group2):\n",
    "    var_same=stats.levene(group1, group2)\n",
    "    \n",
    "    print(\"\\n\")\n",
    "    print(\"-\"*80)\n",
    "    \n",
    "    print(\"var_same\",var_same)\n",
    "\n",
    "    if var_same[1]>0.05:\n",
    "        f_t, p_value_t = stats.ttest_ind(group1, group2, equal_var=True)\n",
    "        print(\"Test: f_t, p_value_t\", format(f_t,'.3E'), format(p_value_t,'.3E'))\n",
    "    else:\n",
    "        f_t, p_value_t = stats.ttest_ind(group1, group2, equal_var=False)\n",
    "        print(\"Test: f_t, p_value_t\",format(f_t,'.3E'), format(p_value_t,'.3E'))\n",
    "    \n",
    "    f, p_value = stats.f_oneway(group1, group2)\n",
    "    print(\"ANOVA: f, p_value:\",format(f,'.3E'), format(p_value_t,'.3E'))\n",
    "    print(\"-\"*80)\n",
    "    print(\"\\n\")"
   ]
  },
  {
   "cell_type": "code",
   "execution_count": 3,
   "id": "ee046a8a-1080-4a33-a91c-73829cfcb74d",
   "metadata": {
    "scrolled": true,
    "tags": []
   },
   "outputs": [
    {
     "name": "stdout",
     "output_type": "stream",
     "text": [
      "['NACCREAS', 'NACCREFR', 'BIRTHMO', 'BIRTHYR', 'SEX', 'HISPANIC', 'HISPOR', 'RACE', 'RACESEC', 'RACETER', 'PRIMLANG', 'EDUC', 'MARISTAT', 'NACCLIVS', 'INDEPEND', 'RESIDENC', 'HANDED', 'NACCFADM', 'NACCFFTD', 'MEMORY', 'ORIENT', 'JUDGMENT', 'COMMUN', 'HOMEHOBB', 'PERSCARE', 'CDRSUM', 'DECSUB', 'DECIN', 'COGMEM', 'COGJUDG', 'COGLANG', 'COGVIS', 'COGATTN', 'COGOTHR', 'NACCCOGF', 'COGMODE', 'DECAGE', 'BEAPATHY', 'BEDEP', 'BEVHALL', 'BEAHALL', 'BEDEL', 'BEDISIN', 'BEIRRIT', 'BEAGIT', 'BEPERCH', 'BEOTHR', 'NACCBEHF', 'BEMODE', 'MOGAIT', 'MOFALLS', 'MOTREM', 'MOSLOW', 'NACCMOTF', 'MOMODE', 'COURSE', 'FRSTCHG', 'NORMCOG', 'DEMENTED', 'NACCPPA', 'NACCBVFT', 'NACCLBDS', 'NACCTMCI', 'NACCMCIL', 'NACCMCIA', 'NACCMCIE', 'NACCMCIV', 'NACCMCII', 'IMPNOMCI', 'NACCALZD', 'NACCALZP', 'NACCLBDE', 'NACCLBDP', 'PARK', 'PSP', 'PSPIF', 'CORT', 'CORTIF', 'DOWNS', 'DOWNSIF', 'HUNT', 'HUNTIF', 'PRION', 'PRIONIF', 'BRNINJ', 'BRNINJIF', 'HYCEPH', 'HYCEPHIF', 'NEOP', 'NEOPIF', 'DEP', 'DEPIF', 'OTHPSY', 'OTHPSYIF', 'ALCDEM', 'ALCDEMIF', 'DYSILL', 'DYSILLIF', 'MEDS', 'MEDSIF', 'COGOTH', 'COGOTHIF', 'NACCETPR', 'NACCADMU', 'NACCFTDM', 'NACCAGEB', 'NACCNIHR', 'NACCNORM', 'NACCIDEM', 'NACCAGE', 'NACCUDSD', 'NACCAPOE', 'NACCNE4S', 'NPPMIH', 'NPFIX', 'NPWBRWT', 'NPWBRF', 'NACCBRNN', 'NPGRCCA', 'NPGRLA', 'NPGRHA', 'NPGRSNH', 'NPGRLCH', 'NACCAVAS', 'NPTAN', 'NPABAN', 'NPASAN', 'NPTDPAN', 'NPHISMB', 'NPHISG', 'NPHISSS', 'NPHIST', 'NPHISO', 'NPTHAL', 'NACCBRAA', 'NACCNEUR', 'NPADNC', 'NACCDIFF', 'NACCVASC', 'NACCAMY', 'NPINF', 'NPINF1A', 'NPINF1B', 'NPINF1D', 'NPINF1F', 'NPINF2A', 'NPINF2B', 'NPINF2D', 'NPINF2F', 'NPINF3A', 'NPINF3B', 'NPINF3D', 'NPINF3F', 'NPINF4A', 'NPINF4B', 'NPINF4D', 'NPINF4F', 'NACCINF', 'NPHEMO', 'NPHEMO1', 'NPHEMO2', 'NPHEMO3', 'NPOLD', 'NPOLD1', 'NPOLD2', 'NPOLD3', 'NPOLD4', 'NACCMICR', 'NPOLDD', 'NPOLDD1', 'NPOLDD2', 'NPOLDD3', 'NPOLDD4', 'NACCHEM', 'NACCARTE', 'NPWMR', 'NPPATH', 'NACCNEC', 'NPPATH2', 'NPPATH3', 'NPPATH4', 'NPPATH5', 'NPPATH6', 'NPPATH7', 'NPPATH8', 'NPPATH9', 'NPPATH10', 'NPPATH11', 'NACCLEWY', 'NPLBOD', 'NPNLOSS', 'NPHIPSCL', 'NPFTDTAU', 'NACCPICK', 'NPFTDT2', 'NACCCBD', 'NACCPROG', 'NPFTDT5', 'NPFTDT6', 'NPFTDT7', 'NPFTDT8', 'NPFTDT9', 'NPFTDT10', 'NPFTDTDP', 'NPALSMND', 'NPOFTD', 'NPOFTD1', 'NPOFTD2', 'NPOFTD3', 'NPOFTD4', 'NPOFTD5', 'NPTDPA', 'NPTDPB', 'NPTDPC', 'NPTDPD', 'NPTDPE', 'NPPDXA', 'NPPDXB', 'NACCPRIO', 'NPPDXD', 'NPPDXE', 'NPPDXF', 'NPPDXG', 'NPPDXH', 'NPPDXI', 'NPPDXJ', 'NPPDXK', 'NPPDXL', 'NPPDXM', 'NPPDXN', 'NACCDOWN', 'NPPDXP', 'NPPDXQ', 'NACCOTHP', 'NACCBNKF', 'NPBNKB', 'NACCFORM', 'NACCPARA', 'NACCCSFP', 'NPBNKF', 'NPFAUT', 'NACCDAGE', 'NACCINT', 'SurvivalTime', 'Event']\n",
      "[0, 1, 2, 3, 4, 5, 6, 7, 8, 9, 10, 11, 12, 13, 14, 15, 16, 17, 18, 19, 20, 21, 22, 23, 24, 25, 26, 27, 28, 29, 30, 31, 32, 33, 34, 35, 36, 37, 38, 39, 40, 41, 42, 43, 44, 45, 46, 47, 48, 49, 50, 51, 52, 53, 54, 55, 56, 57, 58, 59, 60, 61, 62, 63, 64, 65, 66, 67, 68, 69, 70, 71, 72, 73, 74, 75, 76, 77, 78, 79, 80, 81, 82, 83, 84, 85, 86, 87, 88, 89, 90, 91, 92, 93, 94, 95, 96, 97, 98, 99]\n"
     ]
    }
   ],
   "source": [
    "data,data_arr,column_names=csv_read('./data/survival_data_filtered_3.csv')\n",
    "column_names_arr=np.array(column_names)\n",
    "\n",
    "FS_data,FS_data_arr,_=csv_read('./feature_selection.csv',header_is=None)"
   ]
  },
  {
   "cell_type": "code",
   "execution_count": 4,
   "id": "8e9fc7fe-e17e-42e1-abba-2a16112e6948",
   "metadata": {},
   "outputs": [],
   "source": [
    "used_number_features=10\n",
    "FS_data_used=FS_data_arr[-1,0:used_number_features]"
   ]
  },
  {
   "cell_type": "code",
   "execution_count": 5,
   "id": "0a6cd145-dad5-4996-85d8-27af00038f5d",
   "metadata": {},
   "outputs": [
    {
     "name": "stdout",
     "output_type": "stream",
     "text": [
      "Feature:  NACCAGEB\n",
      "\n",
      "\n",
      "--------------------------------------------------------------------------------\n",
      "var_same LeveneResult(statistic=0.5266363256335851, pvalue=0.4683553871992374)\n",
      "Test: f_t, p_value_t -1.433E+00 1.526E-01\n",
      "ANOVA: f, p_value: 2.052E+00 1.526E-01\n",
      "--------------------------------------------------------------------------------\n",
      "\n",
      "\n",
      "Group1:  [79 58 76 59 77 86 60 74 76 71 50 80 61 64 61 29 72 72 60 89 68 83 61 75\n",
      " 66 85 65 63 91 72 71 70 59 76 57 71 71 47 78 67 65 75 57 64 61 88 65 75\n",
      " 69 58 85 57 82 73 70 59 70 74 56 59 63 82 73 72 58 54 56 70 77 59 68 88\n",
      " 69 86 80 59 71 67 47 57 74 60 66 74 93 67 66 75 75 78 71 79 80 59 79 63\n",
      " 60 77 62 57 53 80 65 48 28 73 63 75 66 65 67 67 64 68 76 66 78 72 62 69\n",
      " 56 73 77 87 70 92 61 86 68 73 60 70 86 59 78 28 82 68 87 56 68 66 55 63\n",
      " 79 78 56 69 90 75 57 79 55 68 58 75 66 78 59 68 74 76 60 68 82 60 80 67\n",
      " 66 54 75 65 49 56 74 53 69 76 69 76 70 79 73 64 73 76 52 83 64 78 80 68\n",
      " 66 68 77 76 57 71 68 65 68 62 74 65 68 69 79 78 79 54 81 57 63 77 95 84\n",
      " 75 77 73 56 61 61 53 76 60 85 77 62 78 60 82 64 69 85 76 61 70 84 82 81\n",
      " 86 80 75 72 70 54 78 91 74 74 49 85 52 80 57 73 79 67 53]\n",
      "\n",
      "\n",
      "Group2:  [66 51 80 68 67 78 71 64 82 75 84 47 67 83 88 65 72 82 72 65 40 72 61 63\n",
      " 59 73 85 68 72 58 70 83 79 65 73 36 56 50 79 51 93 73 73 72 59 76 74 78\n",
      " 72 74 74 65 70 61 71 73 76 71 35 81 60 51 63 55 63 74 70 73 81 58 67 75\n",
      " 84 57 68 75 81 77 71 66 90 68 78 69 58 78 86 61 75 72 68 72 67 75 61 91\n",
      " 90 81 78 66 73 61 59 71 66 71 75 73 75 76 75 70 62 84 83 74 69 76 86 83\n",
      " 78 54 67 50 75 75 86 64 71 73 74 59 60 57 86 62 70 87 72 71 85 69 39 62\n",
      " 83 80 60 67 64 78 59 46 72 85 56 75 82 74 77 78 77 83 52 75 65 83 89 63\n",
      " 61 83 61 84 67 67 60 65 77 66 79 73 87 70 67 76 77 56 63 78 75 73 84 65\n",
      " 77 78 85 78 62 79 70 78 71 75 70 69 74 92 78 62 62 77 73 61 57 85 67 65\n",
      " 71 70 87 81 88 65 78 70 64 88 59 51 63 45 78 76 76 46 93 74 58 66 85 48\n",
      " 74 52 73 61 58 72 67 75 79 71 74 79 72 72 66 66]\n",
      "\n",
      "\n",
      "Mean:  69.24324324324324 70.60546875\n"
     ]
    },
    {
     "data": {
      "image/png": "[encoded data removed]",
      "text/plain": [
       "<Figure size 432x288 with 1 Axes>"
      ]
     },
     "metadata": {
      "needs_background": "light"
     },
     "output_type": "display_data"
    },
    {
     "name": "stdout",
     "output_type": "stream",
     "text": [
      "************************************************************************************************************************\n",
      "\n",
      "\n",
      "\n",
      "\n",
      "Feature:  NACCIDEM\n",
      "\n",
      "\n",
      "--------------------------------------------------------------------------------\n",
      "var_same LeveneResult(statistic=20.87902394731879, pvalue=6.135510545980999e-06)\n",
      "Test: f_t, p_value_t 4.565E+00 6.304E-06\n",
      "ANOVA: f, p_value: 2.088E+01 6.304E-06\n",
      "--------------------------------------------------------------------------------\n",
      "\n",
      "\n",
      "Group1:  [8 8 8 8 8 1 8 1 1 8 8 8 1 8 1 1 8 8 8 8 8 1 8 8 8 8 8 8 1 1 1 8 8 8 8 8 8\n",
      " 8 8 8 1 8 8 8 8 1 8 1 8 8 8 8 8 1 1 8 8 1 8 8 8 8 8 1 8 8 8 1 8 8 1 8 8 8\n",
      " 8 8 8 8 8 8 8 8 1 8 8 8 8 8 8 1 8 8 1 1 8 8 8 8 8 8 8 1 8 8 8 8 8 8 8 8 8\n",
      " 8 8 8 8 8 1 1 8 1 8 8 8 8 8 8 8 8 1 1 8 1 8 8 8 1 8 1 8 8 8 1 8 8 8 8 8 8\n",
      " 1 8 8 8 8 1 8 1 8 8 8 8 8 8 8 8 8 8 8 8 1 8 8 8 8 8 1 8 1 1 8 8 1 8 1 8 8\n",
      " 1 1 8 8 1 8 1 8 8 8 1 8 8 8 8 8 8 8 8 8 1 8 8 1 8 8 8 8 8 8 8 1 8 8 8 8 8\n",
      " 8 1 8 8 8 8 8 8 8 8 8 8 1 8 8 1 1 8 8 1 8 8 8 8 8 1 8 8 8 1 8 1 8 8 8 8 1]\n",
      "\n",
      "\n",
      "Group2:  [1 8 1 8 8 8 8 8 1 8 1 1 8 1 8 8 8 1 1 8 8 8 8 8 8 8 1 8 1 8 8 1 1 1 8 8 1\n",
      " 8 8 8 1 8 8 8 8 8 0 1 1 8 8 8 8 8 8 0 8 1 1 1 1 8 8 1 8 1 8 1 8 8 1 1 1 8\n",
      " 8 8 8 8 8 8 1 8 1 8 8 1 1 8 8 8 1 8 8 8 1 1 1 8 8 8 8 1 1 8 1 1 1 8 8 1 1\n",
      " 8 1 1 8 1 1 1 1 1 8 8 8 8 8 8 1 8 8 1 1 8 8 8 1 8 1 0 8 1 8 0 8 8 1 8 8 8\n",
      " 8 1 1 8 1 1 8 8 1 8 8 1 1 1 8 8 8 8 1 8 0 8 8 8 8 1 8 8 1 1 8 1 1 1 1 8 8\n",
      " 8 1 8 8 8 1 8 8 1 1 1 1 1 8 8 1 8 8 8 1 1 1 8 8 1 1 8 8 1 1 8 1 1 1 8 8 8\n",
      " 8 8 1 8 8 8 8 8 8 8 8 1 8 8 1 8 1 1 8 8 8 8 8 8 1 8 1 8 8 1 1 1 8 8]\n",
      "\n",
      "\n",
      "Mean:  6.405405405405405 5.109375\n"
     ]
    },
    {
     "data": {
      "image/png": "[encoded data removed]",
      "text/plain": [
       "<Figure size 432x288 with 1 Axes>"
      ]
     },
     "metadata": {
      "needs_background": "light"
     },
     "output_type": "display_data"
    },
    {
     "name": "stdout",
     "output_type": "stream",
     "text": [
      "************************************************************************************************************************\n",
      "\n",
      "\n",
      "\n",
      "\n",
      "Feature:  NACCAGE\n",
      "\n",
      "\n",
      "--------------------------------------------------------------------------------\n",
      "var_same LeveneResult(statistic=0.0019151159671715139, pvalue=0.9651111156023993)\n",
      "Test: f_t, p_value_t -1.213E+00 2.257E-01\n",
      "ANOVA: f, p_value: 1.471E+00 2.257E-01\n",
      "--------------------------------------------------------------------------------\n",
      "\n",
      "\n",
      "Group1:  [84 59 81 60 80 93 61 81 80 74 51 83 65 70 73 34 73 76 61 93 70 88 63 76\n",
      " 68 89 70 66 97 83 81 75 63 81 59 76 76 51 81 69 67 78 59 68 64 93 72 83\n",
      " 71 66 88 58 86 82 80 61 77 79 60 61 69 86 74 76 63 56 57 78 80 61 71 90\n",
      " 75 87 83 66 73 68 51 59 76 62 71 78 94 69 76 81 80 82 74 80 87 64 83 64\n",
      " 61 79 66 60 54 84 69 49 35 78 64 81 68 66 69 68 66 70 84 70 88 78 67 79\n",
      " 60 76 81 91 76 95 65 89 75 85 65 74 87 62 79 38 85 71 89 57 72 74 56 65\n",
      " 81 83 59 70 100 79 60 80 61 79 59 80 67 80 61 72 75 77 61 69 89 62 82 70\n",
      " 70 57 76 67 53 59 77 56 73 81 72 79 75 81 83 65 75 85 55 91 66 84 82 79\n",
      " 67 69 81 86 59 75 69 68 69 66 74 66 71 74 81 81 88 57 83 59 66 78 98 85\n",
      " 81 77 74 59 68 64 54 78 61 89 80 63 79 63 88 66 73 92 87 63 72 90 91 82\n",
      " 89 87 77 74 71 55 79 97 75 76 51 91 55 84 63 74 81 70 56]\n",
      "\n",
      "\n",
      "Group2:  [72 52 90 70 71 78 75 67 92 75 91 54 73 87 88 67 76 84 81 65 42 72 61 64\n",
      " 62 79 95 68 75 63 73 91 85 74 73 36 58 50 83 53 99 77 74 72 62 79 80 82\n",
      " 81 75 79 72 76 63 76 84 78 77 41 85 62 52 65 59 65 77 74 81 88 59 69 80\n",
      " 89 57 68 79 83 78 71 70 99 73 85 73 58 90 92 61 77 81 69 72 70 75 64 96\n",
      " 93 81 81 67 76 64 60 71 73 74 79 73 79 81 80 76 64 96 83 80 75 78 89 88\n",
      " 81 55 67 51 80 78 94 66 72 76 79 61 60 61 93 65 72 88 74 76 90 81 43 62\n",
      " 86 81 60 69 64 90 64 47 78 97 56 83 87 74 77 83 80 91 52 77 66 83 98 65\n",
      " 62 84 63 89 73 73 60 67 89 70 86 76 95 71 72 83 77 59 70 84 76 73 87 69\n",
      " 77 83 87 85 74 80 70 79 74 76 70 71 84 99 87 65 65 84 84 65 60 85 70 65\n",
      " 76 71 91 83 93 72 82 72 71 93 59 51 64 45 80 82 77 53 94 75 62 70 88 53\n",
      " 76 52 73 66 58 72 71 75 86 74 76 87 83 77 66 70]\n",
      "\n",
      "\n",
      "Mean:  72.96138996138995 74.2109375\n"
     ]
    },
    {
     "data": {
      "image/png": "[encoded data removed]",
      "text/plain": [
       "<Figure size 432x288 with 1 Axes>"
      ]
     },
     "metadata": {
      "needs_background": "light"
     },
     "output_type": "display_data"
    },
    {
     "name": "stdout",
     "output_type": "stream",
     "text": [
      "************************************************************************************************************************\n",
      "\n",
      "\n",
      "\n",
      "\n",
      "Feature:  NACCDAGE\n",
      "\n",
      "\n",
      "--------------------------------------------------------------------------------\n",
      "var_same LeveneResult(statistic=0.3966957707488091, pvalue=0.5290810670872743)\n",
      "Test: f_t, p_value_t -7.180E-01 4.731E-01\n",
      "ANOVA: f, p_value: 5.156E-01 4.731E-01\n",
      "--------------------------------------------------------------------------------\n",
      "\n",
      "\n",
      "Group1:  [89 61 81 69 85 95 65 83 84 80 59 85 65 72 73 41 76 78 71 94 73 92 72 79\n",
      " 73 94 75 74 98 87 83 77 64 85 61 83 78 55 84 72 70 84 63 75 70 94 72 87\n",
      " 76 68 92 63 88 85 82 65 78 83 62 66 72 88 77 78 64 61 62 78 84 64 73 95\n",
      " 79 91 89 67 76 72 54 64 78 67 72 82 97 71 78 85 81 86 79 85 89 65 85 66\n",
      " 63 80 70 64 61 85 70 50 35 82 67 84 74 68 74 70 70 75 84 72 91 82 74 81\n",
      " 65 77 85 96 82 101 67 92 82 86 69 74 88 65 81 39 87 77 90 59 76 77 62 67\n",
      " 82 89 62 74 102 86 66 91 62 82 61 81 72 85 68 75 76 78 62 70 91 64 91 76\n",
      " 76 61 84 76 59 65 80 60 78 83 75 85 77 85 83 75 76 86 62 95 71 89 86 80\n",
      " 71 71 81 88 62 77 73 69 71 70 75 67 75 82 85 85 88 61 86 60 69 83 99 85\n",
      " 84 79 75 62 68 67 56 81 70 91 84 68 83 64 91 75 78 95 89 68 77 93 94 85\n",
      " 93 90 80 79 74 62 80 104 76 76 52 93 63 86 67 74 88 76 56]\n",
      "\n",
      "\n",
      "Group2:  [75 53 91 73 75 79 75 69 94 80 93 55 79 88 92 68 84 90 85 66 44 75 64 65\n",
      " 62 80 97 69 78 65 78 92 87 76 73 44 64 58 86 55 100 84 74 73 63 84 83 82\n",
      " 84 78 84 72 80 65 79 84 84 79 43 94 64 56 72 59 65 78 75 83 88 63 72 82\n",
      " 90 58 68 86 88 86 73 71 99 73 87 76 63 92 92 62 79 84 70 72 71 81 67 99\n",
      " 96 89 89 77 77 65 63 73 75 75 81 75 86 86 81 78 65 96 95 85 76 80 95 90\n",
      " 81 63 72 57 81 80 99 69 80 79 81 62 69 64 94 69 74 96 76 76 96 82 44 64\n",
      " 90 83 65 70 70 90 68 52 79 99 61 84 88 75 79 87 86 95 62 81 68 86 99 67\n",
      " 63 91 65 90 73 75 65 69 92 71 87 78 95 73 73 85 81 64 70 84 78 77 87 75\n",
      " 85 84 88 85 75 83 74 84 81 86 72 74 86 100 87 73 70 88 86 70 65 94 71 68\n",
      " 82 73 97 83 98 73 84 77 71 96 60 54 66 46 83 84 78 56 94 75 66 74 91 61\n",
      " 79 56 75 68 62 74 80 78 87 76 76 88 83 80 67 72]\n",
      "\n",
      "\n",
      "Mean:  76.38610038610038 77.1171875\n"
     ]
    },
    {
     "data": {
      "image/png": "[encoded data removed]",
      "text/plain": [
       "<Figure size 432x288 with 1 Axes>"
      ]
     },
     "metadata": {
      "needs_background": "light"
     },
     "output_type": "display_data"
    },
    {
     "name": "stdout",
     "output_type": "stream",
     "text": [
      "************************************************************************************************************************\n",
      "\n",
      "\n",
      "\n",
      "\n",
      "Feature:  COGJUDG\n",
      "\n",
      "\n",
      "--------------------------------------------------------------------------------\n",
      "var_same LeveneResult(statistic=7.25284828634928, pvalue=0.007310504398161324)\n",
      "Test: f_t, p_value_t 2.677E+00 7.900E-03\n",
      "ANOVA: f, p_value: 7.253E+00 7.900E-03\n",
      "--------------------------------------------------------------------------------\n",
      "\n",
      "\n",
      "Group1:  [1 1 1 1 1 1 1 1 1 1 1 1 1 1 1 1 1 1 1 1 1 1 1 1 1 1 1 1 1 1 1 1 1 1 1 1 1\n",
      " 1 1 1 1 1 1 1 1 1 1 1 1 1 1 1 1 1 1 1 1 1 1 1 1 1 1 1 1 1 1 1 1 1 1 1 1 1\n",
      " 1 1 1 1 1 1 1 1 1 1 1 1 1 1 1 1 1 1 1 1 1 1 1 1 1 1 1 1 1 1 1 1 1 1 1 1 1\n",
      " 1 1 1 1 1 1 1 1 1 1 1 1 1 1 1 1 1 1 1 1 1 1 1 1 1 1 1 1 1 1 1 1 1 1 1 1 1\n",
      " 1 1 1 1 1 1 1 1 1 1 1 1 1 1 1 1 1 1 1 1 1 1 1 1 1 1 1 1 1 1 1 1 1 1 1 1 1\n",
      " 1 1 1 1 1 1 1 1 1 1 1 1 1 1 1 1 1 1 1 1 1 1 1 1 1 1 1 1 1 1 1 1 1 1 1 1 1\n",
      " 1 1 1 1 1 1 1 1 1 1 1 1 1 1 1 1 1 1 1 1 1 1 1 1 1 1 1 1 1 1 1 1 1 1 1 1 1]\n",
      "\n",
      "\n",
      "Group2:  [1 1 1 1 1 1 1 1 1 1 1 1 1 1 1 1 1 1 1 1 1 1 1 0 1 1 0 1 1 1 1 1 1 1 1 1 1\n",
      " 1 1 1 1 1 1 1 1 1 0 1 0 1 1 1 1 1 1 1 1 1 1 1 1 1 1 1 1 1 1 1 1 1 1 1 1 1\n",
      " 1 1 1 1 1 1 1 1 1 1 1 1 1 1 1 1 1 1 1 1 1 1 1 1 1 1 1 1 1 1 1 1 1 1 1 1 1\n",
      " 1 1 0 1 1 1 1 1 1 1 1 1 1 1 1 1 1 1 1 1 1 1 1 1 1 1 1 1 1 1 1 1 1 1 1 1 1\n",
      " 1 1 1 1 1 1 1 1 1 1 1 1 1 1 1 1 1 1 1 1 1 1 1 1 1 1 1 1 1 0 0 1 1 1 1 1 1\n",
      " 1 1 1 1 1 1 1 1 1 1 1 1 1 1 1 1 1 1 1 1 1 1 1 1 1 1 1 1 1 1 1 1 1 1 1 1 1\n",
      " 1 1 1 1 1 1 1 1 1 1 1 1 1 1 1 1 1 1 1 1 1 1 1 1 1 1 1 1 1 1 1 1 1 1]\n",
      "\n",
      "\n",
      "Mean:  1.0 0.97265625\n"
     ]
    },
    {
     "data": {
      "image/png": "[encoded data removed]",
      "text/plain": [
       "<Figure size 432x288 with 1 Axes>"
      ]
     },
     "metadata": {
      "needs_background": "light"
     },
     "output_type": "display_data"
    },
    {
     "name": "stdout",
     "output_type": "stream",
     "text": [
      "************************************************************************************************************************\n",
      "\n",
      "\n",
      "\n",
      "\n",
      "Feature:  COGMODE\n",
      "\n",
      "\n",
      "--------------------------------------------------------------------------------\n",
      "var_same LeveneResult(statistic=1.412790371484904, pvalue=0.23514366053331648)\n",
      "Test: f_t, p_value_t -1.189E+00 2.351E-01\n",
      "ANOVA: f, p_value: 1.413E+00 2.351E-01\n",
      "--------------------------------------------------------------------------------\n",
      "\n",
      "\n",
      "Group1:  [1 1 1 1 1 1 1 1 1 1 1 1 1 1 1 1 1 1 1 1 1 1 1 1 1 1 1 1 1 1 1 1 1 1 1 1 1\n",
      " 1 1 1 1 1 1 1 1 1 1 1 1 1 1 1 1 1 1 1 1 1 1 1 1 1 1 1 1 1 1 1 1 1 1 1 1 1\n",
      " 1 1 1 1 1 1 1 1 1 1 1 1 1 1 1 1 1 1 1 1 1 1 1 1 1 1 1 1 1 1 1 1 1 1 1 1 1\n",
      " 1 1 1 1 1 1 1 1 1 1 1 1 1 1 1 1 1 1 1 1 1 1 1 1 1 1 1 1 1 1 1 1 1 1 1 1 1\n",
      " 1 1 1 1 1 1 1 1 1 1 1 1 1 1 1 1 1 1 1 1 1 1 1 1 1 1 1 1 1 1 1 1 1 1 1 1 1\n",
      " 1 1 1 1 1 1 1 1 1 1 1 1 1 1 1 1 1 1 2 1 1 1 1 1 1 1 1 1 1 1 1 1 1 1 1 1 1\n",
      " 1 1 1 1 1 1 1 1 1 1 1 1 1 1 1 1 1 1 1 1 1 1 1 1 1 1 1 1 1 1 1 1 1 1 1 1 1]\n",
      "\n",
      "\n",
      "Group2:  [1 1 1 1 1 1 1 1 1 1 1 1 1 1 1 1 1 1 1 1 1 1 1 1 1 1 1 1 3 1 1 1 1 1 1 1 1\n",
      " 1 1 1 1 1 1 1 1 1 1 1 1 1 1 1 1 1 1 1 1 1 1 1 1 1 1 1 1 1 1 1 1 1 1 1 1\n",
      " 99 1 1 1 1 1 1 1 1 1 1 1 1 1 1 1 1 1 1 1 1 1 1 1 1 1 1 1 1 1 1 4 1 1 1 1\n",
      " 1 1 1 1 1 1 1 1 1 1 1 1 1 1 1 1 1 1 1 1 1 1 1 4 1 1 1 1 1 1 1 1 1 1 2 1 1\n",
      " 1 1 1 1 1 1 1 1 1 1 3 1 1 1 1 1 1 1 1 1 1 1 1 1 1 1 1 1 1 1 1 1 1 3 1 1 1\n",
      " 1 1 1 1 4 1 1 1 1 1 1 1 1 1 1 1 1 1 1 1 1 1 1 1 1 1 1 1 1 1 1 1 1 1 1 4 1\n",
      " 1 1 1 1 1 1 1 1 1 1 1 1 1 1 1 1 1 1 1 1 1 1 1 1 1 1 1 1 1 1 1 1 1 1 1 1]\n",
      "\n",
      "\n",
      "Mean:  1.0038610038610039 1.45703125\n"
     ]
    },
    {
     "data": {
      "image/png": "[encoded data removed]",
      "text/plain": [
       "<Figure size 432x288 with 1 Axes>"
      ]
     },
     "metadata": {
      "needs_background": "light"
     },
     "output_type": "display_data"
    },
    {
     "name": "stdout",
     "output_type": "stream",
     "text": [
      "************************************************************************************************************************\n",
      "\n",
      "\n",
      "\n",
      "\n",
      "Feature:  NACCCOGF\n",
      "\n",
      "\n",
      "--------------------------------------------------------------------------------\n",
      "var_same LeveneResult(statistic=4.610746808791174, pvalue=0.03224014696036183)\n",
      "Test: f_t, p_value_t 2.152E+00 3.193E-02\n",
      "ANOVA: f, p_value: 4.611E+00 3.193E-02\n",
      "--------------------------------------------------------------------------------\n",
      "\n",
      "\n",
      "Group1:  [1 1 99 1 1 99 4 1 1 1 1 1 1 1 99 3 1 1 3 1 1 1 1 1 1 1 1 1 1 1 1 3 1 1 5\n",
      " 1 4 1 1 1 3 1 99 1 4 1 3 1 1 1 1 1 1 1 1 1 99 1 1 1 1 99 3 1 5 1 1 1 1 99\n",
      " 3 1 1 1 1 1 1 1 99 4 1 3 1 1 1 99 1 1 99 4 1 1 1 99 1 1 5 4 99 99 3 1 5 4\n",
      " 3 1 5 1 1 1 1 3 3 1 1 99 1 1 1 1 1 6 1 1 1 1 1 3 1 1 3 4 1 99 4 6 1 5 1 1\n",
      " 4 1 5 4 99 1 1 1 99 1 1 1 1 99 1 4 3 1 4 1 1 3 3 4 1 1 1 1 1 3 1 2 1 4 1\n",
      " 1 1 1 1 1 1 8 99 6 4 1 1 1 3 1 1 1 1 3 3 1 5 99 3 99 3 5 3 5 4 1 1 4 1 1\n",
      " 1 4 6 1 1 1 3 4 1 1 1 1 1 1 1 1 3 1 1 1 1 4 1 1 1 1 1 1 1 1 1 1 1 1 5 5 1\n",
      " 1 1 3 1 1 1 1 5 1 1 1 3]\n",
      "\n",
      "\n",
      "Group2:  [1 3 99 4 1 5 1 1 1 3 1 1 1 3 1 4 1 1 1 1 1 3 4 5 99 1 4 3 5 4 1 3 1 1 6 4\n",
      " 3 3 1 3 1 1 4 3 1 1 1 1 1 1 1 4 1 5 1 1 1 99 1 1 1 1 5 5 4 4 4 1 1 1 99 1\n",
      " 1 99 3 1 1 1 1 1 1 4 1 6 4 1 1 3 1 1 4 3 1 1 1 1 1 1 1 1 1 3 5 1 3 1 6 1\n",
      " 1 1 1 1 99 1 1 1 1 1 1 1 1 3 1 1 1 1 1 4 3 1 1 5 3 4 1 4 4 1 1 4 1 1 4 3\n",
      " 3 4 3 1 1 1 3 1 1 99 3 1 1 1 4 1 1 1 4 1 1 6 1 1 1 1 4 1 4 1 1 1 1 4 1 4\n",
      " 1 6 1 1 1 1 4 1 1 1 1 1 1 1 1 1 1 3 1 1 1 3 1 4 4 1 4 1 3 1 1 5 4 1 1 4 3\n",
      " 3 1 1 1 3 99 3 1 1 3 1 3 3 1 1 3 1 1 3 5 5 1 3 4 1 1 99 4 1 1 1 1 1 1 1 1\n",
      " 1 3 1]\n",
      "\n",
      "\n",
      "Mean:  9.714285714285714 5.4140625\n"
     ]
    },
    {
     "data": {
      "image/png": "[encoded data removed]",
      "text/plain": [
       "<Figure size 432x288 with 1 Axes>"
      ]
     },
     "metadata": {
      "needs_background": "light"
     },
     "output_type": "display_data"
    },
    {
     "name": "stdout",
     "output_type": "stream",
     "text": [
      "************************************************************************************************************************\n",
      "\n",
      "\n",
      "\n",
      "\n",
      "Feature:  JUDGMENT\n",
      "\n",
      "\n",
      "--------------------------------------------------------------------------------\n",
      "var_same LeveneResult(statistic=32.68735793085496, pvalue=1.8390445895003226e-08)\n",
      "Test: f_t, p_value_t 1.510E+01 3.616E-42\n",
      "ANOVA: f, p_value: 2.270E+02 3.616E-42\n",
      "--------------------------------------------------------------------------------\n",
      "\n",
      "\n",
      "Group1:  [3.0 2.0 1.0 2.0 1.0 2.0 3.0 2.0 2.0 2.0 2.0 1.0 2.0 3.0 3.0 1.0 2.0 2.0\n",
      " 3.0 1.0 2.0 1.0 2.0 1.0 2.0 1.0 1.0 2.0 2.0 1.0 2.0 2.0 2.0 2.0 2.0 2.0\n",
      " 2.0 1.0 1.0 3.0 2.0 2.0 3.0 2.0 3.0 2.0 3.0 2.0 1.0 1.0 2.0 1.0 1.0 2.0\n",
      " 1.0 2.0 2.0 2.0 2.0 2.0 2.0 1.0 2.0 2.0 2.0 2.0 2.0 2.0 1.0 2.0 2.0 1.0\n",
      " 1.0 2.0 2.0 2.0 2.0 2.0 2.0 2.0 2.0 1.0 1.0 2.0 1.0 2.0 1.0 2.0 1.0 2.0\n",
      " 2.0 1.0 1.0 1.0 1.0 2.0 2.0 2.0 2.0 2.0 1.0 2.0 2.0 2.0 2.0 1.0 2.0 2.0\n",
      " 2.0 3.0 1.0 2.0 2.0 2.0 1.0 1.0 3.0 2.0 1.0 2.0 2.0 3.0 2.0 2.0 2.0 1.0\n",
      " 1.0 2.0 2.0 1.0 1.0 2.0 2.0 2.0 2.0 2.0 1.0 1.0 2.0 1.0 2.0 1.0 3.0 2.0\n",
      " 2.0 2.0 2.0 1.0 1.0 1.0 2.0 2.0 1.0 1.0 2.0 2.0 2.0 3.0 2.0 1.0 2.0 1.0\n",
      " 3.0 3.0 1.0 2.0 2.0 1.0 2.0 3.0 1.0 2.0 1.0 3.0 2.0 1.0 2.0 1.0 3.0 2.0\n",
      " 2.0 3.0 3.0 3.0 2.0 2.0 3.0 2.0 3.0 2.0 3.0 2.0 2.0 1.0 2.0 2.0 2.0 1.0\n",
      " 3.0 3.0 2.0 1.0 2.0 1.0 3.0 2.0 2.0 2.0 1.0 2.0 2.0 2.0 1.0 2.0 2.0 1.0\n",
      " 2.0 1.0 2.0 2.0 2.0 3.0 3.0 2.0 2.0 1.0 2.0 2.0 2.0 1.0 2.0 2.0 2.0 2.0\n",
      " 2.0 1.0 1.0 2.0 2.0 2.0 1.0 2.0 1.0 3.0 2.0 2.0 3.0 1.0 1.0 3.0 2.0 1.0\n",
      " 2.0 2.0 2.0 2.0 3.0 3.0 2.0]\n",
      "\n",
      "\n",
      "Group2:  [1.0 1.0 1.0 1.0 0.5 1.0 1.0 1.0 1.0 2.0 1.0 2.0 1.0 1.0 1.0 1.0 1.0 1.0\n",
      " 1.0 1.0 1.0 2.0 1.0 0.5 1.0 1.0 1.0 1.0 0.5 1.0 1.0 1.0 1.0 1.0 1.0 1.0\n",
      " 2.0 3.0 1.0 2.0 2.0 1.0 1.0 1.0 0.5 1.0 1.0 0.5 1.0 1.0 2.0 1.0 2.0 1.0\n",
      " 1.0 1.0 1.0 1.0 1.0 1.0 1.0 1.0 1.0 1.0 2.0 1.0 2.0 1.0 1.0 1.0 1.0 2.0\n",
      " 2.0 1.0 1.0 2.0 1.0 1.0 2.0 1.0 1.0 3.0 1.0 1.0 2.0 0.5 1.0 1.0 1.0 1.0\n",
      " 1.0 2.0 1.0 1.0 1.0 1.0 1.0 0.5 1.0 1.0 1.0 1.0 1.0 1.0 1.0 1.0 1.0 2.0\n",
      " 1.0 1.0 3.0 1.0 1.0 1.0 1.0 1.0 0.5 1.0 1.0 1.0 2.0 2.0 1.0 1.0 1.0 1.0\n",
      " 1.0 3.0 1.0 0.5 1.0 3.0 1.0 1.0 1.0 1.0 1.0 1.0 2.0 1.0 1.0 0.5 0.5 1.0\n",
      " 1.0 1.0 2.0 1.0 1.0 1.0 1.0 1.0 1.0 1.0 1.0 1.0 2.0 1.0 1.0 1.0 2.0 1.0\n",
      " 1.0 1.0 1.0 1.0 1.0 1.0 0.5 1.0 1.0 1.0 1.0 1.0 1.0 1.0 1.0 0.5 1.0 1.0\n",
      " 1.0 1.0 1.0 1.0 1.0 1.0 1.0 1.0 2.0 1.0 1.0 1.0 1.0 1.0 1.0 1.0 1.0 1.0\n",
      " 1.0 1.0 1.0 1.0 1.0 1.0 1.0 0.5 1.0 1.0 2.0 1.0 1.0 1.0 1.0 1.0 1.0 1.0\n",
      " 1.0 0.5 1.0 1.0 0.5 1.0 1.0 0.5 1.0 1.0 1.0 2.0 1.0 1.0 1.0 1.0 1.0 1.0\n",
      " 1.0 2.0 1.0 1.0 1.0 1.0 1.0 1.0 2.0 1.0 2.0 1.0 1.0 1.0 1.0 1.0 1.0 1.0\n",
      " 1.0 1.0 1.0 2.0]\n",
      "\n",
      "\n",
      "Mean:  1.8494208494208495 1.123046875\n"
     ]
    },
    {
     "data": {
      "image/png": "[encoded data removed]",
      "text/plain": [
       "<Figure size 432x288 with 1 Axes>"
      ]
     },
     "metadata": {
      "needs_background": "light"
     },
     "output_type": "display_data"
    },
    {
     "name": "stdout",
     "output_type": "stream",
     "text": [
      "************************************************************************************************************************\n",
      "\n",
      "\n",
      "\n",
      "\n",
      "Feature:  COMMUN\n",
      "\n",
      "\n",
      "--------------------------------------------------------------------------------\n",
      "var_same LeveneResult(statistic=8.313043275442425, pvalue=0.00410136322062183)\n",
      "Test: f_t, p_value_t 1.879E+01 9.897E-60\n",
      "ANOVA: f, p_value: 3.541E+02 9.897E-60\n",
      "--------------------------------------------------------------------------------\n",
      "\n",
      "\n",
      "Group1:  [2.0 2.0 2.0 1.0 2.0 2.0 2.0 2.0 2.0 2.0 2.0 2.0 1.0 1.0 2.0 2.0 2.0 2.0\n",
      " 2.0 2.0 1.0 1.0 1.0 2.0 2.0 2.0 2.0 2.0 1.0 2.0 2.0 2.0 2.0 2.0 2.0 2.0\n",
      " 2.0 2.0 2.0 2.0 2.0 1.0 2.0 2.0 2.0 2.0 2.0 1.0 2.0 2.0 2.0 2.0 2.0 2.0\n",
      " 2.0 1.0 2.0 1.0 2.0 1.0 2.0 1.0 2.0 2.0 2.0 2.0 2.0 2.0 2.0 2.0 2.0 2.0\n",
      " 2.0 2.0 1.0 2.0 2.0 2.0 2.0 2.0 2.0 2.0 2.0 2.0 2.0 2.0 2.0 2.0 2.0 2.0\n",
      " 2.0 2.0 2.0 2.0 2.0 1.0 2.0 2.0 2.0 2.0 2.0 2.0 2.0 2.0 2.0 2.0 2.0 2.0\n",
      " 2.0 3.0 2.0 2.0 2.0 2.0 2.0 2.0 2.0 1.0 2.0 2.0 2.0 2.0 2.0 2.0 2.0 2.0\n",
      " 2.0 2.0 2.0 2.0 2.0 2.0 2.0 2.0 2.0 2.0 1.0 2.0 2.0 2.0 2.0 2.0 1.0 3.0\n",
      " 2.0 2.0 1.0 2.0 2.0 2.0 2.0 2.0 2.0 2.0 2.0 2.0 3.0 2.0 2.0 2.0 2.0 2.0\n",
      " 2.0 2.0 2.0 2.0 2.0 2.0 1.0 2.0 2.0 2.0 2.0 2.0 2.0 2.0 2.0 2.0 2.0 2.0\n",
      " 2.0 2.0 2.0 2.0 2.0 1.0 2.0 2.0 2.0 2.0 3.0 2.0 2.0 2.0 2.0 2.0 2.0 2.0\n",
      " 3.0 3.0 2.0 2.0 2.0 2.0 2.0 2.0 2.0 2.0 1.0 2.0 1.0 3.0 2.0 2.0 1.0 2.0\n",
      " 2.0 2.0 2.0 2.0 1.0 2.0 2.0 2.0 2.0 2.0 2.0 3.0 0.0 2.0 2.0 2.0 2.0 2.0\n",
      " 2.0 2.0 2.0 2.0 1.0 2.0 2.0 2.0 2.0 2.0 2.0 2.0 2.0 2.0 2.0 0.5 3.0 2.0\n",
      " 2.0 2.0 2.0 2.0 2.0 2.0 2.0]\n",
      "\n",
      "\n",
      "Group2:  [2.0 1.0 1.0 1.0 1.0 2.0 1.0 2.0 0.5 1.0 1.0 2.0 1.0 1.0 0.5 1.0 1.0 1.0\n",
      " 1.0 1.0 1.0 1.0 1.0 2.0 1.0 2.0 1.0 1.0 1.0 1.0 1.0 1.0 2.0 2.0 1.0 1.0\n",
      " 1.0 2.0 1.0 2.0 1.0 1.0 1.0 1.0 1.0 1.0 1.0 1.0 1.0 2.0 1.0 1.0 1.0 1.0\n",
      " 1.0 0.5 1.0 1.0 1.0 1.0 1.0 1.0 1.0 1.0 2.0 1.0 2.0 1.0 1.0 1.0 1.0 1.0\n",
      " 1.0 1.0 1.0 2.0 2.0 1.0 1.0 1.0 1.0 3.0 1.0 1.0 2.0 1.0 1.0 1.0 1.0 1.0\n",
      " 1.0 1.0 1.0 1.0 1.0 2.0 1.0 1.0 0.5 1.0 1.0 2.0 2.0 2.0 0.5 1.0 0.5 1.0\n",
      " 1.0 1.0 2.0 0.5 1.0 1.0 1.0 2.0 1.0 1.0 1.0 1.0 1.0 1.0 1.0 1.0 1.0 0.5\n",
      " 2.0 2.0 1.0 1.0 1.0 2.0 1.0 1.0 1.0 2.0 1.0 0.5 1.0 1.0 2.0 0.5 1.0 2.0\n",
      " 1.0 3.0 1.0 1.0 1.0 0.5 1.0 1.0 1.0 2.0 1.0 1.0 1.0 1.0 1.0 1.0 1.0 1.0\n",
      " 1.0 1.0 2.0 1.0 2.0 2.0 1.0 1.0 1.0 0.5 1.0 1.0 2.0 1.0 1.0 3.0 1.0 2.0\n",
      " 1.0 1.0 1.0 1.0 1.0 1.0 1.0 1.0 1.0 0.5 1.0 1.0 1.0 1.0 1.0 2.0 2.0 1.0\n",
      " 1.0 0.5 1.0 1.0 1.0 2.0 2.0 1.0 3.0 1.0 1.0 1.0 1.0 1.0 1.0 1.0 1.0 1.0\n",
      " 2.0 2.0 1.0 1.0 1.0 1.0 1.0 2.0 1.0 0.5 1.0 1.0 1.0 1.0 2.0 2.0 2.0 1.0\n",
      " 1.0 2.0 1.0 1.0 1.0 1.0 2.0 2.0 1.0 1.0 1.0 1.0 1.0 1.0 1.0 2.0 1.0 1.0\n",
      " 1.0 0.5 2.0 1.0]\n",
      "\n",
      "\n",
      "Mean:  1.920849420849421 1.19140625\n"
     ]
    },
    {
     "data": {
      "image/png": "[encoded data removed]",
      "text/plain": [
       "<Figure size 432x288 with 1 Axes>"
      ]
     },
     "metadata": {
      "needs_background": "light"
     },
     "output_type": "display_data"
    },
    {
     "name": "stdout",
     "output_type": "stream",
     "text": [
      "************************************************************************************************************************\n",
      "\n",
      "\n",
      "\n",
      "\n",
      "Feature:  HOMEHOBB\n",
      "\n",
      "\n",
      "--------------------------------------------------------------------------------\n",
      "var_same LeveneResult(statistic=7.300413608793739, pvalue=0.007122148227903129)\n",
      "Test: f_t, p_value_t 1.843E+01 5.547E-58\n",
      "ANOVA: f, p_value: 3.404E+02 5.547E-58\n",
      "--------------------------------------------------------------------------------\n",
      "\n",
      "\n",
      "Group1:  [2.0 2.0 2.0 2.0 2.0 3.0 3.0 2.0 2.0 3.0 2.0 2.0 2.0 3.0 2.0 3.0 1.0 2.0\n",
      " 2.0 3.0 2.0 2.0 2.0 2.0 2.0 3.0 2.0 2.0 2.0 2.0 2.0 2.0 2.0 2.0 2.0 2.0\n",
      " 1.0 2.0 2.0 2.0 2.0 2.0 2.0 1.0 2.0 2.0 2.0 2.0 2.0 2.0 2.0 2.0 2.0 2.0\n",
      " 2.0 1.0 3.0 3.0 3.0 2.0 2.0 2.0 1.0 2.0 2.0 2.0 2.0 2.0 2.0 3.0 2.0 2.0\n",
      " 2.0 2.0 2.0 2.0 2.0 2.0 3.0 2.0 2.0 2.0 2.0 2.0 2.0 2.0 3.0 3.0 2.0 2.0\n",
      " 3.0 2.0 2.0 2.0 2.0 2.0 3.0 2.0 2.0 2.0 3.0 2.0 2.0 2.0 2.0 2.0 2.0 2.0\n",
      " 2.0 2.0 3.0 2.0 2.0 2.0 2.0 2.0 3.0 2.0 2.0 2.0 3.0 2.0 3.0 2.0 2.0 2.0\n",
      " 2.0 3.0 2.0 2.0 2.0 2.0 2.0 2.0 2.0 2.0 2.0 2.0 2.0 2.0 2.0 2.0 2.0 3.0\n",
      " 2.0 2.0 2.0 3.0 2.0 2.0 2.0 2.0 2.0 2.0 2.0 1.0 3.0 2.0 2.0 2.0 1.0 2.0\n",
      " 2.0 3.0 2.0 1.0 2.0 2.0 2.0 3.0 2.0 3.0 3.0 2.0 2.0 3.0 1.0 2.0 2.0 2.0\n",
      " 2.0 1.0 2.0 2.0 2.0 3.0 2.0 2.0 2.0 2.0 2.0 1.0 2.0 2.0 2.0 3.0 2.0 2.0\n",
      " 2.0 2.0 2.0 2.0 2.0 2.0 2.0 2.0 1.0 2.0 2.0 2.0 2.0 2.0 2.0 3.0 2.0 2.0\n",
      " 3.0 2.0 2.0 2.0 1.0 2.0 3.0 2.0 2.0 2.0 2.0 2.0 2.0 2.0 2.0 2.0 2.0 2.0\n",
      " 1.0 2.0 2.0 2.0 3.0 2.0 2.0 2.0 2.0 2.0 1.0 2.0 2.0 2.0 2.0 2.0 3.0 2.0\n",
      " 2.0 2.0 2.0 2.0 2.0 2.0 3.0]\n",
      "\n",
      "\n",
      "Group2:  [2.0 3.0 1.0 2.0 1.0 2.0 0.5 1.0 1.0 1.0 1.0 1.0 1.0 1.0 1.0 1.0 1.0 2.0\n",
      " 2.0 1.0 2.0 1.0 1.0 2.0 1.0 2.0 1.0 0.5 1.0 1.0 1.0 1.0 2.0 1.0 1.0 1.0\n",
      " 1.0 2.0 1.0 1.0 1.0 1.0 1.0 1.0 1.0 1.0 1.0 1.0 1.0 2.0 2.0 2.0 2.0 2.0\n",
      " 1.0 1.0 1.0 2.0 2.0 1.0 2.0 1.0 1.0 1.0 1.0 1.0 1.0 1.0 1.0 1.0 1.0 1.0\n",
      " 1.0 1.0 1.0 1.0 1.0 1.0 2.0 1.0 1.0 2.0 1.0 1.0 1.0 1.0 1.0 1.0 1.0 1.0\n",
      " 1.0 1.0 1.0 1.0 1.0 1.0 1.0 1.0 1.0 1.0 1.0 2.0 2.0 2.0 1.0 1.0 1.0 1.0\n",
      " 1.0 1.0 1.0 1.0 0.5 1.0 1.0 2.0 1.0 2.0 1.0 1.0 1.0 1.0 1.0 1.0 1.0 1.0\n",
      " 3.0 2.0 1.0 1.0 1.0 3.0 1.0 1.0 1.0 1.0 1.0 1.0 2.0 1.0 1.0 2.0 2.0 2.0\n",
      " 1.0 2.0 1.0 2.0 0.5 1.0 3.0 1.0 2.0 1.0 1.0 1.0 1.0 1.0 1.0 1.0 1.0 1.0\n",
      " 1.0 2.0 1.0 1.0 1.0 1.0 1.0 2.0 1.0 1.0 2.0 1.0 2.0 1.0 1.0 3.0 1.0 1.0\n",
      " 1.0 1.0 1.0 0.5 1.0 1.0 1.0 2.0 1.0 1.0 3.0 0.5 1.0 1.0 1.0 2.0 1.0 1.0\n",
      " 2.0 1.0 1.0 2.0 1.0 2.0 2.0 1.0 3.0 1.0 1.0 1.0 2.0 2.0 1.0 1.0 1.0 1.0\n",
      " 0.5 2.0 2.0 1.0 1.0 1.0 1.0 3.0 1.0 1.0 1.0 1.0 2.0 1.0 1.0 2.0 2.0 2.0\n",
      " 1.0 3.0 1.0 1.0 1.0 0.5 2.0 1.0 1.0 2.0 1.0 2.0 0.5 1.0 0.5 2.0 2.0 1.0\n",
      " 2.0 1.0 2.0 1.0]\n",
      "\n",
      "\n",
      "Mean:  2.088803088803089 1.27734375\n"
     ]
    },
    {
     "data": {
      "image/png": "[encoded data removed]",
      "text/plain": [
       "<Figure size 432x288 with 1 Axes>"
      ]
     },
     "metadata": {
      "needs_background": "light"
     },
     "output_type": "display_data"
    },
    {
     "name": "stdout",
     "output_type": "stream",
     "text": [
      "************************************************************************************************************************\n",
      "\n",
      "\n",
      "\n",
      "\n"
     ]
    }
   ],
   "source": [
    "group1_index=np.where(data_arr[:,-1]==True)[0]\n",
    "group2_index=np.where(data_arr[:,-1]==False)[0]\n",
    "\n",
    "for i in np.arange(used_number_features):\n",
    "    feature_name=FS_data_used[i]\n",
    "    \n",
    "    print(\"Feature: \",feature_name)\n",
    "    \n",
    "    \n",
    "    index_i=np.where(column_names_arr==feature_name)[0][0]\n",
    "    get_data_i=data_arr[:,index_i]\n",
    "    \n",
    "    group1_data=get_data_i[group1_index]\n",
    "    group2_data=get_data_i[group2_index]\n",
    "    \n",
    "    statistic_analysis(group1_data, group2_data)\n",
    "    \n",
    "    print(\"Group1: \",group1_data)\n",
    "    print(\"\\n\")\n",
    "    print(\"Group2: \",group2_data)\n",
    "    print(\"\\n\")\n",
    "    print(\"Mean: \",np.mean(group1_data),np.mean(group2_data))\n",
    "    \n",
    "    bar_figure(group1_data,group2_data,feature_name)\n",
    "    \n",
    "    print(\"*\"*120)\n",
    "    print(\"\\n\\n\\n\")"
   ]
  },
  {
   "cell_type": "code",
   "execution_count": null,
   "id": "70ef15bc-0121-45dc-bbf3-704ff10db8c6",
   "metadata": {},
   "outputs": [],
   "source": []
  }
 ],
 "metadata": {
  "kernelspec": {
   "display_name": "Python 3 (ipykernel)",
   "language": "python",
   "name": "python3"
  },
  "language_info": {
   "codemirror_mode": {
    "name": "ipython",
    "version": 3
   },
   "file_extension": ".py",
   "mimetype": "text/x-python",
   "name": "python",
   "nbconvert_exporter": "python",
   "pygments_lexer": "ipython3",
   "version": "3.7.8"
  },
  "widgets": {
   "application/vnd.jupyter.widget-state+json": {
    "state": {},
    "version_major": 2,
    "version_minor": 0
   }
  }
 },
 "nbformat": 4,
 "nbformat_minor": 5
}
