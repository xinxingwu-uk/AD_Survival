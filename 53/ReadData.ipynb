{
 "cells": [
  {
   "cell_type": "code",
   "execution_count": 1,
   "id": "a79b110b-8560-4293-be20-eb4aeef0024c",
   "metadata": {},
   "outputs": [],
   "source": [
    "import pandas as pd\n",
    "import numpy as np\n",
    "import gc"
   ]
  },
  {
   "cell_type": "code",
   "execution_count": 2,
   "id": "90a4a00c-18d2-42c9-9494-8df52d820fd3",
   "metadata": {},
   "outputs": [],
   "source": [
    "def write_to_csv(p_data,p_path):\n",
    "    dataframe = pd.DataFrame(p_data)\n",
    "    dataframe.to_csv(p_path, mode='a',header=False,index=False,sep=',')\n",
    "    del dataframe\n",
    "    gc.collect()\n",
    "    \n",
    "def csv_read(p_path):\n",
    "    p_data=np.array(pd.read_csv(p_path, sep=',', header=None))\n",
    "    print('data.shape',p_data.shape)\n",
    "    return p_data"
   ]
  },
  {
   "cell_type": "code",
   "execution_count": 3,
   "id": "3b9cffb1-4fe5-475f-9370-d9949b93ac5f",
   "metadata": {
    "scrolled": true,
    "tags": []
   },
   "outputs": [
    {
     "name": "stderr",
     "output_type": "stream",
     "text": [
      "/usr/local/lib/python3.7/site-packages/IPython/core/interactiveshell.py:3441: DtypeWarning: Columns (19,21,23,25,27,40,43,45,47,50,60,62,64,66,68,70,88,89,90,91,92,93,94,95,96,97,98,99,100,101,102,103,104,105,106,107,108,109,110,111,112,113,133,155,164,175,178,188,216,219,221,223,225,227,229,231,233,235,237,239,241,243,245,247,249,251,253,255,257,259,261,263,265,267,269,271,381,396,398,400,418,420,422,431,444,453,493,566,574,599,635,651,665,668,671,676,688,699,705,707,792,798,800,801,984,986,988,989,991,998,1000,1002,1003,1010,1012,1014,1016,1017,1024,1039,1053,1067,1081,1083,1089,1090,1091,1092,1098,1099,1107,1118,1120,1122,1124,1130,1191,1246,1247,1248,1256,1257,1258,1259,1269,1291,1294,1297,1333,1349,1351,1353,1355,1357,1359,1361,1363,1365,1367,1369,1371,1373,1375,1377,1379,1381,1383,1385,1387,1389,1391,1393,1395,1397,1399,1401,1403,1453,1454,1456,1457,1460,1461,1464,1465,1468,1469,1472,1473,1547,1606,1615,1617,1619,1621,1632,1634,1636,1644,1646,1648,1650,1658,1660,1662,1664,1690) have mixed types.Specify dtype option on import or set low_memory=False.\n",
      "  exec(code_obj, self.user_global_ns, self.user_ns)\n"
     ]
    },
    {
     "name": "stdout",
     "output_type": "stream",
     "text": [
      "(163199, 1727)\n",
      "            NACCID  NACCADC PACKET  FORMVER  VISITMO  VISITDAY  VISITYR  \\\n",
      "0       NACC000385      289      I      1.0       11         8     2006   \n",
      "1       NACC000385      289      F      2.0        3        19     2008   \n",
      "2       NACC000385      289      F      2.0        3         4     2009   \n",
      "3       NACC000385      289      F      2.0        4        21     2010   \n",
      "4       NACC000385      289      F      2.0        1        28     2011   \n",
      "...            ...      ...    ...      ...      ...       ...      ...   \n",
      "163194  NACC998475     9661      F      1.0       11        15     2007   \n",
      "163195  NACC998475     9661      F      2.0       11         6     2008   \n",
      "163196  NACC999391     9661      I      1.0        3         2     2006   \n",
      "163197  NACC999391     9661      F      1.0        5        17     2007   \n",
      "163198  NACC999391     9661      F      2.0        3        27     2008   \n",
      "\n",
      "        NACCVNUM  NACCAVST  NACCNVST  ...  LBOTHYR  LBOTHMO  LBOTHPOS  \\\n",
      "0              1         7         6  ...      NaN      NaN       NaN   \n",
      "1              2         7         6  ...      NaN      NaN       NaN   \n",
      "2              3         7         6  ...      NaN      NaN       NaN   \n",
      "3              4         7         6  ...      NaN      NaN       NaN   \n",
      "4              5         7         6  ...      NaN      NaN       NaN   \n",
      "...          ...       ...       ...  ...      ...      ...       ...   \n",
      "163194         2         3         3  ...      NaN      NaN       NaN   \n",
      "163195         3         3         3  ...      NaN      NaN       NaN   \n",
      "163196         1         3         3  ...      NaN      NaN       NaN   \n",
      "163197         2         3         3  ...      NaN      NaN       NaN   \n",
      "163198         3         3         3  ...      NaN      NaN       NaN   \n",
      "\n",
      "        LBOTHAVL  LBOCGAIT  LBOCGYR  LBOCGMO  LBOCGDY  LBOCGPOS LBOCGAVL  \n",
      "0            NaN       NaN      NaN      NaN      NaN       NaN      NaN  \n",
      "1            NaN       NaN      NaN      NaN      NaN       NaN      NaN  \n",
      "2            NaN       NaN      NaN      NaN      NaN       NaN      NaN  \n",
      "3            NaN       NaN      NaN      NaN      NaN       NaN      NaN  \n",
      "4            NaN       NaN      NaN      NaN      NaN       NaN      NaN  \n",
      "...          ...       ...      ...      ...      ...       ...      ...  \n",
      "163194       NaN       NaN      NaN      NaN      NaN       NaN      NaN  \n",
      "163195       NaN       NaN      NaN      NaN      NaN       NaN      NaN  \n",
      "163196       NaN       NaN      NaN      NaN      NaN       NaN      NaN  \n",
      "163197       NaN       NaN      NaN      NaN      NaN       NaN      NaN  \n",
      "163198       NaN       NaN      NaN      NaN      NaN       NaN      NaN  \n",
      "\n",
      "[163199 rows x 1727 columns]\n"
     ]
    }
   ],
   "source": [
    "data = pd.read_csv('../data/cheng10142021.csv')\n",
    "print(data.shape) \n",
    "print(data)"
   ]
  },
  {
   "cell_type": "code",
   "execution_count": 4,
   "id": "d6628d95-464e-447e-941f-d1b67c56d6bb",
   "metadata": {},
   "outputs": [],
   "source": [
    "# Form header, Milestones, Other data available at NACC, and so on\n",
    "DelName=['NACCADC','PACKET','FORMVER','NPFORMVER','NACCMOD', 'NACCYOD','VISITMO','VISITDAY','VISITYR','NACCVNUM','NACCNVST','NACCDAYS','NACCDIED','NACCAUTP', 'NACCACTV','NACCNOVS', 'NACCDSMO', 'NACCDSDY', 'NACCDSYR', 'NACCNURP','NACCNRMO', 'NACCNRDY','NACCNRYR','NACCMDSS','NACCPAFF','NACCFTD','NACCLBDM','NACCMRSA','NACCNAPA','NACCAPSA','NACCACSF','NACCPCSF','NACCTCSF', 'NACCAUTP']#'NACCAVST'"
   ]
  },
  {
   "cell_type": "code",
   "execution_count": 5,
   "id": "9c1d3797-0a3e-49e2-86d1-01d478fb0373",
   "metadata": {},
   "outputs": [
    {
     "data": {
      "text/plain": [
       "(163199, 1694)"
      ]
     },
     "execution_count": 5,
     "metadata": {},
     "output_type": "execute_result"
    }
   ],
   "source": [
    "data_store=data.copy()\n",
    "data_store_=data_store.drop(DelName, axis=1)\n",
    "data_store_.shape"
   ]
  },
  {
   "cell_type": "code",
   "execution_count": 6,
   "id": "00b10aee-c8dd-438d-a56d-bbd269112cef",
   "metadata": {},
   "outputs": [
    {
     "data": {
      "text/plain": [
       "(163199, 1694)"
      ]
     },
     "execution_count": 6,
     "metadata": {},
     "output_type": "execute_result"
    }
   ],
   "source": [
    "data_store_arr=np.array(data_store_)\n",
    "data_store_arr.shape"
   ]
  },
  {
   "cell_type": "code",
   "execution_count": 7,
   "id": "6dc305d7-8afa-40ab-b58e-bd9aedb39795",
   "metadata": {},
   "outputs": [
    {
     "name": "stdout",
     "output_type": "stream",
     "text": [
      "(1694,)\n",
      "['NACCID' 'NACCAVST' 'NACCFDYS' ... 'LBOCGDY' 'LBOCGPOS' 'LBOCGAVL']\n"
     ]
    }
   ],
   "source": [
    "data_store_title=data_store_.columns.values.tolist()\n",
    "data_store_title_arr=np.array(data_store_title)\n",
    "print(data_store_title_arr.shape)\n",
    "print(data_store_title_arr)"
   ]
  },
  {
   "cell_type": "code",
   "execution_count": 8,
   "id": "65d12e20-5c14-4856-9c3d-8913f370e766",
   "metadata": {},
   "outputs": [],
   "source": [
    "# LATE\n",
    "\n",
    "#-------------------------------------------------------------------------------------------\n",
    "# 1. DISTRIBUTION OF TDP-43 IMMUNOREACTIVE INCLUSIONS\n",
    "# Only using 0 (No) and 1 (Yes), considering three regions: Amygdala (NPTDPB) Stage 1, Hippocampus (NPTDPC) Stage 2, Neocortex (NPTDPE) Stage 3\n",
    "# On the above three regions, for LATE, at least one should be 1 (Yes)\n",
    "NPTDPB_index=np.where(data_store_title_arr=='NPTDPB')[0][0]\n",
    "NPTDPC_index=np.where(data_store_title_arr=='NPTDPC')[0][0]\n",
    "NPTDPE_index=np.where(data_store_title_arr=='NPTDPE')[0][0]\n",
    "\n",
    "#-------------------------------------------------------------------------------------------\n",
    "# 2. FTLD with TDP-43 pathology (FTLD-TDP)\n",
    "#Only using 0 (No) and 1 (Yes), for LATE, it is 0 (No)\n",
    "FTLD_TDP_index=np.where(data_store_title_arr=='NPFTDTDP')[0][0]\n",
    "\n",
    "#-------------------------------------------------------------------------------------------\n",
    "# 3. ALS/motor neuron disease (MND) present?\n",
    "# No\n",
    "# 1 Yes, with TDP-43 inclusions in motor neurons\n",
    "# 2 Yes, with FUS inclusions in motor neurons\n",
    "# 3 Yes, with SOD1 inclusions in motor neurons\n",
    "# 4 Yes, with other inclusions\n",
    "# 5 Yes, with no specific inclusions\n",
    "# Using 0, 1, 2, 3, 4, and 5, for LATE, it is 0 (No)\n",
    "ALS_index=np.where(data_store_title_arr=='NPALSMND')[0][0]\n",
    "\n",
    "# 4. Other FTLD subtype\n",
    "# Only using 0 (No) and 1 (Yes), for LATE, it is 0 (No)\n",
    "aFTLD_U_index=np.where(data_store_title_arr=='NPOFTD1')[0][0]\n",
    "NIFID_index=np.where(data_store_title_arr=='NPOFTD2')[0][0]\n",
    "BIBD_index=np.where(data_store_title_arr=='NPOFTD3')[0][0]\n",
    "FTLD_UPS_index=np.where(data_store_title_arr=='NPOFTD4')[0][0]\n",
    "FTLD_NOS_index=np.where(data_store_title_arr=='NPOFTD5')[0][0]\n",
    "\n",
    "# 5. AD\n",
    "CDRGLOB_Index=np.where(data_store_title_arr=='CDRGLOB')[0][0]"
   ]
  },
  {
   "cell_type": "code",
   "execution_count": 9,
   "id": "52155fc3-0efa-4848-8151-42197648d39b",
   "metadata": {},
   "outputs": [
    {
     "data": {
      "text/plain": [
       "(10579,)"
      ]
     },
     "execution_count": 9,
     "metadata": {},
     "output_type": "execute_result"
    }
   ],
   "source": [
    "NPTDPB_values=data_store_arr[:,NPTDPB_index]\n",
    "NPTDPC_values=data_store_arr[:,NPTDPC_index]\n",
    "NPTDPE_values=data_store_arr[:,NPTDPE_index]\n",
    "\n",
    "Filter_index_1_a=np.unique(np.r_[np.r_[np.where(NPTDPB_values==1)[0],np.where(NPTDPC_values==1)[0]],np.where(NPTDPE_values==1)[0]])\n",
    "Filter_index_1_b=np.intersect1d(np.intersect1d(np.where(NPTDPB_values==0)[0],np.where(NPTDPC_values==0)[0]),np.where(NPTDPE_values==0)[0])\n",
    "\n",
    "Filter_index_1=np.r_[Filter_index_1_a,Filter_index_1_b]\n",
    "\n",
    "Filter_index_1.shape"
   ]
  },
  {
   "cell_type": "code",
   "execution_count": 10,
   "id": "6d782343-b7a2-4898-a1e9-a809e6c60f54",
   "metadata": {},
   "outputs": [
    {
     "data": {
      "text/plain": [
       "(13704,)"
      ]
     },
     "execution_count": 10,
     "metadata": {},
     "output_type": "execute_result"
    }
   ],
   "source": [
    "FTLD_TDP_values=data_store_arr[:,FTLD_TDP_index]\n",
    "ALS_values=data_store_arr[:,ALS_index]\n",
    "\n",
    "Filter_index_2_a=np.unique(np.r_[np.r_[np.r_[np.r_[np.r_[np.where(FTLD_TDP_values==1)[0],np.where(ALS_values==1)[0]],np.where(ALS_values==2)[0]],np.where(ALS_values==3)[0]],np.where(ALS_values==4)[0]],np.where(ALS_values==5)[0]])\n",
    "Filter_index_2_b=np.intersect1d(np.where(FTLD_TDP_values==0)[0],np.where(ALS_values==0)[0])\n",
    "\n",
    "Filter_index_2=np.r_[Filter_index_2_a,Filter_index_2_b]\n",
    "\n",
    "Filter_index_2.shape"
   ]
  },
  {
   "cell_type": "code",
   "execution_count": 11,
   "id": "10d079c3-a27b-4315-97b2-610bda75e368",
   "metadata": {},
   "outputs": [
    {
     "data": {
      "text/plain": [
       "(16529,)"
      ]
     },
     "execution_count": 11,
     "metadata": {},
     "output_type": "execute_result"
    }
   ],
   "source": [
    "aFTLD_U_values=data_store_arr[:,aFTLD_U_index]\n",
    "NIFID_values=data_store_arr[:,NIFID_index]\n",
    "BIBD_values=data_store_arr[:,BIBD_index]\n",
    "FTLD_UPS_values=data_store_arr[:,FTLD_UPS_index]\n",
    "FTLD_NOS_values=data_store_arr[:,FTLD_NOS_index]\n",
    "\n",
    "Filter_index_3_a=np.intersect1d(np.intersect1d(np.intersect1d(np.intersect1d(np.where(aFTLD_U_values==0)[0],np.where(NIFID_values==0)[0]),np.where(BIBD_values==0)[0]),np.where(FTLD_UPS_values==0)[0]),np.where(FTLD_NOS_values==0)[0])\n",
    "Filter_index_3_b=np.r_[np.r_[np.r_[np.r_[np.where(aFTLD_U_values==1)[0],np.where(NIFID_values==1)[0]],np.where(BIBD_values==1)[0]],np.where(FTLD_UPS_values==1)[0]],np.where(FTLD_NOS_values==1)[0]]\n",
    "\n",
    "Filter_index_3=np.r_[Filter_index_3_a,Filter_index_3_b]\n",
    "\n",
    "Filter_index_3.shape"
   ]
  },
  {
   "cell_type": "code",
   "execution_count": 12,
   "id": "07d66f54-429c-405b-8e40-87fba42b4b12",
   "metadata": {},
   "outputs": [
    {
     "data": {
      "text/plain": [
       "(154973,)"
      ]
     },
     "execution_count": 12,
     "metadata": {},
     "output_type": "execute_result"
    }
   ],
   "source": [
    "CDRGLOB_values=data_store_arr[:,CDRGLOB_Index]\n",
    "Filter_index_4=np.intersect1d(np.where(CDRGLOB_values<=2)[0],np.where(CDRGLOB_values>=0)[0])\n",
    "Filter_index_4.shape"
   ]
  },
  {
   "cell_type": "code",
   "execution_count": 13,
   "id": "5dbbab35-78bf-4263-9c02-62120f4e2763",
   "metadata": {},
   "outputs": [],
   "source": [
    "data_store_arr_Label_index=np.intersect1d(np.intersect1d(np.intersect1d(Filter_index_1,Filter_index_2),Filter_index_3),Filter_index_4)"
   ]
  },
  {
   "cell_type": "code",
   "execution_count": 14,
   "id": "922f418f-c8b4-40ab-a448-cc5acec13e59",
   "metadata": {},
   "outputs": [
    {
     "data": {
      "text/plain": [
       "array([     0,      1,      2, ..., 163189, 163190, 163191])"
      ]
     },
     "execution_count": 14,
     "metadata": {},
     "output_type": "execute_result"
    }
   ],
   "source": [
    "data_store_arr_Label_index"
   ]
  },
  {
   "cell_type": "code",
   "execution_count": 15,
   "id": "f79f83ff-47df-4dce-aeea-e29a14ef8787",
   "metadata": {},
   "outputs": [
    {
     "data": {
      "text/plain": [
       "(8136,)"
      ]
     },
     "execution_count": 15,
     "metadata": {},
     "output_type": "execute_result"
    }
   ],
   "source": [
    "data_store_arr_Label_index.shape"
   ]
  },
  {
   "cell_type": "code",
   "execution_count": 16,
   "id": "0df052b4-a8fe-452c-8745-3523b24608e6",
   "metadata": {},
   "outputs": [
    {
     "data": {
      "text/plain": [
       "(8136, 1694)"
      ]
     },
     "execution_count": 16,
     "metadata": {},
     "output_type": "execute_result"
    }
   ],
   "source": [
    "data_store_arr_Label_=data_store_arr[data_store_arr_Label_index]\n",
    "data_store_arr_Label_.shape"
   ]
  },
  {
   "cell_type": "code",
   "execution_count": 17,
   "id": "b63fc6ef-2385-494a-898c-3d1ef14cefa1",
   "metadata": {},
   "outputs": [
    {
     "data": {
      "text/plain": [
       "(1758,)"
      ]
     },
     "execution_count": 17,
     "metadata": {},
     "output_type": "execute_result"
    }
   ],
   "source": [
    "NACCID_Index=np.where(data_store_title_arr=='NACCID')[0][0]\n",
    "sample_all_IDs=data_store_arr_Label_[:,NACCID_Index]\n",
    "sample_IDs=np.unique(sample_all_IDs)\n",
    "sample_IDs.shape"
   ]
  },
  {
   "cell_type": "code",
   "execution_count": 18,
   "id": "70d16d8c-9f6a-4d37-987e-07e2c1805b6f",
   "metadata": {},
   "outputs": [
    {
     "data": {
      "text/plain": [
       "(8136,)"
      ]
     },
     "execution_count": 18,
     "metadata": {},
     "output_type": "execute_result"
    }
   ],
   "source": [
    "sample_all_IDs.shape"
   ]
  },
  {
   "cell_type": "code",
   "execution_count": 19,
   "id": "b9dcc05a-df5b-44a5-ba40-2a2122aeac01",
   "metadata": {},
   "outputs": [],
   "source": [
    "data_label=[]\n",
    "for data_i in data_store_arr_Label_:\n",
    "    Interested_value=list(data_i)\n",
    "    \n",
    "    if (data_i[NPTDPB_index]==1 or data_i[NPTDPC_index]==1 or data_i[NPTDPE_index]==1) and (data_i[FTLD_TDP_index]==0 and data_i[ALS_index]==0 and data_i[aFTLD_U_index]==0 and data_i[NIFID_index]==0 and data_i[BIBD_index]==0 and data_i[FTLD_UPS_index]==0 and data_i[FTLD_NOS_index]==0):\n",
    "        \n",
    "        # LATE\n",
    "        data_i_label=Interested_value+[1]\n",
    "    else:\n",
    "        if (data_i[NPTDPB_index]==0 and data_i[NPTDPC_index]==0 and data_i[NPTDPE_index]==0) and (data_i[FTLD_TDP_index]==0 and data_i[ALS_index]==0 and data_i[aFTLD_U_index]==0 and data_i[NIFID_index]==0 and data_i[BIBD_index]==0 and data_i[FTLD_UPS_index]==0 and data_i[FTLD_NOS_index]==0): \n",
    "            # Control\n",
    "            data_i_label=Interested_value+[0]\n",
    "        else:\n",
    "            # FTLD with TDP-43 pathology, ALS/motor neuron disease, or Other FTLD subtype\n",
    "            data_i_label=Interested_value+[2]\n",
    "    data_label.append(data_i_label)"
   ]
  },
  {
   "cell_type": "code",
   "execution_count": 20,
   "id": "e9529b61-bc48-4be8-88e0-157a9727d07f",
   "metadata": {},
   "outputs": [
    {
     "name": "stdout",
     "output_type": "stream",
     "text": [
      "(8136, 1695)\n"
     ]
    }
   ],
   "source": [
    "data_label_arr=np.array(data_label)\n",
    "print(data_label_arr.shape)"
   ]
  },
  {
   "cell_type": "code",
   "execution_count": 21,
   "id": "ea0825b1-e79b-4afd-94a2-674010cc97f5",
   "metadata": {},
   "outputs": [
    {
     "name": "stdout",
     "output_type": "stream",
     "text": [
      "Control: 4771\n",
      "pure LATE: 2681\n",
      "FTLD with TDP-43 pathology, ALS/motor neuron disease, or Other FTLD subtype: 684\n"
     ]
    }
   ],
   "source": [
    "label_values=[0,1,2]\n",
    "label_names=['Control','pure LATE', 'FTLD with TDP-43 pathology, ALS/motor neuron disease, or Other FTLD subtype']\n",
    "for label_i in label_values:\n",
    "    print(label_names[label_i]+\":\",np.sum(data_label_arr[:,-1].astype(int)==label_i))"
   ]
  },
  {
   "cell_type": "code",
   "execution_count": 22,
   "id": "38f1742d-3062-4c1e-80b9-6eb8d3eb6df7",
   "metadata": {},
   "outputs": [
    {
     "data": {
      "text/plain": [
       "(4771,)"
      ]
     },
     "execution_count": 22,
     "metadata": {},
     "output_type": "execute_result"
    }
   ],
   "source": [
    "# Got all pure LATE IDs\n",
    "sample_LATE_IDs=data_label_arr[np.where(data_label_arr[:,-1].astype(int)==0)[0],0]\n",
    "sample_LATE_IDs.shape"
   ]
  },
  {
   "cell_type": "code",
   "execution_count": 23,
   "id": "4bf00ee5-2bdb-4f4f-97e2-9d6852eba8f5",
   "metadata": {},
   "outputs": [
    {
     "data": {
      "text/plain": [
       "(4771, 1694)"
      ]
     },
     "execution_count": 23,
     "metadata": {},
     "output_type": "execute_result"
    }
   ],
   "source": [
    "sample_LATE=data_store_arr_Label_[np.where(data_label_arr[:,-1].astype(int)==0)[0],:]\n",
    "sample_LATE.shape"
   ]
  },
  {
   "cell_type": "code",
   "execution_count": 24,
   "id": "1e6f8237-0fa5-4e05-ade4-0c9e5cc35459",
   "metadata": {},
   "outputs": [
    {
     "data": {
      "text/plain": [
       "(998,)"
      ]
     },
     "execution_count": 24,
     "metadata": {},
     "output_type": "execute_result"
    }
   ],
   "source": [
    "sample_LATE_IDs_Unique=np.unique(sample_LATE_IDs)\n",
    "sample_LATE_IDs_Unique.shape"
   ]
  },
  {
   "cell_type": "code",
   "execution_count": 25,
   "id": "0c52b9b5-24cb-4086-8c68-e1028e6c2908",
   "metadata": {},
   "outputs": [],
   "source": [
    "data_store_title_arr_new=np.append(data_store_title_arr,np.array(['SurvivalTime','Event']))"
   ]
  },
  {
   "cell_type": "code",
   "execution_count": 26,
   "id": "4e5032b6-f68f-416d-a3d2-af44c4565165",
   "metadata": {},
   "outputs": [],
   "source": [
    "output_path=\"./data/survival_data.csv\"\n",
    "title=data_store_title_arr_new\n",
    "write_to_csv(title.reshape(1,title.shape[0]),output_path)"
   ]
  },
  {
   "cell_type": "code",
   "execution_count": 27,
   "id": "0faf3449-cb59-421d-973d-987e7d42191f",
   "metadata": {
    "scrolled": true,
    "tags": []
   },
   "outputs": [],
   "source": [
    "for sample_LATE_IDs_Unique_i in sample_LATE_IDs_Unique:\n",
    "    #print(\"Current ID: \",sample_IDs_i)\n",
    "    \n",
    "    sample_LATE_IDs_Unique_i_index_=np.where(sample_LATE_IDs==sample_LATE_IDs_Unique_i)[0]\n",
    "    \n",
    "    # CDRGLOB\n",
    "    #Original UDS question\n",
    "    #Global CDR\n",
    "    #Numeric longitudinal\n",
    "    #0.0 = No impairment\n",
    "    #0.5 = Questionable impairment\n",
    "    #1.0 = Mild impairment\n",
    "    #2.0 = Moderate impairment\n",
    "    #3.0 = Severe impairment\n",
    "\n",
    "    NACCFDYS_Index=np.where(data_store_title_arr=='NACCFDYS')[0]\n",
    "    NACCFDY_arr_get=sample_LATE[sample_LATE_IDs_Unique_i_index_,NACCFDYS_Index]\n",
    "    \n",
    "    combine_temp_arr=np.c_[sample_LATE_IDs_Unique_i_index_,NACCFDY_arr_get]\n",
    "    sample_LATE_IDs_Unique_i_index=combine_temp_arr[combine_temp_arr[:,1].argsort()][:,0].astype(int)\n",
    "\n",
    "    CDRGLOB_Index=np.where(data_store_title_arr=='CDRGLOB')[0][0]\n",
    "    CDRGLOB_arr_get_=sample_LATE[sample_LATE_IDs_Unique_i_index,CDRGLOB_Index]\n",
    "    CDRGLOB_arr_get=np.array([0 if (i==0.5 or i==1) else i for i in CDRGLOB_arr_get_])  \n",
    "\n",
    "    #NACC derived variable\n",
    "    #Days from initial visit to each follow-up visit\n",
    "    #Numeric longitudinal\n",
    "    #0–5000\n",
    "    #This variable provides the number of days from the initial visit to each follow-up visit, calculated as visit date less initial visit date, for every follow-up visit. All initial visits will have naccfdys = 0. Note that in order to obtain follow-up time in years, simply divide naccfdys by 365.25. This variable is available for all UDS subjects at all visits.\n",
    "\n",
    "    NACCFDY_arr_get=sample_LATE[sample_LATE_IDs_Unique_i_index,NACCFDYS_Index]\n",
    "\n",
    "    if np.max(CDRGLOB_arr_get)-CDRGLOB_arr_get[0]>0:\n",
    "        max_index=np.argmax(CDRGLOB_arr_get)\n",
    "    \n",
    "        data_store_arr_new_=sample_LATE[sample_LATE_IDs_Unique_i_index[max_index],:]\n",
    "        Survival_time=NACCFDY_arr_get[max_index]\n",
    "        Event=True\n",
    "                \n",
    "    elif np.max(CDRGLOB_arr_get)-CDRGLOB_arr_get[0]==0:\n",
    "    \n",
    "        max_index=np.argmax(NACCFDY_arr_get)\n",
    "        \n",
    "        data_store_arr_new_=sample_LATE[sample_LATE_IDs_Unique_i_index[max_index],:]\n",
    "        Survival_time=NACCFDY_arr_get[max_index]\n",
    "        Event=False\n",
    "    \n",
    "    else:\n",
    "        print('error')\n",
    "        \n",
    "    data_store_arr_new=np.append(np.append(data_store_arr_new_,Survival_time),Event)\n",
    "    write_to_csv(data_store_arr_new.reshape(1,data_store_arr_new.shape[0]),output_path)"
   ]
  },
  {
   "cell_type": "code",
   "execution_count": null,
   "id": "e33a9e7a-44a4-41cd-a219-915d3200ac4b",
   "metadata": {},
   "outputs": [],
   "source": []
  }
 ],
 "metadata": {
  "kernelspec": {
   "display_name": "Python 3 (ipykernel)",
   "language": "python",
   "name": "python3"
  },
  "language_info": {
   "codemirror_mode": {
    "name": "ipython",
    "version": 3
   },
   "file_extension": ".py",
   "mimetype": "text/x-python",
   "name": "python",
   "nbconvert_exporter": "python",
   "pygments_lexer": "ipython3",
   "version": "3.7.8"
  },
  "widgets": {
   "application/vnd.jupyter.widget-state+json": {
    "state": {},
    "version_major": 2,
    "version_minor": 0
   }
  }
 },
 "nbformat": 4,
 "nbformat_minor": 5
}
