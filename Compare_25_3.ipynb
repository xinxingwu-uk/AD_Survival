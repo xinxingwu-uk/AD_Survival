{
 "cells": [
  {
   "cell_type": "code",
   "execution_count": 1,
   "id": "6b6e9722-175f-4efe-abd8-858be6963625",
   "metadata": {},
   "outputs": [],
   "source": [
    "import pandas as pd\n",
    "import numpy as np"
   ]
  },
  {
   "cell_type": "code",
   "execution_count": 2,
   "id": "9e93b13d-177e-4299-8acd-53bc68509b55",
   "metadata": {},
   "outputs": [],
   "source": [
    "def csv_read(p_path):\n",
    "    p_data=np.array(pd.read_csv(p_path, sep=','))\n",
    "    print('data.shape',p_data.shape)\n",
    "    return p_data"
   ]
  },
  {
   "cell_type": "code",
   "execution_count": 3,
   "id": "0ac1ca2b-d2e5-4828-8eee-11c3606ff76d",
   "metadata": {},
   "outputs": [],
   "source": [
    "with open('./File_title_info.md') as f:\n",
    "    lines = f.readlines()\n",
    "    \n",
    "line_dict={}\n",
    "for lines_i in lines:\n",
    "    order=lines_i.split(\"_\")[0]\n",
    "    name=lines_i.split(\"#\")[4]  \n",
    "    line_dict[order]=name"
   ]
  },
  {
   "cell_type": "code",
   "execution_count": 4,
   "id": "953b3935-e90e-4535-8827-ddb3c16a6009",
   "metadata": {},
   "outputs": [
    {
     "data": {
      "text/plain": [
       "{'1': \"r'{?}$\\\\leadsto${?}'\\n\",\n",
       " '2': \"r'{?}$\\\\leadsto${?}'\\n\",\n",
       " '3': \"r'{1}$\\\\leadsto${2}'\\n\",\n",
       " '4': \"r'{2}$\\\\leadsto${3}'\\n\",\n",
       " '5': \"r'{?}$\\\\leadsto${?}'\\n\",\n",
       " '6': \"r'{?}$\\\\leadsto${?}'\\n\",\n",
       " '7': \"r'{?}$\\\\leadsto${?}'\\n\",\n",
       " '8': \"r'{?}$\\\\leadsto${?}'\\n\",\n",
       " '9': \"r'{?}$\\\\leadsto${?}'\\n\",\n",
       " '10': \"r'{?}$\\\\leadsto${?}'\\n\",\n",
       " '11': \"r'{?}$\\\\leadsto${?}'\\n\",\n",
       " '12': \"r'{?}$\\\\leadsto${?}'\\n\",\n",
       " '13': \"r'{?}$\\\\leadsto${?}'\\n\",\n",
       " '14': \"r'{?}$\\\\leadsto${?}'\\n\",\n",
       " '15': \"r'{?}$\\\\leadsto${?}'\\n\",\n",
       " '16': \"r'{?}$\\\\leadsto${?}'\\n\",\n",
       " '17': \"r'{?}$\\\\leadsto${?}'\\n\",\n",
       " '18': \"r'{?}$\\\\leadsto${?}'\\n\",\n",
       " '19': \"r'{?}$\\\\leadsto${?}'\\n\",\n",
       " '20': \"r'{?}$\\\\leadsto${?}'\\n\",\n",
       " '21': \"r'{?}$\\\\leadsto${?}'\\n\",\n",
       " '22': \"r'{?}$\\\\leadsto${?}'\\n\",\n",
       " '23': \"r'{?}$\\\\leadsto${?}'\\n\",\n",
       " '24': \"r'{?}$\\\\leadsto${?}'\\n\",\n",
       " '25': \"r'{0, 0.5}$\\\\leadsto${1}'\\n\",\n",
       " '26': \"r'{?}$\\\\leadsto${?}'\\n\",\n",
       " '27': \"r'{1}$\\\\leadsto${3}'\\n\",\n",
       " '28': \"r'{?}$\\\\leadsto${?}'\\n\",\n",
       " '29': \"r'{?}$\\\\leadsto${?}'\\n\",\n",
       " '30': \"r'{?}$\\\\leadsto${?}'\\n\",\n",
       " '31': \"r'{?}$\\\\leadsto${?}'\\n\",\n",
       " '32': \"r'{?}$\\\\leadsto${?}'\\n\",\n",
       " '33': \"r'{?}$\\\\leadsto${?}'\\n\",\n",
       " '34': \"r'{?}$\\\\leadsto${?}'\\n\",\n",
       " '35': \"r'{?}$\\\\leadsto${?}'\\n\",\n",
       " '36': \"r'{?}$\\\\leadsto${?}'\\n\",\n",
       " '37': \"r'{?}$\\\\leadsto${?}'\\n\",\n",
       " '38': \"r'{?}$\\\\leadsto${?}'\\n\",\n",
       " '39': \"r'{?}$\\\\leadsto${?}'\\n\",\n",
       " '40': \"r'{?}$\\\\leadsto${?}'\\n\",\n",
       " '41': \"r'{?}$\\\\leadsto${?}'\\n\",\n",
       " '42': \"r'{?}$\\\\leadsto${?}'\\n\",\n",
       " '43': \"r'{?}$\\\\leadsto${?}'\\n\",\n",
       " '44': \"r'{?}$\\\\leadsto${?}'\\n\",\n",
       " '45': \"r'{?}$\\\\leadsto${?}'\\n\",\n",
       " '46': \"r'{?}$\\\\leadsto${?}'\\n\",\n",
       " '47': \"r'{?}$\\\\leadsto${?}'\\n\",\n",
       " '48': \"r'{?}$\\\\leadsto${?}'\\n\",\n",
       " '49': \"r'{1}$\\\\leadsto${3}'\\n\",\n",
       " '50': \"r'{?}$\\\\leadsto${?}'\\n\",\n",
       " '51': \"r'{1}$\\\\leadsto${2,3}'\\n\",\n",
       " '52': \"r'{?}$\\\\leadsto${?}'\\n\",\n",
       " '53': \"r'{0, 0.5, 1}$\\\\leadsto${2}'\\n\",\n",
       " '54': \"r'{?}$\\\\leadsto${?}'\"}"
      ]
     },
     "execution_count": 4,
     "metadata": {},
     "output_type": "execute_result"
    }
   ],
   "source": [
    "line_dict"
   ]
  },
  {
   "cell_type": "code",
   "execution_count": 5,
   "id": "0f0e8c3f-d421-4100-8c07-85968b51da6e",
   "metadata": {},
   "outputs": [],
   "source": [
    "file_name_1=25\n",
    "file_name_2=3\n",
    "\n",
    "path1='./'+str(file_name_1)+'/data/survival_data_filtered_3.csv'\n",
    "path2='./'+str(file_name_2)+'/data/survival_data_filtered_3.csv'"
   ]
  },
  {
   "cell_type": "code",
   "execution_count": 6,
   "id": "b81a3bc4-b4d5-4ab2-a026-989b3da36b15",
   "metadata": {
    "scrolled": true,
    "tags": []
   },
   "outputs": [
    {
     "name": "stdout",
     "output_type": "stream",
     "text": [
      "data.shape (689, 245)\n"
     ]
    }
   ],
   "source": [
    "data1=csv_read(path1)\n",
    "used_samples_index1=np.where(data1[:,1]!=1)[0]\n",
    "T1 = data1[used_samples_index1,-2]\n",
    "E1 = data1[used_samples_index1,-1]"
   ]
  },
  {
   "cell_type": "code",
   "execution_count": 7,
   "id": "dc4408a2-d954-4685-ad2d-c93a29811b64",
   "metadata": {},
   "outputs": [
    {
     "data": {
      "text/plain": [
       "212"
      ]
     },
     "execution_count": 7,
     "metadata": {},
     "output_type": "execute_result"
    }
   ],
   "source": [
    "np.sum(data1[used_samples_index1,-1]==True)"
   ]
  },
  {
   "cell_type": "code",
   "execution_count": 8,
   "id": "e76df270-cabf-4118-afa3-324b61d044de",
   "metadata": {},
   "outputs": [
    {
     "data": {
      "text/plain": [
       "276"
      ]
     },
     "execution_count": 8,
     "metadata": {},
     "output_type": "execute_result"
    }
   ],
   "source": [
    "np.sum(data1[used_samples_index1,-1]==False)"
   ]
  },
  {
   "cell_type": "code",
   "execution_count": 9,
   "id": "33e66697-498f-477b-a2b7-78585fbdf492",
   "metadata": {},
   "outputs": [
    {
     "name": "stdout",
     "output_type": "stream",
     "text": [
      "data.shape (515, 245)\n"
     ]
    }
   ],
   "source": [
    "data2=csv_read(path2)\n",
    "used_samples_index2=np.where(data2[:,1]!=1)[0]\n",
    "T2 = data2[used_samples_index2,-2]\n",
    "E2 = data2[used_samples_index2,-1]"
   ]
  },
  {
   "cell_type": "code",
   "execution_count": 10,
   "id": "98087ab4-9d17-4830-bab2-0dcfce6fc475",
   "metadata": {},
   "outputs": [
    {
     "data": {
      "text/plain": [
       "208"
      ]
     },
     "execution_count": 10,
     "metadata": {},
     "output_type": "execute_result"
    }
   ],
   "source": [
    "np.sum(data2[used_samples_index2,-1]==True)"
   ]
  },
  {
   "cell_type": "code",
   "execution_count": 11,
   "id": "cd1b7d5a-0368-4ea5-aece-d7958e524595",
   "metadata": {},
   "outputs": [
    {
     "data": {
      "text/plain": [
       "200"
      ]
     },
     "execution_count": 11,
     "metadata": {},
     "output_type": "execute_result"
    }
   ],
   "source": [
    "np.sum(data2[used_samples_index2,-1]==False)"
   ]
  },
  {
   "cell_type": "code",
   "execution_count": 12,
   "id": "1dfd5b75-3b72-4510-8eb6-59347b2c1b91",
   "metadata": {},
   "outputs": [
    {
     "data": {
      "text/plain": [
       "<matplotlib.legend.Legend at 0x7f482f10bed0>"
      ]
     },
     "execution_count": 12,
     "metadata": {},
     "output_type": "execute_result"
    },
    {
     "data": {
      "image/png": "[encoded data removed]",
      "text/plain": [
       "<Figure size 648x432 with 1 Axes>"
      ]
     },
     "metadata": {
      "needs_background": "light"
     },
     "output_type": "display_data"
    }
   ],
   "source": [
    "# import numpy as np\n",
    "import matplotlib.pyplot as plt\n",
    "from lifelines import KaplanMeierFitter\n",
    "\n",
    "plt.figure(figsize=(9,6))\n",
    "\n",
    "ax = plt.subplot(111)\n",
    "\n",
    "kmf1 = KaplanMeierFitter()\n",
    "curver1=kmf1.fit(T1.astype(float), event_observed=E1.astype(bool),  label=eval(line_dict[str(file_name_1)]))\n",
    "ax = kmf1.plot_survival_function(ax=ax)\n",
    "\n",
    "kmf2 = KaplanMeierFitter()\n",
    "curver2=kmf2.fit(T2.astype(float), event_observed=E2.astype(bool), label=eval(line_dict[str(file_name_2)]))\n",
    "ax = kmf2.plot_survival_function(ax=ax)\n",
    "\n",
    "times=2\n",
    "curver1_x=curver1.timeline\n",
    "curver1_y=0.5*(np.array(curver1.confidence_interval_survival_function_)[:,0]+np.array(curver1.confidence_interval_survival_function_)[:,1])\n",
    "linear_model1=np.polyfit(curver1_x,curver1_y,times)\n",
    "linear_model1_fn=np.poly1d(linear_model1)\n",
    "x_s1=np.arange(np.min(T1.astype(float)),np.max(T1.astype(float)))\n",
    "plt.plot(x_s1,linear_model1_fn(x_s1),color=\"red\",linestyle='--',alpha=0.5)\n",
    "\n",
    "curver2_x=curver2.timeline\n",
    "curver2_y=0.5*(np.array(curver2.confidence_interval_survival_function_)[:,0]+np.array(curver2.confidence_interval_survival_function_)[:,1])\n",
    "\n",
    "linear_model2=np.polyfit(curver2_x,curver2_y,times)\n",
    "linear_model2_fn=np.poly1d(linear_model2)\n",
    "x_s2=np.arange(np.min(T2.astype(float)),np.max(T2.astype(float)))\n",
    "plt.plot(x_s2,linear_model2_fn(x_s2),color=\"green\",linestyle='--',alpha=0.5)\n",
    "\n",
    "\n",
    "plt.xlabel(\"\")\n",
    "plt.title(\"\")\n",
    "\n",
    "plt.xticks(fontsize = 20)\n",
    "plt.xlabel('Time (day)', fontsize = 20)\n",
    "plt.yticks(np.arange(0.0,1.1,0.2), fontsize = 20)\n",
    "plt.ylabel('Probability', fontsize = 20)\n",
    "plt.ylim(0.0,1.1)\n",
    "plt.legend(fontsize = 20)"
   ]
  },
  {
   "cell_type": "code",
   "execution_count": 13,
   "id": "04e0e2c4-68d1-47de-84ba-d808f535311d",
   "metadata": {},
   "outputs": [
    {
     "data": {
      "text/plain": [
       "poly1d([ 3.12361611e-08, -2.89399056e-04,  1.00872985e+00])"
      ]
     },
     "execution_count": 13,
     "metadata": {},
     "output_type": "execute_result"
    }
   ],
   "source": [
    "linear_model1_fn"
   ]
  },
  {
   "cell_type": "code",
   "execution_count": 14,
   "id": "c9b5fd31-8c93-4ef8-a279-9c2970417e75",
   "metadata": {},
   "outputs": [
    {
     "data": {
      "text/plain": [
       "poly1d([ 4.70806363e-08, -4.24534406e-04,  1.08771843e+00])"
      ]
     },
     "execution_count": 14,
     "metadata": {},
     "output_type": "execute_result"
    }
   ],
   "source": [
    "linear_model2_fn"
   ]
  },
  {
   "cell_type": "code",
   "execution_count": 15,
   "id": "a6b40492-6cb3-4bce-a3f7-9ed9209cd58d",
   "metadata": {
    "tags": []
   },
   "outputs": [
    {
     "data": {
      "image/png": "[encoded data removed]",
      "text/plain": [
       "<Figure size 648x432 with 1 Axes>"
      ]
     },
     "metadata": {
      "needs_background": "light"
     },
     "output_type": "display_data"
    }
   ],
   "source": [
    "plt.figure(figsize=(9,6))\n",
    "plt.plot(curver1.timeline[::-1],np.array(kmf1.confidence_interval_survival_function_)[:,0][::-1],color='blue')\n",
    "plt.plot(curver1.timeline[::-1],np.array(kmf1.confidence_interval_survival_function_)[:,1][::-1],color='blue')\n",
    "plt.xticks(fontsize = 20)\n",
    "plt.yticks(fontsize = 20)\n",
    "plt.show()"
   ]
  },
  {
   "cell_type": "code",
   "execution_count": 16,
   "id": "98cb8804-38f0-4846-9bc1-44fd52155545",
   "metadata": {},
   "outputs": [
    {
     "data": {
      "image/png": "[encoded data removed]",
      "text/plain": [
       "<Figure size 648x432 with 1 Axes>"
      ]
     },
     "metadata": {
      "needs_background": "light"
     },
     "output_type": "display_data"
    }
   ],
   "source": [
    "plt.figure(figsize=(9,6))\n",
    "plt.plot(curver2.timeline[::-1],np.array(kmf2.confidence_interval_survival_function_)[:,0][::-1],color='red')\n",
    "plt.plot(curver2.timeline[::-1],np.array(kmf2.confidence_interval_survival_function_)[:,1][::-1],color='red')\n",
    "plt.xticks(fontsize = 20)\n",
    "plt.yticks(fontsize = 20)\n",
    "plt.show()"
   ]
  },
  {
   "cell_type": "code",
   "execution_count": 17,
   "id": "ebdf0771-ed3e-4c64-8dcb-b18a66e945cd",
   "metadata": {},
   "outputs": [
    {
     "data": {
      "text/html": [
       "<div>\n",
       "<style scoped>\n",
       "    .dataframe tbody tr th:only-of-type {\n",
       "        vertical-align: middle;\n",
       "    }\n",
       "\n",
       "    .dataframe tbody tr th {\n",
       "        vertical-align: top;\n",
       "    }\n",
       "\n",
       "    .dataframe thead th {\n",
       "        text-align: right;\n",
       "    }\n",
       "</style>\n",
       "<table border=\"1\" class=\"dataframe\">\n",
       "  <tbody>\n",
       "    <tr>\n",
       "      <th>t_0</th>\n",
       "      <td>-1</td>\n",
       "    </tr>\n",
       "    <tr>\n",
       "      <th>null_distribution</th>\n",
       "      <td>chi squared</td>\n",
       "    </tr>\n",
       "    <tr>\n",
       "      <th>degrees_of_freedom</th>\n",
       "      <td>1</td>\n",
       "    </tr>\n",
       "    <tr>\n",
       "      <th>test_name</th>\n",
       "      <td>logrank_test</td>\n",
       "    </tr>\n",
       "  </tbody>\n",
       "</table>\n",
       "</div><table border=\"1\" class=\"dataframe\">\n",
       "  <thead>\n",
       "    <tr style=\"text-align: right;\">\n",
       "      <th></th>\n",
       "      <th>test_statistic</th>\n",
       "      <th>p</th>\n",
       "      <th>-log2(p)</th>\n",
       "    </tr>\n",
       "  </thead>\n",
       "  <tbody>\n",
       "    <tr>\n",
       "      <th>0</th>\n",
       "      <td>14.96</td>\n",
       "      <td>&lt;0.005</td>\n",
       "      <td>13.15</td>\n",
       "    </tr>\n",
       "  </tbody>\n",
       "</table>"
      ],
      "text/latex": [
       "\\begin{tabular}{lrrr}\n",
       "\\toprule\n",
       "{} &  test\\_statistic &        p &   -log2(p) \\\\\n",
       "\\midrule\n",
       "0 &        14.96165 &  0.00011 &  13.153905 \\\\\n",
       "\\bottomrule\n",
       "\\end{tabular}\n"
      ],
      "text/plain": [
       "<lifelines.StatisticalResult: logrank_test>\n",
       "               t_0 = -1\n",
       " null_distribution = chi squared\n",
       "degrees_of_freedom = 1\n",
       "         test_name = logrank_test\n",
       "\n",
       "---\n",
       " test_statistic      p  -log2(p)\n",
       "          14.96 <0.005     13.15"
      ]
     },
     "metadata": {},
     "output_type": "display_data"
    },
    {
     "name": "stdout",
     "output_type": "stream",
     "text": [
      "p-value: 0.00010971854195822954\n",
      "14.961649666650521\n"
     ]
    }
   ],
   "source": [
    "from lifelines.statistics import logrank_test\n",
    "\n",
    "results = logrank_test(T1, T2, event_observed_A=E1, event_observed_B=E2)\n",
    "\n",
    "results.print_summary()\n",
    "print(\"p-value:\", results.p_value)\n",
    "print(results.test_statistic)"
   ]
  },
  {
   "cell_type": "code",
   "execution_count": 18,
   "id": "3745139b-be2d-47e3-97e8-440f9029ecd0",
   "metadata": {},
   "outputs": [
    {
     "name": "stdout",
     "output_type": "stream",
     "text": [
      "1.097E-04\n"
     ]
    }
   ],
   "source": [
    "print(format(results.p_value,'.3E'))"
   ]
  },
  {
   "cell_type": "code",
   "execution_count": 19,
   "id": "3e1bc10c-e687-4b39-b294-2d05dca448ed",
   "metadata": {},
   "outputs": [
    {
     "name": "stdout",
     "output_type": "stream",
     "text": [
      "1.496E+01\n"
     ]
    }
   ],
   "source": [
    "print(format(results.test_statistic,'.3E'))"
   ]
  },
  {
   "cell_type": "code",
   "execution_count": null,
   "id": "f7712a4b-4514-45f5-9d82-5e74475d238d",
   "metadata": {},
   "outputs": [],
   "source": []
  }
 ],
 "metadata": {
  "kernelspec": {
   "display_name": "Python 3 (ipykernel)",
   "language": "python",
   "name": "python3"
  },
  "language_info": {
   "codemirror_mode": {
    "name": "ipython",
    "version": 3
   },
   "file_extension": ".py",
   "mimetype": "text/x-python",
   "name": "python",
   "nbconvert_exporter": "python",
   "pygments_lexer": "ipython3",
   "version": "3.7.8"
  },
  "widgets": {
   "application/vnd.jupyter.widget-state+json": {
    "state": {},
    "version_major": 2,
    "version_minor": 0
   }
  }
 },
 "nbformat": 4,
 "nbformat_minor": 5
}
