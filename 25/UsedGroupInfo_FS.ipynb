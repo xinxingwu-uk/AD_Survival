{
 "cells": [
  {
   "cell_type": "code",
   "execution_count": 1,
   "id": "00049547-c2e4-4996-84af-e1d46d9928c0",
   "metadata": {},
   "outputs": [],
   "source": [
    "import pandas as pd\n",
    "import numpy as np\n",
    "import gc\n",
    "\n",
    "from scipy import stats\n",
    "from matplotlib import pyplot as plt"
   ]
  },
  {
   "cell_type": "code",
   "execution_count": 2,
   "id": "c1776d00-d24e-47d9-b0c5-794fec49c4e9",
   "metadata": {},
   "outputs": [],
   "source": [
    "def csv_read(p_path,header_is=0):\n",
    "    pd_data=pd.read_csv(p_path, sep=',',header=header_is)\n",
    "    column_names=pd_data.columns.values.tolist()\n",
    "    print(column_names)\n",
    "    return pd_data,np.array(pd_data),column_names\n",
    "\n",
    "#-------------------------------------------------------------------------------------\n",
    "def write_to_csv(p_data,p_path):\n",
    "    dataframe = pd.DataFrame(p_data)\n",
    "    dataframe.to_csv(p_path, mode='a',header=False,index=False,sep=',')\n",
    "    del dataframe\n",
    "    gc.collect()\n",
    "    \n",
    "#-------------------------------------------------------------------------------------\n",
    "def bar_figure(group1,group2,y_label):\n",
    "    figure,axes=plt.subplots()\n",
    "    \n",
    "    axes.boxplot([group1,group2],patch_artist=True)\n",
    "    plt.xticks(range(1,3),['Group 1','Group 2'])\n",
    "    #plt.yticks(fontsize = 20)\n",
    "    \n",
    "    min_end=min(np.min(group1),np.min(group2))\n",
    "    max_end=max(np.max(group1),np.max(group2))\n",
    "    end=(max_end-min_end)/10\n",
    "    plt.ylim(min_end-end,max_end+end)\n",
    "    plt.ylabel(y_label)\n",
    "    plt.show()\n",
    "\n",
    "#-------------------------------------------------------------------------------------\n",
    "def statistic_analysis(group1, group2):\n",
    "    var_same=stats.levene(group1, group2)\n",
    "    \n",
    "    print(\"\\n\")\n",
    "    print(\"-\"*80)\n",
    "    \n",
    "    print(\"var_same\",var_same)\n",
    "\n",
    "    if var_same[1]>0.05:\n",
    "        f_t, p_value_t = stats.ttest_ind(group1, group2, equal_var=True)\n",
    "        print(\"Test: f_t, p_value_t\", format(f_t,'.3E'), format(p_value_t,'.3E'))\n",
    "    else:\n",
    "        f_t, p_value_t = stats.ttest_ind(group1, group2, equal_var=False)\n",
    "        print(\"Test: f_t, p_value_t\",format(f_t,'.3E'), format(p_value_t,'.3E'))\n",
    "    \n",
    "    f, p_value = stats.f_oneway(group1, group2)\n",
    "    print(\"ANOVA: f, p_value:\",format(f,'.3E'), format(p_value_t,'.3E'))\n",
    "    print(\"-\"*80)\n",
    "    print(\"\\n\")"
   ]
  },
  {
   "cell_type": "code",
   "execution_count": 3,
   "id": "ee046a8a-1080-4a33-a91c-73829cfcb74d",
   "metadata": {
    "scrolled": true,
    "tags": []
   },
   "outputs": [
    {
     "name": "stdout",
     "output_type": "stream",
     "text": [
      "['NACCREAS', 'NACCREFR', 'BIRTHMO', 'BIRTHYR', 'SEX', 'HISPANIC', 'HISPOR', 'RACE', 'RACESEC', 'RACETER', 'PRIMLANG', 'EDUC', 'MARISTAT', 'NACCLIVS', 'INDEPEND', 'RESIDENC', 'HANDED', 'NACCFADM', 'NACCFFTD', 'MEMORY', 'ORIENT', 'JUDGMENT', 'COMMUN', 'HOMEHOBB', 'PERSCARE', 'CDRSUM', 'DECSUB', 'DECIN', 'COGMEM', 'COGJUDG', 'COGLANG', 'COGVIS', 'COGATTN', 'COGOTHR', 'NACCCOGF', 'COGMODE', 'DECAGE', 'BEAPATHY', 'BEDEP', 'BEVHALL', 'BEAHALL', 'BEDEL', 'BEDISIN', 'BEIRRIT', 'BEAGIT', 'BEPERCH', 'BEOTHR', 'NACCBEHF', 'BEMODE', 'MOGAIT', 'MOFALLS', 'MOTREM', 'MOSLOW', 'NACCMOTF', 'MOMODE', 'COURSE', 'FRSTCHG', 'NORMCOG', 'DEMENTED', 'NACCPPA', 'NACCBVFT', 'NACCLBDS', 'NACCTMCI', 'NACCMCIL', 'NACCMCIA', 'NACCMCIE', 'NACCMCIV', 'NACCMCII', 'IMPNOMCI', 'NACCALZD', 'NACCALZP', 'NACCLBDE', 'NACCLBDP', 'PARK', 'PSP', 'PSPIF', 'CORT', 'CORTIF', 'DOWNS', 'DOWNSIF', 'HUNT', 'HUNTIF', 'PRION', 'PRIONIF', 'BRNINJ', 'BRNINJIF', 'HYCEPH', 'HYCEPHIF', 'NEOP', 'NEOPIF', 'DEP', 'DEPIF', 'OTHPSY', 'OTHPSYIF', 'ALCDEM', 'ALCDEMIF', 'DYSILL', 'DYSILLIF', 'MEDS', 'MEDSIF', 'COGOTH', 'COGOTHIF', 'NACCETPR', 'NACCADMU', 'NACCFTDM', 'NACCAGEB', 'NACCNIHR', 'NACCNORM', 'NACCIDEM', 'NACCAGE', 'NACCUDSD', 'NACCAPOE', 'NACCNE4S', 'NPPMIH', 'NPFIX', 'NPWBRWT', 'NPWBRF', 'NACCBRNN', 'NPGRCCA', 'NPGRLA', 'NPGRHA', 'NPGRSNH', 'NPGRLCH', 'NACCAVAS', 'NPTAN', 'NPABAN', 'NPASAN', 'NPTDPAN', 'NPHISMB', 'NPHISG', 'NPHISSS', 'NPHIST', 'NPHISO', 'NPTHAL', 'NACCBRAA', 'NACCNEUR', 'NPADNC', 'NACCDIFF', 'NACCVASC', 'NACCAMY', 'NPINF', 'NPINF1A', 'NPINF1B', 'NPINF1D', 'NPINF1F', 'NPINF2A', 'NPINF2B', 'NPINF2D', 'NPINF2F', 'NPINF3A', 'NPINF3B', 'NPINF3D', 'NPINF3F', 'NPINF4A', 'NPINF4B', 'NPINF4D', 'NPINF4F', 'NACCINF', 'NPHEMO', 'NPHEMO1', 'NPHEMO2', 'NPHEMO3', 'NPOLD', 'NPOLD1', 'NPOLD2', 'NPOLD3', 'NPOLD4', 'NACCMICR', 'NPOLDD', 'NPOLDD1', 'NPOLDD2', 'NPOLDD3', 'NPOLDD4', 'NACCHEM', 'NACCARTE', 'NPWMR', 'NPPATH', 'NACCNEC', 'NPPATH2', 'NPPATH3', 'NPPATH4', 'NPPATH5', 'NPPATH6', 'NPPATH7', 'NPPATH8', 'NPPATH9', 'NPPATH10', 'NPPATH11', 'NACCLEWY', 'NPLBOD', 'NPNLOSS', 'NPHIPSCL', 'NPFTDTAU', 'NACCPICK', 'NPFTDT2', 'NACCCBD', 'NACCPROG', 'NPFTDT5', 'NPFTDT6', 'NPFTDT7', 'NPFTDT8', 'NPFTDT9', 'NPFTDT10', 'NPFTDTDP', 'NPALSMND', 'NPOFTD', 'NPOFTD1', 'NPOFTD2', 'NPOFTD3', 'NPOFTD4', 'NPOFTD5', 'NPTDPA', 'NPTDPB', 'NPTDPC', 'NPTDPD', 'NPTDPE', 'NPPDXA', 'NPPDXB', 'NACCPRIO', 'NPPDXD', 'NPPDXE', 'NPPDXF', 'NPPDXG', 'NPPDXH', 'NPPDXI', 'NPPDXJ', 'NPPDXK', 'NPPDXL', 'NPPDXM', 'NPPDXN', 'NACCDOWN', 'NPPDXP', 'NPPDXQ', 'NACCOTHP', 'NACCBNKF', 'NPBNKB', 'NACCFORM', 'NACCPARA', 'NACCCSFP', 'NPBNKF', 'NPFAUT', 'NACCDAGE', 'NACCINT', 'SurvivalTime', 'Event']\n",
      "[0, 1, 2, 3, 4, 5, 6, 7, 8, 9, 10, 11, 12, 13, 14, 15, 16, 17, 18, 19, 20, 21, 22, 23, 24, 25, 26, 27, 28, 29, 30, 31, 32, 33, 34, 35, 36, 37, 38, 39, 40, 41, 42, 43, 44, 45, 46, 47, 48, 49, 50, 51, 52, 53, 54, 55, 56, 57, 58, 59, 60, 61, 62, 63, 64, 65, 66, 67, 68, 69, 70, 71, 72, 73, 74, 75, 76, 77, 78, 79, 80, 81, 82, 83, 84, 85, 86, 87, 88, 89, 90, 91, 92, 93, 94, 95, 96, 97, 98, 99]\n"
     ]
    }
   ],
   "source": [
    "data,data_arr,column_names=csv_read('./data/survival_data_filtered_3.csv')\n",
    "column_names_arr=np.array(column_names)\n",
    "\n",
    "FS_data,FS_data_arr,_=csv_read('./feature_selection.csv',header_is=None)"
   ]
  },
  {
   "cell_type": "code",
   "execution_count": 4,
   "id": "8e9fc7fe-e17e-42e1-abba-2a16112e6948",
   "metadata": {},
   "outputs": [],
   "source": [
    "used_number_features=10\n",
    "FS_data_used=FS_data_arr[-1,0:used_number_features]"
   ]
  },
  {
   "cell_type": "code",
   "execution_count": 5,
   "id": "0a6cd145-dad5-4996-85d8-27af00038f5d",
   "metadata": {},
   "outputs": [
    {
     "name": "stdout",
     "output_type": "stream",
     "text": [
      "Feature:  NACCAGE\n",
      "\n",
      "\n",
      "--------------------------------------------------------------------------------\n",
      "var_same LeveneResult(statistic=0.14231152973933592, pvalue=0.7061102702795024)\n",
      "Test: f_t, p_value_t -6.449E+00 2.124E-10\n",
      "ANOVA: f, p_value: 4.159E+01 2.124E-10\n",
      "--------------------------------------------------------------------------------\n",
      "\n",
      "\n",
      "Group1:  [82 52 90 71 75 65 89 91 80 91 50 79 72 81 63 73 87 66 83 78 71 31 64 76\n",
      " 95 74 63 73 91 86 85 73 58 69 96 83 96 77 74 82 76 60 79 80 81 81 60 50\n",
      " 77 71 66 73 62 76 92 81 84 70 74 41 84 84 78 79 72 77 61 52 68 85 64 75\n",
      " 65 76 61 77 78 60 69 74 76 70 68 78 89 60 49 58 70 68 76 73 82 76 90 92\n",
      " 80 76 75 69 68 63 83 62 94 93 82 81 78 64 81 66 75 62 60 30 72 73 79 78\n",
      " 78 78 68 76 64 95 83 79 85 72 78 74 88 87 76 88 71 79 78 62 73 94 82 66\n",
      " 63 76 78 73 61 93 64 71 88 74 34 76 70 89 81 40 70 70 85 64 79 99 90 64\n",
      " 76 96 58 78 78 84 79 79 81 80 90 70 98 62 88 63 89 73 71 67 88 68 70 84\n",
      " 76 95 71 69 55 69 58 76 72 77 85 70 67 71 80 87 81 89 84 65 70 81 80 79\n",
      " 74 72 70 83 83 72 67 99 84 65 65 84 83 65 60 69 70 80 68 87 76 82 71 58\n",
      " 91 77 89 57 64 62 77 79 72 70 85 71 64 84 71 89 80 79 51 88 61 86 69 88\n",
      " 53 95 75 66 88 70 81 61 86 72 75 87 83 77 67 68 54]\n",
      "\n",
      "\n",
      "Group2:  [72 90 84 66 90 67 76 74 76 74 93 85 52 71 82 62 94 92 86 76 91 62 77 85\n",
      " 76 73 71 99 70 92 61 91 91 93 90 69 74 73 80 87 96 92 89 74 91 84 90 98\n",
      " 74 96 83 92 87 57 82 78 66 74 100 88 96 74 85 56 88 81 93 80 101 93 83 61\n",
      " 96 85 85 77 90 88 81 65 66 94 95 99 69 81 90 94 85 95 81 75 95 83 89 86\n",
      " 87 91 81 69 55 91 82 85 82 65 86 72 86 79 72 77 79 67 62 87 55 67 75 91\n",
      " 79 81 72 78 103 65 81 80 52 77 76 80 90 86 75 98 93 87 85 43 77 91 62 74\n",
      " 73 83 70 91 103 68 84 77 71 71 97 84 80 76 48 73 81 82 86 77 82 66 82 71\n",
      " 65 92 66 74 81 70 83 59 65 66 64 87 65 72 72 66 80 65 68 70 94 79 91 82\n",
      " 75 63 87 101 80 84 69 63 65 46 77 81 45 86 77 82 93 84 75 89 79 84 66 92\n",
      " 86 90 67 76 67 82 74 77 90 92 83 83 85 82 79 54 83 90 88 87 90 88 89 75\n",
      " 91 59 66 90 80 83 83 89 94 80 71 61 94 82 79 98 88 87 73 88 81 85 93 93\n",
      " 91 93 84 88 66 87 70 85 63 69 88 55 86 82 84 88 82 87 67 89 85 84 73 92\n",
      " 67 88 101 75 83 79 89 73 90 55 73 95 85 88 64 64 90 89 75 87 57 91 86 59\n",
      " 71 78 87 96 93 89 83 88 91 88 84 65 98 87 77 82 91 91 81 84 55 94 97 90\n",
      " 97 80 67 58 89 85 94 94 89 93 86 74 94 90 94 92 67 101 94 85 93 89 95 79\n",
      " 88 85 61 87 84 79 93 85 87 81 96 86 72 77 79 68 93 87 72 76 86 54 50 87\n",
      " 78 52 63 81 85 66 92 54 89 84 63 81 78 84 85 88 88 87 92 80 81 89 65 84]\n",
      "\n",
      "\n",
      "Mean:  74.65836298932385 80.44852941176471\n"
     ]
    },
    {
     "data": {
      "image/png": "[encoded data removed]",
      "text/plain": [
       "<Figure size 432x288 with 1 Axes>"
      ]
     },
     "metadata": {
      "needs_background": "light"
     },
     "output_type": "display_data"
    },
    {
     "name": "stdout",
     "output_type": "stream",
     "text": [
      "************************************************************************************************************************\n",
      "\n",
      "\n",
      "\n",
      "\n",
      "\n",
      "Feature:  NACCAGEB\n",
      "\n",
      "\n",
      "--------------------------------------------------------------------------------\n",
      "var_same LeveneResult(statistic=0.6514334113543974, pvalue=0.41988000031904904)\n",
      "Test: f_t, p_value_t -5.170E+00 3.066E-07\n",
      "ANOVA: f, p_value: 2.673E+01 3.066E-07\n",
      "--------------------------------------------------------------------------------\n",
      "\n",
      "\n",
      "Group1:  [79 51 80 67 71 64 86 82 74 84 47 76 71 80 61 67 83 65 82 72 61 29 63 73\n",
      " 85 72 58 70 83 83 79 65 56 65 91 79 93 73 73 72 71 59 76 74 78 72 59 47\n",
      " 74 65 65 70 61 71 88 75 73 69 71 35 81 82 73 70 70 74 60 51 63 82 63 72\n",
      " 63 74 58 70 77 59 68 70 73 69 67 75 84 59 47 57 66 66 74 68 78 75 78 86\n",
      " 78 75 72 68 67 61 80 59 91 90 79 78 77 62 80 65 73 61 59 28 66 71 75 75\n",
      " 76 75 67 70 62 84 76 74 78 69 76 72 86 83 69 87 70 75 75 61 68 86 73 64\n",
      " 60 73 74 70 57 86 62 70 87 72 28 71 68 85 69 39 68 66 83 63 78 90 78 59\n",
      " 72 85 55 68 75 82 75 78 78 77 83 68 89 61 82 61 84 67 67 65 77 67 66 79\n",
      " 73 87 70 67 54 63 56 74 69 76 84 69 65 70 78 85 76 83 78 64 62 78 79 78\n",
      " 71 68 69 74 76 71 65 92 78 62 62 77 73 61 57 68 69 78 67 79 71 81 70 57\n",
      " 87 75 88 56 61 61 76 78 70 64 82 69 63 76 70 84 78 76 46 82 58 80 66 85\n",
      " 48 91 74 61 85 67 80 57 79 71 74 79 72 72 66 67 53]\n",
      "\n",
      "\n",
      "Group2:  [65 85 82 59 84 67 76 73 75 69 86 85 52 70 72 60 85 84 78 75 85 57 67 83\n",
      " 73 66 66 99 69 82 61 83 79 80 78 68 73 72 80 77 87 83 75 72 85 72 78 87\n",
      " 74 91 80 85 86 52 77 76 62 70 86 85 96 74 74 54 86 78 84 73 93 83 74 61\n",
      " 85 76 79 76 83 83 81 59 65 83 85 95 61 75 82 83 73 84 70 65 88 82 82 78\n",
      " 80 85 78 66 55 77 75 73 72 65 84 72 83 76 60 74 76 62 62 81 52 64 74 81\n",
      " 78 72 72 78 95 64 73 72 52 74 70 74 81 77 75 92 84 78 74 35 70 80 60 73\n",
      " 70 83 65 88 96 59 72 69 66 68 86 77 74 73 46 64 75 75 75 76 73 63 82 69\n",
      " 65 81 64 71 72 69 73 59 60 66 62 80 65 72 65 62 73 60 67 64 85 70 83 80\n",
      " 71 63 81 88 78 79 69 63 65 44 75 77 45 74 72 75 82 80 70 83 71 78 65 83\n",
      " 84 82 67 76 63 75 70 72 83 87 76 77 81 73 73 54 83 85 77 83 86 80 80 70\n",
      " 82 57 63 79 76 83 78 86 84 80 68 60 85 81 78 90 78 83 73 76 80 77 85 81\n",
      " 82 93 73 77 65 78 66 71 63 67 85 55 74 80 80 78 80 83 66 83 78 80 73 88\n",
      " 64 80 89 71 75 72 81 70 79 52 66 84 78 83 62 63 84 76 69 82 55 85 79 59\n",
      " 66 74 80 83 84 85 80 81 85 85 82 65 91 80 76 81 79 81 77 80 55 88 84 89\n",
      " 89 74 67 58 75 85 83 90 81 91 74 72 85 82 88 86 67 89 85 83 87 84 88 78\n",
      " 76 75 60 80 75 73 85 77 85 79 85 73 71 76 71 68 89 80 71 73 78 54 47 87\n",
      " 73 52 62 75 78 64 85 54 84 83 53 80 78 72 77 82 78 75 84 80 76 81 65 73]\n",
      "\n",
      "\n",
      "Mean:  71.04626334519573 75.12009803921569\n"
     ]
    },
    {
     "data": {
      "image/png": "[encoded data removed]",
      "text/plain": [
       "<Figure size 432x288 with 1 Axes>"
      ]
     },
     "metadata": {
      "needs_background": "light"
     },
     "output_type": "display_data"
    },
    {
     "name": "stdout",
     "output_type": "stream",
     "text": [
      "************************************************************************************************************************\n",
      "\n",
      "\n",
      "\n",
      "\n",
      "\n",
      "Feature:  NACCVASC\n",
      "\n",
      "\n",
      "--------------------------------------------------------------------------------\n",
      "var_same LeveneResult(statistic=0.717122959303379, pvalue=0.39738414580714787)\n",
      "Test: f_t, p_value_t -7.187E-01 4.726E-01\n",
      "ANOVA: f, p_value: 5.165E-01 4.726E-01\n",
      "--------------------------------------------------------------------------------\n",
      "\n",
      "\n",
      "Group1:  [1 1 1 1 1 1 1 1 1 1 1 1 1 1 1 1 1 1 1 1 1 0 1 1 1 1 1 1 1 1 1 1 1 1 1 1 1\n",
      " 1 1 1 1 1 1 1 1 1 1 1 1 1 1 1 1 1 1 1 1 1 1 1 1 1 1 1 1 1 1 1 1 1 1 1 1 1\n",
      " 1 1 1 1 1 1 1 1 1 1 1 1 0 1 1 1 1 1 1 1 1 1 1 1 1 1 1 1 1 1 1 1 1 1 1 1 1\n",
      " 1 1 1 1 1 1 1 1 1 1 1 1 1 1 1 1 1 1 1 1 1 1 1 1 1 1 1 1 1 1 1 1 1 1 1 1 1\n",
      " 1 1 1 1 1 1 1 1 1 1 1 1 1 1 1 1 1 1 1 1 1 1 1 1 1 1 1 1 1 1 1 1 1 1 1 1 1\n",
      " 1 1 1 1 1 1 1 0 1 1 1 1 1 1 1 1 1 1 1 1 1 1 1 1 1 1 1 1 1 1 1 1 1 1 1 1 1\n",
      " 1 1 1 1 1 1 1 1 1 1 1 1 1 1 1 1 1 1 1 1 1 1 1 1 1 1 1 1 1 1 1 1 1 1 1 1 1\n",
      " 1 1 1 1 1 1 1 1 1 1 1 1 1 1 1 1 1 1 1 1 1 1]\n",
      "\n",
      "\n",
      "Group2:  [1 1 1 1 1 1 1 1 1 1 1 1 1 1 1 1 1 1 1 1 1 1 1 1 1 1 1 1 1 1 1 1 1 1 1 1 1\n",
      " 1 1 1 1 1 1 1 1 1 1 1 1 1 1 1 1 1 1 1 1 1 1 1 1 1 1 1 1 1 1 1 1 1 1 1 1 1\n",
      " 1 1 1 1 1 1 1 1 1 1 1 1 1 1 1 1 1 1 1 1 1 1 1 1 1 1 1 1 1 1 1 1 1 1 1 1 1\n",
      " 1 1 1 1 1 1 1 1 1 1 1 1 1 1 1 1 1 1 1 1 1 1 1 1 1 1 1 1 1 1 1 1 1 1 1 1 1\n",
      " 1 1 1 1 1 1 1 1 1 1 1 1 1 1 1 1 1 1 1 1 1 1 1 1 1 1 1 1 1 1 1 1 1 1 1 1 1\n",
      " 1 1 1 1 1 1 1 1 1 1 1 1 1 1 1 1 1 1 1 1 1 1 1 1 1 1 1 1 1 1 1 1 1 1 1 1 1\n",
      " 1 1 1 1 1 1 1 1 1 1 1 1 1 1 1 1 1 1 1 1 1 1 1 1 1 1 1 1 1 1 1 1 0 1 1 1 1\n",
      " 1 1 1 1 1 1 1 1 1 1 1 1 1 1 1 1 1 1 1 1 1 1 1 1 1 1 1 1 1 0 1 1 1 1 1 1 1\n",
      " 1 1 1 1 1 1 1 1 1 0 1 1 1 1 1 1 1 1 1 1 1 1 1 1 1 1 1 1 1 1 1 1 1 1 1 1 1\n",
      " 1 1 1 0 1 1 1 1 1 1 1 1 1 1 1 1 1 1 1 1 1 1 1 1 1 1 1 1 1 1 1 0 1 1 1 1 1\n",
      " 1 1 1 1 1 1 1 1 1 1 1 9 1 1 1 1 1 1 1 1 1 1 1 1 1 1 1 1 1 1 1 1 1 1 1 1 1\n",
      " 1]\n",
      "\n",
      "\n",
      "Mean:  0.9893238434163701 1.0073529411764706\n"
     ]
    },
    {
     "data": {
      "image/png": "[encoded data removed]",
      "text/plain": [
       "<Figure size 432x288 with 1 Axes>"
      ]
     },
     "metadata": {
      "needs_background": "light"
     },
     "output_type": "display_data"
    },
    {
     "name": "stdout",
     "output_type": "stream",
     "text": [
      "************************************************************************************************************************\n",
      "\n",
      "\n",
      "\n",
      "\n",
      "\n",
      "Feature:  NACCDAGE\n",
      "\n",
      "\n",
      "--------------------------------------------------------------------------------\n",
      "var_same LeveneResult(statistic=0.5882457053010715, pvalue=0.44336178142744853)\n",
      "Test: f_t, p_value_t -4.785E+00 2.092E-06\n",
      "ANOVA: f, p_value: 2.290E+01 2.092E-06\n",
      "--------------------------------------------------------------------------------\n",
      "\n",
      "\n",
      "Group1:  [89 53 91 75 75 69 95 94 83 93 55 84 80 85 65 79 88 68 90 85 73 41 65 80\n",
      " 97 78 65 78 92 92 87 76 64 75 98 86 100 84 74 87 83 63 84 83 82 84 64 55\n",
      " 84 72 70 80 65 79 94 87 84 76 79 43 94 88 85 82 78 83 64 56 72 88 72 78\n",
      " 65 78 64 78 84 64 73 75 83 79 72 82 90 67 54 64 71 72 82 73 87 85 92 92\n",
      " 86 79 84 70 71 67 89 65 99 96 85 89 80 70 85 70 77 65 63 35 75 75 81 86\n",
      " 86 81 74 78 65 96 84 85 91 76 80 82 95 90 81 96 82 81 80 67 82 99 86 69\n",
      " 69 79 81 74 64 94 69 74 96 76 39 76 77 96 82 44 76 77 90 67 89 102 90 68\n",
      " 79 99 62 82 84 88 81 85 87 86 95 75 99 63 91 65 90 73 75 69 92 76 71 87\n",
      " 78 95 73 73 61 70 65 80 78 83 87 75 75 77 84 88 86 95 85 71 75 89 83 84\n",
      " 81 80 74 86 88 77 69 100 87 73 70 88 86 70 65 75 82 85 71 88 82 86 73 60\n",
      " 97 84 98 62 68 67 81 84 77 71 91 78 66 89 77 93 83 84 56 94 66 90 74 91\n",
      " 61 104 76 68 93 80 86 67 87 76 76 88 83 80 72 76 56]\n",
      "\n",
      "\n",
      "Group2:  [77 90 93 68 91 71 77 79 77 78 95 86 59 78 82 64 94 93 88 77 94 63 80 91\n",
      " 76 75 72 101 71 93 67 95 92 95 91 76 77 73 81 87 96 92 89 81 97 85 92 98\n",
      " 80 99 84 93 87 62 84 86 67 74 101 91 96 78 85 65 91 87 94 82 101 94 84 61\n",
      " 96 86 91 80 91 89 83 69 66 95 96 99 70 81 93 95 86 96 82 76 98 87 91 87\n",
      " 87 92 81 70 57 91 82 86 83 71 87 78 89 85 73 77 84 69 65 89 58 75 78 94\n",
      " 81 83 74 86 103 66 82 80 56 79 78 83 93 90 81 99 94 92 86 44 83 92 64 77\n",
      " 75 91 71 100 104 71 84 80 73 76 97 84 82 77 54 75 86 82 87 77 83 68 83 78\n",
      " 67 92 74 78 81 73 85 66 70 72 68 89 72 74 72 71 81 69 70 76 94 80 92 82\n",
      " 79 73 92 101 84 90 75 65 69 50 81 82 47 87 78 84 94 85 76 90 80 84 78 95\n",
      " 88 91 72 83 74 84 76 82 90 92 85 86 87 86 80 56 84 95 90 88 91 90 91 82\n",
      " 91 66 67 90 85 85 87 98 94 89 72 64 95 88 80 99 89 93 79 89 91 89 94 95\n",
      " 93 93 87 88 67 87 77 85 63 74 88 57 88 83 88 91 84 90 70 90 86 85 77 92\n",
      " 68 89 102 77 84 81 90 75 92 64 76 96 86 93 72 74 91 90 77 87 61 97 87 64\n",
      " 73 79 87 99 94 89 84 89 94 91 86 67 98 88 78 92 91 94 81 86 57 95 97 90\n",
      " 98 87 70 61 89 94 95 97 90 93 88 77 94 92 96 94 69 102 97 90 95 89 96 83\n",
      " 89 86 66 91 84 81 94 88 88 88 97 86 72 82 80 72 96 88 73 78 87 59 53 97\n",
      " 82 56 76 83 86 68 93 55 93 90 63 84 87 84 86 91 89 89 92 82 87 89 67 85]\n",
      "\n",
      "\n",
      "Mean:  78.83274021352314 82.97303921568627\n"
     ]
    },
    {
     "data": {
      "image/png": "[encoded data removed]",
      "text/plain": [
       "<Figure size 432x288 with 1 Axes>"
      ]
     },
     "metadata": {
      "needs_background": "light"
     },
     "output_type": "display_data"
    },
    {
     "name": "stdout",
     "output_type": "stream",
     "text": [
      "************************************************************************************************************************\n",
      "\n",
      "\n",
      "\n",
      "\n",
      "\n",
      "Feature:  ALCDEM\n",
      "\n",
      "\n",
      "--------------------------------------------------------------------------------\n",
      "var_same LeveneResult(statistic=37.170302988617586, pvalue=1.80518955756399e-09)\n",
      "Test: f_t, p_value_t -7.187E+00 2.568E-12\n",
      "ANOVA: f, p_value: 3.717E+01 2.568E-12\n",
      "--------------------------------------------------------------------------------\n",
      "\n",
      "\n",
      "Group1:  [0 0 0 0 0 0 0 0 0 0 0 0 0 0 0 0 0 0 0 0 0 0 0 0 0 0 0 0 0 0 0 0 0 0 0 0 0\n",
      " 0 0 0 0 0 0 0 0 0 0 0 0 0 0 0 0 0 0 0 0 0 0 0 0 0 0 0 0 0 0 0 0 0 0 1 0 0\n",
      " 0 0 0 0 0 0 0 0 0 0 0 0 0 0 0 0 0 0 0 0 0 0 0 0 0 0 0 0 0 0 0 0 0 0 0 0 0\n",
      " 0 0 0 0 0 0 0 0 0 0 0 0 0 0 0 0 0 0 0 0 0 0 0 0 0 0 0 0 0 0 0 0 0 0 0 0 0\n",
      " 0 0 0 0 0 0 0 0 0 0 0 0 0 0 0 0 0 0 0 0 0 0 0 0 0 0 0 0 0 0 0 0 0 1 0 0 0\n",
      " 0 0 0 0 0 0 0 0 0 0 0 0 0 0 0 0 0 0 0 0 0 0 0 0 0 0 0 0 0 0 0 0 8 0 0 0 0\n",
      " 0 0 0 0 0 0 0 0 0 0 0 0 0 0 0 0 0 0 0 8 0 0 0 0 0 0 0 0 0 0 0 0 0 0 0 0 0\n",
      " 0 0 1 0 0 0 0 0 0 0 0 0 0 0 0 0 0 0 0 0 0 0]\n",
      "\n",
      "\n",
      "Group2:  [0 0 0 0 0 0 8 0 0 0 0 0 0 0 0 0 0 0 0 0 0 0 0 0 8 0 0 0 0 0 0 8 0 0 0 0 0\n",
      " 0 0 0 8 0 0 0 8 0 0 0 0 0 0 8 0 8 0 0 0 0 0 0 0 0 0 0 0 8 0 0 0 0 0 0 0 0\n",
      " 0 0 8 0 0 0 0 0 0 0 0 0 8 0 0 0 0 0 0 1 0 8 0 0 0 8 0 0 0 0 0 0 0 0 0 0 0\n",
      " 0 0 0 0 0 0 0 0 0 0 0 0 8 0 0 0 0 0 0 0 8 0 0 0 8 0 0 0 8 0 0 0 0 8 0 0 8\n",
      " 0 0 0 8 8 0 0 0 0 8 0 0 0 0 0 0 0 0 0 0 0 0 0 0 0 0 0 0 0 0 0 0 0 0 0 0 0\n",
      " 0 0 0 0 0 0 0 8 0 8 0 0 0 0 8 0 0 8 0 0 0 0 0 0 0 0 0 8 0 0 0 0 0 0 0 0 8\n",
      " 8 0 0 0 8 0 0 0 0 0 0 0 0 8 0 8 0 0 0 0 0 0 0 0 0 0 0 8 0 0 0 0 0 8 0 0 0\n",
      " 0 0 8 0 0 0 0 0 0 0 0 8 0 0 0 0 0 0 0 0 0 8 8 0 0 8 0 0 0 0 0 0 8 0 0 8 0\n",
      " 0 0 0 0 0 8 0 0 0 0 0 0 0 0 0 0 0 0 0 0 0 0 0 8 0 8 8 0 0 0 0 0 0 0 0 0 0\n",
      " 8 0 0 0 0 0 0 0 0 0 0 0 8 0 0 0 0 0 0 0 0 0 8 0 0 8 0 0 0 0 1 0 8 0 8 0 8\n",
      " 0 0 0 0 0 0 0 8 0 0 0 0 0 0 0 0 0 0 0 0 0 0 0 0 0 0 8 0 8 0 0 0 8 0 0 0 0\n",
      " 0]\n",
      "\n",
      "\n",
      "Mean:  0.06761565836298933 1.0833333333333333\n"
     ]
    },
    {
     "data": {
      "image/png": "[encoded data removed]",
      "text/plain": [
       "<Figure size 432x288 with 1 Axes>"
      ]
     },
     "metadata": {
      "needs_background": "light"
     },
     "output_type": "display_data"
    },
    {
     "name": "stdout",
     "output_type": "stream",
     "text": [
      "************************************************************************************************************************\n",
      "\n",
      "\n",
      "\n",
      "\n",
      "\n",
      "Feature:  NACCIDEM\n",
      "\n",
      "\n",
      "--------------------------------------------------------------------------------\n",
      "var_same LeveneResult(statistic=32.90313672639143, pvalue=1.4522112812302188e-08)\n",
      "Test: f_t, p_value_t 9.309E+00 3.046E-19\n",
      "ANOVA: f, p_value: 9.083E+01 3.046E-19\n",
      "--------------------------------------------------------------------------------\n",
      "\n",
      "\n",
      "Group1:  [8 8 1 8 8 8 1 1 1 1 1 1 8 8 1 8 1 8 1 1 1 1 8 8 1 1 8 8 1 1 1 1 1 8 1 8 1\n",
      " 8 8 1 1 8 8 0 1 1 8 8 8 8 1 8 8 8 1 1 0 8 1 1 1 8 1 1 8 1 1 8 8 8 8 1 8 1\n",
      " 8 1 8 8 1 8 1 8 1 1 1 8 8 8 8 1 8 8 1 8 1 1 1 8 8 1 8 1 1 1 1 1 8 8 8 8 1\n",
      " 8 8 1 1 8 1 1 1 8 1 1 8 8 1 1 8 1 1 1 1 1 1 1 1 8 8 8 8 8 1 1 1 8 8 1 1 1\n",
      " 8 1 8 1 0 8 1 1 1 8 0 8 8 1 1 8 8 1 1 1 1 1 8 1 8 1 1 8 1 1 1 8 1 0 8 8 8\n",
      " 8 1 8 1 8 1 8 1 1 1 1 8 1 8 1 1 1 1 8 8 1 1 1 1 8 1 8 1 1 1 8 1 1 8 1 1 8\n",
      " 8 1 1 8 8 1 1 8 8 8 1 8 1 1 1 8 1 8 1 1 8 8 8 8 1 8 8 1 8 8 8 1 8 1 8 8 1\n",
      " 1 1 1 8 1 1 1 8 8 1 1 1 8 1 8 8 1 1 1 8 8 1]\n",
      "\n",
      "\n",
      "Group2:  [0 0 1 0 0 8 0 8 1 0 0 0 0 8 0 8 0 1 0 0 0 1 0 8 0 0 0 0 0 1 8 0 0 0 0 8 8\n",
      " 8 0 0 0 0 0 1 0 0 1 0 8 0 0 0 0 0 0 1 0 0 0 0 8 8 0 1 1 0 0 0 0 0 0 0 0 0\n",
      " 8 8 0 0 0 0 8 0 0 0 0 0 0 0 0 0 0 0 0 0 0 0 0 0 0 0 8 0 0 0 0 8 0 8 0 8 0\n",
      " 0 1 8 0 1 8 0 0 0 8 0 0 0 0 8 0 0 0 1 0 0 0 1 8 0 0 0 0 0 0 0 0 0 0 8 0 0\n",
      " 0 0 0 0 0 1 0 0 1 0 0 1 1 0 0 0 0 8 8 8 8 0 8 0 0 0 0 8 8 8 8 0 8 0 0 1 0\n",
      " 8 1 8 1 0 0 0 0 8 0 0 1 0 8 0 8 1 0 0 0 0 8 1 0 0 0 0 0 0 0 1 0 1 8 8 1 0\n",
      " 0 1 0 0 0 1 0 0 0 8 0 8 0 0 0 0 1 1 0 1 0 0 0 8 1 0 0 0 0 8 1 0 1 0 0 0 8\n",
      " 0 8 0 0 0 1 8 1 0 8 0 0 0 8 0 0 8 0 0 1 1 0 0 8 0 0 0 8 0 8 0 0 0 1 0 0 0\n",
      " 0 0 1 1 1 0 8 8 0 0 0 0 0 1 1 1 8 8 0 0 0 1 0 0 1 0 0 8 1 1 0 0 0 0 0 0 0\n",
      " 0 0 0 0 0 8 8 0 8 0 0 0 0 0 1 0 0 8 0 8 0 0 1 0 0 0 1 1 0 8 1 0 0 0 0 1 0\n",
      " 0 0 0 1 0 8 0 0 0 8 0 8 8 0 8 8 8 1 1 8 0 0 1 0 0 1 0 0 0 1 1 0 0 8 0 0 8\n",
      " 0]\n",
      "\n",
      "\n",
      "Mean:  4.0711743772241995 1.6642156862745099\n"
     ]
    },
    {
     "data": {
      "image/png": "[encoded data removed]",
      "text/plain": [
       "<Figure size 432x288 with 1 Axes>"
      ]
     },
     "metadata": {
      "needs_background": "light"
     },
     "output_type": "display_data"
    },
    {
     "name": "stdout",
     "output_type": "stream",
     "text": [
      "************************************************************************************************************************\n",
      "\n",
      "\n",
      "\n",
      "\n",
      "\n",
      "Feature:  NPFTDT5\n",
      "\n",
      "\n",
      "--------------------------------------------------------------------------------\n",
      "var_same LeveneResult(statistic=4.98725236326684, pvalue=0.025855984592349456)\n",
      "Test: f_t, p_value_t -2.642E+00 8.511E-03\n",
      "ANOVA: f, p_value: 4.987E+00 8.511E-03\n",
      "--------------------------------------------------------------------------------\n",
      "\n",
      "\n",
      "Group1:  [0 0 0 0 0 0 0 0 0 0 0 0 0 0 0 0 0 0 0 0 0 0 0 0 0 0 0 0 0 1 0 0 0 0 0 0 0\n",
      " 0 1 0 0 0 0 0 0 0 0 0 0 0 0 1 0 0 0 0 0 0 0 0 0 0 0 0 0 0 0 0 0 0 0 0 0 0\n",
      " 0 0 0 0 0 0 0 0 0 0 0 0 0 0 0 0 0 0 0 0 0 0 0 0 0 0 0 0 0 0 0 0 0 0 0 0 0\n",
      " 0 0 0 0 0 0 0 1 0 0 0 0 0 0 0 0 0 0 0 0 0 0 0 0 0 0 0 0 0 0 0 1 1 0 0 0 0\n",
      " 0 0 0 0 0 0 0 0 0 0 0 0 0 0 0 0 0 0 0 1 0 0 0 0 0 0 0 0 0 0 0 0 1 0 0 0 0\n",
      " 0 0 0 0 0 0 0 0 0 0 0 0 0 0 0 0 0 0 0 0 0 0 0 0 0 0 0 0 0 0 0 0 0 0 0 0 0\n",
      " 0 0 0 0 0 0 0 0 0 0 0 0 0 0 0 0 0 1 0 0 0 0 0 1 0 0 0 0 0 0 0 0 0 0 0 0 0\n",
      " 0 0 0 0 0 0 0 0 0 0 0 0 0 0 0 0 0 0 0 0 0 0]\n",
      "\n",
      "\n",
      "Group2:  [0 0 0 1 0 0 0 0 0 0 0 0 0 0 0 0 0 0 0 0 0 0 1 0 0 0 0 0 0 0 0 0 0 1 0 0 0\n",
      " 0 0 0 0 1 0 0 0 0 0 0 0 0 0 0 0 0 0 0 0 0 0 0 0 0 1 0 0 0 0 0 0 0 0 0 0 0\n",
      " 0 0 0 0 0 0 0 0 0 1 0 0 1 0 0 0 0 0 0 0 0 0 0 0 0 0 0 0 0 0 0 0 0 0 0 0 0\n",
      " 0 0 0 0 0 0 0 0 0 0 0 0 0 0 0 0 0 0 0 0 0 1 1 0 0 0 0 0 0 0 0 0 0 0 0 0 0\n",
      " 0 0 1 0 0 0 0 0 1 1 0 0 0 0 0 0 0 0 0 0 0 0 0 0 0 0 0 0 0 0 0 0 0 0 0 0 0\n",
      " 0 0 1 0 0 0 0 0 0 0 8 0 0 0 0 0 0 0 0 0 0 0 0 0 0 0 0 0 0 8 0 0 0 0 0 0 0\n",
      " 0 0 0 0 0 0 0 0 0 1 0 0 0 0 0 0 0 0 0 0 0 1 0 0 0 0 1 0 0 0 0 0 0 0 0 8 0\n",
      " 0 0 0 0 0 0 0 1 0 0 0 0 0 0 0 0 0 0 0 0 0 0 0 1 0 0 0 0 1 0 0 0 1 0 0 0 0\n",
      " 0 0 0 0 0 0 0 0 0 0 0 0 0 0 0 0 0 1 0 0 0 0 0 1 0 0 0 1 1 0 0 0 0 0 0 0 0\n",
      " 0 0 0 0 0 0 0 0 0 0 1 0 0 0 0 0 0 0 0 0 0 0 0 0 0 0 1 0 0 0 0 0 0 0 0 0 0\n",
      " 0 0 0 0 0 0 0 0 0 0 0 1 0 0 0 0 0 0 8 0 0 0 0 0 0 0 1 0 0 0 0 0 0 0 0 0 0\n",
      " 0]\n",
      "\n",
      "\n",
      "Mean:  0.03558718861209965 0.14705882352941177\n"
     ]
    },
    {
     "data": {
      "image/png": "[encoded data removed]",
      "text/plain": [
       "<Figure size 432x288 with 1 Axes>"
      ]
     },
     "metadata": {
      "needs_background": "light"
     },
     "output_type": "display_data"
    },
    {
     "name": "stdout",
     "output_type": "stream",
     "text": [
      "************************************************************************************************************************\n",
      "\n",
      "\n",
      "\n",
      "\n",
      "\n",
      "Feature:  NACCREAS\n",
      "\n",
      "\n",
      "--------------------------------------------------------------------------------\n",
      "var_same LeveneResult(statistic=4.317752321153176, pvalue=0.03808749197263526)\n",
      "Test: f_t, p_value_t 2.061E+00 3.979E-02\n",
      "ANOVA: f, p_value: 4.318E+00 3.979E-02\n",
      "--------------------------------------------------------------------------------\n",
      "\n",
      "\n",
      "Group1:  [1 1 1 2 1 1 1 1 1 2 2 1 1 1 2 1 2 1 2 1 2 1 7 2 1 1 1 1 1 1 2 1 1 1 1 1 1\n",
      " 2 2 2 1 1 2 1 2 1 1 1 1 2 1 1 2 1 1 1 1 1 2 1 1 1 1 1 2 2 2 2 2 2 2 1 2 1\n",
      " 2 2 1 7 1 2 2 2 1 1 1 1 1 2 1 1 1 2 1 2 1 1 1 2 1 1 2 1 1 2 1 1 1 2 1 2 2\n",
      " 1 2 1 1 2 1 1 2 2 2 2 2 1 1 1 2 1 1 1 1 1 2 1 2 1 1 2 1 1 1 2 1 1 1 1 1 1\n",
      " 2 1 1 1 1 1 2 1 1 1 1 1 2 1 1 2 2 1 1 1 2 1 2 1 1 1 1 1 1 1 1 1 1 7 1 2 1\n",
      " 2 2 1 2 2 2 1 2 1 1 1 2 1 2 2 1 1 1 2 1 2 1 1 1 1 1 1 1 2 2 1 1 1 2 1 7 2\n",
      " 1 1 1 1 2 1 1 1 2 2 1 2 1 1 1 2 7 1 2 1 7 7 1 2 2 1 1 1 1 1 2 1 1 1 1 2 1\n",
      " 1 1 1 1 1 1 1 7 1 2 2 2 1 1 2 1 2 1 1 1 2 1]\n",
      "\n",
      "\n",
      "Group2:  [1 1 1 2 2 2 1 2 1 1 2 1 2 2 1 2 1 1 1 2 1 1 1 1 1 1 1 1 1 1 2 1 2 1 1 2 2\n",
      " 1 1 1 1 1 1 2 1 1 1 1 2 1 1 1 1 1 1 1 1 2 2 1 1 1 1 1 1 1 1 1 1 1 1 1 2 1\n",
      " 1 1 2 1 2 1 1 1 1 1 1 1 1 1 1 1 1 1 1 1 1 1 1 1 1 1 1 1 1 1 1 2 2 1 1 1 1\n",
      " 7 2 2 1 1 2 1 1 1 1 1 7 1 1 2 1 1 1 1 1 1 1 1 1 1 7 1 1 1 2 1 1 2 2 2 1 1\n",
      " 1 1 2 1 1 1 1 1 1 1 1 1 1 1 1 2 2 1 1 1 2 1 2 1 1 2 1 1 2 2 2 1 2 2 1 2 1\n",
      " 1 1 2 1 1 1 1 1 2 1 1 1 2 2 1 2 1 1 1 7 1 1 1 1 1 1 1 1 1 1 1 1 1 1 1 1 1\n",
      " 1 1 1 1 1 1 1 1 1 1 1 1 1 1 1 1 1 1 1 1 2 1 2 7 1 7 1 2 1 1 1 1 2 1 1 1 1\n",
      " 1 1 1 1 2 1 1 1 1 1 1 1 1 1 1 1 1 1 1 2 1 2 1 2 1 1 1 1 1 2 1 1 1 1 9 1 1\n",
      " 1 1 1 2 1 1 1 2 1 1 2 1 2 1 1 2 1 2 1 1 2 1 1 1 1 1 1 2 1 1 1 2 1 1 1 1 1\n",
      " 1 1 1 1 1 1 1 1 1 1 1 1 2 1 2 1 1 1 2 1 1 1 1 1 1 1 2 1 1 1 1 1 1 1 1 1 1\n",
      " 1 1 1 1 1 2 2 1 1 2 1 1 2 9 1 1 1 1 1 1 1 1 2 1 1 1 1 1 1 1 1 1 1 2 1 1 7\n",
      " 1]\n",
      "\n",
      "\n",
      "Mean:  1.491103202846975 1.3259803921568627\n"
     ]
    },
    {
     "data": {
      "image/png": "[encoded data removed]",
      "text/plain": [
       "<Figure size 432x288 with 1 Axes>"
      ]
     },
     "metadata": {
      "needs_background": "light"
     },
     "output_type": "display_data"
    },
    {
     "name": "stdout",
     "output_type": "stream",
     "text": [
      "************************************************************************************************************************\n",
      "\n",
      "\n",
      "\n",
      "\n",
      "\n",
      "Feature:  IMPNOMCI\n",
      "\n",
      "\n",
      "--------------------------------------------------------------------------------\n",
      "var_same LeveneResult(statistic=9.555350728214822, pvalue=0.0020742834589585197)\n",
      "Test: f_t, p_value_t -3.544E+00 4.263E-04\n",
      "ANOVA: f, p_value: 9.555E+00 4.263E-04\n",
      "--------------------------------------------------------------------------------\n",
      "\n",
      "\n",
      "Group1:  [0 0 0 0 0 0 0 0 0 0 0 0 0 0 0 0 0 0 0 0 0 0 0 0 0 0 0 0 0 0 0 0 0 0 0 0 0\n",
      " 0 0 0 1 0 0 0 0 0 0 0 0 0 0 0 0 0 0 0 0 0 0 0 0 0 0 0 0 0 0 0 0 0 0 0 0 0\n",
      " 0 0 0 0 0 0 0 0 0 0 0 0 0 0 0 0 0 0 0 0 0 0 0 0 0 0 0 0 0 0 0 0 0 0 0 0 0\n",
      " 0 0 0 0 0 0 0 0 0 0 0 0 0 0 0 0 0 0 0 0 0 0 0 0 0 0 0 0 0 0 0 0 0 0 0 0 0\n",
      " 0 0 0 0 0 0 0 0 0 0 1 0 0 0 0 0 0 0 0 0 0 0 0 0 0 0 0 0 0 0 0 0 0 0 0 0 0\n",
      " 0 0 0 0 0 0 0 0 0 0 0 0 0 0 0 0 0 0 0 0 0 0 0 0 0 0 0 0 0 0 0 0 0 0 0 0 0\n",
      " 0 0 0 0 0 0 0 0 0 0 0 0 0 0 0 0 0 0 0 0 0 0 0 0 0 0 0 0 0 0 0 0 0 0 0 0 0\n",
      " 0 0 0 0 0 0 0 0 0 0 0 0 0 0 0 0 0 0 0 0 0 0]\n",
      "\n",
      "\n",
      "Group2:  [0 0 0 1 1 0 0 0 0 0 0 0 0 0 0 0 0 0 0 0 1 0 0 0 0 0 0 0 0 0 0 0 0 0 0 0 0\n",
      " 0 0 0 0 0 0 0 0 0 0 0 0 0 0 0 0 0 0 0 0 0 0 0 0 0 0 0 0 0 0 0 0 0 0 0 0 0\n",
      " 0 0 0 0 0 0 0 0 0 0 0 1 0 0 0 0 0 0 0 1 0 0 0 0 0 0 0 0 1 0 0 0 0 0 0 0 0\n",
      " 0 0 0 0 0 0 1 0 0 0 0 0 0 0 0 0 1 0 0 0 0 0 0 0 0 0 0 0 0 1 0 0 0 0 0 0 0\n",
      " 0 0 0 0 0 0 0 0 0 0 0 0 0 0 0 0 0 0 0 0 0 0 0 1 0 1 0 0 0 0 0 0 0 0 0 0 0\n",
      " 0 0 0 0 0 0 0 0 0 0 0 0 1 0 0 0 0 0 0 0 0 0 0 0 0 0 0 0 0 1 0 0 0 0 0 0 0\n",
      " 0 0 0 0 0 0 0 0 0 0 0 0 0 0 1 0 0 0 0 0 0 0 1 0 0 0 0 0 0 0 0 0 0 0 0 0 0\n",
      " 0 0 0 0 0 0 0 0 0 0 0 0 0 0 0 0 0 0 0 0 0 0 0 0 0 0 0 0 0 0 1 0 0 0 0 0 0\n",
      " 0 0 0 0 1 0 0 0 0 0 0 0 0 0 0 0 0 0 0 0 0 0 0 0 0 0 0 0 0 0 1 0 0 0 0 0 0\n",
      " 0 1 0 0 0 0 0 0 0 0 0 0 0 0 0 0 0 0 0 0 0 0 0 0 0 0 0 0 0 0 0 0 0 0 0 0 0\n",
      " 0 0 0 0 0 0 0 0 0 0 0 0 0 0 0 0 0 0 0 0 0 0 1 0 0 0 0 0 0 0 0 0 0 0 0 0 0\n",
      " 0]\n",
      "\n",
      "\n",
      "Mean:  0.0071174377224199285 0.049019607843137254\n"
     ]
    },
    {
     "data": {
      "image/png": "[encoded data removed]",
      "text/plain": [
       "<Figure size 432x288 with 1 Axes>"
      ]
     },
     "metadata": {
      "needs_background": "light"
     },
     "output_type": "display_data"
    },
    {
     "name": "stdout",
     "output_type": "stream",
     "text": [
      "************************************************************************************************************************\n",
      "\n",
      "\n",
      "\n",
      "\n",
      "\n",
      "Feature:  RACE\n",
      "\n",
      "\n",
      "--------------------------------------------------------------------------------\n",
      "var_same LeveneResult(statistic=1.158344784893242, pvalue=0.2821868862085381)\n",
      "Test: f_t, p_value_t -1.076E+00 2.822E-01\n",
      "ANOVA: f, p_value: 1.158E+00 2.822E-01\n",
      "--------------------------------------------------------------------------------\n",
      "\n",
      "\n",
      "Group1:  [1 1 1 1 1 1 1 1 1 1 1 1 1 1 1 1 1 1 1 1 1 1 1 1 1 1 1 1 1 1 1 1 1 1 1 1 1\n",
      " 1 1 1 1 1 1 1 2 5 1 1 1 1 1 1 1 1 1 1 1 1 1 1 1 1 1 1 1 1 1 1 1 1 1 1 1 1\n",
      " 1 1 1 1 1 1 1 1 1 1 1 1 1 1 1 1 1 1 5 1 1 1 1 1 1 1 1 1 1 1 2 1 1 1 1 1 1\n",
      " 1 2 1 1 1 1 1 1 1 1 1 1 1 1 1 1 1 1 2 1 1 1 1 1 1 1 1 1 1 1 1 1 1 1 1 1 1\n",
      " 1 1 1 1 1 1 1 1 1 1 1 1 1 1 1 1 1 1 1 1 2 1 1 2 1 1 1 1 1 1 1 1 1 1 1 1 1\n",
      " 1 1 1 2 1 1 1 1 1 1 1 1 1 1 1 1 1 1 1 1 1 1 1 1 1 1 1 1 1 1 1 2 1 1 1 1 1\n",
      " 1 1 1 1 1 1 1 1 1 1 1 1 5 1 1 1 1 1 5 1 1 1 1 1 1 1 1 1 2 1 1 1 1 1 1 1 1\n",
      " 1 1 1 1 1 1 5 1 1 1 1 1 1 1 1 1 1 1 1 1 1 1]\n",
      "\n",
      "\n",
      "Group2:  [1 1 1 1 1 1 1 1 1 2 1 1 1 1 1 1 1 1 1 1 1 1 1 1 1 1 1 1 1 1 99 1 1 1 1 1\n",
      " 1 1 1 1 1 1 1 1 1 1 1 1 1 1 1 1 1 1 1 5 1 1 1 1 1 1 1 1 1 1 1 1 1 1 1 1 2\n",
      " 1 1 1 1 1 1 1 1 1 1 1 2 1 1 1 5 1 1 1 1 1 1 1 1 1 1 2 1 1 1 1 2 1 1 1 1 1\n",
      " 1 1 1 1 1 1 1 1 2 1 1 1 1 5 1 1 1 1 1 1 2 2 1 1 1 1 1 1 1 1 1 1 1 1 1 1 1\n",
      " 1 1 1 1 1 1 1 1 1 1 1 1 1 1 1 1 1 1 1 1 5 1 1 1 1 1 1 1 1 1 1 1 1 1 1 1 1\n",
      " 1 1 1 1 1 1 1 1 1 1 1 1 1 1 1 1 1 1 1 1 1 1 1 1 1 1 1 1 1 1 1 1 1 1 1 1 1\n",
      " 2 1 1 1 1 1 1 1 1 1 5 1 1 1 1 1 1 1 1 1 1 1 1 1 1 1 1 1 1 1 1 1 1 50 1 1\n",
      " 2 1 2 1 1 1 1 1 1 2 1 1 1 2 1 1 1 1 1 1 1 1 1 1 1 1 1 1 1 1 1 1 1 1 2 1 1\n",
      " 1 1 1 1 1 1 1 2 1 1 1 1 1 1 1 1 1 1 1 1 1 1 1 1 1 1 1 1 1 1 1 1 1 1 1 1 1\n",
      " 1 1 1 1 1 1 1 1 1 1 1 1 1 1 1 1 1 1 1 1 1 1 1 1 1 1 1 1 1 1 1 1 1 1 1 1 1\n",
      " 1 1 2 1 1 1 2 1 1 1 1 1 1 1 1 1 1 1 1 1 1 2 1 1 1 1 1 1 1 1 1 1 1 1 1 1 1\n",
      " 1 1 1]\n",
      "\n",
      "\n",
      "Mean:  1.103202846975089 1.4534313725490196\n"
     ]
    },
    {
     "data": {
      "image/png": "[encoded data removed]",
      "text/plain": [
       "<Figure size 432x288 with 1 Axes>"
      ]
     },
     "metadata": {
      "needs_background": "light"
     },
     "output_type": "display_data"
    },
    {
     "name": "stdout",
     "output_type": "stream",
     "text": [
      "************************************************************************************************************************\n",
      "\n",
      "\n",
      "\n",
      "\n",
      "\n"
     ]
    }
   ],
   "source": [
    "group1_index=np.where(data_arr[:,-1]==True)[0]\n",
    "group2_index=np.where(data_arr[:,-1]==False)[0]\n",
    "\n",
    "for i in np.arange(used_number_features):\n",
    "    feature_name=FS_data_used[i]\n",
    "    \n",
    "    print(\"Feature: \",feature_name)\n",
    "    \n",
    "    \n",
    "    index_i=np.where(column_names_arr==feature_name)[0][0]\n",
    "    get_data_i=data_arr[:,index_i]\n",
    "    \n",
    "    group1_data=get_data_i[group1_index]\n",
    "    group2_data=get_data_i[group2_index]\n",
    "    \n",
    "    statistic_analysis(group1_data, group2_data)\n",
    "    \n",
    "    print(\"Group1: \",group1_data)\n",
    "    print(\"\\n\")\n",
    "    print(\"Group2: \",group2_data)\n",
    "    print(\"\\n\")\n",
    "    print(\"Mean: \",np.mean(group1_data),np.mean(group2_data))\n",
    "    \n",
    "    bar_figure(group1_data,group2_data,feature_name)\n",
    "    \n",
    "    print(\"*\"*120)\n",
    "    print(\"\\n\\n\\n\")\n",
    "    \n",
    "    \n",
    "    print()"
   ]
  },
  {
   "cell_type": "code",
   "execution_count": null,
   "id": "70ef15bc-0121-45dc-bbf3-704ff10db8c6",
   "metadata": {},
   "outputs": [],
   "source": []
  }
 ],
 "metadata": {
  "kernelspec": {
   "display_name": "Python 3 (ipykernel)",
   "language": "python",
   "name": "python3"
  },
  "language_info": {
   "codemirror_mode": {
    "name": "ipython",
    "version": 3
   },
   "file_extension": ".py",
   "mimetype": "text/x-python",
   "name": "python",
   "nbconvert_exporter": "python",
   "pygments_lexer": "ipython3",
   "version": "3.7.8"
  },
  "widgets": {
   "application/vnd.jupyter.widget-state+json": {
    "state": {},
    "version_major": 2,
    "version_minor": 0
   }
  }
 },
 "nbformat": 4,
 "nbformat_minor": 5
}
