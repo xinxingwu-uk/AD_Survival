{
 "cells": [
  {
   "cell_type": "code",
   "execution_count": 1,
   "id": "6b6e9722-175f-4efe-abd8-858be6963625",
   "metadata": {},
   "outputs": [],
   "source": [
    "import pandas as pd\n",
    "import numpy as np"
   ]
  },
  {
   "cell_type": "code",
   "execution_count": 2,
   "id": "9e93b13d-177e-4299-8acd-53bc68509b55",
   "metadata": {},
   "outputs": [],
   "source": [
    "def csv_read(p_path):\n",
    "    pd_data=pd.read_csv(p_path, sep=',')\n",
    "    column_names=pd_data.columns.values.tolist()\n",
    "    print(column_names)\n",
    "    p_data=np.array(pd_data)\n",
    "    print('data.shape',p_data.shape)\n",
    "    return p_data,column_names"
   ]
  },
  {
   "cell_type": "code",
   "execution_count": 3,
   "id": "b81a3bc4-b4d5-4ab2-a026-989b3da36b15",
   "metadata": {
    "scrolled": true,
    "tags": []
   },
   "outputs": [
    {
     "name": "stderr",
     "output_type": "stream",
     "text": [
      "/usr/local/lib/python3.7/site-packages/ipykernel_launcher.py:1: DtypeWarning: Columns (12,14,31,34,41,88,89,90,166,169,216,391,565,642,696) have mixed types.Specify dtype option on import or set low_memory=False.\n",
      "  \"\"\"Entry point for launching an IPython kernel.\n"
     ]
    },
    {
     "name": "stdout",
     "output_type": "stream",
     "text": [
      "['NACCID', 'NACCAVST', 'NACCFDYS', 'NACCREAS', 'NACCREFR', 'BIRTHMO', 'BIRTHYR', 'SEX', 'HISPANIC', 'HISPOR', 'HISPORX', 'RACE', 'RACEX', 'RACESEC', 'RACESECX', 'RACETER', 'RACETERX', 'PRIMLANG', 'PRIMLANX', 'EDUC', 'MARISTAT', 'NACCLIVS', 'INDEPEND', 'RESIDENC', 'HANDED', 'INBIRMO', 'INBIRYR', 'INSEX', 'NEWINF', 'INHISP', 'INHISPOR', 'INHISPOX', 'NACCNINR', 'INRACE', 'INRACEX', 'INRASEC', 'INRASECX', 'INRATER', 'INRATERX', 'INEDUC', 'INRELTO', 'INRELTOX', 'INKNOWN', 'INLIVWTH', 'INVISITS', 'INCALLS', 'INRELY', 'NACCFAM', 'NACCMOM', 'NACCDAD', 'NACCAM', 'NACCAMX', 'NACCAMS', 'NACCAMSX', 'NACCFM', 'NACCFMX', 'NACCFMS', 'NACCFMSX', 'NACCOM', 'NACCOMX', 'NACCOMS', 'NACCOMSX', 'NACCFADM', 'NACCFFTD', 'ANYMEDS', 'DRUG1', 'DRUG2', 'DRUG3', 'DRUG4', 'DRUG5', 'DRUG6', 'DRUG7', 'DRUG8', 'DRUG9', 'DRUG10', 'DRUG11', 'DRUG12', 'DRUG13', 'DRUG14', 'DRUG15', 'DRUG16', 'DRUG17', 'DRUG18', 'DRUG19', 'DRUG20', 'DRUG21', 'DRUG22', 'DRUG23', 'DRUG24', 'DRUG25', 'DRUG26', 'DRUG27', 'DRUG28', 'DRUG29', 'DRUG30', 'DRUG31', 'DRUG32', 'DRUG33', 'DRUG34', 'DRUG35', 'DRUG36', 'DRUG37', 'DRUG38', 'DRUG39', 'DRUG40', 'TOBAC30', 'TOBAC100', 'SMOKYRS', 'PACKSPER', 'QUITSMOK', 'ALCOCCAS', 'ALCFREQ', 'CVHATT', 'HATTMULT', 'HATTYEAR', 'CVAFIB', 'CVANGIO', 'CVBYPASS', 'CVPACDEF', 'CVPACE', 'CVCHF', 'CVANGINA', 'CVHVALVE', 'CVOTHR', 'CVOTHRX', 'CBSTROKE', 'STROKMUL', 'NACCSTYR', 'CBTIA', 'TIAMULT', 'NACCTIYR', 'PD', 'PDYR', 'PDOTHR', 'PDOTHRYR', 'SEIZURES', 'NACCTBI', 'TBI', 'TBIBRIEF', 'TRAUMBRF', 'TBIEXTEN', 'TRAUMEXT', 'TBIWOLOS', 'TRAUMCHR', 'TBIYEAR', 'NCOTHR', 'NCOTHRX', 'DIABETES', 'DIABTYPE', 'HYPERTEN', 'HYPERCHO', 'B12DEF', 'THYROID', 'ARTHRIT', 'ARTHTYPE', 'ARTHTYPX', 'ARTHUPEX', 'ARTHLOEX', 'ARTHSPIN', 'ARTHUNK', 'INCONTU', 'INCONTF', 'APNEA', 'RBD', 'INSOMN', 'OTHSLEEP', 'OTHSLEEX', 'ALCOHOL', 'ABUSOTHR', 'ABUSX', 'PTSD', 'BIPOLAR', 'SCHIZ', 'DEP2YRS', 'DEPOTHR', 'ANXIETY', 'OCD', 'NPSYDEV', 'PSYCDIS', 'PSYCDISX', 'HEIGHT', 'WEIGHT', 'BPSYS', 'BPDIAS', 'HRATE', 'VISION', 'VISCORR', 'VISWCORR', 'HEARING', 'HEARAID', 'HEARWAID', 'ABRUPT', 'STEPWISE', 'SOMATIC', 'EMOT', 'HXHYPER', 'HXSTROKE', 'FOCLSYM', 'FOCLSIGN', 'HACHIN', 'CVDCOG', 'STROKCOG', 'CVDIMAG', 'CVDIMAG1', 'CVDIMAG2', 'CVDIMAG3', 'CVDIMAG4', 'CVDIMAGX', 'PDNORMAL', 'SPEECH', 'SPEECHX', 'FACEXP', 'FACEXPX', 'TRESTFAC', 'TRESTFAX', 'TRESTRHD', 'TRESTRHX', 'TRESTLHD', 'TRESTLHX', 'TRESTRFT', 'TRESTRFX', 'TRESTLFT', 'TRESTLFX', 'TRACTRHD', 'TRACTRHX', 'TRACTLHD', 'TRACTLHX', 'RIGDNECK', 'RIGDNEX', 'RIGDUPRT', 'RIGDUPRX', 'RIGDUPLF', 'RIGDUPLX', 'RIGDLORT', 'RIGDLORX', 'RIGDLOLF', 'RIGDLOLX', 'TAPSRT', 'TAPSRTX', 'TAPSLF', 'TAPSLFX', 'HANDMOVR', 'HANDMVRX', 'HANDMOVL', 'HANDMVLX', 'HANDALTR', 'HANDATRX', 'HANDALTL', 'HANDATLX', 'LEGRT', 'LEGRTX', 'LEGLF', 'LEGLFX', 'ARISING', 'ARISINGX', 'POSTURE', 'POSTUREX', 'GAIT', 'GAITX', 'POSSTAB', 'POSSTABX', 'BRADYKIN', 'BRADYKIX', 'MEMORY', 'ORIENT', 'JUDGMENT', 'COMMUN', 'HOMEHOBB', 'PERSCARE', 'CDRSUM', 'CDRGLOB', 'COMPORT', 'CDRLANG', 'NPIQINF', 'NPIQINFX', 'DEL', 'DELSEV', 'HALL', 'HALLSEV', 'AGIT', 'AGITSEV', 'DEPD', 'DEPDSEV', 'ANX', 'ANXSEV', 'ELAT', 'ELATSEV', 'APA', 'APASEV', 'DISN', 'DISNSEV', 'IRR', 'IRRSEV', 'MOT', 'MOTSEV', 'NITE', 'NITESEV', 'APP', 'APPSEV', 'NOGDS', 'SATIS', 'DROPACT', 'EMPTY', 'BORED', 'SPIRITS', 'AFRAID', 'HAPPY', 'HELPLESS', 'STAYHOME', 'MEMPROB', 'WONDRFUL', 'WRTHLESS', 'ENERGY', 'HOPELESS', 'BETTER', 'NACCGDS', 'BILLS', 'TAXES', 'SHOPPING', 'GAMES', 'STOVE', 'MEALPREP', 'EVENTS', 'PAYATTN', 'REMDATES', 'TRAVEL', 'NACCNREX', 'NORMEXAM', 'FOCLDEF', 'GAITDIS', 'EYEMOVE', 'PARKSIGN', 'RESTTRL', 'RESTTRR', 'SLOWINGL', 'SLOWINGR', 'RIGIDL', 'RIGIDR', 'BRADY', 'PARKGAIT', 'POSTINST', 'CVDSIGNS', 'CORTDEF', 'SIVDFIND', 'CVDMOTL', 'CVDMOTR', 'CORTVISL', 'CORTVISR', 'SOMATL', 'SOMATR', 'POSTCORT', 'PSPCBS', 'EYEPSP', 'DYSPSP', 'AXIALPSP', 'GAITPSP', 'APRAXSP', 'APRAXL', 'APRAXR', 'CORTSENL', 'CORTSENR', 'ATAXL', 'ATAXR', 'ALIENLML', 'ALIENLMR', 'DYSTONL', 'DYSTONR', 'MYOCLLT', 'MYOCLRT', 'ALSFIND', 'GAITNPH', 'OTHNEUR', 'OTHNEURX', 'B9CHG', 'DECSUB', 'DECIN', 'DECCLIN', 'DECCLCOG', 'COGMEM', 'COGORI', 'COGJUDG', 'COGLANG', 'COGVIS', 'COGATTN', 'COGFLUC', 'COGFLAGO', 'COGOTHR', 'COGOTHRX', 'NACCCOGF', 'NACCCGFX', 'COGMODE', 'COGMODEX', 'DECAGE', 'DECCLBE', 'BEAPATHY', 'BEDEP', 'BEVHALL', 'BEVWELL', 'BEVHAGO', 'BEAHALL', 'BEDEL', 'BEDISIN', 'BEIRRIT', 'BEAGIT', 'BEPERCH', 'BEREM', 'BEREMAGO', 'BEANX', 'BEOTHR', 'BEOTHRX', 'NACCBEHF', 'NACCBEFX', 'BEMODE', 'BEMODEX', 'BEAGE', 'DECCLMOT', 'MOGAIT', 'MOFALLS', 'MOTREM', 'MOSLOW', 'NACCMOTF', 'MOMODE', 'MOMODEX', 'MOMOPARK', 'PARKAGE', 'MOMOALS', 'ALSAGE', 'MOAGE', 'COURSE', 'FRSTCHG', 'LBDEVAL', 'FTLDEVAL', 'MMSECOMP', 'MMSELOC', 'MMSELAN', 'MMSELANX', 'MMSEVIS', 'MMSEHEAR', 'MMSEORDA', 'MMSEORLO', 'PENTAGON', 'NACCMMSE', 'NPSYCLOC', 'NPSYLAN', 'NPSYLANX', 'LOGIMO', 'LOGIDAY', 'LOGIYR', 'LOGIPREV', 'LOGIMEM', 'MEMUNITS', 'MEMTIME', 'UDSBENTC', 'UDSBENTD', 'UDSBENRS', 'DIGIF', 'DIGIFLEN', 'DIGIB', 'DIGIBLEN', 'ANIMALS', 'VEG', 'TRAILA', 'TRAILARR', 'TRAILALI', 'TRAILB', 'TRAILBRR', 'TRAILBLI', 'WAIS', 'BOSTON', 'UDSVERFC', 'UDSVERFN', 'UDSVERNF', 'UDSVERLC', 'UDSVERLR', 'UDSVERLN', 'UDSVERTN', 'UDSVERTE', 'UDSVERTI', 'COGSTAT', 'NACCC1', 'MOCACOMP', 'MOCAREAS', 'MOCALOC', 'MOCALAN', 'MOCALANX', 'MOCAVIS', 'MOCAHEAR', 'MOCATOTS', 'MOCATRAI', 'MOCACUBE', 'MOCACLOC', 'MOCACLON', 'MOCACLOH', 'MOCANAMI', 'MOCAREGI', 'MOCADIGI', 'MOCALETT', 'MOCASER7', 'MOCAREPE', 'MOCAFLUE', 'MOCAABST', 'MOCARECN', 'MOCARECC', 'MOCARECR', 'MOCAORDT', 'MOCAORMO', 'MOCAORYR', 'MOCAORDY', 'MOCAORPL', 'MOCAORCT', 'CRAFTVRS', 'CRAFTURS', 'DIGFORCT', 'DIGFORSL', 'DIGBACCT', 'DIGBACLS', 'CRAFTDVR', 'CRAFTDRE', 'CRAFTDTI', 'CRAFTCUE', 'MINTTOTS', 'MINTTOTW', 'MINTSCNG', 'MINTSCNC', 'MINTPCNG', 'MINTPCNC', 'NACCC2', 'WHODIDDX', 'DXMETHOD', 'NORMCOG', 'DEMENTED', 'AMNDEM', 'PCA', 'NACCPPA', 'NACCPPAG', 'NACCPPME', 'NACCBVFT', 'NACCLBDS', 'NAMNDEM', 'NACCTMCI', 'NACCMCIL', 'NACCMCIA', 'NACCMCIE', 'NACCMCIV', 'NACCMCII', 'IMPNOMCI', 'AMYLPET', 'AMYLCSF', 'FDGAD', 'HIPPATR', 'TAUPETAD', 'CSFTAU', 'FDGFTLD', 'TPETFTLD', 'MRFTLD', 'DATSCAN', 'OTHBIOM', 'OTHBIOMX', 'IMAGLINF', 'IMAGLAC', 'IMAGMACH', 'IMAGMICH', 'IMAGMWMH', 'IMAGEWMH', 'OTHMUT', 'OTHMUTX', 'NACCALZD', 'NACCALZP', 'PROBAD', 'PROBADIF', 'POSSAD', 'POSSADIF', 'NACCLBDE', 'NACCLBDP', 'PARK', 'MSA', 'MSAIF', 'PSP', 'PSPIF', 'CORT', 'CORTIF', 'FTLDMO', 'FTLDMOIF', 'FTLDNOS', 'FTLDNOIF', 'FTD', 'FTDIF', 'PPAPH', 'PPAPHIF', 'FTLDSUBT', 'FTLDSUBX', 'CVD', 'CVDIF', 'PREVSTK', 'STROKDEC', 'STKIMAG', 'INFNETW', 'INFWMH', 'VASC', 'VASCIF', 'VASCPS', 'VASCPSIF', 'STROKE', 'STROKIF', 'ESSTREM', 'ESSTREIF', 'DOWNS', 'DOWNSIF', 'HUNT', 'HUNTIF', 'PRION', 'PRIONIF', 'BRNINJ', 'BRNINJIF', 'BRNINCTE', 'HYCEPH', 'HYCEPHIF', 'EPILEP', 'EPILEPIF', 'NEOP', 'NEOPIF', 'NEOPSTAT', 'HIV', 'HIVIF', 'OTHCOG', 'OTHCOGIF', 'OTHCOGX', 'DEP', 'DEPIF', 'DEPTREAT', 'BIPOLDX', 'BIPOLDIF', 'SCHIZOP', 'SCHIZOIF', 'ANXIET', 'ANXIETIF', 'DELIR', 'DELIRIF', 'PTSDDX', 'PTSDDXIF', 'OTHPSY', 'OTHPSYIF', 'OTHPSYX', 'ALCDEM', 'ALCDEMIF', 'ALCABUSE', 'IMPSUB', 'IMPSUBIF', 'DYSILL', 'DYSILLIF', 'MEDS', 'MEDSIF', 'DEMUN', 'DEMUNIF', 'COGOTH', 'COGOTHIF', 'COGOTHX', 'COGOTH2', 'COGOTH2F', 'COGOTH2X', 'COGOTH3', 'COGOTH3F', 'COGOTH3X', 'NACCETPR', 'NACCADMU', 'NACCFTDM', 'CANCER', 'CANCSITE', 'DIABET', 'MYOINF', 'CONGHRT', 'AFIBRILL', 'HYPERT', 'ANGINA', 'HYPCHOL', 'VB12DEF', 'THYDIS', 'ARTH', 'ARTYPE', 'ARTYPEX', 'ARTUPEX', 'ARTLOEX', 'ARTSPIN', 'ARTUNKN', 'URINEINC', 'BOWLINC', 'SLEEPAP', 'REMDIS', 'HYPOSOM', 'SLEEPOTH', 'SLEEPOTX', 'ANGIOCP', 'ANGIOPCI', 'PACEMAKE', 'HVALVE', 'ANTIENC', 'ANTIENCX', 'OTHCOND', 'OTHCONDX', 'NACCAGEB', 'NACCNIHR', 'NACCNORM', 'NACCIDEM', 'NACCAGE', 'NACCAAAS', 'NACCAANX', 'NACCAC', 'NACCACEI', 'NACCADEP', 'NACCADMD', 'NACCAHTN', 'NACCAMD', 'NACCANGI', 'NACCAPSY', 'NACCBETA', 'NACCCCBS', 'NACCDBMD', 'NACCDIUR', 'NACCEMD', 'NACCEPMD', 'NACCHTNC', 'NACCLIPL', 'NACCNSD', 'NACCPDMD', 'NACCVASD', 'NACCBMI', 'NACCUDSD', 'TELCOV', 'TELMOD', 'MODCOMM', 'MOCBTOTS', 'REY1REC', 'REY1INT', 'REY2REC', 'REY2INT', 'REY3REC', 'REY3INT', 'REY4REC', 'REY4INT', 'REY5REC', 'REY5INT', 'REY6REC', 'REY6INT', 'OTRAILA', 'OTRLARR', 'OTRLALI', 'OTRAILB', 'OTRLBRR', 'OTRLBLI', 'REYDREC', 'REYDINT', 'REYTCOR', 'REYFPOS', 'VNTTOTW', 'VNTPCNC', 'RESPVAL', 'RESPHEAR', 'RESPDIST', 'RESPINTR', 'RESPDISN', 'RESPFATG', 'RESPEMOT', 'RESPASST', 'RESPOTH', 'RESPOTHX', 'NACCMOCB', 'FTDLTFAS', 'FTDLIMB', 'FTDBULB', 'FTDGSEV', 'FTDGSEVX', 'FTDGTYP', 'FTDGTYPG', 'FTDGTYPX', 'FTDPPASL', 'FTDPPAPO', 'FTDPPAIW', 'FTDPPASW', 'FTDPPAPK', 'FTDPPAGS', 'FTDPPAEH', 'FTDPPACS', 'FTDPPASS', 'FTDPPASR', 'FTDPPASD', 'FTDCPPA', 'FTDCPPAS', 'FTDBVCLN', 'FTDBVDIS', 'FTDBVAPA', 'FTDBVLOS', 'FTDBVRIT', 'FTDBVHYP', 'FTDBVNEU', 'FTDBVIDL', 'FTDBVFT', 'FTDEMGPV', 'FTDEMGPY', 'FTDEMGMN', 'FTDPABVF', 'FTDWORRC', 'FTDWORRS', 'FTDWORRR', 'FTDWORIC', 'FTDWORIS', 'FTDWORIR', 'FTDWORIP', 'FTDSEMMT', 'FTDSEMAA', 'FTDSEMTA', 'FTDSEMSU', 'FTDANASW', 'FTDANAOW', 'FTDANATS', 'FTDSENAS', 'FTDSENOS', 'FTDSENSR', 'FTDSENPR', 'FTDNOUNC', 'FTDVERBC', 'FTDRATIO', 'FTDREAAS', 'FTDREAOS', 'FTDREASR', 'FTDREAPR', 'FTDCPC2F', 'FTDHAIRD', 'FTDSPIT', 'FTDNOSE', 'FTDCOAGE', 'FTDCRY', 'FTDCUT', 'FTDYTRIP', 'FTDEATP', 'FTDTELLA', 'FTDOPIN', 'FTDLAUGH', 'FTDSHIRT', 'FTDKEEPM', 'FTDPICKN', 'FTDOVER', 'FTDEATR', 'FTDHAIRL', 'FTDSHIRW', 'FTDMOVE', 'FTDHUGS', 'FTDLOUD', 'FTDLOST', 'FTDSNTOT', 'FTDSNTBS', 'FTDSNTOS', 'FTDSNRAT', 'FTDSELF', 'FTDBADLY', 'FTDDEPR', 'FTDEMOTD', 'FTDLSELF', 'FTDDISR', 'FTDBELCH', 'FTDGIGG', 'FTDPRIV', 'FTDNEGAT', 'FTDECOMM', 'FTDINAPJ', 'FTDFAILA', 'FTDRESIS', 'FTDINTER', 'FTDVERBA', 'FTDPHYSI', 'FTDTOPIC', 'FTDPROTO', 'FTDPREO', 'FTDFINI', 'FTDACTED', 'FTDABS', 'FTDFEEDB', 'FTDFRUST', 'FTDANXI', 'FTDNERVO', 'FTDNDIAG', 'FTDSTIMB', 'FTDSTIME', 'FTDOBJEC', 'FTDCIRCU', 'FTDPERSE', 'FTDREPEA', 'FTDANECD', 'FTDDINIT', 'FTDDELAY', 'FTDADDVE', 'FTDFLUCT', 'FTDLOSTT', 'FTDREPRU', 'FTDTRAIN', 'FTDDISCL', 'FTDSPONT', 'FTDSPONR', 'FTDSTOOD', 'FTDTOUCH', 'FTDDSOCI', 'FTDEXAGG', 'FTDSBTOT', 'FTDSBCTO', 'FTDLENGT', 'FTDCPC4F', 'FTDWORKU', 'FTDMIST', 'FTDCRIT', 'FTDWORR', 'FTDBAD', 'FTDPOOR', 'FTDFFEAR', 'FTDBIST', 'FTDCPC5F', 'FTDINSEX', 'FTDINFYR', 'FTDINFMO', 'FTDINFRE', 'FTDFEEL', 'FTDDIFF', 'FTDSORR', 'FTDSIDE', 'FTDADVAN', 'FTDIMAG', 'FTDMISF', 'FTDWASTE', 'FTDPITY', 'FTDQTOUC', 'FTDSIDES', 'FTDSOFTH', 'FTDUPSET', 'FTDCRITI', 'FTDIRIEC', 'FTDIRIPT', 'FTDCPC6F', 'FTDALTER', 'FTDEMOT', 'FTDACROS', 'FTDCONV', 'FTDINTUI', 'FTDJOKE', 'FTDIMAGP', 'FTDINAPP', 'FTDCHBEH', 'FTDADBEH', 'FTDLYING', 'FTDGOODF', 'FTDREGUL', 'FTDSMSCR', 'FTDSPSCR', 'FTDRSMST', 'FTDSMRI', 'FTDSMDY', 'FTDSMYR', 'FTDSMMO', 'FTDSMDIC', 'FTDSMDIS', 'FTDSMADN', 'FTDSMADV', 'FTDSMMAN', 'FTDSMMAO', 'FTDSMMAM', 'FTDSMFS', 'FTDSMFSO', 'FTDSMQU', 'FTDFDGPT', 'FTDFPYR', 'FTDFPMO', 'FTDFPDY', 'FTDFDDIC', 'FTDFDDID', 'FTDFDADN', 'FTDFDADV', 'FTDFDMAN', 'FTDFDMAO', 'FTDFDMAM', 'FTDFDQU', 'FTDAMYPT', 'FTDAMDY', 'FTDAMYR', 'FTDAMMO', 'FTDAMDIC', 'FTDAMDID', 'FTDAMLIG', 'FTDAMLIO', 'FTDAMADN', 'FTDAMADV', 'FTDAMMAN', 'FTDAMMAO', 'FTDAMMAM', 'FTDAMQU', 'FTDOTHER', 'FTDOTDOP', 'FTDOTSER', 'FTDOTCHO', 'FTDOTANO', 'FTDOTANS', 'FTDIDIAG', 'FTDSMRIO', 'FTDMRIFA', 'FTDMRIRF', 'FTDMRILF', 'FTDMRIRT', 'FTDMRILT', 'FTDMRIRM', 'FTDMRILM', 'FTDMRIRP', 'FTDMRILP', 'FTDMRIRB', 'FTDMRILB', 'FTDMRIOB', 'FTDMRIOS', 'FTDFDGPE', 'FTDFDGFH', 'FTDFDGRF', 'FTDFDGLF', 'FTDFDGRT', 'FTDFDGLT', 'FTDFDGRM', 'FTDFDGLM', 'FTDFDGRP', 'FTDFDGLP', 'FTDFDGRB', 'FTDFDGLB', 'FTDFDGOA', 'FTDFDGOS', 'FTDAMYP', 'FTDAMYVI', 'FTDAMYRF', 'FTDAMYLF', 'FTDAMYRT', 'FTDAMYLT', 'FTDAMYRM', 'FTDAMYLM', 'FTDAMYRP', 'FTDAMYLP', 'FTDAMYRB', 'FTDAMYLB', 'FTDAMYOA', 'FTDAMYOS', 'FTDCBFSP', 'FTDCBFVI', 'FTDCBFRF', 'FTDCBFLF', 'FTDCBFRT', 'FTDCBFLT', 'FTDCBFRM', 'FTDCBFLM', 'FTDCBFRP', 'FTDCBFLP', 'FTDCBFRB', 'FTDCBFLB', 'FTDCBFOA', 'FTDCBFOS', 'FTDOTHI', 'FTDOTHIS', 'NACCMOCA', 'NGDSWGAC', 'NGDSWEAC', 'NGDSGWAC', 'NGDSEXAC', 'NGDSEXOM', 'NACCAPOE', 'ADGCGWAS', 'NACCNE4S', 'NGDSGWAS', 'ADGCEXR', 'ADGCRND', 'NGDSWGS', 'NGDSWES', 'ADGCEXOM', 'NPSEX', 'NPPMIH', 'NPFIX', 'NPFIXX', 'NPWBRWT', 'NPWBRF', 'NACCBRNN', 'NPGRCCA', 'NPGRLA', 'NPGRHA', 'NPGRSNH', 'NPGRLCH', 'NACCAVAS', 'NPTAN', 'NPTANX', 'NPABAN', 'NPABANX', 'NPASAN', 'NPASANX', 'NPTDPAN', 'NPTDPANX', 'NPHISMB', 'NPHISG', 'NPHISSS', 'NPHIST', 'NPHISO', 'NPHISOX', 'NPTHAL', 'NACCBRAA', 'NACCNEUR', 'NPADNC', 'NACCDIFF', 'NACCVASC', 'NACCAMY', 'NPLINF', 'NPLAC', 'NPINF', 'NPINF1A', 'NPINF1B', 'NPINF1D', 'NPINF1F', 'NPINF2A', 'NPINF2B', 'NPINF2D', 'NPINF2F', 'NPINF3A', 'NPINF3B', 'NPINF3D', 'NPINF3F', 'NPINF4A', 'NPINF4B', 'NPINF4D', 'NPINF4F', 'NACCINF', 'NPHEM', 'NPHEMO', 'NPHEMO1', 'NPHEMO2', 'NPHEMO3', 'NPMICRO', 'NPOLD', 'NPOLD1', 'NPOLD2', 'NPOLD3', 'NPOLD4', 'NACCMICR', 'NPOLDD', 'NPOLDD1', 'NPOLDD2', 'NPOLDD3', 'NPOLDD4', 'NACCHEM', 'NACCARTE', 'NPWMR', 'NPPATH', 'NACCNEC', 'NPPATH2', 'NPPATH3', 'NPPATH4', 'NPPATH5', 'NPPATH6', 'NPPATH7', 'NPPATH8', 'NPPATH9', 'NPPATH10', 'NPPATH11', 'NPPATHO', 'NPPATHOX', 'NPART', 'NPOANG', 'NACCLEWY', 'NPLBOD', 'NPNLOSS', 'NPHIPSCL', 'NPSCL', 'NPFTDTAU', 'NACCPICK', 'NPFTDT2', 'NACCCBD', 'NACCPROG', 'NPFTDT5', 'NPFTDT6', 'NPFTDT7', 'NPFTDT8', 'NPFTDT9', 'NPFTDT10', 'NPFRONT', 'NPTAU', 'NPFTD', 'NPFTDTDP', 'NPALSMND', 'NPOFTD', 'NPOFTD1', 'NPOFTD2', 'NPOFTD3', 'NPOFTD4', 'NPOFTD5', 'NPFTDNO', 'NPFTDSPC', 'NPTDPA', 'NPTDPB', 'NPTDPC', 'NPTDPD', 'NPTDPE', 'NPPDXA', 'NPPDXB', 'NACCPRIO', 'NPPDXD', 'NPPDXE', 'NPPDXF', 'NPPDXG', 'NPPDXH', 'NPPDXI', 'NPPDXJ', 'NPPDXK', 'NPPDXL', 'NPPDXM', 'NPPDXN', 'NACCDOWN', 'NPPDXP', 'NPPDXQ', 'NACCOTHP', 'NACCWRI1', 'NACCWRI2', 'NACCWRI3', 'NACCBNKF', 'NPBNKB', 'NACCFORM', 'NACCPARA', 'NACCCSFP', 'NPBNKF', 'NPFAUT', 'NPFAUT1', 'NPFAUT2', 'NPFAUT3', 'NPFAUT4', 'NACCDAGE', 'NACCINT', 'NPNIT', 'NPCERAD', 'NPADRDA', 'NPOCRIT', 'NPVOTH', 'NPLEWYCS', 'NPGENE', 'NPFHSPEC', 'NPTAUHAP', 'NPPRNP', 'NPCHROM', 'NPPNORM', 'NPCNORM', 'NPPADP', 'NPCADP', 'NPPAD', 'NPCAD', 'NPPLEWY', 'NPCLEWY', 'NPPVASC', 'NPCVASC', 'NPPFTLD', 'NPCFTLD', 'NPPHIPP', 'NPCHIPP', 'NPPPRION', 'NPCPRION', 'NPPOTH1', 'NPCOTH1', 'NPOTH1X', 'NPPOTH2', 'NPCOTH2', 'NPOTH2X', 'NPPOTH3', 'NPCOTH3', 'NPOTH3X', 'LBSSALIV', 'LBSSWALL', 'LBSINSEX', 'LBSPRSEX', 'LBSWEIGH', 'LBSSMELL', 'LBSSWEAT', 'LBSTOLCD', 'LBSTOLHT', 'LBSDBVIS', 'LBSCONST', 'LBSHDSTL', 'LBSLSSTL', 'LBSUBLAD', 'LBSUSTRM', 'LBSUPASS', 'LBSDZSTU', 'LBSDZSTN', 'LBSFAINT', 'LBSPSYM', 'LBPSYAGE', 'LBSSUPSY', 'LBSSUPDI', 'LBSSUPHT', 'LBSSTNSY', 'LBSSTNDI', 'LBSSTNHT', 'LBSAGERM', 'LBSAGESM', 'LBSAGEGT', 'LBSAGEFL', 'LBSAGETR', 'LBSAGEBR', 'LBSSCLAU', 'LBSSCLVR', 'LBSSCLOT', 'LBSSCOR', 'LBUDSPCH', 'LBUDSALV', 'LBUDSWAL', 'LBUWRITE', 'LBUDFOOD', 'LBUDRESS', 'LBUDHYGN', 'LBUDTURN', 'LBUDFALL', 'LBUDFRZ', 'LBUDWALK', 'LBUDTREM', 'LBUDSENS', 'LBUMSPCH', 'LBUMSPCX', 'LBUMFACE', 'LBUMFACX', 'LBUMTRFA', 'LBUTRFAX', 'LBUMTRRH', 'LBUTRRHX', 'LBUMTRLH', 'LBUTRLHX', 'LBUMTRRF', 'LBUTRRFX', 'LBUMTRLF', 'LBUTRLFX', 'LBUMATRH', 'LBUATRHX', 'LBUMATLH', 'LBUATLHX', 'LBUMRGNK', 'LBURGNKX', 'LBUMRGRU', 'LBURGRUX', 'LBUMRGLU', 'LBURGLUX', 'LBUMRGRL', 'LBURGRLX', 'LBUMRGLL', 'LBURGLLX', 'LBUMFTRH', 'LBUFTRHX', 'LBUMFTLH', 'LBUFTLHX', 'LBUMHMRH', 'LBUHMRHX', 'LBUMHMLH', 'LBUHMLHX', 'LBUMPSRH', 'LBUPSRHX', 'LBUMPSLH', 'LBUPSLHX', 'LBUMLGRL', 'LBULGRLX', 'LBUMLGLL', 'LBULGLLX', 'LBUMRISE', 'LBUMRISX', 'LBUMPOST', 'LBUMPOSX', 'LBUMGAIT', 'LBUMGAIX', 'LBUPSTBL', 'LBUPSTBX', 'LBUMBRAD', 'LBUMBRAX', 'LBUMHNYR', 'LBUMHNYX', 'LBDELUS', 'LBDHURT', 'LBDSTEAL', 'LBDAFFR', 'LBDGUEST', 'LBDIMPOS', 'LBDHOME', 'LBDABAND', 'LBDPRES', 'LBDOTHER', 'LBDELFRQ', 'LBDELSEV', 'LBDELDST', 'LBHALL', 'LBHVOICE', 'LBHPEOPL', 'LBHNOTPR', 'LBHODOR', 'LBHFEEL', 'LBHTASTE', 'LBHOTSEN', 'LBHALFRQ', 'LBHALSEV', 'LBHALDST', 'LBANXIET', 'LBANEVNT', 'LBANRELX', 'LBANBRTH', 'LBANBUTT', 'LBANPLAC', 'LBANSEPR', 'LBANOTHR', 'LBANXFRQ', 'LBANXSEV', 'LBANXDST', 'LBAPATHY', 'LBAPSPNT', 'LBAPCONV', 'LBAPAFF', 'LBAPCHOR', 'LBAPINT', 'LBAPFAML', 'LBAPINTR', 'LBAPOTH', 'LBAPAFRQ', 'LBAPASEV', 'LBAPADST', 'LBDOPAM', 'LBDAGE', 'LBDDRUG1', 'LBDDOSE1', 'LBDAGE2', 'LBDDRUG2', 'LBDDOSE2', 'LBDELAGE', 'LBDELMED', 'LBDELMD1', 'LBDELMD2', 'LBHALAGE', 'LBHALMED', 'LBHALMD1', 'LBHALMD2', 'LBANXAGE', 'LBANXMED', 'LBANXMD1', 'LBANXMD2', 'LBAPAAGE', 'LBAPAMED', 'LBAPAMD1', 'LBAPAMD2', 'LBMLTHRG', 'LBMSLEEP', 'LBMDISRG', 'LBMSTARE', 'LBSPCGIM', 'LBSPDRM', 'LBSPYRS', 'LBSPMOS', 'LBSPINJS', 'LBSPINJP', 'LBSPCHAS', 'LBSPMOVE', 'LBSPLEGS', 'LBSPNERV', 'LBSPURGL', 'LBSPSENS', 'LBSPWORS', 'LBSPWALK', 'LBSPAWAK', 'LBSPBRTH', 'LBSPTRT', 'LBSPCRMP', 'LBSPALRT', 'LBSCLIV', 'LBSCSLP', 'LBSCBEHV', 'LBSCDRM', 'LBSCYRS', 'LBSCMOS', 'LBSCINJS', 'LBSCINJP', 'LBSCCHAS', 'LBSCMOVE', 'LBSCLEGS', 'LBSCNERV', 'LBSCSENS', 'LBSCWORS', 'LBSCWALK', 'LBSCAWAK', 'LBSCBRTH', 'LBSCTRT', 'LBSCCRMP', 'LBSCALRT', 'PACOGIMP', 'PANSFALL', 'PANSWKOF', 'PANSLYAW', 'PANSWKER', 'PANSLTTL', 'SCPARATE', 'PADSUNEX', 'PADSSITP', 'PADSWATV', 'PADSTALK', 'PADSAWDY', 'PADSFLDY', 'CONSFALL', 'CONSWKOF', 'CONSLYAW', 'CONSWKER', 'CONSLTTL', 'SCCORATE', 'CODSUNEX', 'CODSSITP', 'CODSWATV', 'CODSTALK', 'CODSAWDY', 'CODSFLDY', 'SCCOFRST', 'SCCOAGEN', 'SCCOAGED', 'SCCOCOMP', 'SCCOSCVR', 'SCCOOTH', 'SCCOSCOR', 'LBNSWORD', 'LBNSCOLR', 'LBNSCLWD', 'LBNPFACE', 'LBNPNOIS', 'LBNPTCOR', 'LBNPPARD', 'LBCDSCOG', 'LBCCMEM', 'LBCCLANG', 'LBCCATT', 'LBCCEXDE', 'LBCCVIS', 'LBCDSMOV', 'LBCMBRAD', 'LBCMRIGD', 'LBCMRTRM', 'LBCMPTRM', 'LBCMATRM', 'LBCMMYOC', 'LBCMGAIT', 'LBCMPINS', 'LBCDSBEV', 'LBCBDEP', 'LBCBAPA', 'LBCBANX', 'LBCBHALL', 'LBCBDEL', 'LBCDSAUT', 'LBCAREM', 'LBCAAPN', 'LBCALGSL', 'LBCARSLE', 'LBCADTSL', 'LBCACGFL', 'LBCAHYPT', 'LBCACONS', 'LBCAHYPS', 'LBCAFALL', 'LBCASYNC', 'LBCASNAP', 'LBCOGST', 'LBCOGDX', 'LBGLRRK2', 'LBGLRKIS', 'LBGPARK2', 'LBGPK2IS', 'LBGPARK7', 'LBGPK7IS', 'LBGPINK1', 'LBGPNKIS', 'LBGSNCA', 'LBGSNCIS', 'LBGGBA', 'LBGGBAIS', 'LBGOTHR', 'LBGOTHIS', 'LBGOTHX', 'LBISMRI', 'LBISMMO', 'LBISMDY', 'LBISMYR', 'LBISMQAV', 'LBISMHIP', 'LBISMAVL', 'LBISMDCM', 'LBISMFMT', 'LBISMADN', 'LBISMVER', 'LBISMMAN', 'LBISMOM', 'LBISMSTR', 'LBISMOS', 'LBIFPET', 'LBIFPYR', 'LBIFPMO', 'LBIFPDY', 'LBIFPQAV', 'LBIFPOCC', 'LBIFPTPP', 'LBIFPISL', 'LBIFPAVL', 'LBIFPDCM', 'LBIFPFMT', 'LBIFPADN', 'LBIFPVER', 'LBIFPMAN', 'LBIFPOM', 'LBIAPET', 'LBIAPYR', 'LBIAPMO', 'LBIAPDY', 'LBIAPQAV', 'LBIAPAVL', 'LBIAPDCM', 'LBIAPFMT', 'LBIAPLIG', 'LBIAPOL', 'LBIAPADN', 'LBIAPVER', 'LBIAPMAN', 'LBIAPOM', 'LBITPET', 'LBITPDY', 'LBITPYR', 'LBITPMO', 'LBITPQAV', 'LBITPAVL', 'LBITPDCM', 'LBITPFMT', 'LBITPLIG', 'LBITPOL', 'LBITPADN', 'LBITPVER', 'LBITPMAN', 'LBITPOM', 'LBIDATS', 'LBIDSYR', 'LBIDSMO', 'LBIDSDY', 'LBIDSQAV', 'LBIDSABN', 'LBOPOLYS', 'LBOPOSYR', 'LBOPOSMO', 'LBOPOSDY', 'LBOPOPOS', 'LBOPOAVL', 'LBOCMIBG', 'LBOCMYR', 'LBOCMMO', 'LBOCMDY', 'LBOCMPOS', 'LBOCMAVL', 'LBOANOS', 'LBOANYR', 'LBOANMO', 'LBOANDY', 'LBOANPOS', 'LBOANAVL', 'LBOANVER', 'LBOANOTH', 'LBOEEG', 'LBOEGYR', 'LBOEGMO', 'LBOEGDY', 'LBOEGPOS', 'LBOEGAVL', 'LBOMSLT', 'LBOMSYR', 'LBOMSMO', 'LBOMSDY', 'LBOMSPOS', 'LBOMSAVL', 'LBOTILT', 'LBOTLYR', 'LBOTLMO', 'LBOTLDY', 'LBOTLPOS', 'LBOTLAVL', 'LBOQSART', 'LBOQSYR', 'LBOQSMO', 'LBOQSDY', 'LBOQSPOS', 'LBOSGAVL', 'LBOTHERM', 'LBOTHDY', 'LBOTHYR', 'LBOTHMO', 'LBOTHPOS', 'LBOTHAVL', 'LBOCGAIT', 'LBOCGYR', 'LBOCGMO', 'LBOCGDY', 'LBOCGPOS', 'LBOCGAVL', 'SurvivalTime', 'Event']\n",
      "data.shape (921, 1696)\n"
     ]
    }
   ],
   "source": [
    "data,column_names=csv_read('./data/survival_data.csv')"
   ]
  },
  {
   "cell_type": "code",
   "execution_count": 4,
   "id": "bb88cdb5-569b-4f02-b296-7c8462b4b953",
   "metadata": {},
   "outputs": [
    {
     "data": {
      "text/plain": [
       "array([['NACC001169', 6, 728, ..., nan, 728, True],\n",
       "       ['NACC002468', 6, 1834, ..., nan, 1834, False],\n",
       "       ['NACC005230', 5, 959, ..., nan, 959, True],\n",
       "       ...,\n",
       "       ['NACC994463', 4, 364, ..., nan, 364, True],\n",
       "       ['NACC997236', 7, 364, ..., nan, 364, True],\n",
       "       ['NACC997719', 3, 363, ..., nan, 363, True]], dtype=object)"
      ]
     },
     "execution_count": 4,
     "metadata": {},
     "output_type": "execute_result"
    }
   ],
   "source": [
    "data"
   ]
  },
  {
   "cell_type": "code",
   "execution_count": 5,
   "id": "dc4408a2-d954-4685-ad2d-c93a29811b64",
   "metadata": {},
   "outputs": [],
   "source": [
    "used_samples_index=np.where(data[:,1]!=1)[0]"
   ]
  },
  {
   "cell_type": "code",
   "execution_count": 6,
   "id": "c2921028-8db5-4ffd-9ce8-70b4d1c18730",
   "metadata": {
    "scrolled": true,
    "tags": []
   },
   "outputs": [
    {
     "data": {
      "text/plain": [
       "array([  0,   1,   2,   3,   4,   5,   6,   7,   8,   9,  10,  11,  12,\n",
       "        13,  14,  15,  17,  19,  20,  21,  22,  23,  26,  27,  28,  30,\n",
       "        31,  32,  33,  34,  35,  36,  37,  38,  39,  40,  41,  42,  43,\n",
       "        44,  45,  46,  47,  49,  50,  51,  52,  53,  54,  55,  56,  57,\n",
       "        58,  59,  61,  63,  64,  65,  66,  67,  69,  70,  71,  72,  74,\n",
       "        75,  76,  77,  78,  79,  80,  81,  82,  83,  84,  85,  86,  87,\n",
       "        88,  89,  90,  91,  92,  93,  95,  96,  97,  99, 101, 102, 103,\n",
       "       104, 105, 106, 107, 108, 109, 110, 111, 112, 113, 114, 115, 116,\n",
       "       117, 119, 120, 121, 122, 123, 124, 125, 126, 127, 128, 129, 130,\n",
       "       131, 132, 133, 134, 135, 136, 137, 138, 139, 140, 141, 142, 143,\n",
       "       144, 145, 146, 147, 148, 149, 150, 151, 152, 153, 154, 155, 156,\n",
       "       157, 158, 159, 160, 163, 164, 165, 166, 167, 168, 169, 170, 171,\n",
       "       172, 173, 174, 175, 176, 177, 178, 179, 180, 181, 182, 183, 184,\n",
       "       185, 186, 187, 188, 189, 190, 191, 193, 194, 195, 196, 197, 198,\n",
       "       199, 200, 201, 202, 203, 204, 205, 206, 207, 208, 209, 210, 211,\n",
       "       212, 213, 214, 215, 217, 218, 219, 220, 221, 222, 223, 224, 225,\n",
       "       226, 227, 228, 229, 230, 231, 232, 233, 234, 235, 236, 237, 238,\n",
       "       239, 242, 243, 244, 245, 246, 247, 248, 249, 250, 251, 252, 253,\n",
       "       254, 255, 256, 257, 258, 259, 260, 261, 262, 263, 264, 265, 266,\n",
       "       267, 268, 269, 270, 271, 272, 273, 274, 275, 276, 277, 278, 279,\n",
       "       280, 281, 282, 284, 285, 286, 287, 288, 290, 291, 292, 293, 294,\n",
       "       295, 296, 299, 300, 302, 303, 304, 305, 306, 307, 308, 309, 310,\n",
       "       311, 313, 314, 315, 318, 319, 320, 321, 322, 323, 324, 325, 326,\n",
       "       327, 328, 329, 330, 331, 332, 333, 334, 335, 336, 337, 338, 339,\n",
       "       341, 342, 343, 344, 345, 346, 347, 348, 349, 352, 353, 354, 355,\n",
       "       356, 357, 358, 359, 360, 361, 362, 363, 364, 365, 366, 367, 368,\n",
       "       369, 371, 372, 373, 374, 375, 376, 377, 378, 379, 380, 381, 382,\n",
       "       383, 385, 386, 387, 388, 389, 390, 391, 392, 393, 394, 395, 396,\n",
       "       397, 398, 399, 400, 401, 402, 403, 404, 405, 406, 407, 409, 410,\n",
       "       411, 412, 414, 415, 416, 417, 418, 419, 420, 421, 422, 423, 424,\n",
       "       425, 426, 427, 429, 430, 431, 432, 433, 434, 436, 437, 438, 439,\n",
       "       440, 442, 444, 445, 446, 447, 448, 449, 450, 451, 452, 453, 454,\n",
       "       455, 456, 457, 458, 459, 460, 461, 462, 463, 464, 465, 466, 467,\n",
       "       468, 469, 470, 471, 472, 473, 474, 475, 476, 477, 479, 480, 481,\n",
       "       482, 483, 484, 485, 486, 487, 488, 489, 490, 491, 492, 493, 495,\n",
       "       496, 497, 499, 500, 501, 502, 503, 504, 505, 506, 507, 508, 510,\n",
       "       511, 512, 513, 514, 515, 516, 517, 518, 519, 520, 521, 522, 523,\n",
       "       524, 527, 528, 529, 531, 532, 533, 534, 537, 538, 539, 540, 541,\n",
       "       542, 543, 544, 545, 546, 547, 548, 549, 550, 551, 552, 553, 555,\n",
       "       556, 558, 559, 560, 561, 562, 563, 564, 565, 566, 567, 568, 569,\n",
       "       570, 571, 572, 573, 574, 575, 576, 577, 578, 579, 581, 582, 583,\n",
       "       584, 585, 587, 588, 589, 590, 591, 592, 593, 594, 595, 596, 597,\n",
       "       599, 600, 601, 602, 603, 604, 605, 606, 607, 608, 609, 610, 611,\n",
       "       612, 614, 615, 616, 617, 618, 619, 620, 621, 622, 623, 624, 625,\n",
       "       626, 627, 629, 630, 631, 632, 633, 634, 635, 636, 637, 638, 639,\n",
       "       640, 641, 642, 643, 645, 646, 647, 648, 649, 650, 651, 652, 653,\n",
       "       654, 655, 657, 658, 659, 661, 662, 663, 664, 665, 666, 667, 668,\n",
       "       669, 670, 671, 672, 673, 674, 675, 676, 677, 678, 679, 680, 681,\n",
       "       683, 684, 685, 686, 687, 688, 689, 690, 691, 692, 693, 694, 695,\n",
       "       696, 697, 698, 699, 700, 701, 702, 703, 704, 705, 706, 707, 708,\n",
       "       709, 710, 711, 712, 713, 714, 715, 716, 717, 718, 719, 720, 721,\n",
       "       722, 723, 724, 725, 726, 727, 728, 729, 730, 731, 732, 733, 734,\n",
       "       735, 736, 737, 738, 739, 740, 741, 742, 743, 744, 745, 746, 747,\n",
       "       748, 750, 751, 752, 753, 754, 755, 756, 757, 758, 759, 760, 761,\n",
       "       763, 764, 765, 766, 767, 768, 769, 770, 771, 772, 773, 774, 775,\n",
       "       778, 779, 780, 781, 782, 783, 784, 785, 786, 787, 788, 789, 790,\n",
       "       791, 792, 793, 794, 795, 796, 797, 798, 799, 800, 801, 803, 804,\n",
       "       805, 806, 807, 808, 809, 810, 811, 812, 813, 814, 815, 817, 818,\n",
       "       819, 820, 821, 822, 823, 824, 825, 827, 828, 829, 830, 831, 832,\n",
       "       833, 834, 835, 836, 837, 838, 839, 840, 841, 842, 843, 844, 845,\n",
       "       846, 847, 848, 849, 850, 851, 852, 853, 854, 855, 856, 857, 858,\n",
       "       859, 860, 861, 863, 864, 865, 866, 868, 869, 870, 871, 872, 873,\n",
       "       874, 875, 876, 877, 878, 881, 883, 884, 885, 886, 887, 889, 890,\n",
       "       891, 892, 894, 895, 896, 897, 898, 899, 900, 902, 903, 904, 905,\n",
       "       906, 907, 908, 909, 910, 911, 912, 913, 914, 915, 916, 918, 919,\n",
       "       920])"
      ]
     },
     "execution_count": 6,
     "metadata": {},
     "output_type": "execute_result"
    }
   ],
   "source": [
    "used_samples_index"
   ]
  },
  {
   "cell_type": "code",
   "execution_count": 7,
   "id": "e76df270-cabf-4118-afa3-324b61d044de",
   "metadata": {},
   "outputs": [
    {
     "data": {
      "text/plain": [
       "393"
      ]
     },
     "execution_count": 7,
     "metadata": {},
     "output_type": "execute_result"
    }
   ],
   "source": [
    "np.sum(data[used_samples_index,-1]==True)"
   ]
  },
  {
   "cell_type": "code",
   "execution_count": 8,
   "id": "33e66697-498f-477b-a2b7-78585fbdf492",
   "metadata": {},
   "outputs": [
    {
     "data": {
      "text/plain": [
       "453"
      ]
     },
     "execution_count": 8,
     "metadata": {},
     "output_type": "execute_result"
    }
   ],
   "source": [
    "np.sum(data[used_samples_index,-1]==False)"
   ]
  },
  {
   "cell_type": "code",
   "execution_count": 9,
   "id": "3d60084a-ee4c-4fa3-8229-91079f67dbee",
   "metadata": {},
   "outputs": [
    {
     "data": {
      "text/plain": [
       "array([6, 6, 5, 4, 7, 7, 2, 7, 2, 11, 2, 6, 2, 3, 6, 5, 1, 4, 1, 7, 2, 6,\n",
       "       8, 3, 1, 1, 7, 10, 4, 1, 8, 7, 2, 6, 8, 2, 9, 9, 7, 10, 10, 2, 2,\n",
       "       4, 5, 5, 4, 5, 1, 3, 7, 2, 11, 3, 4, 13, 8, 12, 9, 3, 1, 2, 1, 2,\n",
       "       4, 6, 3, 6, 1, 11, 2, 11, 6, 1, 2, 3, 3, 5, 8, 2, 6, 11, 5, 6, 11,\n",
       "       5, 12, 5, 7, 5, 2, 3, 9, 2, 1, 3, 10, 4, 1, 11, 1, 8, 9, 9, 2, 9,\n",
       "       3, 13, 6, 7, 8, 4, 4, 13, 3, 8, 6, 2, 1, 12, 9, 3, 4, 11, 11, 8, 3,\n",
       "       5, 4, 11, 2, 4, 6, 4, 6, 2, 5, 5, 6, 3, 6, 5, 9, 3, 5, 6, 4, 5, 9,\n",
       "       2, 7, 3, 9, 3, 8, 5, 5, 3, 5, 6, 3, 1, 1, 11, 3, 2, 8, 11, 6, 4, 8,\n",
       "       6, 3, 7, 5, 3, 4, 6, 10, 4, 11, 4, 8, 9, 8, 6, 4, 2, 6, 2, 9, 9, 1,\n",
       "       4, 10, 8, 5, 3, 9, 7, 5, 3, 3, 6, 3, 7, 6, 4, 7, 4, 6, 9, 7, 3, 6,\n",
       "       5, 1, 9, 7, 7, 3, 7, 2, 8, 12, 3, 10, 4, 3, 6, 7, 6, 8, 12, 11, 11,\n",
       "       11, 9, 6, 8, 1, 1, 5, 2, 7, 8, 9, 8, 7, 6, 5, 3, 4, 2, 2, 3, 2, 4,\n",
       "       7, 13, 7, 12, 4, 3, 2, 4, 9, 4, 3, 5, 9, 6, 4, 5, 3, 3, 4, 6, 7,\n",
       "       10, 13, 9, 5, 1, 11, 5, 7, 7, 3, 1, 4, 8, 2, 7, 3, 8, 2, 1, 1, 6,\n",
       "       5, 1, 6, 4, 4, 8, 6, 5, 5, 2, 9, 2, 1, 10, 5, 8, 1, 1, 9, 3, 3, 3,\n",
       "       9, 3, 3, 2, 2, 5, 2, 9, 4, 4, 4, 3, 2, 7, 2, 8, 6, 4, 1, 4, 7, 7,\n",
       "       10, 4, 11, 5, 6, 4, 1, 1, 7, 8, 4, 7, 9, 10, 3, 6, 4, 12, 8, 3, 7,\n",
       "       10, 3, 2, 4, 7, 1, 6, 4, 7, 3, 9, 12, 2, 6, 4, 6, 10, 13, 8, 1, 4,\n",
       "       4, 4, 8, 3, 6, 7, 10, 2, 9, 7, 7, 7, 3, 10, 6, 4, 9, 6, 2, 10, 5,\n",
       "       9, 1, 4, 4, 7, 2, 1, 11, 4, 8, 4, 2, 6, 3, 10, 5, 2, 11, 10, 8, 5,\n",
       "       1, 3, 5, 4, 8, 8, 7, 1, 13, 4, 4, 7, 2, 1, 6, 1, 4, 5, 3, 4, 4, 5,\n",
       "       6, 2, 7, 7, 2, 3, 10, 7, 3, 3, 9, 6, 3, 8, 8, 3, 3, 10, 5, 4, 5, 4,\n",
       "       6, 13, 3, 5, 8, 3, 1, 3, 5, 4, 13, 4, 3, 2, 2, 9, 3, 7, 6, 4, 2, 4,\n",
       "       1, 12, 6, 8, 1, 4, 10, 4, 4, 6, 12, 3, 7, 7, 2, 1, 10, 9, 5, 6, 12,\n",
       "       2, 4, 8, 7, 6, 6, 3, 8, 11, 5, 1, 1, 7, 10, 8, 1, 3, 10, 6, 7, 1,\n",
       "       1, 6, 5, 7, 8, 2, 4, 8, 5, 4, 8, 3, 7, 5, 10, 8, 7, 7, 1, 3, 2, 1,\n",
       "       4, 2, 3, 10, 4, 4, 2, 8, 2, 2, 2, 10, 10, 6, 10, 4, 3, 2, 2, 4, 10,\n",
       "       3, 1, 6, 4, 11, 8, 5, 1, 3, 5, 3, 10, 2, 2, 5, 7, 9, 9, 4, 1, 3, 6,\n",
       "       10, 10, 12, 8, 7, 5, 11, 10, 4, 10, 8, 3, 1, 9, 9, 3, 10, 2, 9, 5,\n",
       "       6, 8, 2, 5, 5, 15, 8, 1, 6, 2, 4, 5, 2, 13, 3, 7, 5, 8, 5, 3, 4, 7,\n",
       "       7, 1, 9, 6, 3, 5, 4, 7, 5, 3, 5, 7, 7, 1, 6, 3, 4, 1, 8, 6, 3, 5,\n",
       "       3, 4, 4, 9, 9, 5, 10, 7, 13, 5, 5, 9, 10, 9, 2, 7, 6, 1, 8, 3, 4,\n",
       "       8, 3, 9, 7, 8, 7, 2, 11, 3, 3, 8, 3, 4, 4, 7, 10, 7, 11, 13, 12, 4,\n",
       "       6, 6, 7, 3, 3, 4, 7, 3, 8, 7, 2, 5, 7, 9, 2, 5, 7, 5, 9, 12, 9, 8,\n",
       "       12, 4, 2, 3, 5, 7, 6, 7, 7, 9, 4, 5, 3, 3, 8, 7, 8, 3, 9, 2, 1, 6,\n",
       "       2, 6, 6, 4, 3, 3, 8, 4, 6, 5, 5, 1, 2, 4, 7, 13, 3, 2, 9, 2, 8, 2,\n",
       "       5, 2, 5, 1, 1, 15, 2, 7, 12, 7, 4, 8, 6, 5, 3, 2, 5, 4, 13, 3, 4,\n",
       "       3, 5, 4, 10, 6, 6, 6, 2, 1, 13, 7, 10, 3, 7, 5, 4, 8, 2, 2, 11, 9,\n",
       "       5, 1, 6, 3, 4, 5, 8, 3, 11, 3, 7, 1, 9, 9, 7, 3, 6, 7, 3, 9, 8, 7,\n",
       "       3, 2, 12, 2, 4, 10, 4, 13, 2, 2, 5, 5, 8, 4, 5, 6, 6, 2, 5, 7, 2,\n",
       "       5, 5, 9, 4, 1, 3, 4, 9, 2, 1, 3, 6, 10, 2, 2, 6, 7, 3, 2, 3, 3, 1,\n",
       "       1, 8, 1, 5, 7, 2, 10, 5, 1, 3, 3, 8, 13, 1, 7, 10, 3, 6, 11, 7, 8,\n",
       "       1, 5, 6, 9, 2, 3, 10, 12, 8, 4, 3, 2, 9, 12, 5, 4, 1, 4, 7, 3],\n",
       "      dtype=object)"
      ]
     },
     "execution_count": 9,
     "metadata": {},
     "output_type": "execute_result"
    }
   ],
   "source": [
    "data[:,1]"
   ]
  },
  {
   "cell_type": "code",
   "execution_count": 10,
   "id": "fd5e3696-9cdd-4aba-914b-10d9b18e5f96",
   "metadata": {},
   "outputs": [
    {
     "data": {
      "text/plain": [
       "75"
      ]
     },
     "execution_count": 10,
     "metadata": {},
     "output_type": "execute_result"
    }
   ],
   "source": [
    "np.sum(data[:,1]==1)"
   ]
  },
  {
   "cell_type": "code",
   "execution_count": 11,
   "id": "815ca862-5fa0-4446-a419-334caa1e98bf",
   "metadata": {
    "scrolled": true,
    "tags": []
   },
   "outputs": [
    {
     "data": {
      "text/plain": [
       "array([True, False, True, True, False, True, True, True, False, True,\n",
       "       False, False, False, False, False, True, True, False, False, False,\n",
       "       False, True, True, True, False, True, True, False, True, False,\n",
       "       False, False, False, True, True, True, False, False, True, True,\n",
       "       False, True, True, True, True, False, True, True, False, False,\n",
       "       False, True, True, False, False, False, False, True, False, False,\n",
       "       False, False, False, False, True, False, False, True, True, False,\n",
       "       False, False, True, True, False, True, True, False, True, False,\n",
       "       False, False, True, False, False, True, False, True, False, False,\n",
       "       True, True, False, True, True, False, False, True, True, False,\n",
       "       True, False, True, True, True, True, True, True, True, False,\n",
       "       False, True, False, False, True, True, False, False, True, False,\n",
       "       False, True, False, False, True, False, False, False, True, False,\n",
       "       False, True, False, False, True, False, True, True, False, False,\n",
       "       False, True, False, True, True, True, False, False, False, False,\n",
       "       True, True, True, False, False, False, False, True, True, False,\n",
       "       True, True, True, False, True, False, True, False, False, True,\n",
       "       True, True, True, False, False, False, False, True, True, True,\n",
       "       True, False, False, False, False, False, True, True, False, False,\n",
       "       True, True, False, False, True, True, True, True, True, True,\n",
       "       False, True, False, False, False, False, False, False, True, False,\n",
       "       True, False, True, True, False, True, True, False, False, True,\n",
       "       True, True, False, False, True, True, True, False, True, False,\n",
       "       False, False, True, False, False, False, False, True, True, False,\n",
       "       False, False, False, False, False, True, True, False, False, True,\n",
       "       False, True, False, True, False, False, False, True, False, False,\n",
       "       True, True, False, True, False, True, True, False, True, True,\n",
       "       True, False, True, False, False, True, True, True, True, False,\n",
       "       True, True, True, True, False, True, False, True, True, True, True,\n",
       "       False, False, True, True, False, False, False, False, True, False,\n",
       "       True, True, True, True, True, False, False, False, True, True,\n",
       "       True, False, True, True, False, False, True, True, False, False,\n",
       "       False, False, True, True, False, False, False, True, False, False,\n",
       "       False, False, True, False, True, False, False, True, False, False,\n",
       "       True, True, True, True, False, False, False, False, True, True,\n",
       "       True, True, False, False, True, False, True, False, True, True,\n",
       "       True, True, True, False, True, False, True, True, False, True,\n",
       "       False, False, False, True, False, False, False, False, True, False,\n",
       "       False, False, False, False, False, False, True, False, True, False,\n",
       "       False, True, True, True, False, False, True, True, True, False,\n",
       "       True, True, False, True, True, True, False, False, True, True,\n",
       "       False, False, True, True, False, False, False, True, True, True,\n",
       "       False, False, False, True, False, True, False, True, False, False,\n",
       "       True, False, False, False, False, False, True, False, False, True,\n",
       "       False, True, True, False, False, False, True, False, True, True,\n",
       "       True, False, False, True, False, True, True, False, False, False,\n",
       "       False, True, False, False, False, False, True, True, False, False,\n",
       "       False, False, True, True, False, False, True, True, False, True,\n",
       "       False, True, True, False, False, False, True, False, True, False,\n",
       "       True, False, False, True, True, True, True, False, False, True,\n",
       "       False, True, True, True, True, False, False, False, False, False,\n",
       "       False, True, False, False, True, False, False, False, True, True,\n",
       "       False, False, False, False, True, False, False, True, True, False,\n",
       "       True, False, True, True, False, True, False, True, False, False,\n",
       "       True, True, False, False, False, False, True, True, False, True,\n",
       "       False, True, True, False, False, True, True, True, True, True,\n",
       "       False, True, False, False, False, True, True, False, False, False,\n",
       "       False, False, False, True, False, False, False, False, True, False,\n",
       "       True, False, False, True, False, True, False, True, True, True,\n",
       "       True, False, True, True, True, True, False, False, True, False,\n",
       "       False, False, False, False, False, True, True, False, False, False,\n",
       "       True, False, True, True, False, True, True, False, True, True,\n",
       "       True, True, False, False, True, False, True, True, True, True,\n",
       "       False, False, False, True, True, False, False, False, False, False,\n",
       "       False, False, False, True, True, False, False, False, True, True,\n",
       "       False, False, True, True, False, False, False, False, False, True,\n",
       "       True, False, True, True, True, True, False, False, True, True,\n",
       "       False, False, True, True, False, True, False, False, True, False,\n",
       "       False, False, False, True, True, True, True, True, False, True,\n",
       "       False, False, False, True, True, True, True, True, False, True,\n",
       "       True, False, False, False, True, False, False, False, False, False,\n",
       "       False, True, False, True, True, False, False, True, True, True,\n",
       "       True, True, True, False, False, True, True, False, False, True,\n",
       "       False, True, False, False, True, False, False, False, True, False,\n",
       "       False, True, False, False, False, False, False, False, True, False,\n",
       "       False, True, False, False, True, False, True, True, False, True,\n",
       "       False, False, True, True, True, True, False, True, True, True,\n",
       "       False, False, True, True, False, True, False, True, False, False,\n",
       "       True, False, True, False, True, False, True, False, False, False,\n",
       "       False, False, False, True, False, True, True, False, False, True,\n",
       "       False, True, False, False, True, False, False, False, True, False,\n",
       "       True, False, True, False, True, False, False, False, True, True,\n",
       "       False, False, False, False, False, False, False, False, True, True,\n",
       "       False, False, True, False, True, True, True, False, True, True,\n",
       "       True, False, True, True, True], dtype=object)"
      ]
     },
     "execution_count": 11,
     "metadata": {},
     "output_type": "execute_result"
    }
   ],
   "source": [
    "data[used_samples_index,-1]"
   ]
  },
  {
   "cell_type": "code",
   "execution_count": 12,
   "id": "45961b27-d1c0-4d7f-b0f1-6a63f4d66552",
   "metadata": {
    "scrolled": true,
    "tags": []
   },
   "outputs": [
    {
     "data": {
      "text/plain": [
       "array([728, 1834, 959, 348, 2151, 2520, 490, 724, 0, 3945, 504, 1471, 0,\n",
       "       0, 818, 1492, 1181, 373, 518, 1839, 2562, 610, 1106, 3287, 0, 2257,\n",
       "       2255, 356, 1185, 3680, 614, 3099, 2740, 917, 393, 455, 0, 485, 358,\n",
       "       829, 1968, 2086, 1522, 385, 1854, 1244, 3473, 447, 813, 3332, 1372,\n",
       "       3693, 1484, 0, 735, 0, 1146, 336, 1971, 763, 0, 462, 3795, 1070,\n",
       "       391, 831, 399, 1090, 3416, 0, 2711, 4368, 866, 1722, 4680, 1124,\n",
       "       3207, 497, 2975, 1433, 378, 448, 2209, 359, 0, 3375, 0, 3221, 2932,\n",
       "       729, 3319, 668, 0, 1677, 4173, 439, 364, 1892, 1415, 2106, 3808,\n",
       "       506, 1074, 1274, 455, 3432, 1882, 377, 1170, 4127, 4039, 2222, 0,\n",
       "       1666, 946, 3261, 330, 1180, 364, 1208, 2651, 442, 1960, 1097, 1954,\n",
       "       497, 1183, 731, 1004, 808, 1821, 1035, 728, 1456, 1288, 0, 1986,\n",
       "       377, 768, 369, 1126, 803, 0, 420, 1580, 1461, 910, 4150, 462, 733,\n",
       "       2260, 3766, 364, 665, 1840, 264, 791, 1113, 2051, 0, 818, 778,\n",
       "       1548, 1263, 3296, 496, 791, 3458, 2803, 1014, 392, 288, 732, 0,\n",
       "       3616, 3277, 0, 3370, 1911, 1097, 413, 3526, 2212, 1190, 0, 378,\n",
       "       1203, 678, 2555, 1821, 707, 1105, 371, 0, 2674, 417, 371, 380,\n",
       "       1586, 1151, 729, 336, 0, 2294, 441, 2544, 3952, 378, 3640, 1147,\n",
       "       343, 2631, 1491, 1126, 2771, 2182, 1123, 4050, 4149, 2240, 1533,\n",
       "       756, 400, 357, 477, 2688, 2738, 2496, 1457, 1169, 413, 0, 728, 403,\n",
       "       357, 881, 0, 441, 421, 5118, 2373, 4215, 392, 0, 0, 1253, 520, 0,\n",
       "       683, 811, 3309, 794, 0, 1965, 0, 335, 1099, 1491, 1236, 3401, 1526,\n",
       "       357, 1442, 4620, 1106, 2161, 797, 1050, 448, 780, 448, 1330, 1729,\n",
       "       763, 0, 2155, 430, 1091, 821, 1246, 1199, 1144, 1287, 1106, 372,\n",
       "       3652, 502, 1138, 1071, 1083, 1147, 0, 0, 403, 721, 0, 364, 0, 497,\n",
       "       378, 417, 364, 404, 819, 538, 462, 0, 2898, 0, 674, 2233, 727,\n",
       "       1043, 2239, 748, 3425, 518, 1829, 1449, 756, 0, 2163, 1573, 939,\n",
       "       795, 3100, 3292, 571, 861, 0, 4115, 2964, 2766, 420, 3845, 882,\n",
       "       531, 1200, 2121, 1939, 1090, 357, 805, 1534, 3617, 0, 2882, 1804,\n",
       "       1190, 3948, 4221, 593, 553, 331, 394, 2424, 852, 1777, 1183, 2600,\n",
       "       618, 882, 742, 1180, 2331, 787, 3883, 378, 856, 1340, 1703, 371,\n",
       "       3545, 951, 2540, 707, 1106, 1076, 512, 1504, 0, 834, 849, 405,\n",
       "       1862, 1134, 3423, 345, 368, 431, 3989, 415, 1420, 1325, 445, 904,\n",
       "       1777, 1817, 2923, 3328, 849, 823, 2769, 484, 1112, 1280, 1253, 770,\n",
       "       2475, 651, 1177, 2640, 1638, 1485, 2439, 0, 413, 2248, 735, 378,\n",
       "       3319, 3275, 748, 0, 453, 2770, 845, 817, 3053, 351, 1568, 1656, 0,\n",
       "       2085, 4750, 754, 1905, 749, 0, 354, 1152, 0, 4382, 348, 716, 0, 0,\n",
       "       842, 763, 1492, 770, 1252, 0, 313, 1243, 1857, 1184, 384, 4088,\n",
       "       1582, 372, 1926, 382, 390, 817, 2246, 0, 3255, 738, 2124, 4092,\n",
       "       2218, 337, 1991, 2053, 695, 259, 1500, 435, 2598, 3976, 0, 1093,\n",
       "       3710, 2613, 0, 1591, 729, 2384, 1497, 1594, 763, 2619, 0, 392,\n",
       "       1380, 1130, 1171, 2807, 378, 1206, 1565, 3487, 2577, 728, 792, 714,\n",
       "       0, 1897, 0, 364, 3941, 434, 1381, 0, 1635, 0, 0, 0, 3259, 3341,\n",
       "       1752, 3277, 728, 797, 362, 321, 1144, 2331, 1644, 1876, 1141, 3680,\n",
       "       2239, 747, 987, 1527, 385, 718, 386, 531, 2246, 1602, 2942, 3742,\n",
       "       1421, 0, 795, 1148, 323, 4094, 2708, 1792, 358, 4453, 1057, 1594,\n",
       "       1115, 1758, 931, 2900, 4158, 414, 3709, 358, 3276, 696, 372, 2602,\n",
       "       0, 1071, 1553, 5072, 0, 2106, 384, 1098, 1933, 0, 3294, 677, 334,\n",
       "       246, 824, 858, 351, 801, 735, 363, 1103, 414, 761, 1450, 357, 508,\n",
       "       875, 478, 733, 2209, 364, 2640, 0, 1345, 2767, 0, 470, 444, 691,\n",
       "       1232, 1266, 3002, 2004, 833, 2032, 2161, 4542, 884, 310, 2962,\n",
       "       4292, 1122, 345, 364, 392, 3086, 407, 1141, 3745, 1078, 1205, 1151,\n",
       "       2422, 427, 0, 947, 530, 0, 2628, 772, 1036, 1639, 707, 483, 2275,\n",
       "       3308, 3256, 4479, 463, 2407, 1176, 357, 782, 0, 685, 804, 0, 2625,\n",
       "       686, 0, 1944, 2339, 2347, 0, 1572, 1855, 1179, 1001, 4674, 3221,\n",
       "       2461, 3395, 1296, 0, 1246, 1532, 2768, 935, 791, 2361, 388, 1059,\n",
       "       454, 742, 0, 2607, 734, 1170, 362, 3045, 397, 2009, 380, 651, 4379,\n",
       "       356, 334, 388, 1686, 736, 671, 362, 1505, 0, 732, 2184, 3487, 666,\n",
       "       350, 3099, 0, 2904, 0, 2030, 0, 407, 2596, 0, 2643, 2228, 1446,\n",
       "       344, 2603, 1236, 356, 0, 377, 516, 435, 4721, 780, 518, 0, 2091,\n",
       "       1245, 3283, 0, 2190, 2445, 0, 3221, 782, 3547, 671, 2413, 1744, 0,\n",
       "       2603, 429, 0, 1545, 3681, 741, 1113, 365, 0, 731, 1708, 367, 3225,\n",
       "       0, 436, 2808, 3109, 1560, 594, 1109, 1436, 442, 2538, 2966, 1691,\n",
       "       819, 365, 2279, 809, 0, 3802, 715, 4109, 514, 427, 1071, 378, 2012,\n",
       "       1675, 1147, 931, 2893, 0, 1475, 2472, 379, 785, 0, 2982, 0, 952,\n",
       "       1078, 0, 0, 1645, 1885, 1475, 0, 360, 350, 2363, 765, 0, 358, 626,\n",
       "       2261, 1779, 728, 523, 2634, 507, 0, 0, 1127, 4271, 2735, 364, 1730,\n",
       "       2059, 3765, 4238, 2674, 1820, 438, 2924, 0, 0, 1505, 4073, 2656,\n",
       "       331, 371, 0, 3025, 4059, 1856, 0, 364, 364, 363], dtype=object)"
      ]
     },
     "execution_count": 12,
     "metadata": {},
     "output_type": "execute_result"
    }
   ],
   "source": [
    "data[used_samples_index,-2]"
   ]
  },
  {
   "cell_type": "code",
   "execution_count": 13,
   "id": "03e2a94a-63fe-40f3-8abe-90fce4cf6cb1",
   "metadata": {},
   "outputs": [
    {
     "name": "stderr",
     "output_type": "stream",
     "text": [
      "/usr/local/lib/python3.7/site-packages/pysurvival/utils/display.py:127: UserWarning: FixedFormatter should only be used together with FixedLocator\n",
      "  ax.set_yticklabels(['{:.1f}%'.format(v*100) for v in vals])\n"
     ]
    },
    {
     "data": {
      "image/png": "[encoded data removed]",
      "text/plain": [
       "<Figure size 1296x360 with 1 Axes>"
      ]
     },
     "metadata": {
      "needs_background": "light"
     },
     "output_type": "display_data"
    }
   ],
   "source": [
    "import numpy as np\n",
    "from matplotlib import pyplot as plt\n",
    "from pysurvival.models.non_parametric import KaplanMeierModel\n",
    "from pysurvival.utils.display import display_non_parametric\n",
    "# %matplotlib inline #Uncomment when using Jupyter \n",
    "\n",
    "# Generating random times and event indicators \n",
    "T = data[used_samples_index,-2]\n",
    "E = data[used_samples_index,-1]\n",
    "\n",
    "# Initializing the KaplanMeierModel\n",
    "km_model = KaplanMeierModel()\n",
    "\n",
    "# Fitting the model \n",
    "km_model.fit(T, E, alpha=0.95)\n",
    "\n",
    "# Displaying the survival function and confidence intervals\n",
    "display_non_parametric(km_model)"
   ]
  },
  {
   "cell_type": "code",
   "execution_count": 14,
   "id": "a30bbf68-1d01-494c-acf2-6fa6f8607dc0",
   "metadata": {},
   "outputs": [
    {
     "data": {
      "text/plain": [
       "0"
      ]
     },
     "execution_count": 14,
     "metadata": {},
     "output_type": "execute_result"
    }
   ],
   "source": [
    "np.min(T)"
   ]
  },
  {
   "cell_type": "code",
   "execution_count": 15,
   "id": "f14843cd-d66c-46eb-842a-74242b84093b",
   "metadata": {},
   "outputs": [
    {
     "data": {
      "text/plain": [
       "5118"
      ]
     },
     "execution_count": 15,
     "metadata": {},
     "output_type": "execute_result"
    }
   ],
   "source": [
    "np.max(T)"
   ]
  },
  {
   "cell_type": "code",
   "execution_count": 16,
   "id": "a42fd747-febf-4428-a2cc-54d4d5c4a1fa",
   "metadata": {},
   "outputs": [
    {
     "data": {
      "text/plain": [
       "(846,)"
      ]
     },
     "execution_count": 16,
     "metadata": {},
     "output_type": "execute_result"
    }
   ],
   "source": [
    "used_samples_index.shape"
   ]
  },
  {
   "cell_type": "code",
   "execution_count": 17,
   "id": "29459e46-3f81-4ad6-8021-e13d96efa4e1",
   "metadata": {},
   "outputs": [
    {
     "data": {
      "text/plain": [
       "(846,)"
      ]
     },
     "execution_count": 17,
     "metadata": {},
     "output_type": "execute_result"
    }
   ],
   "source": [
    "used_samples_index.shape"
   ]
  },
  {
   "cell_type": "code",
   "execution_count": null,
   "id": "1cc4cf0f-1c53-4790-a338-7b760150b233",
   "metadata": {},
   "outputs": [],
   "source": []
  }
 ],
 "metadata": {
  "kernelspec": {
   "display_name": "Python 3 (ipykernel)",
   "language": "python",
   "name": "python3"
  },
  "language_info": {
   "codemirror_mode": {
    "name": "ipython",
    "version": 3
   },
   "file_extension": ".py",
   "mimetype": "text/x-python",
   "name": "python",
   "nbconvert_exporter": "python",
   "pygments_lexer": "ipython3",
   "version": "3.7.8"
  },
  "widgets": {
   "application/vnd.jupyter.widget-state+json": {
    "state": {},
    "version_major": 2,
    "version_minor": 0
   }
  }
 },
 "nbformat": 4,
 "nbformat_minor": 5
}
