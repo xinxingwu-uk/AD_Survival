{
 "cells": [
  {
   "cell_type": "code",
   "execution_count": 1,
   "id": "a79b110b-8560-4293-be20-eb4aeef0024c",
   "metadata": {},
   "outputs": [],
   "source": [
    "import pandas as pd\n",
    "import numpy as np\n",
    "import gc"
   ]
  },
  {
   "cell_type": "code",
   "execution_count": 2,
   "id": "90a4a00c-18d2-42c9-9494-8df52d820fd3",
   "metadata": {},
   "outputs": [],
   "source": [
    "def write_to_csv(p_data,p_path):\n",
    "    dataframe = pd.DataFrame(p_data)\n",
    "    dataframe.to_csv(p_path, mode='a',header=False,index=False,sep=',')\n",
    "    del dataframe\n",
    "    gc.collect()\n",
    "    \n",
    "def csv_read(p_path):\n",
    "    p_data=np.array(pd.read_csv(p_path, sep=',', header=None))\n",
    "    print('data.shape',p_data.shape)\n",
    "    return p_data"
   ]
  },
  {
   "cell_type": "code",
   "execution_count": 3,
   "id": "3b9cffb1-4fe5-475f-9370-d9949b93ac5f",
   "metadata": {
    "scrolled": true,
    "tags": []
   },
   "outputs": [
    {
     "name": "stderr",
     "output_type": "stream",
     "text": [
      "/usr/local/lib/python3.7/site-packages/IPython/core/interactiveshell.py:3441: DtypeWarning: Columns (19,21,23,25,27,40,43,45,47,50,60,62,64,66,68,70,88,89,90,91,92,93,94,95,96,97,98,99,100,101,102,103,104,105,106,107,108,109,110,111,112,113,133,155,164,175,178,188,216,219,221,223,225,227,229,231,233,235,237,239,241,243,245,247,249,251,253,255,257,259,261,263,265,267,269,271,381,396,398,400,418,420,422,431,444,453,493,566,574,599,635,651,665,668,671,676,688,699,705,707,792,798,800,801,984,986,988,989,991,998,1000,1002,1003,1010,1012,1014,1016,1017,1024,1039,1053,1067,1081,1083,1089,1090,1091,1092,1098,1099,1107,1118,1120,1122,1124,1130,1191,1246,1247,1248,1256,1257,1258,1259,1269,1291,1294,1297,1333,1349,1351,1353,1355,1357,1359,1361,1363,1365,1367,1369,1371,1373,1375,1377,1379,1381,1383,1385,1387,1389,1391,1393,1395,1397,1399,1401,1403,1453,1454,1456,1457,1460,1461,1464,1465,1468,1469,1472,1473,1547,1606,1615,1617,1619,1621,1632,1634,1636,1644,1646,1648,1650,1658,1660,1662,1664,1690) have mixed types.Specify dtype option on import or set low_memory=False.\n",
      "  exec(code_obj, self.user_global_ns, self.user_ns)\n"
     ]
    },
    {
     "name": "stdout",
     "output_type": "stream",
     "text": [
      "(163199, 1727)\n",
      "            NACCID  NACCADC PACKET  FORMVER  VISITMO  VISITDAY  VISITYR  \\\n",
      "0       NACC000385      289      I      1.0       11         8     2006   \n",
      "1       NACC000385      289      F      2.0        3        19     2008   \n",
      "2       NACC000385      289      F      2.0        3         4     2009   \n",
      "3       NACC000385      289      F      2.0        4        21     2010   \n",
      "4       NACC000385      289      F      2.0        1        28     2011   \n",
      "...            ...      ...    ...      ...      ...       ...      ...   \n",
      "163194  NACC998475     9661      F      1.0       11        15     2007   \n",
      "163195  NACC998475     9661      F      2.0       11         6     2008   \n",
      "163196  NACC999391     9661      I      1.0        3         2     2006   \n",
      "163197  NACC999391     9661      F      1.0        5        17     2007   \n",
      "163198  NACC999391     9661      F      2.0        3        27     2008   \n",
      "\n",
      "        NACCVNUM  NACCAVST  NACCNVST  ...  LBOTHYR  LBOTHMO  LBOTHPOS  \\\n",
      "0              1         7         6  ...      NaN      NaN       NaN   \n",
      "1              2         7         6  ...      NaN      NaN       NaN   \n",
      "2              3         7         6  ...      NaN      NaN       NaN   \n",
      "3              4         7         6  ...      NaN      NaN       NaN   \n",
      "4              5         7         6  ...      NaN      NaN       NaN   \n",
      "...          ...       ...       ...  ...      ...      ...       ...   \n",
      "163194         2         3         3  ...      NaN      NaN       NaN   \n",
      "163195         3         3         3  ...      NaN      NaN       NaN   \n",
      "163196         1         3         3  ...      NaN      NaN       NaN   \n",
      "163197         2         3         3  ...      NaN      NaN       NaN   \n",
      "163198         3         3         3  ...      NaN      NaN       NaN   \n",
      "\n",
      "        LBOTHAVL  LBOCGAIT  LBOCGYR  LBOCGMO  LBOCGDY  LBOCGPOS LBOCGAVL  \n",
      "0            NaN       NaN      NaN      NaN      NaN       NaN      NaN  \n",
      "1            NaN       NaN      NaN      NaN      NaN       NaN      NaN  \n",
      "2            NaN       NaN      NaN      NaN      NaN       NaN      NaN  \n",
      "3            NaN       NaN      NaN      NaN      NaN       NaN      NaN  \n",
      "4            NaN       NaN      NaN      NaN      NaN       NaN      NaN  \n",
      "...          ...       ...      ...      ...      ...       ...      ...  \n",
      "163194       NaN       NaN      NaN      NaN      NaN       NaN      NaN  \n",
      "163195       NaN       NaN      NaN      NaN      NaN       NaN      NaN  \n",
      "163196       NaN       NaN      NaN      NaN      NaN       NaN      NaN  \n",
      "163197       NaN       NaN      NaN      NaN      NaN       NaN      NaN  \n",
      "163198       NaN       NaN      NaN      NaN      NaN       NaN      NaN  \n",
      "\n",
      "[163199 rows x 1727 columns]\n"
     ]
    }
   ],
   "source": [
    "data = pd.read_csv('../data/cheng10142021.csv')\n",
    "print(data.shape) \n",
    "print(data)"
   ]
  },
  {
   "cell_type": "code",
   "execution_count": 4,
   "id": "57e3aca1-2bad-46c6-8b12-35620f1f0412",
   "metadata": {},
   "outputs": [
    {
     "data": {
      "text/plain": [
       "array([['NACC000385', 289, 'I', ..., nan, nan, nan],\n",
       "       ['NACC000385', 289, 'F', ..., nan, nan, nan],\n",
       "       ['NACC000385', 289, 'F', ..., nan, nan, nan],\n",
       "       ...,\n",
       "       ['NACC999391', 9661, 'I', ..., nan, nan, nan],\n",
       "       ['NACC999391', 9661, 'F', ..., nan, nan, nan],\n",
       "       ['NACC999391', 9661, 'F', ..., nan, nan, nan]], dtype=object)"
      ]
     },
     "execution_count": 4,
     "metadata": {},
     "output_type": "execute_result"
    }
   ],
   "source": [
    "np.array(data)"
   ]
  },
  {
   "cell_type": "code",
   "execution_count": 5,
   "id": "283d99f1-5f32-4166-9b9a-1a4febfc8ec0",
   "metadata": {},
   "outputs": [
    {
     "data": {
      "text/plain": [
       "array(['NACC000385', 'NACC000385', 'NACC000385', ..., 'NACC999391',\n",
       "       'NACC999391', 'NACC999391'], dtype=object)"
      ]
     },
     "execution_count": 5,
     "metadata": {},
     "output_type": "execute_result"
    }
   ],
   "source": [
    "np.array(data)[:,0]"
   ]
  },
  {
   "cell_type": "code",
   "execution_count": 7,
   "id": "57384be7-ed43-4aa9-be2d-40da9bd78613",
   "metadata": {},
   "outputs": [],
   "source": [
    "unique_id=np.unique(np.array(data)[:,0])"
   ]
  },
  {
   "cell_type": "code",
   "execution_count": 8,
   "id": "a66306d0-4356-495d-ae06-426819ccccb9",
   "metadata": {},
   "outputs": [
    {
     "data": {
      "text/plain": [
       "array(['NACC000011', 'NACC000034', 'NACC000067', ..., 'NACC999922',\n",
       "       'NACC999954', 'NACC999969'], dtype=object)"
      ]
     },
     "execution_count": 8,
     "metadata": {},
     "output_type": "execute_result"
    }
   ],
   "source": [
    "unique_id"
   ]
  },
  {
   "cell_type": "code",
   "execution_count": 9,
   "id": "788bd078-5505-412a-aacb-35c75711f980",
   "metadata": {},
   "outputs": [
    {
     "data": {
      "text/plain": [
       "(44864,)"
      ]
     },
     "execution_count": 9,
     "metadata": {},
     "output_type": "execute_result"
    }
   ],
   "source": [
    "unique_id.shape"
   ]
  },
  {
   "cell_type": "code",
   "execution_count": null,
   "id": "c41b662e-5e7a-43d1-a791-336096b47ce2",
   "metadata": {},
   "outputs": [],
   "source": []
  }
 ],
 "metadata": {
  "kernelspec": {
   "display_name": "Python 3 (ipykernel)",
   "language": "python",
   "name": "python3"
  },
  "language_info": {
   "codemirror_mode": {
    "name": "ipython",
    "version": 3
   },
   "file_extension": ".py",
   "mimetype": "text/x-python",
   "name": "python",
   "nbconvert_exporter": "python",
   "pygments_lexer": "ipython3",
   "version": "3.7.8"
  },
  "widgets": {
   "application/vnd.jupyter.widget-state+json": {
    "state": {},
    "version_major": 2,
    "version_minor": 0
   }
  }
 },
 "nbformat": 4,
 "nbformat_minor": 5
}
