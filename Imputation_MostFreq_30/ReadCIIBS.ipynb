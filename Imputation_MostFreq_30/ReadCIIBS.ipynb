{
 "cells": [
  {
   "cell_type": "code",
   "execution_count": 1,
   "id": "a79b110b-8560-4293-be20-eb4aeef0024c",
   "metadata": {},
   "outputs": [],
   "source": [
    "import pandas as pd\n",
    "import numpy as np\n",
    "import gc"
   ]
  },
  {
   "cell_type": "code",
   "execution_count": 2,
   "id": "90a4a00c-18d2-42c9-9494-8df52d820fd3",
   "metadata": {},
   "outputs": [],
   "source": [
    "def write_to_csv(p_data,p_path):\n",
    "    dataframe = pd.DataFrame(p_data)\n",
    "    dataframe.to_csv(p_path, mode='a',header=False,index=False,sep=',')\n",
    "    del dataframe\n",
    "    gc.collect()\n",
    "    \n",
    "def csv_read(p_path):\n",
    "    p_data=np.array(pd.read_csv(p_path, sep=',', header=None))\n",
    "    #print('data.shape',p_data.shape)\n",
    "    return p_data"
   ]
  },
  {
   "cell_type": "code",
   "execution_count": 3,
   "id": "e228f204-351b-4f88-b191-de4892436a5a",
   "metadata": {},
   "outputs": [],
   "source": [
    "used_samples=5"
   ]
  },
  {
   "cell_type": "code",
   "execution_count": 4,
   "id": "3b9cffb1-4fe5-475f-9370-d9949b93ac5f",
   "metadata": {
    "scrolled": true,
    "tags": []
   },
   "outputs": [],
   "source": [
    "CI_data = csv_read('./performance_CI.csv')[0:used_samples]"
   ]
  },
  {
   "cell_type": "code",
   "execution_count": 5,
   "id": "d7aeb2d0-547f-4d66-8f48-f5ceddba0ae5",
   "metadata": {},
   "outputs": [
    {
     "data": {
      "text/plain": [
       "0.8861860720866239"
      ]
     },
     "execution_count": 5,
     "metadata": {},
     "output_type": "execute_result"
    }
   ],
   "source": [
    "np.mean(CI_data)"
   ]
  },
  {
   "cell_type": "code",
   "execution_count": 6,
   "id": "0e77ca46-5b09-423a-9a2f-4182a246431f",
   "metadata": {},
   "outputs": [
    {
     "data": {
      "text/plain": [
       "0.07526140764843242"
      ]
     },
     "execution_count": 6,
     "metadata": {},
     "output_type": "execute_result"
    }
   ],
   "source": [
    "np.std(CI_data)"
   ]
  },
  {
   "cell_type": "code",
   "execution_count": 7,
   "id": "6c71f245-82f1-434f-b35f-86a359c6b3e4",
   "metadata": {},
   "outputs": [],
   "source": [
    "IBS_data = csv_read('./performance_IBS.csv')[0:used_samples]"
   ]
  },
  {
   "cell_type": "code",
   "execution_count": 8,
   "id": "bc501db0-75e0-4691-a804-c75807968cb3",
   "metadata": {},
   "outputs": [
    {
     "data": {
      "text/plain": [
       "0.06428347077452996"
      ]
     },
     "execution_count": 8,
     "metadata": {},
     "output_type": "execute_result"
    }
   ],
   "source": [
    "np.mean(IBS_data)"
   ]
  },
  {
   "cell_type": "code",
   "execution_count": 9,
   "id": "f98121c0-5fc8-45c2-9ad0-1168681f878b",
   "metadata": {},
   "outputs": [
    {
     "data": {
      "text/plain": [
       "0.039538277607768214"
      ]
     },
     "execution_count": 9,
     "metadata": {},
     "output_type": "execute_result"
    }
   ],
   "source": [
    "np.std(IBS_data)"
   ]
  },
  {
   "cell_type": "code",
   "execution_count": null,
   "id": "3123e97e-3238-4914-988a-1b7c729ea828",
   "metadata": {},
   "outputs": [],
   "source": []
  }
 ],
 "metadata": {
  "kernelspec": {
   "display_name": "Python 3 (ipykernel)",
   "language": "python",
   "name": "python3"
  },
  "language_info": {
   "codemirror_mode": {
    "name": "ipython",
    "version": 3
   },
   "file_extension": ".py",
   "mimetype": "text/x-python",
   "name": "python",
   "nbconvert_exporter": "python",
   "pygments_lexer": "ipython3",
   "version": "3.7.8"
  },
  "widgets": {
   "application/vnd.jupyter.widget-state+json": {
    "state": {},
    "version_major": 2,
    "version_minor": 0
   }
  }
 },
 "nbformat": 4,
 "nbformat_minor": 5
}
