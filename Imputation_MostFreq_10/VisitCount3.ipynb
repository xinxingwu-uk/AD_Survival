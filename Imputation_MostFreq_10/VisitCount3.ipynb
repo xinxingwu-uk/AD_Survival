{
 "cells": [
  {
   "cell_type": "code",
   "execution_count": 1,
   "id": "00049547-c2e4-4996-84af-e1d46d9928c0",
   "metadata": {},
   "outputs": [],
   "source": [
    "import pandas as pd\n",
    "import numpy as np\n",
    "import gc\n",
    "\n",
    "from scipy import stats\n",
    "from matplotlib import pyplot as plt\n",
    "from collections import Counter"
   ]
  },
  {
   "cell_type": "code",
   "execution_count": 2,
   "id": "c1776d00-d24e-47d9-b0c5-794fec49c4e9",
   "metadata": {},
   "outputs": [],
   "source": [
    "def csv_read(p_path,header_is=0):\n",
    "    pd_data=pd.read_csv(p_path, sep=',',header=header_is)\n",
    "    column_names=pd_data.columns.values.tolist()\n",
    "    print(column_names)\n",
    "    return pd_data,np.array(pd_data),column_names\n",
    "\n",
    "#-------------------------------------------------------------------------------------\n",
    "def write_to_csv(p_data,p_path):\n",
    "    dataframe = pd.DataFrame(p_data)\n",
    "    dataframe.to_csv(p_path, mode='a',header=False,index=False,sep=',')\n",
    "    del dataframe\n",
    "    gc.collect()\n",
    "    \n",
    "#-------------------------------------------------------------------------------------\n",
    "def bar_figure(group1,group2,y_label):\n",
    "    figure,axes=plt.subplots()\n",
    "    \n",
    "    axes.boxplot([group1,group2],patch_artist=True)\n",
    "    plt.xticks(range(1,3),['Group 1','Group 2'])\n",
    "    #plt.yticks(fontsize = 20)\n",
    "    \n",
    "    min_end=min(np.min(group1),np.min(group2))\n",
    "    max_end=max(np.max(group1),np.max(group2))\n",
    "    end=(max_end-min_end)/10\n",
    "    plt.ylim(min_end-end,max_end+end)\n",
    "    plt.ylabel(y_label)\n",
    "    plt.show()\n",
    "\n",
    "#-------------------------------------------------------------------------------------\n",
    "def statistic_analysis(group1, group2):\n",
    "    var_same=stats.levene(group1, group2)\n",
    "    \n",
    "    print(\"\\n\")\n",
    "    print(\"-\"*80)\n",
    "    \n",
    "    print(\"var_same\",var_same)\n",
    "\n",
    "    if var_same[1]>0.05:\n",
    "        f_t, p_value_t = stats.ttest_ind(group1, group2, equal_var=True)\n",
    "        print(\"Test: f_t, p_value_t\", format(f_t,'.3E'), format(p_value_t,'.3E'))\n",
    "    else:\n",
    "        f_t, p_value_t = stats.ttest_ind(group1, group2, equal_var=False)\n",
    "        print(\"Test: f_t, p_value_t\",format(f_t,'.3E'), format(p_value_t,'.3E'))\n",
    "    \n",
    "    f, p_value = stats.f_oneway(group1, group2)\n",
    "    print(\"ANOVA: f, p_value:\",format(f,'.3E'), format(p_value_t,'.3E'))\n",
    "    print(\"-\"*80)\n",
    "    print(\"\\n\")\n",
    "    \n",
    "#-------------------------------------------------------------------------------------\n",
    "def draw_bar(p_data,p_title):\n",
    "    fz=20\n",
    "    params = {'figure.figsize': '8, 4.5'}\n",
    "    plt.rcParams.update(params)\n",
    "    width=0.3\n",
    "\n",
    "    colors=['#d5695d','#5d8ca8','green','purple']\n",
    "\n",
    "    different_elements_keys=np.unique(p_data)\n",
    "    keys_values = Counter(p_data)\n",
    "    total_counts=np.sum([*keys_values.values()])\n",
    "    total_index=np.arange(len(different_elements_keys))\n",
    "    for i in total_index:\n",
    "        different_elements_keys_i=different_elements_keys[i]\n",
    "        rects_1=plt.bar(i,keys_values[different_elements_keys_i],width,color=colors[1])\n",
    "\n",
    "    plt.xticks(total_index,different_elements_keys,fontsize=fz)\n",
    "    plt.yticks(fontsize=fz)\n",
    "    #plt.ylim(0,1)\n",
    "    plt.xlabel(\"Number of visits\",fontsize=fz)\n",
    "    plt.ylabel(\"Count\",fontsize=fz)\n",
    "    plt.title(p_title)\n",
    "    plt.show()"
   ]
  },
  {
   "cell_type": "code",
   "execution_count": 3,
   "id": "ee046a8a-1080-4a33-a91c-73829cfcb74d",
   "metadata": {
    "scrolled": true,
    "tags": []
   },
   "outputs": [
    {
     "name": "stdout",
     "output_type": "stream",
     "text": [
      "['NACCAVST', 'NACCREAS', 'NACCREFR', 'BIRTHMO', 'BIRTHYR', 'SEX', 'HISPANIC', 'HISPOR', 'RACE', 'RACESEC', 'RACETER', 'PRIMLANG', 'EDUC', 'MARISTAT', 'NACCLIVS', 'INDEPEND', 'RESIDENC', 'HANDED', 'NACCFADM', 'NACCFFTD', 'MEMORY', 'ORIENT', 'JUDGMENT', 'COMMUN', 'HOMEHOBB', 'PERSCARE', 'CDRSUM', 'DECSUB', 'DECIN', 'COGMEM', 'COGJUDG', 'COGLANG', 'COGVIS', 'COGATTN', 'COGOTHR', 'NACCCOGF', 'COGMODE', 'DECAGE', 'BEAPATHY', 'BEDEP', 'BEVHALL', 'BEAHALL', 'BEDEL', 'BEDISIN', 'BEIRRIT', 'BEAGIT', 'BEPERCH', 'BEOTHR', 'NACCBEHF', 'BEMODE', 'MOGAIT', 'MOFALLS', 'MOTREM', 'MOSLOW', 'NACCMOTF', 'MOMODE', 'COURSE', 'FRSTCHG', 'NORMCOG', 'DEMENTED', 'NACCPPA', 'NACCBVFT', 'NACCLBDS', 'NACCTMCI', 'NACCMCIL', 'NACCMCIA', 'NACCMCIE', 'NACCMCIV', 'NACCMCII', 'IMPNOMCI', 'NACCALZD', 'NACCALZP', 'NACCLBDE', 'NACCLBDP', 'PARK', 'PSP', 'PSPIF', 'CORT', 'CORTIF', 'DOWNS', 'DOWNSIF', 'HUNT', 'HUNTIF', 'PRION', 'PRIONIF', 'BRNINJ', 'BRNINJIF', 'HYCEPH', 'HYCEPHIF', 'NEOP', 'NEOPIF', 'DEP', 'DEPIF', 'OTHPSY', 'OTHPSYIF', 'ALCDEM', 'ALCDEMIF', 'DYSILL', 'DYSILLIF', 'MEDS', 'MEDSIF', 'COGOTH', 'COGOTHIF', 'NACCETPR', 'NACCADMU', 'NACCFTDM', 'NACCAGEB', 'NACCNIHR', 'NACCNORM', 'NACCIDEM', 'NACCAGE', 'NACCUDSD', 'NACCAPOE', 'NACCNE4S', 'NPPMIH', 'NPFIX', 'NPWBRWT', 'NPWBRF', 'NACCBRNN', 'NPGRCCA', 'NPGRLA', 'NPGRHA', 'NPGRSNH', 'NPGRLCH', 'NACCAVAS', 'NPTAN', 'NPABAN', 'NPASAN', 'NPTDPAN', 'NPHISMB', 'NPHISG', 'NPHISSS', 'NPHIST', 'NPHISO', 'NPTHAL', 'NACCBRAA', 'NACCNEUR', 'NPADNC', 'NACCDIFF', 'NACCVASC', 'NACCAMY', 'NPINF', 'NPINF1A', 'NPINF1B', 'NPINF1D', 'NPINF1F', 'NPINF2A', 'NPINF2B', 'NPINF2D', 'NPINF2F', 'NPINF3A', 'NPINF3B', 'NPINF3D', 'NPINF3F', 'NPINF4A', 'NPINF4B', 'NPINF4D', 'NPINF4F', 'NACCINF', 'NPHEMO', 'NPHEMO1', 'NPHEMO2', 'NPHEMO3', 'NPOLD', 'NPOLD1', 'NPOLD2', 'NPOLD3', 'NPOLD4', 'NACCMICR', 'NPOLDD', 'NPOLDD1', 'NPOLDD2', 'NPOLDD3', 'NPOLDD4', 'NACCHEM', 'NACCARTE', 'NPWMR', 'NPPATH', 'NACCNEC', 'NPPATH2', 'NPPATH3', 'NPPATH4', 'NPPATH5', 'NPPATH6', 'NPPATH7', 'NPPATH8', 'NPPATH9', 'NPPATH10', 'NPPATH11', 'NACCLEWY', 'NPLBOD', 'NPNLOSS', 'NPHIPSCL', 'NPFTDTAU', 'NACCPICK', 'NPFTDT2', 'NACCCBD', 'NACCPROG', 'NPFTDT5', 'NPFTDT6', 'NPFTDT7', 'NPFTDT8', 'NPFTDT9', 'NPFTDT10', 'NPFTDTDP', 'NPALSMND', 'NPOFTD', 'NPOFTD1', 'NPOFTD2', 'NPOFTD3', 'NPOFTD4', 'NPOFTD5', 'NPTDPA', 'NPTDPB', 'NPTDPC', 'NPTDPD', 'NPTDPE', 'NPPDXA', 'NPPDXB', 'NACCPRIO', 'NPPDXD', 'NPPDXE', 'NPPDXF', 'NPPDXG', 'NPPDXH', 'NPPDXI', 'NPPDXJ', 'NPPDXK', 'NPPDXL', 'NPPDXM', 'NPPDXN', 'NACCDOWN', 'NPPDXP', 'NPPDXQ', 'NACCOTHP', 'NACCBNKF', 'NPBNKB', 'NACCFORM', 'NACCPARA', 'NACCCSFP', 'NPBNKF', 'NPFAUT', 'NACCDAGE', 'NACCINT', 'SurvivalTime', 'Event']\n"
     ]
    }
   ],
   "source": [
    "data,data_arr,column_names=csv_read('./data/survival_data_filtered_3_VisitCount.csv')\n",
    "column_names_arr=np.array(column_names)"
   ]
  },
  {
   "cell_type": "code",
   "execution_count": 4,
   "id": "70ef15bc-0121-45dc-bbf3-704ff10db8c6",
   "metadata": {},
   "outputs": [],
   "source": [
    "NACCAVST_index=np.where(column_names_arr=='NACCAVST')[0][0]"
   ]
  },
  {
   "cell_type": "code",
   "execution_count": 5,
   "id": "b58c9bb9-b0ef-484a-9ffe-6f54efb48ca6",
   "metadata": {},
   "outputs": [],
   "source": [
    "NACCAVST_data=data_arr[:,NACCAVST_index]"
   ]
  },
  {
   "cell_type": "code",
   "execution_count": 6,
   "id": "d113b989-f862-41dc-bc4e-51b453086fad",
   "metadata": {},
   "outputs": [
    {
     "data": {
      "image/png": "[encoded data removed]",
      "text/plain": [
       "<Figure size 576x324 with 1 Axes>"
      ]
     },
     "metadata": {
      "needs_background": "light"
     },
     "output_type": "display_data"
    }
   ],
   "source": [
    "draw_bar(NACCAVST_data,\"\")"
   ]
  },
  {
   "cell_type": "code",
   "execution_count": null,
   "id": "f18d2d8b-dc26-4c6c-9cca-218e9753fc52",
   "metadata": {},
   "outputs": [],
   "source": []
  }
 ],
 "metadata": {
  "kernelspec": {
   "display_name": "Python 3 (ipykernel)",
   "language": "python",
   "name": "python3"
  },
  "language_info": {
   "codemirror_mode": {
    "name": "ipython",
    "version": 3
   },
   "file_extension": ".py",
   "mimetype": "text/x-python",
   "name": "python",
   "nbconvert_exporter": "python",
   "pygments_lexer": "ipython3",
   "version": "3.7.8"
  },
  "widgets": {
   "application/vnd.jupyter.widget-state+json": {
    "state": {},
    "version_major": 2,
    "version_minor": 0
   }
  }
 },
 "nbformat": 4,
 "nbformat_minor": 5
}
