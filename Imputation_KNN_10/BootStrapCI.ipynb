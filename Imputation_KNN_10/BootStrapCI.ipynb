{
 "cells": [
  {
   "cell_type": "code",
   "execution_count": 1,
   "id": "b69eef93-fc0b-41d7-82b8-6a93a7395b5b",
   "metadata": {},
   "outputs": [],
   "source": [
    "import pandas as pd\n",
    "import numpy as np\n",
    "import gc\n",
    "from scipy.stats import bootstrap\n",
    "#rng = np.random.default_rng()"
   ]
  },
  {
   "cell_type": "code",
   "execution_count": 2,
   "id": "a3c6e75c-a1d1-48d9-afa5-5bb3937cd504",
   "metadata": {},
   "outputs": [],
   "source": [
    "def csv_read(p_path):\n",
    "    pd_data=pd.read_csv(p_path, sep=',',header=None)\n",
    "    return np.array(pd_data)\n",
    "\n",
    "def write_to_csv(p_data,p_path):\n",
    "    dataframe = pd.DataFrame(p_data)\n",
    "    dataframe.to_csv(p_path, mode='a',header=False,index=False,sep=',')\n",
    "    del dataframe\n",
    "    gc.collect()"
   ]
  },
  {
   "cell_type": "code",
   "execution_count": 3,
   "id": "a59c5b46-b8c2-41b3-8bca-e7a68268dceb",
   "metadata": {},
   "outputs": [
    {
     "name": "stdout",
     "output_type": "stream",
     "text": [
      "0.8755256188606341\n"
     ]
    }
   ],
   "source": [
    "data_arr=csv_read('performance_CI.csv')\n",
    "print(np.mean(data_arr))"
   ]
  },
  {
   "cell_type": "code",
   "execution_count": 4,
   "id": "a18fc29d-925b-4f3a-86a0-b7e48fb4b735",
   "metadata": {},
   "outputs": [
    {
     "name": "stdout",
     "output_type": "stream",
     "text": [
      "ConfidenceInterval(low=0.8124980081062253, high=0.9189434943850289)\n"
     ]
    }
   ],
   "source": [
    "data = (data_arr[0],)  # samples must be in a sequence\n",
    "res = bootstrap(data, np.mean, n_resamples=1000,method='percentile', confidence_level=0.95,random_state=0)\n",
    "print(res.confidence_interval)"
   ]
  },
  {
   "cell_type": "code",
   "execution_count": 5,
   "id": "2f242d4e-5f2a-4469-95c2-61b751faba67",
   "metadata": {},
   "outputs": [
    {
     "name": "stdout",
     "output_type": "stream",
     "text": [
      "0.06603651019003062\n"
     ]
    }
   ],
   "source": [
    "data_arr=csv_read('performance_IBS.csv')\n",
    "print(np.mean(data_arr))"
   ]
  },
  {
   "cell_type": "code",
   "execution_count": 6,
   "id": "300c3945-4ade-40cd-b342-1f6394b5876f",
   "metadata": {},
   "outputs": [
    {
     "name": "stdout",
     "output_type": "stream",
     "text": [
      "ConfidenceInterval(low=0.04255519010772138, high=0.09999993844708562)\n"
     ]
    }
   ],
   "source": [
    "data = (data_arr[0],)  # samples must be in a sequence\n",
    "res = bootstrap(data, np.mean, n_resamples=1000,method='percentile', confidence_level=0.95,random_state=0)\n",
    "print(res.confidence_interval)"
   ]
  },
  {
   "cell_type": "code",
   "execution_count": null,
   "id": "8e542561-4715-4c4e-94a7-84334080002b",
   "metadata": {},
   "outputs": [],
   "source": []
  }
 ],
 "metadata": {
  "kernelspec": {
   "display_name": "venv_tf_2_8",
   "language": "python",
   "name": "venv_tf_2_8"
  },
  "language_info": {
   "codemirror_mode": {
    "name": "ipython",
    "version": 3
   },
   "file_extension": ".py",
   "mimetype": "text/x-python",
   "name": "python",
   "nbconvert_exporter": "python",
   "pygments_lexer": "ipython3",
   "version": "3.7.8"
  },
  "widgets": {
   "application/vnd.jupyter.widget-state+json": {
    "state": {},
    "version_major": 2,
    "version_minor": 0
   }
  }
 },
 "nbformat": 4,
 "nbformat_minor": 5
}
