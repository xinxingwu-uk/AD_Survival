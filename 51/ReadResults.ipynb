{
 "cells": [
  {
   "cell_type": "code",
   "execution_count": 1,
   "id": "6b6e9722-175f-4efe-abd8-858be6963625",
   "metadata": {},
   "outputs": [],
   "source": [
    "import pandas as pd\n",
    "import numpy as np"
   ]
  },
  {
   "cell_type": "code",
   "execution_count": 2,
   "id": "9e93b13d-177e-4299-8acd-53bc68509b55",
   "metadata": {},
   "outputs": [],
   "source": [
    "def csv_read(p_path):\n",
    "    pd_data=pd.read_csv(p_path, sep=',')\n",
    "    column_names=pd_data.columns.values.tolist()\n",
    "    print(column_names)\n",
    "    p_data=np.array(pd_data)\n",
    "    print('data.shape',p_data.shape)\n",
    "    return p_data,column_names"
   ]
  },
  {
   "cell_type": "code",
   "execution_count": 3,
   "id": "b81a3bc4-b4d5-4ab2-a026-989b3da36b15",
   "metadata": {
    "scrolled": true,
    "tags": []
   },
   "outputs": [
    {
     "name": "stdout",
     "output_type": "stream",
     "text": [
      "['NACCID', 'NACCAVST', 'NACCFDYS', 'NACCREAS', 'NACCREFR', 'BIRTHMO', 'BIRTHYR', 'SEX', 'HISPANIC', 'HISPOR', 'HISPORX', 'RACE', 'RACEX', 'RACESEC', 'RACESECX', 'RACETER', 'RACETERX', 'PRIMLANG', 'PRIMLANX', 'EDUC', 'MARISTAT', 'NACCLIVS', 'INDEPEND', 'RESIDENC', 'HANDED', 'INBIRMO', 'INBIRYR', 'INSEX', 'NEWINF', 'INHISP', 'INHISPOR', 'INHISPOX', 'NACCNINR', 'INRACE', 'INRACEX', 'INRASEC', 'INRASECX', 'INRATER', 'INRATERX', 'INEDUC', 'INRELTO', 'INRELTOX', 'INKNOWN', 'INLIVWTH', 'INVISITS', 'INCALLS', 'INRELY', 'NACCFAM', 'NACCMOM', 'NACCDAD', 'NACCAM', 'NACCAMX', 'NACCAMS', 'NACCAMSX', 'NACCFM', 'NACCFMX', 'NACCFMS', 'NACCFMSX', 'NACCOM', 'NACCOMX', 'NACCOMS', 'NACCOMSX', 'NACCFADM', 'NACCFFTD', 'ANYMEDS', 'DRUG1', 'DRUG2', 'DRUG3', 'DRUG4', 'DRUG5', 'DRUG6', 'DRUG7', 'DRUG8', 'DRUG9', 'DRUG10', 'DRUG11', 'DRUG12', 'DRUG13', 'DRUG14', 'DRUG15', 'DRUG16', 'DRUG17', 'DRUG18', 'DRUG19', 'DRUG20', 'DRUG21', 'DRUG22', 'DRUG23', 'DRUG24', 'DRUG25', 'DRUG26', 'DRUG27', 'DRUG28', 'DRUG29', 'DRUG30', 'DRUG31', 'DRUG32', 'DRUG33', 'DRUG34', 'DRUG35', 'DRUG36', 'DRUG37', 'DRUG38', 'DRUG39', 'DRUG40', 'TOBAC30', 'TOBAC100', 'SMOKYRS', 'PACKSPER', 'QUITSMOK', 'ALCOCCAS', 'ALCFREQ', 'CVHATT', 'HATTMULT', 'HATTYEAR', 'CVAFIB', 'CVANGIO', 'CVBYPASS', 'CVPACDEF', 'CVPACE', 'CVCHF', 'CVANGINA', 'CVHVALVE', 'CVOTHR', 'CVOTHRX', 'CBSTROKE', 'STROKMUL', 'NACCSTYR', 'CBTIA', 'TIAMULT', 'NACCTIYR', 'PD', 'PDYR', 'PDOTHR', 'PDOTHRYR', 'SEIZURES', 'NACCTBI', 'TBI', 'TBIBRIEF', 'TRAUMBRF', 'TBIEXTEN', 'TRAUMEXT', 'TBIWOLOS', 'TRAUMCHR', 'TBIYEAR', 'NCOTHR', 'NCOTHRX', 'DIABETES', 'DIABTYPE', 'HYPERTEN', 'HYPERCHO', 'B12DEF', 'THYROID', 'ARTHRIT', 'ARTHTYPE', 'ARTHTYPX', 'ARTHUPEX', 'ARTHLOEX', 'ARTHSPIN', 'ARTHUNK', 'INCONTU', 'INCONTF', 'APNEA', 'RBD', 'INSOMN', 'OTHSLEEP', 'OTHSLEEX', 'ALCOHOL', 'ABUSOTHR', 'ABUSX', 'PTSD', 'BIPOLAR', 'SCHIZ', 'DEP2YRS', 'DEPOTHR', 'ANXIETY', 'OCD', 'NPSYDEV', 'PSYCDIS', 'PSYCDISX', 'HEIGHT', 'WEIGHT', 'BPSYS', 'BPDIAS', 'HRATE', 'VISION', 'VISCORR', 'VISWCORR', 'HEARING', 'HEARAID', 'HEARWAID', 'ABRUPT', 'STEPWISE', 'SOMATIC', 'EMOT', 'HXHYPER', 'HXSTROKE', 'FOCLSYM', 'FOCLSIGN', 'HACHIN', 'CVDCOG', 'STROKCOG', 'CVDIMAG', 'CVDIMAG1', 'CVDIMAG2', 'CVDIMAG3', 'CVDIMAG4', 'CVDIMAGX', 'PDNORMAL', 'SPEECH', 'SPEECHX', 'FACEXP', 'FACEXPX', 'TRESTFAC', 'TRESTFAX', 'TRESTRHD', 'TRESTRHX', 'TRESTLHD', 'TRESTLHX', 'TRESTRFT', 'TRESTRFX', 'TRESTLFT', 'TRESTLFX', 'TRACTRHD', 'TRACTRHX', 'TRACTLHD', 'TRACTLHX', 'RIGDNECK', 'RIGDNEX', 'RIGDUPRT', 'RIGDUPRX', 'RIGDUPLF', 'RIGDUPLX', 'RIGDLORT', 'RIGDLORX', 'RIGDLOLF', 'RIGDLOLX', 'TAPSRT', 'TAPSRTX', 'TAPSLF', 'TAPSLFX', 'HANDMOVR', 'HANDMVRX', 'HANDMOVL', 'HANDMVLX', 'HANDALTR', 'HANDATRX', 'HANDALTL', 'HANDATLX', 'LEGRT', 'LEGRTX', 'LEGLF', 'LEGLFX', 'ARISING', 'ARISINGX', 'POSTURE', 'POSTUREX', 'GAIT', 'GAITX', 'POSSTAB', 'POSSTABX', 'BRADYKIN', 'BRADYKIX', 'MEMORY', 'ORIENT', 'JUDGMENT', 'COMMUN', 'HOMEHOBB', 'PERSCARE', 'CDRSUM', 'CDRGLOB', 'COMPORT', 'CDRLANG', 'NPIQINF', 'NPIQINFX', 'DEL', 'DELSEV', 'HALL', 'HALLSEV', 'AGIT', 'AGITSEV', 'DEPD', 'DEPDSEV', 'ANX', 'ANXSEV', 'ELAT', 'ELATSEV', 'APA', 'APASEV', 'DISN', 'DISNSEV', 'IRR', 'IRRSEV', 'MOT', 'MOTSEV', 'NITE', 'NITESEV', 'APP', 'APPSEV', 'NOGDS', 'SATIS', 'DROPACT', 'EMPTY', 'BORED', 'SPIRITS', 'AFRAID', 'HAPPY', 'HELPLESS', 'STAYHOME', 'MEMPROB', 'WONDRFUL', 'WRTHLESS', 'ENERGY', 'HOPELESS', 'BETTER', 'NACCGDS', 'BILLS', 'TAXES', 'SHOPPING', 'GAMES', 'STOVE', 'MEALPREP', 'EVENTS', 'PAYATTN', 'REMDATES', 'TRAVEL', 'NACCNREX', 'NORMEXAM', 'FOCLDEF', 'GAITDIS', 'EYEMOVE', 'PARKSIGN', 'RESTTRL', 'RESTTRR', 'SLOWINGL', 'SLOWINGR', 'RIGIDL', 'RIGIDR', 'BRADY', 'PARKGAIT', 'POSTINST', 'CVDSIGNS', 'CORTDEF', 'SIVDFIND', 'CVDMOTL', 'CVDMOTR', 'CORTVISL', 'CORTVISR', 'SOMATL', 'SOMATR', 'POSTCORT', 'PSPCBS', 'EYEPSP', 'DYSPSP', 'AXIALPSP', 'GAITPSP', 'APRAXSP', 'APRAXL', 'APRAXR', 'CORTSENL', 'CORTSENR', 'ATAXL', 'ATAXR', 'ALIENLML', 'ALIENLMR', 'DYSTONL', 'DYSTONR', 'MYOCLLT', 'MYOCLRT', 'ALSFIND', 'GAITNPH', 'OTHNEUR', 'OTHNEURX', 'B9CHG', 'DECSUB', 'DECIN', 'DECCLIN', 'DECCLCOG', 'COGMEM', 'COGORI', 'COGJUDG', 'COGLANG', 'COGVIS', 'COGATTN', 'COGFLUC', 'COGFLAGO', 'COGOTHR', 'COGOTHRX', 'NACCCOGF', 'NACCCGFX', 'COGMODE', 'COGMODEX', 'DECAGE', 'DECCLBE', 'BEAPATHY', 'BEDEP', 'BEVHALL', 'BEVWELL', 'BEVHAGO', 'BEAHALL', 'BEDEL', 'BEDISIN', 'BEIRRIT', 'BEAGIT', 'BEPERCH', 'BEREM', 'BEREMAGO', 'BEANX', 'BEOTHR', 'BEOTHRX', 'NACCBEHF', 'NACCBEFX', 'BEMODE', 'BEMODEX', 'BEAGE', 'DECCLMOT', 'MOGAIT', 'MOFALLS', 'MOTREM', 'MOSLOW', 'NACCMOTF', 'MOMODE', 'MOMODEX', 'MOMOPARK', 'PARKAGE', 'MOMOALS', 'ALSAGE', 'MOAGE', 'COURSE', 'FRSTCHG', 'LBDEVAL', 'FTLDEVAL', 'MMSECOMP', 'MMSELOC', 'MMSELAN', 'MMSELANX', 'MMSEVIS', 'MMSEHEAR', 'MMSEORDA', 'MMSEORLO', 'PENTAGON', 'NACCMMSE', 'NPSYCLOC', 'NPSYLAN', 'NPSYLANX', 'LOGIMO', 'LOGIDAY', 'LOGIYR', 'LOGIPREV', 'LOGIMEM', 'MEMUNITS', 'MEMTIME', 'UDSBENTC', 'UDSBENTD', 'UDSBENRS', 'DIGIF', 'DIGIFLEN', 'DIGIB', 'DIGIBLEN', 'ANIMALS', 'VEG', 'TRAILA', 'TRAILARR', 'TRAILALI', 'TRAILB', 'TRAILBRR', 'TRAILBLI', 'WAIS', 'BOSTON', 'UDSVERFC', 'UDSVERFN', 'UDSVERNF', 'UDSVERLC', 'UDSVERLR', 'UDSVERLN', 'UDSVERTN', 'UDSVERTE', 'UDSVERTI', 'COGSTAT', 'NACCC1', 'MOCACOMP', 'MOCAREAS', 'MOCALOC', 'MOCALAN', 'MOCALANX', 'MOCAVIS', 'MOCAHEAR', 'MOCATOTS', 'MOCATRAI', 'MOCACUBE', 'MOCACLOC', 'MOCACLON', 'MOCACLOH', 'MOCANAMI', 'MOCAREGI', 'MOCADIGI', 'MOCALETT', 'MOCASER7', 'MOCAREPE', 'MOCAFLUE', 'MOCAABST', 'MOCARECN', 'MOCARECC', 'MOCARECR', 'MOCAORDT', 'MOCAORMO', 'MOCAORYR', 'MOCAORDY', 'MOCAORPL', 'MOCAORCT', 'CRAFTVRS', 'CRAFTURS', 'DIGFORCT', 'DIGFORSL', 'DIGBACCT', 'DIGBACLS', 'CRAFTDVR', 'CRAFTDRE', 'CRAFTDTI', 'CRAFTCUE', 'MINTTOTS', 'MINTTOTW', 'MINTSCNG', 'MINTSCNC', 'MINTPCNG', 'MINTPCNC', 'NACCC2', 'WHODIDDX', 'DXMETHOD', 'NORMCOG', 'DEMENTED', 'AMNDEM', 'PCA', 'NACCPPA', 'NACCPPAG', 'NACCPPME', 'NACCBVFT', 'NACCLBDS', 'NAMNDEM', 'NACCTMCI', 'NACCMCIL', 'NACCMCIA', 'NACCMCIE', 'NACCMCIV', 'NACCMCII', 'IMPNOMCI', 'AMYLPET', 'AMYLCSF', 'FDGAD', 'HIPPATR', 'TAUPETAD', 'CSFTAU', 'FDGFTLD', 'TPETFTLD', 'MRFTLD', 'DATSCAN', 'OTHBIOM', 'OTHBIOMX', 'IMAGLINF', 'IMAGLAC', 'IMAGMACH', 'IMAGMICH', 'IMAGMWMH', 'IMAGEWMH', 'OTHMUT', 'OTHMUTX', 'NACCALZD', 'NACCALZP', 'PROBAD', 'PROBADIF', 'POSSAD', 'POSSADIF', 'NACCLBDE', 'NACCLBDP', 'PARK', 'MSA', 'MSAIF', 'PSP', 'PSPIF', 'CORT', 'CORTIF', 'FTLDMO', 'FTLDMOIF', 'FTLDNOS', 'FTLDNOIF', 'FTD', 'FTDIF', 'PPAPH', 'PPAPHIF', 'FTLDSUBT', 'FTLDSUBX', 'CVD', 'CVDIF', 'PREVSTK', 'STROKDEC', 'STKIMAG', 'INFNETW', 'INFWMH', 'VASC', 'VASCIF', 'VASCPS', 'VASCPSIF', 'STROKE', 'STROKIF', 'ESSTREM', 'ESSTREIF', 'DOWNS', 'DOWNSIF', 'HUNT', 'HUNTIF', 'PRION', 'PRIONIF', 'BRNINJ', 'BRNINJIF', 'BRNINCTE', 'HYCEPH', 'HYCEPHIF', 'EPILEP', 'EPILEPIF', 'NEOP', 'NEOPIF', 'NEOPSTAT', 'HIV', 'HIVIF', 'OTHCOG', 'OTHCOGIF', 'OTHCOGX', 'DEP', 'DEPIF', 'DEPTREAT', 'BIPOLDX', 'BIPOLDIF', 'SCHIZOP', 'SCHIZOIF', 'ANXIET', 'ANXIETIF', 'DELIR', 'DELIRIF', 'PTSDDX', 'PTSDDXIF', 'OTHPSY', 'OTHPSYIF', 'OTHPSYX', 'ALCDEM', 'ALCDEMIF', 'ALCABUSE', 'IMPSUB', 'IMPSUBIF', 'DYSILL', 'DYSILLIF', 'MEDS', 'MEDSIF', 'DEMUN', 'DEMUNIF', 'COGOTH', 'COGOTHIF', 'COGOTHX', 'COGOTH2', 'COGOTH2F', 'COGOTH2X', 'COGOTH3', 'COGOTH3F', 'COGOTH3X', 'NACCETPR', 'NACCADMU', 'NACCFTDM', 'CANCER', 'CANCSITE', 'DIABET', 'MYOINF', 'CONGHRT', 'AFIBRILL', 'HYPERT', 'ANGINA', 'HYPCHOL', 'VB12DEF', 'THYDIS', 'ARTH', 'ARTYPE', 'ARTYPEX', 'ARTUPEX', 'ARTLOEX', 'ARTSPIN', 'ARTUNKN', 'URINEINC', 'BOWLINC', 'SLEEPAP', 'REMDIS', 'HYPOSOM', 'SLEEPOTH', 'SLEEPOTX', 'ANGIOCP', 'ANGIOPCI', 'PACEMAKE', 'HVALVE', 'ANTIENC', 'ANTIENCX', 'OTHCOND', 'OTHCONDX', 'NACCAGEB', 'NACCNIHR', 'NACCNORM', 'NACCIDEM', 'NACCAGE', 'NACCAAAS', 'NACCAANX', 'NACCAC', 'NACCACEI', 'NACCADEP', 'NACCADMD', 'NACCAHTN', 'NACCAMD', 'NACCANGI', 'NACCAPSY', 'NACCBETA', 'NACCCCBS', 'NACCDBMD', 'NACCDIUR', 'NACCEMD', 'NACCEPMD', 'NACCHTNC', 'NACCLIPL', 'NACCNSD', 'NACCPDMD', 'NACCVASD', 'NACCBMI', 'NACCUDSD', 'TELCOV', 'TELMOD', 'MODCOMM', 'MOCBTOTS', 'REY1REC', 'REY1INT', 'REY2REC', 'REY2INT', 'REY3REC', 'REY3INT', 'REY4REC', 'REY4INT', 'REY5REC', 'REY5INT', 'REY6REC', 'REY6INT', 'OTRAILA', 'OTRLARR', 'OTRLALI', 'OTRAILB', 'OTRLBRR', 'OTRLBLI', 'REYDREC', 'REYDINT', 'REYTCOR', 'REYFPOS', 'VNTTOTW', 'VNTPCNC', 'RESPVAL', 'RESPHEAR', 'RESPDIST', 'RESPINTR', 'RESPDISN', 'RESPFATG', 'RESPEMOT', 'RESPASST', 'RESPOTH', 'RESPOTHX', 'NACCMOCB', 'FTDLTFAS', 'FTDLIMB', 'FTDBULB', 'FTDGSEV', 'FTDGSEVX', 'FTDGTYP', 'FTDGTYPG', 'FTDGTYPX', 'FTDPPASL', 'FTDPPAPO', 'FTDPPAIW', 'FTDPPASW', 'FTDPPAPK', 'FTDPPAGS', 'FTDPPAEH', 'FTDPPACS', 'FTDPPASS', 'FTDPPASR', 'FTDPPASD', 'FTDCPPA', 'FTDCPPAS', 'FTDBVCLN', 'FTDBVDIS', 'FTDBVAPA', 'FTDBVLOS', 'FTDBVRIT', 'FTDBVHYP', 'FTDBVNEU', 'FTDBVIDL', 'FTDBVFT', 'FTDEMGPV', 'FTDEMGPY', 'FTDEMGMN', 'FTDPABVF', 'FTDWORRC', 'FTDWORRS', 'FTDWORRR', 'FTDWORIC', 'FTDWORIS', 'FTDWORIR', 'FTDWORIP', 'FTDSEMMT', 'FTDSEMAA', 'FTDSEMTA', 'FTDSEMSU', 'FTDANASW', 'FTDANAOW', 'FTDANATS', 'FTDSENAS', 'FTDSENOS', 'FTDSENSR', 'FTDSENPR', 'FTDNOUNC', 'FTDVERBC', 'FTDRATIO', 'FTDREAAS', 'FTDREAOS', 'FTDREASR', 'FTDREAPR', 'FTDCPC2F', 'FTDHAIRD', 'FTDSPIT', 'FTDNOSE', 'FTDCOAGE', 'FTDCRY', 'FTDCUT', 'FTDYTRIP', 'FTDEATP', 'FTDTELLA', 'FTDOPIN', 'FTDLAUGH', 'FTDSHIRT', 'FTDKEEPM', 'FTDPICKN', 'FTDOVER', 'FTDEATR', 'FTDHAIRL', 'FTDSHIRW', 'FTDMOVE', 'FTDHUGS', 'FTDLOUD', 'FTDLOST', 'FTDSNTOT', 'FTDSNTBS', 'FTDSNTOS', 'FTDSNRAT', 'FTDSELF', 'FTDBADLY', 'FTDDEPR', 'FTDEMOTD', 'FTDLSELF', 'FTDDISR', 'FTDBELCH', 'FTDGIGG', 'FTDPRIV', 'FTDNEGAT', 'FTDECOMM', 'FTDINAPJ', 'FTDFAILA', 'FTDRESIS', 'FTDINTER', 'FTDVERBA', 'FTDPHYSI', 'FTDTOPIC', 'FTDPROTO', 'FTDPREO', 'FTDFINI', 'FTDACTED', 'FTDABS', 'FTDFEEDB', 'FTDFRUST', 'FTDANXI', 'FTDNERVO', 'FTDNDIAG', 'FTDSTIMB', 'FTDSTIME', 'FTDOBJEC', 'FTDCIRCU', 'FTDPERSE', 'FTDREPEA', 'FTDANECD', 'FTDDINIT', 'FTDDELAY', 'FTDADDVE', 'FTDFLUCT', 'FTDLOSTT', 'FTDREPRU', 'FTDTRAIN', 'FTDDISCL', 'FTDSPONT', 'FTDSPONR', 'FTDSTOOD', 'FTDTOUCH', 'FTDDSOCI', 'FTDEXAGG', 'FTDSBTOT', 'FTDSBCTO', 'FTDLENGT', 'FTDCPC4F', 'FTDWORKU', 'FTDMIST', 'FTDCRIT', 'FTDWORR', 'FTDBAD', 'FTDPOOR', 'FTDFFEAR', 'FTDBIST', 'FTDCPC5F', 'FTDINSEX', 'FTDINFYR', 'FTDINFMO', 'FTDINFRE', 'FTDFEEL', 'FTDDIFF', 'FTDSORR', 'FTDSIDE', 'FTDADVAN', 'FTDIMAG', 'FTDMISF', 'FTDWASTE', 'FTDPITY', 'FTDQTOUC', 'FTDSIDES', 'FTDSOFTH', 'FTDUPSET', 'FTDCRITI', 'FTDIRIEC', 'FTDIRIPT', 'FTDCPC6F', 'FTDALTER', 'FTDEMOT', 'FTDACROS', 'FTDCONV', 'FTDINTUI', 'FTDJOKE', 'FTDIMAGP', 'FTDINAPP', 'FTDCHBEH', 'FTDADBEH', 'FTDLYING', 'FTDGOODF', 'FTDREGUL', 'FTDSMSCR', 'FTDSPSCR', 'FTDRSMST', 'FTDSMRI', 'FTDSMDY', 'FTDSMYR', 'FTDSMMO', 'FTDSMDIC', 'FTDSMDIS', 'FTDSMADN', 'FTDSMADV', 'FTDSMMAN', 'FTDSMMAO', 'FTDSMMAM', 'FTDSMFS', 'FTDSMFSO', 'FTDSMQU', 'FTDFDGPT', 'FTDFPYR', 'FTDFPMO', 'FTDFPDY', 'FTDFDDIC', 'FTDFDDID', 'FTDFDADN', 'FTDFDADV', 'FTDFDMAN', 'FTDFDMAO', 'FTDFDMAM', 'FTDFDQU', 'FTDAMYPT', 'FTDAMDY', 'FTDAMYR', 'FTDAMMO', 'FTDAMDIC', 'FTDAMDID', 'FTDAMLIG', 'FTDAMLIO', 'FTDAMADN', 'FTDAMADV', 'FTDAMMAN', 'FTDAMMAO', 'FTDAMMAM', 'FTDAMQU', 'FTDOTHER', 'FTDOTDOP', 'FTDOTSER', 'FTDOTCHO', 'FTDOTANO', 'FTDOTANS', 'FTDIDIAG', 'FTDSMRIO', 'FTDMRIFA', 'FTDMRIRF', 'FTDMRILF', 'FTDMRIRT', 'FTDMRILT', 'FTDMRIRM', 'FTDMRILM', 'FTDMRIRP', 'FTDMRILP', 'FTDMRIRB', 'FTDMRILB', 'FTDMRIOB', 'FTDMRIOS', 'FTDFDGPE', 'FTDFDGFH', 'FTDFDGRF', 'FTDFDGLF', 'FTDFDGRT', 'FTDFDGLT', 'FTDFDGRM', 'FTDFDGLM', 'FTDFDGRP', 'FTDFDGLP', 'FTDFDGRB', 'FTDFDGLB', 'FTDFDGOA', 'FTDFDGOS', 'FTDAMYP', 'FTDAMYVI', 'FTDAMYRF', 'FTDAMYLF', 'FTDAMYRT', 'FTDAMYLT', 'FTDAMYRM', 'FTDAMYLM', 'FTDAMYRP', 'FTDAMYLP', 'FTDAMYRB', 'FTDAMYLB', 'FTDAMYOA', 'FTDAMYOS', 'FTDCBFSP', 'FTDCBFVI', 'FTDCBFRF', 'FTDCBFLF', 'FTDCBFRT', 'FTDCBFLT', 'FTDCBFRM', 'FTDCBFLM', 'FTDCBFRP', 'FTDCBFLP', 'FTDCBFRB', 'FTDCBFLB', 'FTDCBFOA', 'FTDCBFOS', 'FTDOTHI', 'FTDOTHIS', 'NACCMOCA', 'NGDSWGAC', 'NGDSWEAC', 'NGDSGWAC', 'NGDSEXAC', 'NGDSEXOM', 'NACCAPOE', 'ADGCGWAS', 'NACCNE4S', 'NGDSGWAS', 'ADGCEXR', 'ADGCRND', 'NGDSWGS', 'NGDSWES', 'ADGCEXOM', 'NPSEX', 'NPPMIH', 'NPFIX', 'NPFIXX', 'NPWBRWT', 'NPWBRF', 'NACCBRNN', 'NPGRCCA', 'NPGRLA', 'NPGRHA', 'NPGRSNH', 'NPGRLCH', 'NACCAVAS', 'NPTAN', 'NPTANX', 'NPABAN', 'NPABANX', 'NPASAN', 'NPASANX', 'NPTDPAN', 'NPTDPANX', 'NPHISMB', 'NPHISG', 'NPHISSS', 'NPHIST', 'NPHISO', 'NPHISOX', 'NPTHAL', 'NACCBRAA', 'NACCNEUR', 'NPADNC', 'NACCDIFF', 'NACCVASC', 'NACCAMY', 'NPLINF', 'NPLAC', 'NPINF', 'NPINF1A', 'NPINF1B', 'NPINF1D', 'NPINF1F', 'NPINF2A', 'NPINF2B', 'NPINF2D', 'NPINF2F', 'NPINF3A', 'NPINF3B', 'NPINF3D', 'NPINF3F', 'NPINF4A', 'NPINF4B', 'NPINF4D', 'NPINF4F', 'NACCINF', 'NPHEM', 'NPHEMO', 'NPHEMO1', 'NPHEMO2', 'NPHEMO3', 'NPMICRO', 'NPOLD', 'NPOLD1', 'NPOLD2', 'NPOLD3', 'NPOLD4', 'NACCMICR', 'NPOLDD', 'NPOLDD1', 'NPOLDD2', 'NPOLDD3', 'NPOLDD4', 'NACCHEM', 'NACCARTE', 'NPWMR', 'NPPATH', 'NACCNEC', 'NPPATH2', 'NPPATH3', 'NPPATH4', 'NPPATH5', 'NPPATH6', 'NPPATH7', 'NPPATH8', 'NPPATH9', 'NPPATH10', 'NPPATH11', 'NPPATHO', 'NPPATHOX', 'NPART', 'NPOANG', 'NACCLEWY', 'NPLBOD', 'NPNLOSS', 'NPHIPSCL', 'NPSCL', 'NPFTDTAU', 'NACCPICK', 'NPFTDT2', 'NACCCBD', 'NACCPROG', 'NPFTDT5', 'NPFTDT6', 'NPFTDT7', 'NPFTDT8', 'NPFTDT9', 'NPFTDT10', 'NPFRONT', 'NPTAU', 'NPFTD', 'NPFTDTDP', 'NPALSMND', 'NPOFTD', 'NPOFTD1', 'NPOFTD2', 'NPOFTD3', 'NPOFTD4', 'NPOFTD5', 'NPFTDNO', 'NPFTDSPC', 'NPTDPA', 'NPTDPB', 'NPTDPC', 'NPTDPD', 'NPTDPE', 'NPPDXA', 'NPPDXB', 'NACCPRIO', 'NPPDXD', 'NPPDXE', 'NPPDXF', 'NPPDXG', 'NPPDXH', 'NPPDXI', 'NPPDXJ', 'NPPDXK', 'NPPDXL', 'NPPDXM', 'NPPDXN', 'NACCDOWN', 'NPPDXP', 'NPPDXQ', 'NACCOTHP', 'NACCWRI1', 'NACCWRI2', 'NACCWRI3', 'NACCBNKF', 'NPBNKB', 'NACCFORM', 'NACCPARA', 'NACCCSFP', 'NPBNKF', 'NPFAUT', 'NPFAUT1', 'NPFAUT2', 'NPFAUT3', 'NPFAUT4', 'NACCDAGE', 'NACCINT', 'NPNIT', 'NPCERAD', 'NPADRDA', 'NPOCRIT', 'NPVOTH', 'NPLEWYCS', 'NPGENE', 'NPFHSPEC', 'NPTAUHAP', 'NPPRNP', 'NPCHROM', 'NPPNORM', 'NPCNORM', 'NPPADP', 'NPCADP', 'NPPAD', 'NPCAD', 'NPPLEWY', 'NPCLEWY', 'NPPVASC', 'NPCVASC', 'NPPFTLD', 'NPCFTLD', 'NPPHIPP', 'NPCHIPP', 'NPPPRION', 'NPCPRION', 'NPPOTH1', 'NPCOTH1', 'NPOTH1X', 'NPPOTH2', 'NPCOTH2', 'NPOTH2X', 'NPPOTH3', 'NPCOTH3', 'NPOTH3X', 'LBSSALIV', 'LBSSWALL', 'LBSINSEX', 'LBSPRSEX', 'LBSWEIGH', 'LBSSMELL', 'LBSSWEAT', 'LBSTOLCD', 'LBSTOLHT', 'LBSDBVIS', 'LBSCONST', 'LBSHDSTL', 'LBSLSSTL', 'LBSUBLAD', 'LBSUSTRM', 'LBSUPASS', 'LBSDZSTU', 'LBSDZSTN', 'LBSFAINT', 'LBSPSYM', 'LBPSYAGE', 'LBSSUPSY', 'LBSSUPDI', 'LBSSUPHT', 'LBSSTNSY', 'LBSSTNDI', 'LBSSTNHT', 'LBSAGERM', 'LBSAGESM', 'LBSAGEGT', 'LBSAGEFL', 'LBSAGETR', 'LBSAGEBR', 'LBSSCLAU', 'LBSSCLVR', 'LBSSCLOT', 'LBSSCOR', 'LBUDSPCH', 'LBUDSALV', 'LBUDSWAL', 'LBUWRITE', 'LBUDFOOD', 'LBUDRESS', 'LBUDHYGN', 'LBUDTURN', 'LBUDFALL', 'LBUDFRZ', 'LBUDWALK', 'LBUDTREM', 'LBUDSENS', 'LBUMSPCH', 'LBUMSPCX', 'LBUMFACE', 'LBUMFACX', 'LBUMTRFA', 'LBUTRFAX', 'LBUMTRRH', 'LBUTRRHX', 'LBUMTRLH', 'LBUTRLHX', 'LBUMTRRF', 'LBUTRRFX', 'LBUMTRLF', 'LBUTRLFX', 'LBUMATRH', 'LBUATRHX', 'LBUMATLH', 'LBUATLHX', 'LBUMRGNK', 'LBURGNKX', 'LBUMRGRU', 'LBURGRUX', 'LBUMRGLU', 'LBURGLUX', 'LBUMRGRL', 'LBURGRLX', 'LBUMRGLL', 'LBURGLLX', 'LBUMFTRH', 'LBUFTRHX', 'LBUMFTLH', 'LBUFTLHX', 'LBUMHMRH', 'LBUHMRHX', 'LBUMHMLH', 'LBUHMLHX', 'LBUMPSRH', 'LBUPSRHX', 'LBUMPSLH', 'LBUPSLHX', 'LBUMLGRL', 'LBULGRLX', 'LBUMLGLL', 'LBULGLLX', 'LBUMRISE', 'LBUMRISX', 'LBUMPOST', 'LBUMPOSX', 'LBUMGAIT', 'LBUMGAIX', 'LBUPSTBL', 'LBUPSTBX', 'LBUMBRAD', 'LBUMBRAX', 'LBUMHNYR', 'LBUMHNYX', 'LBDELUS', 'LBDHURT', 'LBDSTEAL', 'LBDAFFR', 'LBDGUEST', 'LBDIMPOS', 'LBDHOME', 'LBDABAND', 'LBDPRES', 'LBDOTHER', 'LBDELFRQ', 'LBDELSEV', 'LBDELDST', 'LBHALL', 'LBHVOICE', 'LBHPEOPL', 'LBHNOTPR', 'LBHODOR', 'LBHFEEL', 'LBHTASTE', 'LBHOTSEN', 'LBHALFRQ', 'LBHALSEV', 'LBHALDST', 'LBANXIET', 'LBANEVNT', 'LBANRELX', 'LBANBRTH', 'LBANBUTT', 'LBANPLAC', 'LBANSEPR', 'LBANOTHR', 'LBANXFRQ', 'LBANXSEV', 'LBANXDST', 'LBAPATHY', 'LBAPSPNT', 'LBAPCONV', 'LBAPAFF', 'LBAPCHOR', 'LBAPINT', 'LBAPFAML', 'LBAPINTR', 'LBAPOTH', 'LBAPAFRQ', 'LBAPASEV', 'LBAPADST', 'LBDOPAM', 'LBDAGE', 'LBDDRUG1', 'LBDDOSE1', 'LBDAGE2', 'LBDDRUG2', 'LBDDOSE2', 'LBDELAGE', 'LBDELMED', 'LBDELMD1', 'LBDELMD2', 'LBHALAGE', 'LBHALMED', 'LBHALMD1', 'LBHALMD2', 'LBANXAGE', 'LBANXMED', 'LBANXMD1', 'LBANXMD2', 'LBAPAAGE', 'LBAPAMED', 'LBAPAMD1', 'LBAPAMD2', 'LBMLTHRG', 'LBMSLEEP', 'LBMDISRG', 'LBMSTARE', 'LBSPCGIM', 'LBSPDRM', 'LBSPYRS', 'LBSPMOS', 'LBSPINJS', 'LBSPINJP', 'LBSPCHAS', 'LBSPMOVE', 'LBSPLEGS', 'LBSPNERV', 'LBSPURGL', 'LBSPSENS', 'LBSPWORS', 'LBSPWALK', 'LBSPAWAK', 'LBSPBRTH', 'LBSPTRT', 'LBSPCRMP', 'LBSPALRT', 'LBSCLIV', 'LBSCSLP', 'LBSCBEHV', 'LBSCDRM', 'LBSCYRS', 'LBSCMOS', 'LBSCINJS', 'LBSCINJP', 'LBSCCHAS', 'LBSCMOVE', 'LBSCLEGS', 'LBSCNERV', 'LBSCSENS', 'LBSCWORS', 'LBSCWALK', 'LBSCAWAK', 'LBSCBRTH', 'LBSCTRT', 'LBSCCRMP', 'LBSCALRT', 'PACOGIMP', 'PANSFALL', 'PANSWKOF', 'PANSLYAW', 'PANSWKER', 'PANSLTTL', 'SCPARATE', 'PADSUNEX', 'PADSSITP', 'PADSWATV', 'PADSTALK', 'PADSAWDY', 'PADSFLDY', 'CONSFALL', 'CONSWKOF', 'CONSLYAW', 'CONSWKER', 'CONSLTTL', 'SCCORATE', 'CODSUNEX', 'CODSSITP', 'CODSWATV', 'CODSTALK', 'CODSAWDY', 'CODSFLDY', 'SCCOFRST', 'SCCOAGEN', 'SCCOAGED', 'SCCOCOMP', 'SCCOSCVR', 'SCCOOTH', 'SCCOSCOR', 'LBNSWORD', 'LBNSCOLR', 'LBNSCLWD', 'LBNPFACE', 'LBNPNOIS', 'LBNPTCOR', 'LBNPPARD', 'LBCDSCOG', 'LBCCMEM', 'LBCCLANG', 'LBCCATT', 'LBCCEXDE', 'LBCCVIS', 'LBCDSMOV', 'LBCMBRAD', 'LBCMRIGD', 'LBCMRTRM', 'LBCMPTRM', 'LBCMATRM', 'LBCMMYOC', 'LBCMGAIT', 'LBCMPINS', 'LBCDSBEV', 'LBCBDEP', 'LBCBAPA', 'LBCBANX', 'LBCBHALL', 'LBCBDEL', 'LBCDSAUT', 'LBCAREM', 'LBCAAPN', 'LBCALGSL', 'LBCARSLE', 'LBCADTSL', 'LBCACGFL', 'LBCAHYPT', 'LBCACONS', 'LBCAHYPS', 'LBCAFALL', 'LBCASYNC', 'LBCASNAP', 'LBCOGST', 'LBCOGDX', 'LBGLRRK2', 'LBGLRKIS', 'LBGPARK2', 'LBGPK2IS', 'LBGPARK7', 'LBGPK7IS', 'LBGPINK1', 'LBGPNKIS', 'LBGSNCA', 'LBGSNCIS', 'LBGGBA', 'LBGGBAIS', 'LBGOTHR', 'LBGOTHIS', 'LBGOTHX', 'LBISMRI', 'LBISMMO', 'LBISMDY', 'LBISMYR', 'LBISMQAV', 'LBISMHIP', 'LBISMAVL', 'LBISMDCM', 'LBISMFMT', 'LBISMADN', 'LBISMVER', 'LBISMMAN', 'LBISMOM', 'LBISMSTR', 'LBISMOS', 'LBIFPET', 'LBIFPYR', 'LBIFPMO', 'LBIFPDY', 'LBIFPQAV', 'LBIFPOCC', 'LBIFPTPP', 'LBIFPISL', 'LBIFPAVL', 'LBIFPDCM', 'LBIFPFMT', 'LBIFPADN', 'LBIFPVER', 'LBIFPMAN', 'LBIFPOM', 'LBIAPET', 'LBIAPYR', 'LBIAPMO', 'LBIAPDY', 'LBIAPQAV', 'LBIAPAVL', 'LBIAPDCM', 'LBIAPFMT', 'LBIAPLIG', 'LBIAPOL', 'LBIAPADN', 'LBIAPVER', 'LBIAPMAN', 'LBIAPOM', 'LBITPET', 'LBITPDY', 'LBITPYR', 'LBITPMO', 'LBITPQAV', 'LBITPAVL', 'LBITPDCM', 'LBITPFMT', 'LBITPLIG', 'LBITPOL', 'LBITPADN', 'LBITPVER', 'LBITPMAN', 'LBITPOM', 'LBIDATS', 'LBIDSYR', 'LBIDSMO', 'LBIDSDY', 'LBIDSQAV', 'LBIDSABN', 'LBOPOLYS', 'LBOPOSYR', 'LBOPOSMO', 'LBOPOSDY', 'LBOPOPOS', 'LBOPOAVL', 'LBOCMIBG', 'LBOCMYR', 'LBOCMMO', 'LBOCMDY', 'LBOCMPOS', 'LBOCMAVL', 'LBOANOS', 'LBOANYR', 'LBOANMO', 'LBOANDY', 'LBOANPOS', 'LBOANAVL', 'LBOANVER', 'LBOANOTH', 'LBOEEG', 'LBOEGYR', 'LBOEGMO', 'LBOEGDY', 'LBOEGPOS', 'LBOEGAVL', 'LBOMSLT', 'LBOMSYR', 'LBOMSMO', 'LBOMSDY', 'LBOMSPOS', 'LBOMSAVL', 'LBOTILT', 'LBOTLYR', 'LBOTLMO', 'LBOTLDY', 'LBOTLPOS', 'LBOTLAVL', 'LBOQSART', 'LBOQSYR', 'LBOQSMO', 'LBOQSDY', 'LBOQSPOS', 'LBOSGAVL', 'LBOTHERM', 'LBOTHDY', 'LBOTHYR', 'LBOTHMO', 'LBOTHPOS', 'LBOTHAVL', 'LBOCGAIT', 'LBOCGYR', 'LBOCGMO', 'LBOCGDY', 'LBOCGPOS', 'LBOCGAVL', 'SurvivalTime', 'Event']\n",
      "data.shape (519, 1696)\n"
     ]
    },
    {
     "name": "stderr",
     "output_type": "stream",
     "text": [
      "/usr/local/lib/python3.7/site-packages/ipykernel_launcher.py:1: DtypeWarning: Columns (12,18,34,41,76,77,78,79,80,81,82,83,84,85,86,87,88,89,90,91,92,93,94,95,96,97,98,99,100,101,102,146,169,179,210,216,224,226,228,230,232,234,236,238,240,242,244,250,252,256,258,260,262,274,372,387,389,391,409,411,413,422,444,565,642,656,659,662,679,690,770,772,773,956,958,960,961,963,970,972,974,975,982,984,986,988,989,996,1011,1025,1039,1053,1055,1074,1085,1089,1091,1097,1158,1214,1215,1300,1316,1318,1320,1322,1324,1326,1328,1330,1332,1334,1336,1338,1340,1342,1344,1346,1348,1350,1352,1354,1356,1358,1360,1362,1364,1366,1368,1370,1420,1421,1423,1424,1427,1428,1431,1432,1435,1436,1439,1440,1514,1573,1582,1584,1586,1588,1599,1601,1603,1611,1613,1615,1617,1625,1627,1629,1631,1657) have mixed types.Specify dtype option on import or set low_memory=False.\n",
      "  \"\"\"Entry point for launching an IPython kernel.\n"
     ]
    }
   ],
   "source": [
    "data,column_names=csv_read('./data/survival_data.csv')"
   ]
  },
  {
   "cell_type": "code",
   "execution_count": 4,
   "id": "bb88cdb5-569b-4f02-b296-7c8462b4b953",
   "metadata": {},
   "outputs": [
    {
     "data": {
      "text/plain": [
       "array([['NACC004918', 2, 1037, ..., nan, 1037, False],\n",
       "       ['NACC005230', 5, 2225, ..., nan, 2225, False],\n",
       "       ['NACC005244', 4, 3659, ..., nan, 3659, False],\n",
       "       ...,\n",
       "       ['NACC994206', 4, 1564, ..., nan, 1564, True],\n",
       "       ['NACC997236', 7, 1134, ..., nan, 1134, True],\n",
       "       ['NACC997719', 3, 776, ..., nan, 776, False]], dtype=object)"
      ]
     },
     "execution_count": 4,
     "metadata": {},
     "output_type": "execute_result"
    }
   ],
   "source": [
    "data"
   ]
  },
  {
   "cell_type": "code",
   "execution_count": 5,
   "id": "dc4408a2-d954-4685-ad2d-c93a29811b64",
   "metadata": {},
   "outputs": [],
   "source": [
    "used_samples_index=np.where(data[:,1]!=1)[0]"
   ]
  },
  {
   "cell_type": "code",
   "execution_count": 6,
   "id": "c2921028-8db5-4ffd-9ce8-70b4d1c18730",
   "metadata": {
    "scrolled": true,
    "tags": []
   },
   "outputs": [
    {
     "data": {
      "text/plain": [
       "array([  0,   1,   2,   4,   5,   6,   7,   8,   9,  13,  15,  16,  17,\n",
       "        20,  22,  23,  25,  26,  27,  29,  30,  31,  33,  35,  36,  37,\n",
       "        38,  39,  40,  41,  42,  43,  45,  46,  47,  48,  49,  50,  51,\n",
       "        52,  53,  54,  55,  56,  57,  58,  59,  60,  61,  62,  63,  65,\n",
       "        66,  67,  68,  69,  70,  71,  72,  73,  74,  76,  77,  78,  79,\n",
       "        80,  82,  83,  84,  85,  86,  87,  88,  89,  90,  91,  92,  93,\n",
       "        94,  95,  96,  98,  99, 100, 101, 103, 104, 105, 106, 107, 108,\n",
       "       109, 110, 111, 112, 113, 114, 115, 116, 119, 120, 121, 122, 123,\n",
       "       124, 125, 126, 127, 128, 129, 130, 131, 132, 134, 135, 136, 138,\n",
       "       139, 140, 141, 142, 143, 144, 145, 146, 147, 148, 150, 151, 152,\n",
       "       153, 154, 155, 156, 157, 158, 159, 160, 161, 162, 163, 164, 165,\n",
       "       166, 167, 168, 169, 170, 172, 173, 174, 175, 176, 178, 179, 180,\n",
       "       181, 182, 183, 184, 185, 186, 187, 188, 189, 190, 191, 192, 193,\n",
       "       194, 195, 196, 197, 198, 199, 201, 202, 203, 204, 205, 206, 207,\n",
       "       208, 209, 210, 211, 213, 214, 217, 218, 221, 222, 223, 225, 226,\n",
       "       229, 230, 231, 232, 233, 234, 236, 237, 238, 239, 240, 242, 243,\n",
       "       244, 245, 246, 247, 248, 249, 250, 251, 252, 253, 254, 255, 257,\n",
       "       258, 259, 260, 261, 262, 263, 264, 265, 266, 267, 268, 269, 270,\n",
       "       271, 272, 273, 274, 275, 276, 277, 278, 279, 280, 281, 282, 283,\n",
       "       284, 285, 286, 287, 288, 289, 290, 291, 292, 293, 294, 295, 296,\n",
       "       297, 298, 299, 300, 301, 302, 303, 304, 305, 306, 307, 308, 309,\n",
       "       310, 311, 313, 314, 315, 316, 317, 318, 319, 320, 321, 322, 323,\n",
       "       324, 325, 327, 329, 330, 331, 332, 334, 335, 336, 337, 338, 339,\n",
       "       340, 341, 342, 343, 344, 345, 346, 347, 348, 350, 351, 352, 353,\n",
       "       354, 355, 356, 357, 359, 360, 362, 363, 364, 365, 366, 367, 368,\n",
       "       369, 371, 372, 373, 374, 375, 376, 377, 378, 380, 381, 382, 384,\n",
       "       386, 387, 388, 389, 390, 391, 393, 395, 396, 397, 398, 399, 400,\n",
       "       401, 402, 404, 405, 406, 407, 408, 409, 410, 412, 413, 414, 415,\n",
       "       416, 418, 419, 421, 422, 423, 424, 425, 426, 427, 428, 429, 430,\n",
       "       431, 432, 433, 434, 435, 436, 437, 438, 439, 440, 441, 442, 443,\n",
       "       444, 445, 446, 447, 448, 449, 450, 451, 452, 453, 454, 455, 456,\n",
       "       457, 458, 459, 460, 461, 463, 464, 465, 466, 467, 469, 470, 471,\n",
       "       472, 473, 474, 475, 476, 477, 478, 479, 480, 482, 483, 484, 485,\n",
       "       486, 488, 489, 490, 491, 492, 493, 494, 495, 496, 497, 498, 499,\n",
       "       500, 501, 502, 503, 504, 505, 506, 507, 508, 509, 510, 511, 512,\n",
       "       513, 514, 515, 516, 517, 518])"
      ]
     },
     "execution_count": 6,
     "metadata": {},
     "output_type": "execute_result"
    }
   ],
   "source": [
    "used_samples_index"
   ]
  },
  {
   "cell_type": "code",
   "execution_count": 7,
   "id": "e76df270-cabf-4118-afa3-324b61d044de",
   "metadata": {},
   "outputs": [
    {
     "data": {
      "text/plain": [
       "155"
      ]
     },
     "execution_count": 7,
     "metadata": {},
     "output_type": "execute_result"
    }
   ],
   "source": [
    "np.sum(data[used_samples_index,-1]==True)"
   ]
  },
  {
   "cell_type": "code",
   "execution_count": 8,
   "id": "33e66697-498f-477b-a2b7-78585fbdf492",
   "metadata": {},
   "outputs": [
    {
     "data": {
      "text/plain": [
       "306"
      ]
     },
     "execution_count": 8,
     "metadata": {},
     "output_type": "execute_result"
    }
   ],
   "source": [
    "np.sum(data[used_samples_index,-1]==False)"
   ]
  },
  {
   "cell_type": "code",
   "execution_count": 9,
   "id": "3d60084a-ee4c-4fa3-8229-91079f67dbee",
   "metadata": {},
   "outputs": [
    {
     "data": {
      "text/plain": [
       "array([2, 5, 4, 1, 2, 6, 2, 3, 2, 6, 1, 1, 1, 7, 1, 7, 3, 4, 1, 1, 8, 1,\n",
       "       2, 7, 1, 9, 7, 10, 1, 2, 4, 5, 1, 7, 1, 4, 13, 8, 12, 9, 2, 3, 2,\n",
       "       6, 1, 11, 6, 3, 2, 5, 5, 3, 5, 7, 5, 3, 9, 3, 4, 4, 5, 9, 9, 3, 1,\n",
       "       6, 7, 8, 3, 8, 6, 12, 9, 2, 3, 1, 5, 11, 2, 4, 6, 1, 5, 3, 6, 5, 9,\n",
       "       4, 4, 7, 2, 3, 9, 3, 8, 5, 6, 1, 3, 8, 5, 4, 1, 6, 4, 8, 6, 5, 3,\n",
       "       6, 10, 11, 4, 8, 6, 4, 2, 1, 1, 4, 2, 8, 5, 5, 3, 3, 7, 6, 7, 4, 6,\n",
       "       9, 7, 1, 3, 6, 8, 1, 9, 7, 7, 3, 2, 3, 6, 5, 7, 6, 5, 1, 3, 2, 4,\n",
       "       7, 12, 4, 3, 2, 4, 5, 6, 4, 3, 3, 5, 7, 10, 9, 4, 5, 7, 1, 4, 7, 8,\n",
       "       2, 5, 1, 6, 2, 8, 6, 5, 2, 5, 6, 3, 2, 3, 3, 9, 3, 3, 2, 5, 4, 4,\n",
       "       3, 2, 2, 1, 8, 2, 2, 2, 4, 11, 5, 6, 4, 8, 3, 1, 4, 7, 1, 1, 2, 6,\n",
       "       1, 1, 4, 4, 8, 1, 7, 10, 1, 1, 6, 9, 5, 9, 4, 7, 1, 4, 2, 8, 4, 6,\n",
       "       1, 5, 4, 11, 8, 5, 4, 8, 8, 13, 4, 4, 3, 6, 2, 1, 6, 4, 5, 7, 2, 3,\n",
       "       10, 7, 6, 2, 6, 3, 10, 5, 4, 8, 3, 3, 2, 2, 4, 2, 2, 9, 7, 2, 4, 4,\n",
       "       4, 12, 3, 6, 7, 3, 2, 10, 12, 4, 7, 10, 6, 3, 5, 7, 10, 8, 3, 10,\n",
       "       6, 6, 7, 2, 4, 8, 3, 1, 5, 7, 2, 5, 2, 3, 2, 2, 2, 2, 2, 10, 6, 1,\n",
       "       4, 1, 8, 5, 3, 4, 1, 3, 6, 10, 3, 5, 10, 3, 9, 5, 6, 2, 5, 8, 2, 7,\n",
       "       1, 5, 8, 5, 3, 4, 7, 7, 9, 1, 6, 3, 1, 7, 3, 5, 7, 3, 8, 6, 3, 1,\n",
       "       9, 2, 5, 10, 5, 9, 6, 3, 1, 9, 7, 7, 1, 2, 1, 3, 4, 3, 4, 7, 10, 1,\n",
       "       13, 1, 4, 7, 3, 4, 3, 7, 2, 2, 1, 9, 8, 2, 3, 5, 6, 7, 1, 9, 2, 5,\n",
       "       3, 2, 1, 7, 9, 1, 2, 6, 4, 3, 6, 5, 4, 2, 4, 3, 4, 2, 8, 2, 2, 5,\n",
       "       3, 2, 6, 7, 4, 4, 6, 5, 3, 5, 3, 4, 3, 4, 3, 2, 7, 3, 4, 2, 2, 5,\n",
       "       6, 3, 4, 1, 5, 8, 3, 11, 3, 1, 7, 9, 7, 3, 5, 3, 2, 2, 12, 4, 4, 4,\n",
       "       1, 5, 8, 4, 6, 2, 1, 5, 5, 4, 2, 4, 9, 2, 2, 10, 2, 2, 3, 3, 3, 5,\n",
       "       7, 5, 3, 3, 8, 10, 6, 2, 6, 2, 3, 10, 2, 4, 7, 3], dtype=object)"
      ]
     },
     "execution_count": 9,
     "metadata": {},
     "output_type": "execute_result"
    }
   ],
   "source": [
    "data[:,1]"
   ]
  },
  {
   "cell_type": "code",
   "execution_count": 10,
   "id": "fd5e3696-9cdd-4aba-914b-10d9b18e5f96",
   "metadata": {},
   "outputs": [
    {
     "data": {
      "text/plain": [
       "58"
      ]
     },
     "execution_count": 10,
     "metadata": {},
     "output_type": "execute_result"
    }
   ],
   "source": [
    "np.sum(data[:,1]==1)"
   ]
  },
  {
   "cell_type": "code",
   "execution_count": 11,
   "id": "815ca862-5fa0-4446-a419-334caa1e98bf",
   "metadata": {
    "scrolled": true,
    "tags": []
   },
   "outputs": [
    {
     "data": {
      "text/plain": [
       "array([False, False, False, False, False, False, True, False, False, True,\n",
       "       False, False, True, False, False, True, False, True, False, False,\n",
       "       False, False, False, False, False, True, False, True, False, True,\n",
       "       False, True, True, True, False, False, False, False, True, False,\n",
       "       False, False, False, False, True, True, True, True, True, False,\n",
       "       False, False, True, True, False, False, False, True, True, False,\n",
       "       False, True, False, True, True, True, False, False, True, True,\n",
       "       True, True, False, True, False, False, False, False, True, False,\n",
       "       False, False, False, True, False, True, False, False, True, False,\n",
       "       False, False, True, False, False, False, False, False, False, True,\n",
       "       True, True, False, False, True, False, True, True, True, False,\n",
       "       True, False, True, False, True, True, False, False, False, False,\n",
       "       False, False, False, True, False, False, False, False, False,\n",
       "       False, True, False, False, False, False, True, True, False, True,\n",
       "       False, False, False, False, True, True, True, False, True, False,\n",
       "       False, True, False, False, False, True, False, False, False, False,\n",
       "       False, True, True, False, True, False, True, False, False, False,\n",
       "       False, False, False, False, False, False, False, False, False,\n",
       "       False, False, False, False, True, True, True, False, True, True,\n",
       "       False, True, True, True, False, True, True, False, True, False,\n",
       "       False, False, True, False, False, False, False, True, False, True,\n",
       "       False, True, False, False, True, False, False, False, False, True,\n",
       "       False, False, True, False, False, False, False, False, True, False,\n",
       "       True, False, True, False, False, True, False, True, False, False,\n",
       "       True, False, False, False, False, True, False, False, False, True,\n",
       "       False, True, False, False, True, True, False, False, False, False,\n",
       "       True, False, False, False, False, False, False, False, False,\n",
       "       False, False, False, False, False, False, False, False, False,\n",
       "       True, False, True, False, True, False, False, False, False, False,\n",
       "       False, False, False, False, False, False, True, False, False, True,\n",
       "       False, False, False, False, True, False, True, False, False, True,\n",
       "       False, False, False, True, True, False, False, True, False, True,\n",
       "       False, True, True, False, False, True, False, False, True, False,\n",
       "       False, False, False, True, True, False, True, True, False, True,\n",
       "       False, False, False, False, False, False, False, True, True, True,\n",
       "       False, True, False, True, True, False, False, False, False, False,\n",
       "       False, False, False, True, False, True, True, True, True, True,\n",
       "       False, False, True, False, False, True, False, True, False, False,\n",
       "       True, True, False, False, False, False, True, True, False, False,\n",
       "       True, False, False, False, False, False, True, False, False, False,\n",
       "       False, True, False, True, False, True, False, False, False, False,\n",
       "       False, False, False, True, False, False, True, False, False, False,\n",
       "       False, True, False, False, True, False, True, False, True, True,\n",
       "       True, False, True, False, False, True, True, True, False, True,\n",
       "       False, True, False, False, False, False, False, True, False, False,\n",
       "       False, False, False, False, False, False, True, True, False, False,\n",
       "       False, False, True, True, False], dtype=object)"
      ]
     },
     "execution_count": 11,
     "metadata": {},
     "output_type": "execute_result"
    }
   ],
   "source": [
    "data[used_samples_index,-1]"
   ]
  },
  {
   "cell_type": "code",
   "execution_count": 12,
   "id": "45961b27-d1c0-4d7f-b0f1-6a63f4d66552",
   "metadata": {
    "scrolled": true,
    "tags": []
   },
   "outputs": [
    {
     "data": {
      "text/plain": [
       "array([1037, 2225, 3659, 434, 1886, 309, 1588, 328, 1828, 1990, 2581, 718,\n",
       "       756, 2712, 371, 401, 3272, 1723, 3213, 434, 1179, 1547, 2211, 2284,\n",
       "       4426, 2443, 4379, 2858, 394, 917, 625, 1887, 756, 1911, 784, 315,\n",
       "       1792, 1579, 730, 2596, 3297, 1777, 758, 2954, 727, 321, 1178, 443,\n",
       "       1464, 2927, 2064, 2274, 1535, 2687, 954, 2669, 3930, 5195, 4291,\n",
       "       482, 1938, 735, 4004, 364, 1978, 1871, 1546, 882, 3066, 2266, 1809,\n",
       "       364, 1114, 1173, 755, 664, 2988, 762, 2803, 1864, 1924, 2319, 3085,\n",
       "       455, 1206, 1575, 1374, 3283, 1830, 2479, 806, 1821, 3654, 3683,\n",
       "       1227, 2616, 2179, 1115, 1523, 1271, 455, 3065, 1498, 1486, 757,\n",
       "       743, 477, 1883, 2332, 1107, 730, 2974, 1998, 742, 1155, 739, 3682,\n",
       "       2163, 2185, 932, 365, 1841, 1954, 2639, 2403, 3803, 1690, 1110,\n",
       "       468, 1221, 1417, 4699, 1176, 751, 640, 1591, 2092, 1773, 882, 766,\n",
       "       839, 1481, 2509, 4336, 2450, 839, 1492, 2640, 1386, 2732, 2603,\n",
       "       350, 1623, 1764, 910, 3089, 1871, 2001, 314, 1484, 1654, 729, 329,\n",
       "       805, 803, 2324, 1106, 732, 492, 1520, 1140, 1640, 833, 559, 439,\n",
       "       2413, 470, 372, 441, 1995, 3725, 1941, 1952, 1037, 2945, 976, 836,\n",
       "       1274, 360, 2016, 1047, 1155, 2788, 2205, 4572, 2008, 3018, 1595,\n",
       "       3709, 1078, 2462, 1218, 514, 3645, 1238, 2172, 1500, 499, 4150,\n",
       "       1836, 1462, 1310, 3142, 2503, 4382, 2011, 1246, 794, 1987, 543,\n",
       "       729, 3094, 1655, 2295, 397, 955, 4122, 2337, 1107, 375, 1897, 910,\n",
       "       3733, 1211, 3401, 1582, 1265, 805, 544, 301, 1167, 441, 371, 1983,\n",
       "       2892, 392, 1125, 1478, 1108, 3259, 834, 1949, 1841, 902, 357, 3631,\n",
       "       4031, 1105, 1821, 3434, 1956, 804, 1714, 2191, 4445, 2970, 732,\n",
       "       4165, 2183, 1847, 3537, 386, 1134, 3061, 752, 3255, 1857, 308, 259,\n",
       "       366, 1001, 412, 1079, 441, 380, 1770, 3602, 3570, 2001, 2631, 1505,\n",
       "       949, 1192, 1450, 1673, 1450, 930, 1544, 3282, 996, 2990, 2172,\n",
       "       1766, 729, 2372, 956, 385, 2042, 1616, 1750, 1500, 708, 1098, 2115,\n",
       "       3801, 2122, 1920, 735, 1548, 906, 1456, 2163, 742, 3513, 2810, 673,\n",
       "       3278, 421, 1603, 3410, 1547, 2949, 1136, 453, 3412, 4302, 3906,\n",
       "       364, 1413, 1092, 387, 1496, 3322, 1793, 4350, 1193, 2106, 706,\n",
       "       1049, 902, 2345, 1787, 301, 2935, 4156, 482, 735, 1015, 2618, 1544,\n",
       "       3473, 528, 1950, 790, 364, 2341, 3498, 352, 2571, 1107, 736, 1570,\n",
       "       3363, 1175, 379, 1132, 533, 438, 366, 2178, 335, 525, 1463, 357,\n",
       "       1345, 1624, 2249, 2804, 1133, 2468, 1315, 728, 1607, 1801, 1273,\n",
       "       798, 1672, 371, 404, 1971, 1985, 738, 406, 549, 1462, 1944, 1358,\n",
       "       2291, 1474, 3210, 827, 4351, 1779, 2492, 3404, 2254, 1636, 412,\n",
       "       802, 252, 546, 3626, 1175, 1140, 378, 1232, 3456, 581, 1932, 1610,\n",
       "       1487, 1119, 1146, 428, 1925, 1097, 328, 1442, 3323, 1064, 410, 715,\n",
       "       1109, 803, 2177, 3233, 1559, 953, 669, 2459, 3724, 2824, 1537,\n",
       "       1768, 423, 739, 3463, 420, 1564, 1134, 776], dtype=object)"
      ]
     },
     "execution_count": 12,
     "metadata": {},
     "output_type": "execute_result"
    }
   ],
   "source": [
    "data[used_samples_index,-2]"
   ]
  },
  {
   "cell_type": "code",
   "execution_count": 13,
   "id": "03e2a94a-63fe-40f3-8abe-90fce4cf6cb1",
   "metadata": {},
   "outputs": [
    {
     "name": "stderr",
     "output_type": "stream",
     "text": [
      "/usr/local/lib/python3.7/site-packages/pysurvival/utils/display.py:127: UserWarning: FixedFormatter should only be used together with FixedLocator\n",
      "  ax.set_yticklabels(['{:.1f}%'.format(v*100) for v in vals])\n"
     ]
    },
    {
     "data": {
      "image/png": "[encoded data removed]",
      "text/plain": [
       "<Figure size 1296x360 with 1 Axes>"
      ]
     },
     "metadata": {
      "needs_background": "light"
     },
     "output_type": "display_data"
    }
   ],
   "source": [
    "import numpy as np\n",
    "from matplotlib import pyplot as plt\n",
    "from pysurvival.models.non_parametric import KaplanMeierModel\n",
    "from pysurvival.utils.display import display_non_parametric\n",
    "# %matplotlib inline #Uncomment when using Jupyter \n",
    "\n",
    "# Generating random times and event indicators \n",
    "T = data[used_samples_index,-2]\n",
    "E = data[used_samples_index,-1]\n",
    "\n",
    "# Initializing the KaplanMeierModel\n",
    "km_model = KaplanMeierModel()\n",
    "\n",
    "# Fitting the model \n",
    "km_model.fit(T, E, alpha=0.95)\n",
    "\n",
    "# Displaying the survival function and confidence intervals\n",
    "display_non_parametric(km_model)"
   ]
  },
  {
   "cell_type": "code",
   "execution_count": 14,
   "id": "a30bbf68-1d01-494c-acf2-6fa6f8607dc0",
   "metadata": {},
   "outputs": [
    {
     "data": {
      "text/plain": [
       "252"
      ]
     },
     "execution_count": 14,
     "metadata": {},
     "output_type": "execute_result"
    }
   ],
   "source": [
    "np.min(T)"
   ]
  },
  {
   "cell_type": "code",
   "execution_count": 15,
   "id": "f14843cd-d66c-46eb-842a-74242b84093b",
   "metadata": {},
   "outputs": [
    {
     "data": {
      "text/plain": [
       "5195"
      ]
     },
     "execution_count": 15,
     "metadata": {},
     "output_type": "execute_result"
    }
   ],
   "source": [
    "np.max(T)"
   ]
  },
  {
   "cell_type": "code",
   "execution_count": 16,
   "id": "a42fd747-febf-4428-a2cc-54d4d5c4a1fa",
   "metadata": {},
   "outputs": [
    {
     "data": {
      "text/plain": [
       "(461,)"
      ]
     },
     "execution_count": 16,
     "metadata": {},
     "output_type": "execute_result"
    }
   ],
   "source": [
    "used_samples_index.shape"
   ]
  },
  {
   "cell_type": "code",
   "execution_count": 17,
   "id": "29459e46-3f81-4ad6-8021-e13d96efa4e1",
   "metadata": {},
   "outputs": [
    {
     "data": {
      "text/plain": [
       "(461,)"
      ]
     },
     "execution_count": 17,
     "metadata": {},
     "output_type": "execute_result"
    }
   ],
   "source": [
    "used_samples_index.shape"
   ]
  },
  {
   "cell_type": "code",
   "execution_count": null,
   "id": "1cc4cf0f-1c53-4790-a338-7b760150b233",
   "metadata": {},
   "outputs": [],
   "source": []
  }
 ],
 "metadata": {
  "kernelspec": {
   "display_name": "Python 3 (ipykernel)",
   "language": "python",
   "name": "python3"
  },
  "language_info": {
   "codemirror_mode": {
    "name": "ipython",
    "version": 3
   },
   "file_extension": ".py",
   "mimetype": "text/x-python",
   "name": "python",
   "nbconvert_exporter": "python",
   "pygments_lexer": "ipython3",
   "version": "3.7.8"
  },
  "widgets": {
   "application/vnd.jupyter.widget-state+json": {
    "state": {},
    "version_major": 2,
    "version_minor": 0
   }
  }
 },
 "nbformat": 4,
 "nbformat_minor": 5
}
