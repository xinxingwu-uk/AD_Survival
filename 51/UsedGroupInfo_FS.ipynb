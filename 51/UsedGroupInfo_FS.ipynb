{
 "cells": [
  {
   "cell_type": "code",
   "execution_count": 1,
   "id": "00049547-c2e4-4996-84af-e1d46d9928c0",
   "metadata": {},
   "outputs": [],
   "source": [
    "import pandas as pd\n",
    "import numpy as np\n",
    "import gc\n",
    "\n",
    "from scipy import stats\n",
    "from matplotlib import pyplot as plt"
   ]
  },
  {
   "cell_type": "code",
   "execution_count": 2,
   "id": "c1776d00-d24e-47d9-b0c5-794fec49c4e9",
   "metadata": {},
   "outputs": [],
   "source": [
    "def csv_read(p_path,header_is=0):\n",
    "    pd_data=pd.read_csv(p_path, sep=',',header=header_is)\n",
    "    column_names=pd_data.columns.values.tolist()\n",
    "    print(column_names)\n",
    "    return pd_data,np.array(pd_data),column_names\n",
    "\n",
    "#-------------------------------------------------------------------------------------\n",
    "def write_to_csv(p_data,p_path):\n",
    "    dataframe = pd.DataFrame(p_data)\n",
    "    dataframe.to_csv(p_path, mode='a',header=False,index=False,sep=',')\n",
    "    del dataframe\n",
    "    gc.collect()\n",
    "    \n",
    "#-------------------------------------------------------------------------------------\n",
    "def bar_figure(group1,group2,y_label):\n",
    "    figure,axes=plt.subplots()\n",
    "    \n",
    "    axes.boxplot([group1,group2],patch_artist=True)\n",
    "    plt.xticks(range(1,3),['Group 1','Group 2'])\n",
    "    #plt.yticks(fontsize = 20)\n",
    "    \n",
    "    min_end=min(np.min(group1),np.min(group2))\n",
    "    max_end=max(np.max(group1),np.max(group2))\n",
    "    end=(max_end-min_end)/10\n",
    "    plt.ylim(min_end-end,max_end+end)\n",
    "    plt.ylabel(y_label)\n",
    "    plt.show()\n",
    "\n",
    "#-------------------------------------------------------------------------------------\n",
    "def statistic_analysis(group1, group2):\n",
    "    var_same=stats.levene(group1, group2)\n",
    "    \n",
    "    print(\"\\n\")\n",
    "    print(\"-\"*80)\n",
    "    \n",
    "    print(\"var_same\",var_same)\n",
    "\n",
    "    if var_same[1]>0.05:\n",
    "        f_t, p_value_t = stats.ttest_ind(group1, group2, equal_var=True)\n",
    "        print(\"Test: f_t, p_value_t\", format(f_t,'.3E'), format(p_value_t,'.3E'))\n",
    "    else:\n",
    "        f_t, p_value_t = stats.ttest_ind(group1, group2, equal_var=False)\n",
    "        print(\"Test: f_t, p_value_t\",format(f_t,'.3E'), format(p_value_t,'.3E'))\n",
    "    \n",
    "    f, p_value = stats.f_oneway(group1, group2)\n",
    "    print(\"ANOVA: f, p_value:\",format(f,'.3E'), format(p_value_t,'.3E'))\n",
    "    print(\"-\"*80)\n",
    "    print(\"\\n\")"
   ]
  },
  {
   "cell_type": "code",
   "execution_count": 3,
   "id": "ee046a8a-1080-4a33-a91c-73829cfcb74d",
   "metadata": {
    "scrolled": true,
    "tags": []
   },
   "outputs": [
    {
     "name": "stdout",
     "output_type": "stream",
     "text": [
      "['NACCREAS', 'NACCREFR', 'BIRTHMO', 'BIRTHYR', 'SEX', 'HISPANIC', 'HISPOR', 'RACE', 'RACESEC', 'RACETER', 'PRIMLANG', 'EDUC', 'MARISTAT', 'NACCLIVS', 'INDEPEND', 'RESIDENC', 'HANDED', 'NACCFADM', 'NACCFFTD', 'MEMORY', 'ORIENT', 'JUDGMENT', 'COMMUN', 'HOMEHOBB', 'PERSCARE', 'CDRSUM', 'DECSUB', 'DECIN', 'COGMEM', 'COGJUDG', 'COGLANG', 'COGVIS', 'COGATTN', 'COGOTHR', 'NACCCOGF', 'COGMODE', 'DECAGE', 'BEAPATHY', 'BEDEP', 'BEVHALL', 'BEAHALL', 'BEDEL', 'BEDISIN', 'BEIRRIT', 'BEAGIT', 'BEPERCH', 'BEOTHR', 'NACCBEHF', 'BEMODE', 'MOGAIT', 'MOFALLS', 'MOTREM', 'MOSLOW', 'NACCMOTF', 'MOMODE', 'COURSE', 'FRSTCHG', 'NORMCOG', 'DEMENTED', 'NACCPPA', 'NACCBVFT', 'NACCLBDS', 'NACCTMCI', 'NACCMCIL', 'NACCMCIA', 'NACCMCIE', 'NACCMCIV', 'NACCMCII', 'IMPNOMCI', 'NACCALZD', 'NACCALZP', 'NACCLBDE', 'NACCLBDP', 'PARK', 'PSP', 'PSPIF', 'CORT', 'CORTIF', 'DOWNS', 'DOWNSIF', 'HUNT', 'HUNTIF', 'PRION', 'PRIONIF', 'BRNINJ', 'BRNINJIF', 'HYCEPH', 'HYCEPHIF', 'NEOP', 'NEOPIF', 'DEP', 'DEPIF', 'OTHPSY', 'OTHPSYIF', 'ALCDEM', 'ALCDEMIF', 'DYSILL', 'DYSILLIF', 'MEDS', 'MEDSIF', 'COGOTH', 'COGOTHIF', 'NACCETPR', 'NACCADMU', 'NACCFTDM', 'NACCAGEB', 'NACCNIHR', 'NACCNORM', 'NACCIDEM', 'NACCAGE', 'NACCUDSD', 'NACCAPOE', 'NACCNE4S', 'NPPMIH', 'NPFIX', 'NPWBRWT', 'NPWBRF', 'NACCBRNN', 'NPGRCCA', 'NPGRLA', 'NPGRHA', 'NPGRSNH', 'NPGRLCH', 'NACCAVAS', 'NPTAN', 'NPABAN', 'NPASAN', 'NPTDPAN', 'NPHISMB', 'NPHISG', 'NPHISSS', 'NPHIST', 'NPHISO', 'NPTHAL', 'NACCBRAA', 'NACCNEUR', 'NPADNC', 'NACCDIFF', 'NACCVASC', 'NACCAMY', 'NPINF', 'NPINF1A', 'NPINF1B', 'NPINF1D', 'NPINF1F', 'NPINF2A', 'NPINF2B', 'NPINF2D', 'NPINF2F', 'NPINF3A', 'NPINF3B', 'NPINF3D', 'NPINF3F', 'NPINF4A', 'NPINF4B', 'NPINF4D', 'NPINF4F', 'NACCINF', 'NPHEMO', 'NPHEMO1', 'NPHEMO2', 'NPHEMO3', 'NPOLD', 'NPOLD1', 'NPOLD2', 'NPOLD3', 'NPOLD4', 'NACCMICR', 'NPOLDD', 'NPOLDD1', 'NPOLDD2', 'NPOLDD3', 'NPOLDD4', 'NACCHEM', 'NACCARTE', 'NPWMR', 'NPPATH', 'NACCNEC', 'NPPATH2', 'NPPATH3', 'NPPATH4', 'NPPATH5', 'NPPATH6', 'NPPATH7', 'NPPATH8', 'NPPATH9', 'NPPATH10', 'NPPATH11', 'NACCLEWY', 'NPLBOD', 'NPNLOSS', 'NPHIPSCL', 'NPFTDTAU', 'NACCPICK', 'NPFTDT2', 'NACCCBD', 'NACCPROG', 'NPFTDT5', 'NPFTDT6', 'NPFTDT7', 'NPFTDT8', 'NPFTDT9', 'NPFTDT10', 'NPFTDTDP', 'NPALSMND', 'NPOFTD', 'NPOFTD1', 'NPOFTD2', 'NPOFTD3', 'NPOFTD4', 'NPOFTD5', 'NPTDPA', 'NPTDPB', 'NPTDPC', 'NPTDPD', 'NPTDPE', 'NPPDXA', 'NPPDXB', 'NACCPRIO', 'NPPDXD', 'NPPDXE', 'NPPDXF', 'NPPDXG', 'NPPDXH', 'NPPDXI', 'NPPDXJ', 'NPPDXK', 'NPPDXL', 'NPPDXM', 'NPPDXN', 'NACCDOWN', 'NPPDXP', 'NPPDXQ', 'NACCOTHP', 'NACCBNKF', 'NPBNKB', 'NACCFORM', 'NACCPARA', 'NACCCSFP', 'NPBNKF', 'NPFAUT', 'NACCDAGE', 'NACCINT', 'SurvivalTime', 'Event']\n",
      "[0, 1, 2, 3, 4, 5, 6, 7, 8, 9, 10, 11, 12, 13, 14, 15, 16, 17, 18, 19, 20, 21, 22, 23, 24, 25, 26, 27, 28, 29, 30, 31, 32, 33, 34, 35, 36, 37, 38, 39, 40, 41, 42, 43, 44, 45, 46, 47, 48, 49, 50, 51, 52, 53, 54, 55, 56, 57, 58, 59, 60, 61, 62, 63, 64, 65, 66, 67, 68, 69, 70, 71, 72, 73, 74, 75, 76, 77, 78, 79, 80, 81, 82, 83, 84, 85, 86, 87, 88, 89, 90, 91, 92, 93, 94, 95, 96, 97, 98, 99]\n"
     ]
    }
   ],
   "source": [
    "data,data_arr,column_names=csv_read('./data/survival_data_filtered_3.csv')\n",
    "column_names_arr=np.array(column_names)\n",
    "\n",
    "FS_data,FS_data_arr,_=csv_read('./feature_selection.csv',header_is=None)"
   ]
  },
  {
   "cell_type": "code",
   "execution_count": 4,
   "id": "8e9fc7fe-e17e-42e1-abba-2a16112e6948",
   "metadata": {},
   "outputs": [],
   "source": [
    "used_number_features=10\n",
    "FS_data_used=FS_data_arr[-1,0:used_number_features]"
   ]
  },
  {
   "cell_type": "code",
   "execution_count": 5,
   "id": "0a6cd145-dad5-4996-85d8-27af00038f5d",
   "metadata": {},
   "outputs": [
    {
     "name": "stdout",
     "output_type": "stream",
     "text": [
      "Feature:  NACCAGEB\n",
      "\n",
      "\n",
      "--------------------------------------------------------------------------------\n",
      "var_same LeveneResult(statistic=0.015607323022519404, pvalue=0.900623590463963)\n",
      "Test: f_t, p_value_t -2.329E+00 2.019E-02\n",
      "ANOVA: f, p_value: 5.426E+00 2.019E-02\n",
      "--------------------------------------------------------------------------------\n",
      "\n",
      "\n",
      "Group1:  [79 58 76 59 77 86 60 74 76 71 50 80 61 72 64 61 29 72 61 72 60 89 68 68\n",
      " 72 70 83 83 61 75 66 85 50 65 63 91 51 93 73 72 71 72 70 59 76 57 71 71\n",
      " 47 78 67 65 75 57 64 61 88 65 75 69 58 85 35 57 82 73 70 59 70 74 60 56\n",
      " 59 63 82 55 73 72 58 54 56 70 77 59 68 73 88 69 86 58 75 80 59 75 71 67\n",
      " 47 57 74 71 60 66 74 93 67 66 75 75 78 75 71 79 67 80 59 90 79 63 60 77\n",
      " 62 57 53 80 65 61 59 71 48 28 73 75 63 75 66 65 67 67 64 68 76 66 78 72\n",
      " 62 69 56 67 73 77 87 70 92 61 86 68 73 64 60 70 57 86 62 59 78 28 82 68\n",
      " 87 56 62 68 66 55 63 79 78 67 56 69 90 75 57 46 79 55 68 75 58 82 75 66\n",
      " 78 78 59 68 74 76 83 60 68 82 61 60 60 65 80 67 66 70 67 54 77 56 75 65\n",
      " 49 56 75 74 53 69 76 69 76 70 79 73 64 73 76 52 83 64 78 80 71 68 75 70\n",
      " 66 68 77 76 57 71 68 65 68 62 74 62 77 65 57 68 69 79 78 79 54 81 57 63\n",
      " 87 77 95 84 75 77 73 56 61 61 53 76 70 60 85 77 62 78 60 82 64 69 85 63\n",
      " 76 61 70 84 78 76 82 81 86 80 75 72 70 54 78 91 74 74 74 61 58 49 85 52\n",
      " 80 75 57 73 79 67 53]\n",
      "\n",
      "\n",
      "Group2:  [82 66 60 51 80 68 49 67 78 71 71 64 82 75 67 84 62 47 61 69 67 83 88 65\n",
      " 37 72 82 83 74 65 40 72 63 59 73 85 58 65 73 36 56 79 73 72 59 76 101 74\n",
      " 84 78 74 53 74 65 70 61 71 73 86 76 71 81 51 71 106 63 76 63 74 70 81 95\n",
      " 67 84 57 68 81 77 73 66 90 68 78 76 69 58 78 86 61 72 68 72 75 53 52 61\n",
      " 91 81 78 79 69 66 73 71 66 71 77 73 75 76 61 75 70 62 79 84 83 74 64 69\n",
      " 76 86 83 63 78 54 50 65 75 75 86 71 73 74 59 60 86 67 70 76 87 72 71 85\n",
      " 69 39 83 60 64 78 83 59 72 85 56 74 77 77 83 52 75 80 89 70 57 63 61 83\n",
      " 64 84 67 67 77 66 79 73 87 76 63 78 55 78 73 58 84 65 77 78 85 78 62 79\n",
      " 70 78 84 54 69 62 74 92 78 62 73 63 61 68 85 67 65 71 85 70 81 77 88 85\n",
      " 65 78 64 88 67 59 83 80 51 60 45 80 76 46 93 76 74 58 76 66 75 73 85 48\n",
      " 52 52 73 72 67 79 71 74 79 72 72 66 66]\n",
      "\n",
      "\n",
      "Mean:  69.05015673981191 71.20553359683794\n"
     ]
    },
    {
     "data": {
      "image/png": "[encoded data removed]",
      "text/plain": [
       "<Figure size 432x288 with 1 Axes>"
      ]
     },
     "metadata": {
      "needs_background": "light"
     },
     "output_type": "display_data"
    },
    {
     "name": "stdout",
     "output_type": "stream",
     "text": [
      "************************************************************************************************************************\n",
      "\n",
      "\n",
      "\n",
      "\n",
      "Feature:  NACCAGE\n",
      "\n",
      "\n",
      "--------------------------------------------------------------------------------\n",
      "var_same LeveneResult(statistic=0.5595734292501234, pvalue=0.4547406814483109)\n",
      "Test: f_t, p_value_t -1.887E+00 5.961E-02\n",
      "ANOVA: f, p_value: 3.562E+00 5.961E-02\n",
      "--------------------------------------------------------------------------------\n",
      "\n",
      "\n",
      "Group1:  [84 59 81 60 80 93 61 81 80 74 51 83 65 83 70 73 34 73 63 76 61 93 70 68\n",
      " 77 74 92 88 63 76 68 89 51 70 66 97 54 100 83 83 81 82 75 63 81 59 76 76\n",
      " 51 81 69 67 78 59 68 64 93 72 83 71 66 88 42 58 86 82 80 61 77 79 63 60\n",
      " 61 69 86 59 74 76 63 56 57 78 80 61 71 83 90 75 87 63 81 83 66 85 73 68\n",
      " 50 59 76 72 62 71 78 94 69 76 81 80 82 78 74 80 71 87 64 96 83 64 61 79\n",
      " 66 59 54 84 69 65 61 73 49 35 78 80 64 81 68 66 69 68 66 70 84 70 88 78\n",
      " 67 79 60 68 76 81 91 76 95 65 89 75 85 67 65 74 62 87 66 62 79 38 85 71\n",
      " 89 57 63 72 74 56 65 81 83 70 59 70 100 79 60 49 80 61 79 84 59 88 80 67\n",
      " 80 84 61 72 75 77 86 61 69 89 64 62 63 68 82 70 70 73 73 57 79 63 76 67\n",
      " 53 59 77 77 56 73 81 72 79 75 81 83 65 75 85 55 91 66 84 82 75 79 81 71\n",
      " 67 69 81 86 59 75 69 68 69 66 74 66 88 66 61 71 74 81 81 88 57 83 59 66\n",
      " 96 78 98 85 81 77 74 59 68 64 54 78 73 61 89 80 63 79 63 88 65 73 92 65\n",
      " 87 63 72 90 82 78 91 82 89 87 77 74 71 55 79 97 75 76 77 67 59 50 91 55\n",
      " 84 77 63 74 81 70 56]\n",
      "\n",
      "\n",
      "Group2:  [92 72 60 52 90 70 50 71 78 75 71 67 92 75 67 91 63 54 61 69 73 87 88 67\n",
      " 37 76 84 89 76 65 42 72 64 62 79 95 63 74 73 36 58 83 74 72 62 79 102 80\n",
      " 84 82 75 53 79 72 76 63 76 84 90 78 77 85 52 71 106 65 78 65 77 74 88 96\n",
      " 69 89 57 68 83 78 86 70 99 73 85 83 73 58 90 92 61 81 69 72 75 53 57 64\n",
      " 96 81 81 80 71 67 76 71 73 74 87 73 79 81 61 80 76 64 79 96 83 80 64 75\n",
      " 78 89 88 68 81 55 51 65 80 78 94 72 76 79 61 60 93 69 72 82 88 74 76 90\n",
      " 81 43 86 60 64 90 86 64 78 97 56 74 77 80 91 52 77 90 98 80 62 65 62 84\n",
      " 64 89 73 73 89 70 86 76 95 83 70 84 56 89 73 58 87 69 77 83 87 85 74 80\n",
      " 70 79 84 54 71 62 84 99 87 65 84 65 65 68 85 70 65 76 86 71 83 80 93 89\n",
      " 72 82 71 93 68 59 89 81 51 64 45 89 82 53 94 76 75 62 80 70 75 78 88 53\n",
      " 55 52 73 72 71 86 74 76 87 83 77 66 70]\n",
      "\n",
      "\n",
      "Mean:  72.89968652037618 74.79841897233202\n"
     ]
    },
    {
     "data": {
      "image/png": "[encoded data removed]",
      "text/plain": [
       "<Figure size 432x288 with 1 Axes>"
      ]
     },
     "metadata": {
      "needs_background": "light"
     },
     "output_type": "display_data"
    },
    {
     "name": "stdout",
     "output_type": "stream",
     "text": [
      "************************************************************************************************************************\n",
      "\n",
      "\n",
      "\n",
      "\n",
      "Feature:  NACCIDEM\n",
      "\n",
      "\n",
      "--------------------------------------------------------------------------------\n",
      "var_same LeveneResult(statistic=10.955950788155826, pvalue=0.0009919731179781662)\n",
      "Test: f_t, p_value_t 3.264E+00 1.172E-03\n",
      "ANOVA: f, p_value: 1.096E+01 1.172E-03\n",
      "--------------------------------------------------------------------------------\n",
      "\n",
      "\n",
      "Group1:  [8 8 8 8 8 1 8 1 1 8 8 8 1 1 8 1 1 8 8 8 8 8 8 8 1 8 1 1 8 8 8 8 8 8 8 1 8\n",
      " 1 8 1 1 1 8 8 8 8 8 8 8 8 8 1 8 8 8 8 1 8 1 8 8 8 1 8 8 1 1 8 8 1 1 8 8 8\n",
      " 8 1 8 1 8 8 8 1 8 8 1 1 8 8 8 8 1 8 8 8 8 8 8 8 8 8 8 1 8 8 8 8 8 8 1 8 8\n",
      " 8 8 1 1 1 8 8 8 8 8 8 8 1 8 1 1 8 8 8 8 1 8 8 8 8 8 8 8 8 8 8 1 1 8 1 8 8\n",
      " 8 8 8 8 8 8 8 1 1 8 8 1 8 8 8 8 8 1 8 1 8 8 8 8 1 8 8 8 8 8 8 8 1 8 8 8 8\n",
      " 8 1 8 8 1 1 8 8 1 8 8 8 8 8 8 8 8 8 8 8 8 8 8 1 1 1 8 8 8 8 8 8 8 8 1 8 1\n",
      " 1 8 8 1 8 1 8 8 1 1 8 8 1 8 1 1 8 8 8 8 8 1 8 8 8 8 8 8 8 8 1 8 8 8 1 8 8\n",
      " 1 8 8 8 8 1 8 8 8 1 8 8 8 8 8 8 1 8 8 8 8 8 8 8 8 8 8 8 8 1 8 8 1 8 8 1 8\n",
      " 8 1 8 8 8 8 8 1 8 8 8 8 8 8 1 8 1 8 8 8 8 8 1]\n",
      "\n",
      "\n",
      "Group2:  [1 1 8 8 1 8 8 8 8 8 8 8 1 8 8 1 8 1 8 8 8 1 8 8 8 8 1 8 8 8 8 8 8 8 8 1 8\n",
      " 1 8 8 1 8 8 8 8 8 8 0 8 1 8 8 8 8 8 8 8 0 1 8 1 1 8 8 8 8 8 8 1 8 8 8 1 1\n",
      " 8 8 8 8 0 8 1 8 1 8 8 8 1 1 8 8 1 8 8 8 8 1 1 8 8 8 8 8 8 8 1 1 1 8 8 1 8\n",
      " 1 8 1 8 1 8 1 8 1 1 1 1 8 8 8 8 8 8 8 1 8 1 1 8 8 1 1 1 8 0 8 1 8 0 8 1 8\n",
      " 8 1 8 1 1 1 8 8 8 1 1 8 8 1 1 1 1 8 0 8 8 8 8 1 1 1 8 1 1 8 1 8 8 1 8 8 1\n",
      " 8 8 1 1 1 1 1 8 8 8 8 8 8 1 1 1 8 1 8 8 8 1 1 8 1 8 1 8 8 8 8 8 8 1 8 8 8\n",
      " 1 8 8 8 8 1 8 1 8 8 8 1 1 8 8 8 1 1 8 8 8 8 1 1 8 8 1 1 1 8 8]\n",
      "\n",
      "\n",
      "Mean:  6.244514106583072 5.3478260869565215\n"
     ]
    },
    {
     "data": {
      "image/png": "[encoded data removed]",
      "text/plain": [
       "<Figure size 432x288 with 1 Axes>"
      ]
     },
     "metadata": {
      "needs_background": "light"
     },
     "output_type": "display_data"
    },
    {
     "name": "stdout",
     "output_type": "stream",
     "text": [
      "************************************************************************************************************************\n",
      "\n",
      "\n",
      "\n",
      "\n",
      "Feature:  COGMODE\n",
      "\n",
      "\n",
      "--------------------------------------------------------------------------------\n",
      "var_same LeveneResult(statistic=3.135435192339639, pvalue=0.07714233246501123)\n",
      "Test: f_t, p_value_t -1.771E+00 7.714E-02\n",
      "ANOVA: f, p_value: 3.135E+00 7.714E-02\n",
      "--------------------------------------------------------------------------------\n",
      "\n",
      "\n",
      "Group1:  [1 1 1 1 1 1 1 1 1 1 1 1 1 1 1 1 1 1 1 1 1 1 1 1 1 1 1 1 1 1 1 1 1 1 1 1 1\n",
      " 1 1 1 1 1 1 1 1 1 1 1 1 1 1 1 1 1 1 1 1 1 1 1 1 1 1 1 1 1 1 1 1 1 1 1 1 1\n",
      " 1 1 1 1 1 1 1 1 1 1 1 1 1 1 1 1 1 1 1 1 1 1 1 1 1 1 1 1 1 1 1 1 1 1 1 1 1\n",
      " 1 1 1 1 1 1 1 1 1 1 1 1 1 1 1 1 1 1 1 1 1 1 1 1 1 1 1 1 1 1 1 1 1 1 1 1 1\n",
      " 1 1 1 1 1 1 1 1 1 1 1 1 1 1 1 1 1 1 1 1 1 1 1 1 1 1 1 1 1 1 1 1 1 1 1 1 1\n",
      " 1 1 1 1 1 1 1 1 1 1 1 1 1 1 1 1 1 1 1 1 1 1 1 1 1 1 1 1 1 1 1 1 1 1 1 1 1\n",
      " 1 1 1 1 1 1 1 1 1 1 1 1 1 1 1 1 1 1 1 1 1 1 1 1 1 1 1 1 1 1 1 2 1 1 1 1 1\n",
      " 1 1 1 1 1 1 1 1 1 1 1 1 1 1 1 1 1 1 1 1 1 1 1 1 1 1 1 1 1 1 1 1 1 1 1 1 1\n",
      " 1 1 1 1 1 1 1 1 1 1 1 1 1 1 1 1 1 1 1 1 1 1 1]\n",
      "\n",
      "\n",
      "Group2:  [1 1 1 1 1 1 1 1 1 1 1 1 1 1 1 1 1 1 1 1 1 1 1 1 1 1 1 4 1 1 1 1 1 1 1 1 1\n",
      " 1 1 1 1 1 1 1 1 1 1 1 1 1 1 1 1 1 1 1 1 1 3 1 1 1 1 1 3 1 1 1 1 1 1 1 1 1\n",
      " 99 1 1 1 99 1 1 1 1 1 1 1 1 1 1 1 1 1 1 1 1 1 1 1 1 1 1 1 1 1 4 1 1 1 1 1\n",
      " 1 1 1 1 1 1 1 1 1 1 1 1 1 1 1 1 1 1 1 1 1 1 1 1 1 4 1 1 1 3 1 1 1 1 1 1 1\n",
      " 1 1 1 1 1 1 1 1 1 1 1 1 1 1 1 1 1 1 1 1 1 1 1 1 1 1 1 1 3 1 1 1 4 1 1 1 1\n",
      " 1 1 1 1 1 1 1 1 1 1 1 1 1 1 1 1 1 1 1 1 1 1 1 1 1 1 1 1 1 4 1 1 1 1 1 1 1\n",
      " 1 1 1 1 1 1 1 1 1 1 1 1 1 1 1 1 1 1 1 1 1 1 1 1 1 1 1 1 1 1 1 1]\n",
      "\n",
      "\n",
      "Mean:  1.0031347962382444 1.865612648221344\n"
     ]
    },
    {
     "data": {
      "image/png": "[encoded data removed]",
      "text/plain": [
       "<Figure size 432x288 with 1 Axes>"
      ]
     },
     "metadata": {
      "needs_background": "light"
     },
     "output_type": "display_data"
    },
    {
     "name": "stdout",
     "output_type": "stream",
     "text": [
      "************************************************************************************************************************\n",
      "\n",
      "\n",
      "\n",
      "\n",
      "Feature:  NPWBRWT\n",
      "\n",
      "\n",
      "--------------------------------------------------------------------------------\n",
      "var_same LeveneResult(statistic=2.1253545735227566, pvalue=0.14542997921393994)\n",
      "Test: f_t, p_value_t -2.186E+00 2.922E-02\n",
      "ANOVA: f, p_value: 4.778E+00 2.922E-02\n",
      "--------------------------------------------------------------------------------\n",
      "\n",
      "\n",
      "Group1:  [1100 1360 1360 850 1440 1174 890 1160 1160 980 780 1100 1381 994 1150\n",
      " 1120 1040 1200 1015 1194 661 1120 1086 1417 1370 940 1210 1430 1000 1200\n",
      " 999 1080 866 1240 885 1246 1050 1066 1185 1250 1140 1330 1361 1030 1080\n",
      " 864 941 1094 1160 1100 950 1100 1010 810 1040 1100 1040 1212 938 1360\n",
      " 1066 1180 1280 1220 1370 988 1030 100 1030 1210 1475 994 831 1200 1240\n",
      " 1387 1204 1340 1134 1250 950 1289 1210 1200 1310 1200 1200 1110 1400 1200\n",
      " 1350 1090 1331 1072 1239 880 1088 990 1240 1110 1130 1046 1420 1180 1285\n",
      " 1210 1404 950 1150 1330 1450 1000 1440 1624 1200 1042 1130 1100 1099 1100\n",
      " 1010 1420 887 1202 1135 1110 1088 1200 1309 1260 884 1030 980 1053 1290\n",
      " 1175 100 1277 1082 1130 1265 1290 1265 1352 1374 1126 908 1190 1220 1069\n",
      " 1170 1170 890 1250 1050 920 1480 1392 1266 1170 1338 1142 1000 1230 1278\n",
      " 1129 1240 1060 1148 1224 1157 965 1390 1000 1035 1180 1286 1171 1021 1120\n",
      " 1030 1120 1150 1196 970 1240 1210 1106 1270 1260 1380 880 1143 1020 820\n",
      " 1193 1428 1165 1290 1150 1120 1470 1182 1220 997 1400 1217 1020 1150 1120\n",
      " 1252 1203 890 950 1100 957 1108 883 1300 1280 1067 1160 1336 1230 1150\n",
      " 1047 1260 1304 1008 1316 1130 1070 1129 990 918 1150 1130 1090 1044 1176\n",
      " 1060 1330 1300 1180 1005 1400 1000 1100 1294 1057 1250 1105 1040 1104\n",
      " 1055 1125 1090 1045 1161 1340 1147 1100 1340 1100 1166 1214 1160 1010\n",
      " 1220 1120 1135 1350 1300 1130 820 1260 1063 790 1040 860 838 1290 1550\n",
      " 1100 880 1460 1090 1467 1160 868 822 950 1180 1180 1050 1020 1400 1190\n",
      " 1200 1085 1160 1120 1070 1024 1320 1178 984 1232 837 1280 1280 930 1226\n",
      " 1310 1420 1200 1030 950 1025]\n",
      "\n",
      "\n",
      "Group2:  [1210 900 1030 1452 1310 1130 1140 1430 1288 9999 1130 1130 1002 1255 1100\n",
      " 1075 880 1303 800 1420 1160 1060 1460 1150 1060 1280 1190 1410 1010 1394\n",
      " 1190 1258 1492 1253 1210 970 1200 1360 1424 1350 1027 1220 1090 1349 1450\n",
      " 990 954 1100 980 1150 1130 1117 1000 1091 1090 1112 1276 1340 1022 1129\n",
      " 1280 1120 1070 1220 1060 1093 1285 1290 1230 1300 1360 1072 880 1200 1370\n",
      " 1511 1000 1050 1210 1120 1270 1262 1280 1170 1150 1222 1207 1250 1060\n",
      " 1450 930 1336 1068 1100 1260 1013 1000 806 1150 1460 1270 858 1133 1250\n",
      " 1410 1370 1490 1250 1145 1337 890 1310 1220 100 1158 1211 1056 1058 1069\n",
      " 1116 1207 1130 1067 1010 1340 1135 1360 970 1200 1165 1310 1251 1345 983\n",
      " 1010 1143 1120 1250 978 1012 1340 1384 1160 1280 1275 1128 1030 1100 1002\n",
      " 1202 1230 989 999 1086 1139 1210 1030 1380 1310 940 1150 1080 1090 1170\n",
      " 1056 1001 1210 1020 1250 1300 1136 1114 1056 1030 1250 1105 1044 1360\n",
      " 1070 1240 1117 1031 1230 1009 980 1280 1014 1402 1470 1160 1371 1200 1260\n",
      " 1231 1170 1050 1331 696 1004 1106 1269 1383 1229 1039 990 1305 1060 1140\n",
      " 1134 1260 1090 1174 1500 1176 1101 1190 1379 984 1300 1275 1160 1562 1290\n",
      " 1056 1160 1131 1336 1153 1250 1140 1280 1180 1271 1130 9999 1320 1300\n",
      " 1100 1218 822 904 1202 976 1404 1150 1230 1210 1290 1062 990 1590 1181\n",
      " 1428]\n",
      "\n",
      "\n",
      "Mean:  1139.5203761755486 1240.494071146245\n"
     ]
    },
    {
     "data": {
      "image/png": "[encoded data removed]",
      "text/plain": [
       "<Figure size 432x288 with 1 Axes>"
      ]
     },
     "metadata": {
      "needs_background": "light"
     },
     "output_type": "display_data"
    },
    {
     "name": "stdout",
     "output_type": "stream",
     "text": [
      "************************************************************************************************************************\n",
      "\n",
      "\n",
      "\n",
      "\n",
      "Feature:  NACCDAGE\n",
      "\n",
      "\n",
      "--------------------------------------------------------------------------------\n",
      "var_same LeveneResult(statistic=1.2324916106844703, pvalue=0.26739114146321485)\n",
      "Test: f_t, p_value_t -1.630E+00 1.037E-01\n",
      "ANOVA: f, p_value: 2.656E+00 1.037E-01\n",
      "--------------------------------------------------------------------------------\n",
      "\n",
      "\n",
      "Group1:  [89 61 81 69 85 95 65 83 84 80 59 85 65 85 72 73 41 76 64 78 71 94 73 69\n",
      " 78 78 92 92 72 79 73 94 58 75 74 98 55 100 84 87 83 84 77 64 85 61 83 78\n",
      " 55 84 72 70 84 63 75 70 94 72 87 76 68 92 43 63 88 85 82 65 78 83 64 62\n",
      " 66 72 88 59 77 78 64 61 62 78 84 64 73 83 95 79 91 63 82 89 67 86 76 72\n",
      " 54 64 78 73 67 72 82 97 71 78 85 81 86 79 79 85 71 89 65 96 85 66 63 80\n",
      " 70 64 61 85 70 65 63 73 50 35 82 81 67 84 74 68 74 70 70 75 84 72 91 82\n",
      " 74 81 65 72 77 85 96 82 101 67 92 82 86 69 69 74 64 88 69 65 81 39 87 77\n",
      " 90 59 64 76 77 62 67 82 89 70 62 74 102 86 66 52 91 62 82 84 61 88 81 72\n",
      " 85 87 68 75 76 78 86 62 70 91 65 64 65 69 91 76 76 73 73 61 81 64 84 76\n",
      " 59 65 78 80 60 78 83 75 85 77 85 83 75 76 86 62 95 71 89 86 81 80 86 72\n",
      " 71 71 81 88 62 77 73 69 71 70 75 70 88 67 65 75 82 85 85 88 61 86 60 69\n",
      " 97 83 99 85 84 79 75 62 68 67 56 81 77 70 91 84 68 83 64 91 75 78 95 66\n",
      " 89 68 77 93 83 78 94 85 93 90 80 79 74 62 80 104 76 76 79 68 62 52 93 63\n",
      " 86 78 67 74 88 76 56]\n",
      "\n",
      "\n",
      "Group2:  [93 75 63 53 91 73 58 75 79 75 74 69 94 80 72 93 66 55 73 73 79 88 92 68\n",
      " 40 84 90 91 76 66 44 75 65 62 80 97 65 76 73 44 64 86 74 73 63 84 103 83\n",
      " 91 82 78 55 84 72 80 65 79 84 91 84 79 94 56 71 107 72 80 65 78 75 88 97\n",
      " 72 90 58 68 88 86 86 71 99 73 87 85 76 63 92 92 62 84 70 72 81 55 58 67\n",
      " 99 89 89 85 72 77 77 72 75 75 90 75 86 86 71 81 78 65 79 96 95 85 65 76\n",
      " 80 95 90 68 81 63 57 70 81 80 99 80 79 81 62 69 94 70 74 86 96 76 76 96\n",
      " 82 44 90 65 70 90 87 68 79 99 61 75 79 86 95 62 81 91 99 82 66 67 63 91\n",
      " 66 90 73 75 92 71 87 78 95 85 70 84 57 91 77 61 87 75 85 84 88 85 75 83\n",
      " 74 84 85 62 74 76 86 100 87 73 86 68 70 69 94 71 68 82 87 73 83 81 98 94\n",
      " 73 84 71 96 69 60 90 83 54 66 46 91 84 56 94 76 75 66 82 74 75 78 91 61\n",
      " 56 56 75 74 80 87 76 76 88 83 80 67 72]\n",
      "\n",
      "\n",
      "Mean:  75.9717868338558 77.58102766798419\n"
     ]
    },
    {
     "data": {
      "image/png": "[encoded data removed]",
      "text/plain": [
       "<Figure size 432x288 with 1 Axes>"
      ]
     },
     "metadata": {
      "needs_background": "light"
     },
     "output_type": "display_data"
    },
    {
     "name": "stdout",
     "output_type": "stream",
     "text": [
      "************************************************************************************************************************\n",
      "\n",
      "\n",
      "\n",
      "\n",
      "Feature:  ORIENT\n",
      "\n",
      "\n",
      "--------------------------------------------------------------------------------\n",
      "var_same LeveneResult(statistic=3.127374696380576, pvalue=0.07752244103484507)\n",
      "Test: f_t, p_value_t 1.651E+01 2.380E-50\n",
      "ANOVA: f, p_value: 2.727E+02 2.380E-50\n",
      "--------------------------------------------------------------------------------\n",
      "\n",
      "\n",
      "Group1:  [2.0 2.0 1.0 1.0 1.0 1.0 2.0 1.0 2.0 2.0 2.0 2.0 1.0 3.0 2.0 3.0 0.5 2.0\n",
      " 3.0 2.0 2.0 1.0 1.0 3.0 3.0 3.0 3.0 2.0 2.0 1.0 2.0 2.0 3.0 2.0 2.0 2.0\n",
      " 3.0 2.0 2.0 1.0 2.0 3.0 2.0 2.0 1.0 1.0 2.0 1.0 1.0 2.0 2.0 2.0 0.5 2.0\n",
      " 2.0 1.0 1.0 1.0 2.0 1.0 1.0 2.0 3.0 2.0 2.0 2.0 2.0 2.0 2.0 2.0 2.0 2.0\n",
      " 2.0 2.0 2.0 2.0 0.5 2.0 2.0 1.0 2.0 2.0 2.0 2.0 1.0 2.0 2.0 2.0 1.0 3.0\n",
      " 2.0 1.0 1.0 3.0 2.0 1.0 2.0 2.0 1.0 3.0 0.5 1.0 1.0 2.0 2.0 2.0 2.0 2.0\n",
      " 2.0 3.0 2.0 2.0 3.0 1.0 2.0 3.0 2.0 2.0 1.0 2.0 1.0 2.0 2.0 2.0 3.0 3.0\n",
      " 3.0 3.0 2.0 1.0 2.0 1.0 2.0 2.0 2.0 2.0 1.0 1.0 2.0 2.0 1.0 1.0 1.0 2.0\n",
      " 2.0 0.5 2.0 3.0 2.0 2.0 2.0 2.0 2.0 2.0 1.0 1.0 2.0 3.0 2.0 1.0 2.0 2.0\n",
      " 2.0 2.0 1.0 2.0 2.0 2.0 2.0 1.0 2.0 1.0 2.0 2.0 2.0 1.0 2.0 3.0 1.0 2.0\n",
      " 1.0 2.0 2.0 3.0 2.0 1.0 2.0 2.0 2.0 3.0 2.0 2.0 3.0 3.0 1.0 2.0 2.0 1.0\n",
      " 2.0 3.0 2.0 2.0 3.0 2.0 3.0 3.0 3.0 2.0 2.0 1.0 3.0 2.0 2.0 3.0 2.0 2.0\n",
      " 2.0 2.0 3.0 2.0 2.0 2.0 2.0 2.0 1.0 2.0 3.0 3.0 2.0 0.5 2.0 2.0 2.0 2.0\n",
      " 1.0 2.0 3.0 2.0 3.0 3.0 2.0 0.5 2.0 1.0 2.0 1.0 2.0 2.0 2.0 2.0 0.5 3.0\n",
      " 2.0 3.0 3.0 2.0 2.0 2.0 1.0 2.0 2.0 2.0 2.0 2.0 3.0 3.0 2.0 2.0 1.0 2.0\n",
      " 2.0 2.0 2.0 1.0 2.0 1.0 1.0 1.0 2.0 0.5 2.0 2.0 1.0 2.0 3.0 2.0 2.0 3.0\n",
      " 2.0 1.0 2.0 1.0 3.0 1.0 2.0 2.0 1.0 2.0 2.0 3.0 2.0 1.0 3.0 2.0 2.0 1.0\n",
      " 1.0 3.0 3.0 3.0 2.0 2.0 2.0 3.0 0.5 1.0 3.0 3.0 1.0]\n",
      "\n",
      "\n",
      "Group2:  [2.0 1.0 1.0 0.5 0.5 1.0 2.0 1.0 0.0 0.0 3.0 1.0 0.5 0.5 2.0 1.0 1.0 1.0\n",
      " 1.0 2.0 0.5 0.5 1.0 1.0 1.0 0.0 1.0 2.0 2.0 1.0 1.0 1.0 0.0 0.5 1.0 0.5\n",
      " 1.0 1.0 1.0 0.5 0.0 1.0 0.5 0.5 1.0 1.0 2.0 1.0 2.0 0.5 1.0 2.0 1.0 1.0\n",
      " 1.0 0.5 1.0 1.0 2.0 1.0 1.0 1.0 1.0 1.0 2.0 0.5 0.5 0.5 0.5 0.5 1.0 2.0\n",
      " 1.0 2.0 1.0 0.5 1.0 2.0 1.0 1.0 0.5 1.0 1.0 1.0 1.0 1.0 1.0 2.0 0.0 0.5\n",
      " 0.5 1.0 0.5 2.0 1.0 1.0 1.0 0.5 1.0 2.0 0.5 1.0 0.0 1.0 0.0 1.0 0.5 0.5\n",
      " 2.0 0.5 1.0 3.0 1.0 0.0 2.0 0.5 2.0 1.0 2.0 1.0 1.0 1.0 2.0 1.0 1.0 1.0\n",
      " 0.5 2.0 2.0 2.0 1.0 0.5 1.0 1.0 1.0 0.5 0.5 1.0 0.5 2.0 0.0 1.0 0.5 1.0\n",
      " 1.0 0.0 0.0 1.0 1.0 0.5 2.0 0.5 1.0 1.0 1.0 0.5 0.0 1.0 1.0 1.0 1.0 0.5\n",
      " 2.0 1.0 2.0 2.0 1.0 1.0 2.0 1.0 1.0 1.0 1.0 1.0 1.0 1.0 1.0 1.0 0.5 1.0\n",
      " 2.0 1.0 1.0 2.0 1.0 0.5 1.0 0.5 1.0 1.0 1.0 0.0 1.0 1.0 2.0 1.0 0.5 2.0\n",
      " 0.5 1.0 0.0 1.0 1.0 2.0 1.0 1.0 1.0 0.5 0.5 1.0 2.0 0.5 1.0 2.0 1.0 2.0\n",
      " 0.0 0.0 1.0 1.0 1.0 1.0 1.0 2.0 2.0 2.0 0.5 0.5 1.0 1.0 0.5 2.0 1.0 1.0\n",
      " 1.0 0.5 2.0 2.0 1.0 0.0 2.0 1.0 1.0 1.0 1.0 1.0 1.0 1.0 0.5 1.0 0.5 0.5\n",
      " 1.0]\n",
      "\n",
      "\n",
      "Mean:  1.9090909090909092 1.0197628458498025\n"
     ]
    },
    {
     "data": {
      "image/png": "[encoded data removed]",
      "text/plain": [
       "<Figure size 432x288 with 1 Axes>"
      ]
     },
     "metadata": {
      "needs_background": "light"
     },
     "output_type": "display_data"
    },
    {
     "name": "stdout",
     "output_type": "stream",
     "text": [
      "************************************************************************************************************************\n",
      "\n",
      "\n",
      "\n",
      "\n",
      "Feature:  PERSCARE\n",
      "\n",
      "\n",
      "--------------------------------------------------------------------------------\n",
      "var_same LeveneResult(statistic=8.18068155786232, pvalue=0.004389032807280778)\n",
      "Test: f_t, p_value_t 1.077E+01 1.840E-24\n",
      "ANOVA: f, p_value: 1.199E+02 1.840E-24\n",
      "--------------------------------------------------------------------------------\n",
      "\n",
      "\n",
      "Group1:  [1.0 2.0 2.0 2.0 2.0 2.0 2.0 1.0 1.0 3.0 2.0 1.0 2.0 3.0 2.0 2.0 2.0 2.0\n",
      " 3.0 2.0 1.0 3.0 2.0 2.0 3.0 3.0 3.0 2.0 1.0 2.0 2.0 3.0 1.0 2.0 2.0 2.0\n",
      " 3.0 3.0 3.0 3.0 3.0 3.0 2.0 2.0 2.0 2.0 1.0 2.0 2.0 1.0 2.0 1.0 2.0 2.0\n",
      " 1.0 2.0 1.0 3.0 2.0 2.0 2.0 1.0 3.0 1.0 2.0 2.0 2.0 2.0 2.0 1.0 2.0 2.0\n",
      " 2.0 0.0 2.0 3.0 2.0 2.0 3.0 1.0 2.0 2.0 2.0 2.0 3.0 3.0 1.0 1.0 0.0 3.0\n",
      " 2.0 2.0 3.0 2.0 2.0 1.0 2.0 1.0 2.0 2.0 3.0 2.0 2.0 1.0 2.0 1.0 1.0 3.0\n",
      " 1.0 3.0 2.0 0.0 2.0 2.0 2.0 3.0 1.0 1.0 2.0 1.0 2.0 3.0 1.0 3.0 2.0 3.0\n",
      " 3.0 3.0 0.0 1.0 2.0 3.0 2.0 2.0 2.0 0.0 2.0 2.0 1.0 2.0 2.0 2.0 1.0 1.0\n",
      " 1.0 1.0 1.0 3.0 2.0 3.0 1.0 2.0 1.0 1.0 2.0 1.0 3.0 3.0 2.0 2.0 2.0 2.0\n",
      " 1.0 1.0 1.0 3.0 2.0 2.0 3.0 2.0 3.0 1.0 1.0 2.0 2.0 1.0 1.0 3.0 2.0 3.0\n",
      " 2.0 1.0 1.0 2.0 1.0 2.0 1.0 3.0 1.0 3.0 2.0 2.0 0.0 3.0 1.0 2.0 2.0 2.0\n",
      " 3.0 2.0 1.0 1.0 3.0 1.0 3.0 3.0 1.0 2.0 1.0 3.0 2.0 2.0 3.0 3.0 0.0 2.0\n",
      " 2.0 2.0 2.0 2.0 3.0 0.0 1.0 2.0 1.0 2.0 0.0 1.0 2.0 1.0 2.0 1.0 3.0 2.0\n",
      " 2.0 1.0 0.0 2.0 3.0 2.0 2.0 2.0 2.0 3.0 2.0 2.0 2.0 2.0 2.0 2.0 0.0 3.0\n",
      " 3.0 2.0 3.0 2.0 1.0 1.0 1.0 2.0 2.0 2.0 2.0 2.0 3.0 1.0 1.0 1.0 3.0 2.0\n",
      " 1.0 1.0 2.0 1.0 2.0 1.0 3.0 0.0 2.0 1.0 2.0 0.0 2.0 1.0 2.0 2.0 1.0 2.0\n",
      " 1.0 2.0 1.0 3.0 3.0 3.0 2.0 0.0 2.0 1.0 1.0 2.0 1.0 1.0 1.0 2.0 2.0 2.0\n",
      " 3.0 3.0 2.0 2.0 2.0 2.0 1.0 3.0 1.0 2.0 0.0 1.0 2.0]\n",
      "\n",
      "\n",
      "Group2:  [3.0 1.0 1.0 1.0 0.0 0.0 2.0 1.0 2.0 2.0 1.0 0.0 0.0 1.0 2.0 0.0 2.0 1.0\n",
      " 2.0 0.0 0.0 1.0 0.0 0.0 2.0 1.0 2.0 2.0 2.0 1.0 1.0 1.0 2.0 1.0 1.0 0.0\n",
      " 1.0 1.0 0.0 0.0 0.0 0.0 0.0 1.0 1.0 0.0 2.0 0.0 2.0 1.0 1.0 0.0 0.0 3.0\n",
      " 1.0 1.0 1.0 0.0 2.0 0.0 1.0 0.0 0.0 2.0 3.0 0.0 2.0 0.0 1.0 0.0 1.0 2.0\n",
      " 1.0 0.0 2.0 1.0 1.0 0.0 3.0 1.0 0.0 3.0 0.0 2.0 1.0 1.0 0.0 0.0 1.0 2.0\n",
      " 0.0 1.0 0.0 2.0 2.0 0.0 1.0 0.0 1.0 1.0 2.0 0.0 1.0 0.0 1.0 2.0 2.0 1.0\n",
      " 1.0 1.0 2.0 1.0 1.0 1.0 2.0 1.0 0.0 0.0 2.0 2.0 1.0 0.0 0.0 1.0 2.0 1.0\n",
      " 0.0 0.0 0.0 0.0 1.0 1.0 0.0 2.0 3.0 0.0 0.0 2.0 1.0 2.0 1.0 1.0 0.0 1.0\n",
      " 3.0 1.0 0.0 0.0 0.0 1.0 1.0 2.0 0.0 1.0 0.0 1.0 2.0 1.0 1.0 0.0 1.0 3.0\n",
      " 1.0 1.0 2.0 0.0 0.0 0.0 2.0 0.0 1.0 1.0 0.0 3.0 1.0 0.0 1.0 0.0 1.0 1.0\n",
      " 2.0 3.0 0.0 3.0 3.0 1.0 1.0 1.0 0.0 0.0 0.0 0.0 0.0 0.0 2.0 2.0 2.0 2.0\n",
      " 1.0 2.0 3.0 0.0 2.0 2.0 2.0 2.0 0.0 1.0 0.0 0.0 2.0 2.0 1.0 3.0 0.0 2.0\n",
      " 1.0 0.0 1.0 0.0 3.0 0.0 2.0 2.0 1.0 2.0 0.0 3.0 1.0 1.0 0.0 2.0 2.0 1.0\n",
      " 3.0 1.0 2.0 2.0 0.0 1.0 3.0 0.0 1.0 1.0 0.0 1.0 1.0 1.0 2.0 3.0 1.0 2.0\n",
      " 0.0]\n",
      "\n",
      "\n",
      "Mean:  1.8463949843260188 1.051383399209486\n"
     ]
    },
    {
     "data": {
      "image/png": "[encoded data removed]",
      "text/plain": [
       "<Figure size 432x288 with 1 Axes>"
      ]
     },
     "metadata": {
      "needs_background": "light"
     },
     "output_type": "display_data"
    },
    {
     "name": "stdout",
     "output_type": "stream",
     "text": [
      "************************************************************************************************************************\n",
      "\n",
      "\n",
      "\n",
      "\n",
      "Feature:  COGJUDG\n",
      "\n",
      "\n",
      "--------------------------------------------------------------------------------\n",
      "var_same LeveneResult(statistic=7.721893491124303, pvalue=0.005635412943261621)\n",
      "Test: f_t, p_value_t 2.474E+00 1.401E-02\n",
      "ANOVA: f, p_value: 7.722E+00 1.401E-02\n",
      "--------------------------------------------------------------------------------\n",
      "\n",
      "\n",
      "Group1:  [1 1 1 1 1 1 1 1 1 1 1 1 1 1 1 1 1 1 1 1 1 1 1 1 1 1 1 1 1 1 1 1 1 1 1 1 1\n",
      " 1 1 1 1 1 1 1 1 1 1 1 1 1 1 1 1 1 1 1 1 1 1 1 1 1 1 1 1 1 1 1 1 1 1 1 1 1\n",
      " 1 1 1 1 1 1 1 1 1 1 1 1 1 1 1 1 1 1 1 1 1 1 1 1 1 1 1 1 1 1 1 1 1 1 1 1 1\n",
      " 1 1 1 1 1 1 1 1 1 1 1 1 1 1 1 1 1 1 1 1 1 1 1 1 1 1 1 1 1 1 1 1 1 1 1 1 1\n",
      " 1 1 1 1 1 1 1 1 1 1 1 1 1 1 1 1 1 1 1 1 1 1 1 1 1 1 1 1 1 1 1 1 1 1 1 1 1\n",
      " 1 1 1 1 1 1 1 1 1 1 1 1 1 1 1 1 1 1 1 1 1 1 1 1 1 1 1 1 1 1 1 1 1 1 1 1 1\n",
      " 1 1 1 1 1 1 1 1 1 1 1 1 1 1 1 1 1 1 1 1 1 1 1 1 1 1 1 1 1 1 1 1 1 1 1 1 1\n",
      " 1 1 1 1 1 1 1 1 1 1 1 1 1 1 1 1 1 1 1 1 1 1 1 1 1 1 1 1 1 1 1 1 1 1 1 1 1\n",
      " 1 1 1 1 1 1 1 1 1 1 1 1 1 1 1 1 1 1 1 1 1 1 1]\n",
      "\n",
      "\n",
      "Group2:  [1 1 1 1 1 1 1 1 1 1 1 1 1 1 1 1 1 1 1 1 1 1 1 1 1 1 1 1 1 1 1 1 0 1 1 0 1\n",
      " 1 1 1 1 1 1 1 1 1 1 0 1 1 1 1 1 1 1 1 1 1 1 1 1 1 1 1 1 1 1 1 1 1 1 1 1 1\n",
      " 1 1 1 1 1 1 1 1 1 1 1 1 1 1 1 1 1 1 1 1 1 1 1 1 1 1 1 1 1 1 1 1 1 1 1 1 1\n",
      " 1 1 1 1 0 1 1 1 1 1 1 1 1 1 1 1 1 1 1 1 1 1 1 1 1 1 1 1 1 1 1 1 1 1 1 1 1\n",
      " 1 1 1 1 1 1 1 1 1 1 1 1 1 1 1 1 1 1 1 1 1 1 1 1 1 0 0 1 1 1 1 1 1 1 1 1 1\n",
      " 1 1 1 1 1 1 1 1 1 1 1 1 1 1 1 1 1 1 1 1 1 1 1 1 1 1 1 1 1 1 1 1 1 1 1 1 1\n",
      " 1 1 1 1 1 1 1 1 1 1 1 1 1 1 1 1 1 1 1 1 1 1 1 1 1 1 1 1 1 1 1]\n",
      "\n",
      "\n",
      "Mean:  1.0 0.9762845849802372\n"
     ]
    },
    {
     "data": {
      "image/png": "[encoded data removed]",
      "text/plain": [
       "<Figure size 432x288 with 1 Axes>"
      ]
     },
     "metadata": {
      "needs_background": "light"
     },
     "output_type": "display_data"
    },
    {
     "name": "stdout",
     "output_type": "stream",
     "text": [
      "************************************************************************************************************************\n",
      "\n",
      "\n",
      "\n",
      "\n",
      "Feature:  COMMUN\n",
      "\n",
      "\n",
      "--------------------------------------------------------------------------------\n",
      "var_same LeveneResult(statistic=10.933258581838485, pvalue=0.0010039627807096538)\n",
      "Test: f_t, p_value_t 1.614E+01 7.414E-48\n",
      "ANOVA: f, p_value: 2.642E+02 7.414E-48\n",
      "--------------------------------------------------------------------------------\n",
      "\n",
      "\n",
      "Group1:  [2.0 2.0 2.0 1.0 2.0 2.0 2.0 2.0 2.0 2.0 2.0 2.0 1.0 2.0 1.0 2.0 2.0 2.0\n",
      " 3.0 2.0 2.0 2.0 1.0 3.0 2.0 3.0 3.0 1.0 1.0 2.0 2.0 2.0 3.0 2.0 2.0 1.0\n",
      " 3.0 3.0 2.0 2.0 2.0 3.0 2.0 2.0 2.0 2.0 2.0 2.0 2.0 2.0 2.0 2.0 1.0 2.0\n",
      " 2.0 2.0 2.0 2.0 1.0 2.0 2.0 2.0 2.0 2.0 2.0 2.0 2.0 1.0 2.0 1.0 3.0 2.0\n",
      " 1.0 2.0 1.0 3.0 2.0 2.0 2.0 2.0 2.0 2.0 2.0 2.0 2.0 3.0 2.0 2.0 2.0 2.0\n",
      " 3.0 1.0 2.0 3.0 2.0 2.0 3.0 2.0 2.0 2.0 2.0 2.0 2.0 2.0 2.0 2.0 2.0 2.0\n",
      " 2.0 3.0 2.0 2.0 3.0 2.0 2.0 3.0 2.0 1.0 2.0 2.0 2.0 3.0 2.0 2.0 2.0 3.0\n",
      " 3.0 2.0 2.0 2.0 2.0 3.0 2.0 2.0 2.0 3.0 2.0 2.0 2.0 2.0 2.0 2.0 2.0 1.0\n",
      " 2.0 2.0 2.0 3.0 2.0 2.0 2.0 2.0 2.0 2.0 2.0 2.0 2.0 3.0 2.0 2.0 3.0 2.0\n",
      " 3.0 2.0 2.0 2.0 1.0 2.0 2.0 2.0 3.0 2.0 2.0 1.0 3.0 2.0 2.0 3.0 1.0 2.0\n",
      " 2.0 2.0 2.0 3.0 2.0 2.0 2.0 3.0 2.0 2.0 2.0 3.0 2.0 3.0 2.0 2.0 2.0 2.0\n",
      " 3.0 2.0 2.0 2.0 3.0 2.0 3.0 2.0 2.0 2.0 1.0 3.0 2.0 2.0 2.0 3.0 2.0 2.0\n",
      " 2.0 2.0 2.0 2.0 2.0 2.0 2.0 2.0 2.0 2.0 2.0 2.0 2.0 2.0 1.0 2.0 2.0 2.0\n",
      " 2.0 3.0 2.0 2.0 3.0 2.0 2.0 2.0 2.0 2.0 2.0 2.0 3.0 3.0 2.0 2.0 2.0 3.0\n",
      " 3.0 2.0 3.0 2.0 2.0 2.0 2.0 1.0 2.0 1.0 3.0 2.0 3.0 2.0 1.0 2.0 2.0 2.0\n",
      " 2.0 2.0 1.0 2.0 2.0 2.0 3.0 2.0 2.0 2.0 3.0 0.0 2.0 2.0 3.0 2.0 2.0 3.0\n",
      " 2.0 2.0 2.0 2.0 3.0 3.0 1.0 2.0 2.0 2.0 2.0 2.0 2.0 2.0 2.0 2.0 2.0 0.5\n",
      " 3.0 3.0 3.0 3.0 2.0 2.0 2.0 3.0 2.0 2.0 2.0 2.0 2.0]\n",
      "\n",
      "\n",
      "Group2:  [2.0 2.0 2.0 1.0 1.0 1.0 2.0 1.0 2.0 1.0 2.0 2.0 0.5 1.0 2.0 1.0 2.0 2.0\n",
      " 2.0 2.0 1.0 1.0 0.5 1.0 2.0 1.0 1.0 1.0 2.0 1.0 1.0 1.0 2.0 1.0 2.0 1.0\n",
      " 1.0 2.0 1.0 1.0 1.0 1.0 1.0 1.0 1.0 1.0 3.0 1.0 1.0 1.0 2.0 1.0 1.0 1.0\n",
      " 1.0 1.0 1.0 0.5 2.0 1.0 1.0 1.0 1.0 2.0 2.0 1.0 2.0 2.0 1.0 2.0 1.0 2.0\n",
      " 1.0 1.0 1.0 1.0 2.0 1.0 2.0 1.0 1.0 3.0 1.0 2.0 1.0 2.0 1.0 1.0 1.0 1.0\n",
      " 1.0 1.0 1.0 2.0 2.0 1.0 2.0 1.0 0.5 2.0 2.0 1.0 1.0 2.0 0.5 1.0 2.0 1.0\n",
      " 1.0 1.0 2.0 2.0 0.5 1.0 2.0 1.0 1.0 2.0 2.0 1.0 1.0 1.0 1.0 3.0 1.0 1.0\n",
      " 1.0 1.0 1.0 0.5 2.0 1.0 1.0 1.0 2.0 1.0 1.0 2.0 1.0 2.0 0.5 1.0 1.0 2.0\n",
      " 0.5 1.0 1.0 1.0 1.0 0.5 2.0 1.0 1.0 2.0 1.0 1.0 1.0 1.0 1.0 1.0 1.0 2.0\n",
      " 2.0 2.0 2.0 2.0 1.0 1.0 1.0 0.5 1.0 1.0 1.0 3.0 1.0 2.0 1.0 1.0 1.0 1.0\n",
      " 2.0 2.0 0.5 2.0 1.0 1.0 1.0 1.0 1.0 2.0 2.0 1.0 1.0 0.5 2.0 2.0 2.0 2.0\n",
      " 2.0 1.0 3.0 1.0 1.0 2.0 1.0 2.0 1.0 1.0 1.0 2.0 2.0 2.0 1.0 2.0 1.0 2.0\n",
      " 1.0 1.0 1.0 0.5 2.0 1.0 2.0 2.0 1.0 2.0 1.0 2.0 2.0 1.0 1.0 2.0 2.0 1.0\n",
      " 2.0 1.0 2.0 2.0 1.0 1.0 2.0 2.0 1.0 1.0 1.0 1.0 2.0 1.0 1.0 1.0 0.5 2.0\n",
      " 1.0]\n",
      "\n",
      "\n",
      "Mean:  2.0893416927899686 1.349802371541502\n"
     ]
    },
    {
     "data": {
      "image/png": "[encoded data removed]",
      "text/plain": [
       "<Figure size 432x288 with 1 Axes>"
      ]
     },
     "metadata": {
      "needs_background": "light"
     },
     "output_type": "display_data"
    },
    {
     "name": "stdout",
     "output_type": "stream",
     "text": [
      "************************************************************************************************************************\n",
      "\n",
      "\n",
      "\n",
      "\n"
     ]
    }
   ],
   "source": [
    "group1_index=np.where(data_arr[:,-1]==True)[0]\n",
    "group2_index=np.where(data_arr[:,-1]==False)[0]\n",
    "\n",
    "for i in np.arange(used_number_features):\n",
    "    feature_name=FS_data_used[i]\n",
    "    \n",
    "    print(\"Feature: \",feature_name)\n",
    "    \n",
    "    \n",
    "    index_i=np.where(column_names_arr==feature_name)[0][0]\n",
    "    get_data_i=data_arr[:,index_i]\n",
    "    \n",
    "    group1_data=get_data_i[group1_index]\n",
    "    group2_data=get_data_i[group2_index]\n",
    "    \n",
    "    statistic_analysis(group1_data, group2_data)\n",
    "    \n",
    "    print(\"Group1: \",group1_data)\n",
    "    print(\"\\n\")\n",
    "    print(\"Group2: \",group2_data)\n",
    "    print(\"\\n\")\n",
    "    print(\"Mean: \",np.mean(group1_data),np.mean(group2_data))\n",
    "    \n",
    "    bar_figure(group1_data,group2_data,feature_name)\n",
    "    \n",
    "    print(\"*\"*120)\n",
    "    print(\"\\n\\n\\n\")"
   ]
  },
  {
   "cell_type": "code",
   "execution_count": null,
   "id": "70ef15bc-0121-45dc-bbf3-704ff10db8c6",
   "metadata": {},
   "outputs": [],
   "source": []
  }
 ],
 "metadata": {
  "kernelspec": {
   "display_name": "Python 3 (ipykernel)",
   "language": "python",
   "name": "python3"
  },
  "language_info": {
   "codemirror_mode": {
    "name": "ipython",
    "version": 3
   },
   "file_extension": ".py",
   "mimetype": "text/x-python",
   "name": "python",
   "nbconvert_exporter": "python",
   "pygments_lexer": "ipython3",
   "version": "3.7.8"
  },
  "widgets": {
   "application/vnd.jupyter.widget-state+json": {
    "state": {},
    "version_major": 2,
    "version_minor": 0
   }
  }
 },
 "nbformat": 4,
 "nbformat_minor": 5
}
